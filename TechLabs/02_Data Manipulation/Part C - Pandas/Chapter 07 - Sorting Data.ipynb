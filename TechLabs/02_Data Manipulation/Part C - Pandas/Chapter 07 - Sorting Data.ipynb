{
 "cells": [
  {
   "cell_type": "code",
   "execution_count": null,
   "id": "b29c306a",
   "metadata": {},
   "outputs": [],
   "source": [
    "# RUN THIS COMMAND ONLY IF YOU USE GOOGLE COLAB.\n",
    "from google.colab import drive\n",
    "drive.mount('/content/drive')"
   ]
  },
  {
   "cell_type": "code",
   "execution_count": null,
   "id": "d611f4fe",
   "metadata": {},
   "outputs": [],
   "source": [
    "# RUN THIS COMMAND ONLY IF YOU USE GOOGLE COLAB.\n",
    "%cd drive/MyDrive/TechLabs/02_Data\\ Manipulation/Part\\ C\\ -\\ Pandas"
   ]
  },
  {
   "cell_type": "markdown",
   "id": "bb20ffa2",
   "metadata": {},
   "source": [
    "# Chapter 7 - Sorting Data \n",
    "### Hey Techie,   \n",
    "Welcome to the seventh notebook of this Pandas tutorial series. We encourage you to take this notebook as a template to code along the instruction video, which you may find at: https://youtu.be/T11QYVfZoD0. In the instruction video's first half, Corey explains how to sort data within DataFrames. Afterward, he demonstrates the new skills with the real-world example which we already know. As always, at the end of this notebook are practice tasks to test your skills.     \n",
    "\n",
    "**Here you may find the Pandas documentation:** https://pandas.pydata.org/docs/reference/index.html\n",
    "\n",
    "#### Have fun! :-)   \n",
    "    \n",
    "*Video length*: 16 minutes   \n",
    "*Self-study time*: 16 minutes   \n",
    "*Total*: **32 minutes**\n",
    "<hr style=\"border:2px solid gray\"> </hr>   \n",
    "\n",
    "## Code-Snippets"
   ]
  },
  {
   "cell_type": "code",
   "execution_count": null,
   "id": "f4fdd5ef",
   "metadata": {},
   "outputs": [],
   "source": [
    "# This is the convention used to import Pandas.\n",
    "import pandas as pd"
   ]
  },
  {
   "cell_type": "code",
   "execution_count": null,
   "id": "d07414d6",
   "metadata": {},
   "outputs": [],
   "source": [
    "people = {\n",
    "    \"first\": [\"Corey\", 'Jane', 'John'], \n",
    "    \"last\": [\"Schafer\", 'Doe', 'Doe'], \n",
    "    \"email\": [\"CoreyMSchafer@gmail.com\", 'JaneDoe@email.com', 'JohnDoe@email.com']\n",
    "}"
   ]
  },
  {
   "cell_type": "code",
   "execution_count": null,
   "id": "7be82032",
   "metadata": {},
   "outputs": [],
   "source": [
    "# START YOUR CODE HERE.\n"
   ]
  },
  {
   "cell_type": "markdown",
   "id": "133675c9",
   "metadata": {},
   "source": [
    "<hr style=\"border:2px solid gray\"> </hr>   \n",
    "    \n",
    "## Real-word Example"
   ]
  },
  {
   "cell_type": "code",
   "execution_count": null,
   "id": "c74badcc",
   "metadata": {},
   "outputs": [],
   "source": [
    "# These options help us to inspect our data more easily.\n",
    "pd.set_option(\"display.max_columns\", 85)\n",
    "pd.set_option(\"display.max_rows\", 85)"
   ]
  },
  {
   "cell_type": "code",
   "execution_count": null,
   "id": "322d973b",
   "metadata": {},
   "outputs": [],
   "source": [
    "# These commands load the same survey data Corey is using in his video.\n",
    "df = pd.read_csv(\"data/survey_results_public.csv\", index_col = \"Respondent\")\n",
    "schema_df = pd.read_csv(\"data/survey_results_schema.csv\", index_col = \"Column\")"
   ]
  },
  {
   "cell_type": "code",
   "execution_count": null,
   "id": "7777a794",
   "metadata": {},
   "outputs": [],
   "source": [
    "# START YOUR CODE HERE.\n"
   ]
  },
  {
   "cell_type": "markdown",
   "id": "4b97ba1c",
   "metadata": {},
   "source": [
    "<hr style=\"border:2px solid gray\"> </hr>   \n",
    "   \n",
    "## Practice Tasks   "
   ]
  },
  {
   "cell_type": "code",
   "execution_count": null,
   "id": "a15892dc",
   "metadata": {},
   "outputs": [],
   "source": [
    "# Load a clean DataFrame.\n",
    "df = pd.read_csv(\"data/survey_results_public.csv\", index_col = \"Respondent\")"
   ]
  },
  {
   "cell_type": "markdown",
   "id": "76e89bef",
   "metadata": {},
   "source": [
    "#### 1. Filter out the 15 respondents with the most coding experience (\"YearsCode\" column) that live in Germany (\"Country\" column). To do so, change the data type from the \"YearsCode\" column to float (replace \"Less than 1 year\" with 0 and \"More than 50 years\" with 51; read hints for further explanation). Please return a list named *most_experience* that contains tuples as elements in the format of (respondent id, coding experience). This list should be in decreasing order with regard to the coding experience.\n",
    "\n",
    "<br /> \n",
    "<details>    \n",
    "<summary>\n",
    "    <font size=\"3\" color=\"red\"><b>Hints (click to expand)</b></font>\n",
    "</summary>\n",
    "<p>\n",
    "    <ul>\n",
    "        <li>Remind yourself of the replace function in Pandas.</li>\n",
    "        <li>To reliably perform arithmetic operations on a column, the column's data type should be int or float. Since the YearsCode column is of data type object so far, we need to change it. To change a Series object's data type, one can use the astype function that takes the new data type as its input. For example: df[\"Column\"] = df[\"Column\"].astype(float).</li>\n",
    "        <li>Remind yourself of conditionals to filter DataFrames.</li>\n",
    "        <li>If you use loc when applying a filter, you can also select only desired columns.</li>\n",
    "        <li>The nlargest-method returns the first n rows in descending order.</li>\n",
    "        <li>Remind yourself of the sequence function zip.</li>\n",
    "    </ul>\n",
    "</p>\n",
    "</details>"
   ]
  },
  {
   "cell_type": "code",
   "execution_count": null,
   "id": "009c48ba",
   "metadata": {
    "scrolled": false
   },
   "outputs": [],
   "source": [
    "# START YOUR CODE HERE.\n",
    "\n",
    "most_experience = ...\n",
    "\n",
    "# END YOUR CODE HERE."
   ]
  },
  {
   "cell_type": "code",
   "execution_count": null,
   "id": "58dc0687",
   "metadata": {},
   "outputs": [],
   "source": [
    "# THIS CELL TESTS YOUR RESULTS.\n",
    "assert len(most_experience) == 15, \"Please return 15 respondents!\"\n",
    "assert most_experience[0] == (31522, 51), \"Your results seem to be incorrect!\"\n",
    "assert most_experience[10] == (27999, 44), \"Your results seem to be incorrect!\"\n",
    "assert most_experience[-1] == (55887, 43), \"Your results seem to be incorrect!\""
   ]
  },
  {
   "cell_type": "markdown",
   "id": "7adbc997",
   "metadata": {},
   "source": [
    "<details>    \n",
    "<summary>\n",
    "    <font size=\"3\" color=\"darkgreen\"><b>Solution (click to expand)</b></font>\n",
    "</summary>\n",
    "<p>\n",
    "    <code>df[\"YearsCode\"].replace(\"Less than 1 year\", 0, inplace = True)</code><br />\n",
    "    <code>df[\"YearsCode\"].replace(\"More than 50 years\", 51, inplace = True)</code><br />\n",
    "    <code>df[\"YearsCode\"] = df[\"YearsCode\"].astype(float)</code><br />\n",
    "    <code>filt = (df[\"Country\"] == \"Germany\")</code><br />\n",
    "    <code>filt_df = df.loc[filt]</code><br />\n",
    "    <code>filt_series = filt_df[\"YearsCode\"].nlargest(15)</code><br />\n",
    "    <code>most_experience = [(index, experience) for index, experience in zip(filt_series.index, filt_series.values)]</code><br />\n",
    "</p>\n",
    "</details>   \n",
    "   \n",
    "#### 2. What are the ten highest salaries in Germany (*ConvertedComp* column)? Please return a Series named *largest_10* whose index contains respondent ids and whose values specify the compensation.\n",
    "<br /> \n",
    "<details>    \n",
    "<summary>\n",
    "    <font size=\"3\" color=\"red\"><b>Hints (click to expand)</b></font>\n",
    "</summary>\n",
    "<p>\n",
    "    <ul>\n",
    "        <li>Remind yourself of conditionals to filter DataFrames.</li>\n",
    "        <li>If you use loc when applying a filter, you can also select only desired columns.</li>\n",
    "        <li>The nlargest-method returns the first n rows in descending order.</li>\n",
    "        <li>Example approach: Filter out the compensation for all respondents who are residents in Germany. Sort  in descending order by their compensation and return the first 10.</li>\n",
    "    </ul>\n",
    "</p>\n",
    "</details>"
   ]
  },
  {
   "cell_type": "code",
   "execution_count": null,
   "id": "1f491ff6",
   "metadata": {},
   "outputs": [],
   "source": [
    "# START YOUR CODE HERE.\n",
    "\n",
    "largest_10 = ...\n",
    "\n",
    "# END YOUR CODE HERE."
   ]
  },
  {
   "cell_type": "code",
   "execution_count": null,
   "id": "32ea9934",
   "metadata": {
    "scrolled": true
   },
   "outputs": [],
   "source": [
    "# THIS CELL TESTS YOUR RESULTS.\n",
    "assert type(largest_10) == type(pd.Series([], dtype = \"int64\")), \"Please return a Series!\"\n",
    "assert largest_10.iloc[0] == 2000000, \"Your sorting does not seem to work!\"\n",
    "assert (largest_10.iloc[1:] == 1000000).unique() == True, \"Your sorting does not seem to work!\""
   ]
  },
  {
   "cell_type": "markdown",
   "id": "f59624ab",
   "metadata": {},
   "source": [
    "<details>    \n",
    "<summary>\n",
    "    <font size=\"3\" color=\"darkgreen\"><b>Solution (click to expand)</b></font>\n",
    "</summary>\n",
    "<p>\n",
    "    <code>filt = (df[\"Country\"] == \"Germany\")</code><br />\n",
    "    <code>series_filt = df.loc[filt, \"ConvertedComp\"]</code><br />\n",
    "    <code>largest_10 = series_filt.nlargest(10)</code><br />\n",
    "</p>\n",
    "</details>   \n",
    "   \n",
    "#### 3. The highest reported salary appears to be 2000000 USD per year (*ConvertedComp* column). As someone's salary is not necessarily linked to their working hours per week (*WorkWeekHrs* column), we want to determine the least amount of work required to earn such high figures. Please return a Series named *smallest_10* containing the ten lowest working hours per week for respondents who have reported earning 2000000 USD per year. Its index refers to the respondent ids, and its values specify the working hours per week. \n",
    "<br />\n",
    "<details>    \n",
    "<summary>\n",
    "    <font size=\"3\" color=\"red\"><b>Hints (click to expand)</b></font>\n",
    "</summary>\n",
    "<p>\n",
    "    <ul>\n",
    "        <li>Remind yourself of conditionals to filter DataFrames.</li>\n",
    "        <li>If you use loc when applying a filter, you can also select only desired columns.</li>\n",
    "        <li>The nsmallest-method returns the first n rows in ascending order.</li>\n",
    "        <li>Example approach: Filter out the working hours per week for all respondents who are earning 2000000 USD per year. Sort in ascending order by their working hours per week and return the first 10.</li>\n",
    "    </ul>\n",
    "        \n",
    "</p>\n",
    "</details>"
   ]
  },
  {
   "cell_type": "code",
   "execution_count": null,
   "id": "37a3ec2d",
   "metadata": {
    "scrolled": false
   },
   "outputs": [],
   "source": [
    "# START YOUR CODE HERE.\n",
    "\n",
    "smallest_10 = ...\n",
    "\n",
    "# END YOUR CODE HERE."
   ]
  },
  {
   "cell_type": "code",
   "execution_count": null,
   "id": "5121dfe2",
   "metadata": {},
   "outputs": [],
   "source": [
    "# THIS CELL TESTS YOUR RESULTS.\n",
    "assert type(smallest_10) == type(pd.Series([], dtype = \"int64\")), \"Please return a Series!\"\n",
    "assert smallest_10.iloc[0] == 2, \"Your sorting does not seem to work!\"\n",
    "assert smallest_10.iloc[5] == 24, \"Your sorting does not seem to work!\""
   ]
  },
  {
   "cell_type": "markdown",
   "id": "183313e3",
   "metadata": {},
   "source": [
    "<details>    \n",
    "<summary>\n",
    "    <font size=\"3\" color=\"darkgreen\"><b>Solution (click to expand)</b></font>\n",
    "</summary>\n",
    "<p>\n",
    "    <code>filt = (df[\"ConvertedComp\"] == 2000000)</code><br />\n",
    "    <code>series_filt = df.loc[filt, \"WorkWeekHrs\"]</code><br />\n",
    "    <code>smallest_10 = series_filt.nsmallest(10)</code><br />\n",
    "</p>\n",
    "</details>"
   ]
  }
 ],
 "metadata": {
  "kernelspec": {
   "display_name": "Python 3 (ipykernel)",
   "language": "python",
   "name": "python3"
  },
  "language_info": {
   "codemirror_mode": {
    "name": "ipython",
    "version": 3
   },
   "file_extension": ".py",
   "mimetype": "text/x-python",
   "name": "python",
   "nbconvert_exporter": "python",
   "pygments_lexer": "ipython3",
   "version": "3.8.9"
  }
 },
 "nbformat": 4,
 "nbformat_minor": 5
}
