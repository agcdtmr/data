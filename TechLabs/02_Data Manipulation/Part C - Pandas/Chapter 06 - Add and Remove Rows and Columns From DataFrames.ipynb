{
 "cells": [
  {
   "cell_type": "code",
   "execution_count": null,
   "id": "b29c306a",
   "metadata": {},
   "outputs": [],
   "source": [
    "# RUN THIS COMMAND ONLY IF YOU USE GOOGLE COLAB.\n",
    "from google.colab import drive\n",
    "drive.mount('/content/drive')"
   ]
  },
  {
   "cell_type": "code",
   "execution_count": null,
   "id": "d611f4fe",
   "metadata": {},
   "outputs": [],
   "source": [
    "# RUN THIS COMMAND ONLY IF YOU USE GOOGLE COLAB.\n",
    "%cd drive/MyDrive/TechLabs/02_Data\\ Manipulation/Part\\ C\\ -\\ Pandas"
   ]
  },
  {
   "cell_type": "markdown",
   "id": "bb20ffa2",
   "metadata": {},
   "source": [
    "# Chapter 6 - Add and Remove Rows and Columns From DataFrames \n",
    "### Hey Techie,   \n",
    "Welcome to the sixth notebook of this Pandas tutorial series. We encourage you to take this notebook as a template to code along the instruction video, which you may find at: https://youtu.be/HQ6XO9eT-fc. In the instruction video, Corey explains adding and removing columns and rows to and from DataFrames. At the notebook's end, you find practice tasks to test your newly gained knowledge with the real-world survey data we already know.   \n",
    "\n",
    "**Here you may find the Pandas documentation:** https://pandas.pydata.org/docs/reference/index.html\n",
    "\n",
    "#### Have fun! :-)   \n",
    "    \n",
    "*Video length*: 17 minutes   \n",
    "*Self-study time*: 17 minutes   \n",
    "*Total*: **34 minutes**\n",
    "<hr style=\"border:2px solid gray\"> </hr>   \n",
    "\n",
    "## Code-Snippets"
   ]
  },
  {
   "cell_type": "code",
   "execution_count": null,
   "id": "f4fdd5ef",
   "metadata": {},
   "outputs": [],
   "source": [
    "# This is the convention used to import Pandas.\n",
    "import pandas as pd"
   ]
  },
  {
   "cell_type": "code",
   "execution_count": null,
   "id": "d07414d6",
   "metadata": {},
   "outputs": [],
   "source": [
    "people = {\n",
    "    \"first\": [\"Corey\", 'Jane', 'John'], \n",
    "    \"last\": [\"Schafer\", 'Doe', 'Doe'], \n",
    "    \"email\": [\"CoreyMSchafer@gmail.com\", 'JaneDoe@email.com', 'JohnDoe@email.com']\n",
    "}"
   ]
  },
  {
   "cell_type": "code",
   "execution_count": null,
   "id": "7be82032",
   "metadata": {},
   "outputs": [],
   "source": [
    "# START YOUR CODE HERE.\n"
   ]
  },
  {
   "cell_type": "markdown",
   "id": "4b97ba1c",
   "metadata": {},
   "source": [
    "<hr style=\"border:2px solid gray\"> </hr>   \n",
    "   \n",
    "## Practice Tasks   "
   ]
  },
  {
   "cell_type": "code",
   "execution_count": null,
   "id": "a15892dc",
   "metadata": {},
   "outputs": [],
   "source": [
    "# These options help us to inspect our data more easily.\n",
    "pd.set_option(\"display.max_columns\", 85)\n",
    "pd.set_option(\"display.max_rows\", 85)\n",
    "# Load a clean DataFrame.\n",
    "df = pd.read_csv(\"data/survey_results_public.csv\", index_col = \"Respondent\")"
   ]
  },
  {
   "cell_type": "markdown",
   "id": "76e89bef",
   "metadata": {},
   "source": [
    "#### 1. Below you will find information for a new row. Add it to the survey DataFrame. \n",
    "<br /> \n",
    "<details>    \n",
    "<summary>\n",
    "    <font size=\"3\" color=\"red\"><b>Hints (click to expand)</b></font>\n",
    "</summary>\n",
    "<p>\n",
    "    <ul>\n",
    "        <li>One can use the append-method to add a row to a DataFrame.</li>\n",
    "        <li>The append-method returns a new DataFrame. In this case, there is no inplace-argument.</li>\n",
    "        <li>As we are applying a dictionary, set the ignore_index-argument to True.</li>\n",
    "    </ul>\n",
    "</p>\n",
    "</details>"
   ]
  },
  {
   "cell_type": "code",
   "execution_count": null,
   "id": "009c48ba",
   "metadata": {
    "scrolled": false
   },
   "outputs": [],
   "source": [
    "new_row = {\"MainBranch\": \"I am a student who is learning to code\", \n",
    "           \"Hobbyist\": \"Yes\",\n",
    "           \"OpenSourcer\": \"Once a month or more often\",\n",
    "           \"Employment\": \"Employed part-time\",\n",
    "           \"Country\": \"Germany\",\n",
    "           \"Student\": \"Yes, full-time\"}\n",
    "# START YOUR CODE HERE.\n",
    "\n",
    "df = ...\n",
    "\n",
    "# END YOUR CODE HERE."
   ]
  },
  {
   "cell_type": "code",
   "execution_count": null,
   "id": "58dc0687",
   "metadata": {},
   "outputs": [],
   "source": [
    "# THIS CELL TESTS YOUR RESULTS.\n",
    "assert df.iloc[-1, 1] == \"Yes\", \"It seems that adding the new row to the DataFrame did not work!\"\n",
    "assert df.iloc[-1, 4] == \"Employed part-time\", \"It seems that adding the new row to the DataFrame did not work!\"\n",
    "assert df.shape[0] == 88884, \"It seems that adding the new row to the DataFrame did not work!\""
   ]
  },
  {
   "cell_type": "markdown",
   "id": "7adbc997",
   "metadata": {},
   "source": [
    "<details>    \n",
    "<summary>\n",
    "    <font size=\"3\" color=\"darkgreen\"><b>Solution (click to expand)</b></font>\n",
    "</summary>\n",
    "<p>\n",
    "    <code>df = df.append(new_row, ignore_index = True)</code>\n",
    "</p>\n",
    "</details>   \n",
    "   \n",
    "#### 2. Below you will find three columns that appear to contain many NaN values. Remove these columns from the survey DataFrame.\n",
    "<br />\n",
    "<details>    \n",
    "<summary>\n",
    "    <font size=\"3\" color=\"red\"><b>Hints (click to expand)</b></font>\n",
    "</summary>\n",
    "<p>\n",
    "    <ul>\n",
    "        <li>One can use the drop-method to drop rows/columns from a DataFrame.</li>\n",
    "        <li>As we are trying to drop columns, what value should we the axis-argument assign to?</li>\n",
    "        <li>Remind yourself of the inplace-argument.</li>\n",
    "    </ul>\n",
    "</p>\n",
    "</details>"
   ]
  },
  {
   "cell_type": "code",
   "execution_count": null,
   "id": "1f491ff6",
   "metadata": {},
   "outputs": [],
   "source": [
    "columns_drop = [\"BlockchainOrg\", \"CodeRevHrs\", \"ConvertedComp\"]\n",
    "# START YOUR CODE HERE.\n",
    "\n",
    "...\n",
    "\n",
    "# END YOUR CODE HERE."
   ]
  },
  {
   "cell_type": "code",
   "execution_count": null,
   "id": "32ea9934",
   "metadata": {
    "scrolled": true
   },
   "outputs": [],
   "source": [
    "# THIS CELL TESTS YOUR RESULTS.\n",
    "assert \"BlockchainOrg\" not in df.columns, \"As it seems you did not drop the BlockchainOrg column.\"\n",
    "assert \"CodeRevHrs\" not in df.columns, \"As it seems you did not drop the CodeRevHrs column.\"\n",
    "assert \"ConvertedComp\" not in df.columns, \"As it seems you did not drop the ConvertedComp column.\""
   ]
  },
  {
   "cell_type": "markdown",
   "id": "f59624ab",
   "metadata": {},
   "source": [
    "<details>    \n",
    "<summary>\n",
    "    <font size=\"3\" color=\"darkgreen\"><b>Solution (click to expand)</b></font>\n",
    "</summary>\n",
    "<p>\n",
    "    <code>df.drop(labels = columns_drop, axis = \"columns\", inplace = True)</code>\n",
    "</p>\n",
    "</details>   \n",
    "   \n",
    "#### 3. Drop every survey respondent who is not resident in the US.\n",
    "\n",
    "<br />\n",
    "<details>    \n",
    "<summary>\n",
    "    <font size=\"3\" color=\"red\"><b>Hints (click to expand)</b></font>\n",
    "</summary>\n",
    "<p>\n",
    "    <ul>\n",
    "        <li>Remind yourself of conditionals to filter DataFrames.</li>\n",
    "        <li>One can negate a filter by using the ~-operator.</li> \n",
    "        <li>To drop rows from a DataFrame, you need the row indexes.</li>\n",
    "        <li>One can use the drop-method to drop rows/columns from a DataFrame.</li>\n",
    "        <li>As we are trying to drop columns, what value should we the axis-argument assign to?</li>\n",
    "        <li>Remind yourself of the inplace-argument.</li>\n",
    "    </ul>\n",
    "        \n",
    "</p>\n",
    "</details>"
   ]
  },
  {
   "cell_type": "code",
   "execution_count": null,
   "id": "37a3ec2d",
   "metadata": {
    "scrolled": false
   },
   "outputs": [],
   "source": [
    "# START YOUR CODE HERE.\n",
    "\n",
    "# DEFINE A FILTER HERE.\n",
    "filt = ...\n",
    "# DROP THE ROWS HERE.\n",
    "...\n",
    "\n",
    "# END YOUR CODE HERE."
   ]
  },
  {
   "cell_type": "code",
   "execution_count": null,
   "id": "5121dfe2",
   "metadata": {},
   "outputs": [],
   "source": [
    "# THIS CELL TESTS YOUR RESULTS.\n",
    "assert len(df[\"Country\"].unique()) == 1, \"Your filter seems to not work!\"\n",
    "assert df[\"Country\"].unique()[0] == \"United States\", \"You did not extract residents from the US!\""
   ]
  },
  {
   "cell_type": "markdown",
   "id": "183313e3",
   "metadata": {},
   "source": [
    "<details>    \n",
    "<summary>\n",
    "    <font size=\"3\" color=\"darkgreen\"><b>Solution (click to expand)</b></font>\n",
    "</summary>\n",
    "<p>\n",
    "    <code>filt = ~(df[\"Country\"] == \"United States\")</code><br />\n",
    "    <code>df.drop(labels = df.loc[filt].index, axis = \"rows\", inplace = True)</code>\n",
    "</p>\n",
    "</details>"
   ]
  }
 ],
 "metadata": {
  "kernelspec": {
   "display_name": "Python 3 (ipykernel)",
   "language": "python",
   "name": "python3"
  },
  "language_info": {
   "codemirror_mode": {
    "name": "ipython",
    "version": 3
   },
   "file_extension": ".py",
   "mimetype": "text/x-python",
   "name": "python",
   "nbconvert_exporter": "python",
   "pygments_lexer": "ipython3",
   "version": "3.8.9"
  }
 },
 "nbformat": 4,
 "nbformat_minor": 5
}
