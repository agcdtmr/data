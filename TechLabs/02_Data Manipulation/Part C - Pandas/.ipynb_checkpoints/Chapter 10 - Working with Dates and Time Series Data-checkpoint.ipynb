{
 "cells": [
  {
   "cell_type": "code",
   "execution_count": null,
   "id": "b29c306a",
   "metadata": {},
   "outputs": [],
   "source": [
    "# RUN THIS COMMAND ONLY IF YOU USE GOOGLE COLAB.\n",
    "from google.colab import drive\n",
    "drive.mount('/content/drive')"
   ]
  },
  {
   "cell_type": "code",
   "execution_count": null,
   "id": "d611f4fe",
   "metadata": {},
   "outputs": [],
   "source": [
    "# RUN THIS COMMAND ONLY IF YOU USE GOOGLE COLAB.\n",
    "%cd drive/MyDrive/TechLabs/02_Data\\ Manipulation/Part\\ C\\ -\\ Pandas"
   ]
  },
  {
   "cell_type": "markdown",
   "id": "bb20ffa2",
   "metadata": {},
   "source": [
    "# Chapter 10 - Working with Dates and Time Series Data \n",
    "### Hey Techie,   \n",
    "Welcome to the tenth notebook of this Pandas tutorial series. We encourage you to take this notebook as a template to code along the instruction video, which you may find at: https://youtu.be/UFuo7EHI8zc. In this instruction video, Corey explains how to work with dates in DataFrames and applies this knowledge to real-word stock data from the cryptocurrency Ethereum. As always, at the end of the notebook, you may find some practice tasks to deepen your knowledge.\n",
    "\n",
    "**Here you may find the Pandas documentation:** https://pandas.pydata.org/docs/reference/index.html   \n",
    "**And here you can look up the datetime formatting codes**: https://docs.python.org/3/library/datetime.html#strftime-and-strptime-behavior\n",
    "\n",
    "#### Have fun! :-)   \n",
    "    \n",
    "*Video length*: 36 minutes   \n",
    "*Self-study time*: 36 minutes   \n",
    "*Total*: **72 minutes**\n",
    "<hr style=\"border:2px solid gray\"> </hr>   \n",
    "\n",
    "## Real-word Example"
   ]
  },
  {
   "cell_type": "code",
   "execution_count": null,
   "id": "f4fdd5ef",
   "metadata": {},
   "outputs": [],
   "source": [
    "# This is the convention used to import Pandas.\n",
    "import pandas as pd"
   ]
  },
  {
   "cell_type": "code",
   "execution_count": null,
   "id": "d07414d6",
   "metadata": {},
   "outputs": [],
   "source": [
    "# These command loads the same stock data Corey uses in his video.\n",
    "df = pd.read_csv(\"data/ETH_1h.csv\")"
   ]
  },
  {
   "cell_type": "markdown",
   "id": "75769158",
   "metadata": {},
   "source": [
    "**IMPORTANT NOTE**: Starting at minute 8:00, Corey explains how to write a date parser so that Pandas can convert dates to the desired format while reading in data. The code Corey uses is deprecated. Please use the following instead."
   ]
  },
  {
   "cell_type": "code",
   "execution_count": null,
   "id": "fa5110ce",
   "metadata": {},
   "outputs": [],
   "source": [
    "# Built-in library to work with dates.\n",
    "from datetime import datetime\n",
    "# Instead of using pd.datetime.strptime, use datetime.strptime.\n",
    "d_parser = lambda x: datetime.strptime(x, \"%Y-%m-%d %I-%p\")\n",
    "df = pd.read_csv(\"data/ETH_1h.csv\", parse_dates=[\"Date\"], date_parser=d_parser)"
   ]
  },
  {
   "cell_type": "code",
   "execution_count": null,
   "id": "7be82032",
   "metadata": {},
   "outputs": [],
   "source": [
    "# START YOUR CODE HERE.\n"
   ]
  },
  {
   "cell_type": "markdown",
   "id": "4b97ba1c",
   "metadata": {},
   "source": [
    "<hr style=\"border:2px solid gray\"> </hr>   \n",
    "   \n",
    "## Practice Tasks   "
   ]
  },
  {
   "cell_type": "code",
   "execution_count": null,
   "id": "a15892dc",
   "metadata": {},
   "outputs": [],
   "source": [
    "# Load a clean DataFrame.\n",
    "import pandas as pd\n",
    "from datetime import datetime\n",
    "df = pd.read_csv(\"data/ETH_1h.csv\")\n",
    "d_parser = lambda x: datetime.strptime(x, \"%Y-%m-%d %I-%p\")\n",
    "df = pd.read_csv(\"data/ETH_1h.csv\", parse_dates=[\"Date\"], date_parser=d_parser)"
   ]
  },
  {
   "cell_type": "markdown",
   "id": "76e89bef",
   "metadata": {},
   "source": [
    "#### 1. On which day in December 2018 Ethereum reached had its highest closing price? Use the mean to average the hourly data points. Store the day as a String in a variable named *closing_day*.\n",
    "<br /> \n",
    "<details>    \n",
    "<summary>\n",
    "    <font size=\"3\" color=\"red\"><b>Hints (click to expand)</b></font>\n",
    "</summary>\n",
    "<p>\n",
    "    <ul>\n",
    "        <li>If you set the \"Date\" column as the DataFrame's index, you can easily extract the desired period with loc.</li>\n",
    "        <li>The resample method allows you to aggregate date data.</li>\n",
    "        <li>The idxmax method that is applicable to a Series object returns the index of the Series object's maximum rather than its value.</li>\n",
    "    </ul>\n",
    "</p>\n",
    "</details>"
   ]
  },
  {
   "cell_type": "code",
   "execution_count": null,
   "id": "009c48ba",
   "metadata": {
    "scrolled": false
   },
   "outputs": [],
   "source": [
    "# START YOUR CODE HERE.\n",
    "\n",
    "closing_day = ...\n",
    "\n",
    "# END YOUR CODE HERE."
   ]
  },
  {
   "cell_type": "code",
   "execution_count": null,
   "id": "58dc0687",
   "metadata": {},
   "outputs": [],
   "source": [
    "# THIS CELL TESTS YOUR RESULTS.\n",
    "assert closing_day == \"Monday\", \"Your result seems to be incorrect!\""
   ]
  },
  {
   "cell_type": "markdown",
   "id": "7adbc997",
   "metadata": {},
   "source": [
    "<details>    \n",
    "<summary>\n",
    "    <font size=\"3\" color=\"darkgreen\"><b>Solution (click to expand)</b></font>\n",
    "</summary>\n",
    "<p>\n",
    "    <code>desired_period = df.set_index([\"Date\"]).loc[\"2018-12\", \"Close\"].resample(\"D\").mean()</code><br />\n",
    "    <code>closing_day = desired_period.idxmax().day_name()</code><br />\n",
    "</p>\n",
    "</details>   \n",
    "   \n",
    "#### 2. At what month in 2019 Ethereum had the highest closing price? Use the mean to average the hourly data points. Store the month as a String in a variable named *closing_month*.\n",
    "<br /> \n",
    "<details>    \n",
    "<summary>\n",
    "    <font size=\"3\" color=\"red\"><b>Hints (click to expand)</b></font>\n",
    "</summary>\n",
    "<p>\n",
    "    <ul>\n",
    "        <li>If you set the \"Date\" column as the DataFrame's index, you can easily extract the desired period with loc.</li>\n",
    "        <li>The resample method allows you to aggregate date data.</li>\n",
    "        <li>The idxmax method that is applicable to a Series object returns the index of the Series object's maximum rather than its value.</li>\n",
    "    </ul>\n",
    "</p>\n",
    "</details>"
   ]
  },
  {
   "cell_type": "code",
   "execution_count": null,
   "id": "1f491ff6",
   "metadata": {},
   "outputs": [],
   "source": [
    "# START YOUR CODE HERE.\n",
    "\n",
    "closing_month = ...\n",
    "\n",
    "# END YOUR CODE HERE."
   ]
  },
  {
   "cell_type": "code",
   "execution_count": null,
   "id": "32ea9934",
   "metadata": {
    "scrolled": true
   },
   "outputs": [],
   "source": [
    "# THIS CELL TESTS YOUR RESULTS.\n",
    "assert month_closing == \"June\", \"Your result seems to be incorrect!\""
   ]
  },
  {
   "cell_type": "markdown",
   "id": "f59624ab",
   "metadata": {},
   "source": [
    "<details>    \n",
    "<summary>\n",
    "    <font size=\"3\" color=\"darkgreen\"><b>Solution (click to expand)</b></font>\n",
    "</summary>\n",
    "<p>\n",
    "    <code>desired_period = df.set_index([\"Date\"]).loc[\"2019\", \"Close\"].resample(\"M\").mean()</code><br />\n",
    "    <code>month_closing = desired_period.idxmax().month_name()</code><br />\n",
    "</p>\n",
    "</details>   \n",
    "   \n",
    "#### 3. On which days between 2017 and 2020 did Ethereum have the lowest and highest price? Use the mean to average the hourly data points and calculate the time delta between these two dates. Store timedelta as a Timedelta object in a variable named *timedelta*.\n",
    "<br />\n",
    "<details>    \n",
    "<summary>\n",
    "    <font size=\"3\" color=\"red\"><b>Hints (click to expand)</b></font>\n",
    "</summary>\n",
    "<p>\n",
    "    <ul>\n",
    "        <li>If you set the \"Date\" column as the DataFrame's index, you can easily extract the desired period with loc.</li>\n",
    "        <li>The resample method allows you to aggregate date data.</li>\n",
    "        <li>The idxmax method that is applicable to a Series object returns the index of the Series object's maximum rather than its value. There is also an idxmin method.</li>\n",
    "    </ul>\n",
    "        \n",
    "</p>\n",
    "</details>"
   ]
  },
  {
   "cell_type": "code",
   "execution_count": null,
   "id": "37a3ec2d",
   "metadata": {
    "scrolled": false
   },
   "outputs": [],
   "source": [
    "# START YOUR CODE HERE.\n",
    "\n",
    "timedelta = ...\n",
    "\n",
    "# END YOUR CODE HERE."
   ]
  },
  {
   "cell_type": "code",
   "execution_count": null,
   "id": "5121dfe2",
   "metadata": {},
   "outputs": [],
   "source": [
    "# THIS CELL TESTS YOUR RESULTS.\n",
    "assert type(timedelta) == type(pd.Timedelta(1)), \"Please return a Timedelta object!\"\n",
    "assert np.abs(timedelta.days) == 335, \"Your timedelta seems to be incorrect!\""
   ]
  },
  {
   "cell_type": "markdown",
   "id": "183313e3",
   "metadata": {},
   "source": [
    "<details>    \n",
    "<summary>\n",
    "    <font size=\"3\" color=\"darkgreen\"><b>Solution (click to expand)</b></font>\n",
    "</summary>\n",
    "<p>\n",
    "    <code>import numpy as np</code><br />\n",
    "    <code>filt = (df[\"Date\"] > \"2017\") & (df[\"Date\"] < \"2020\")</code><br />\n",
    "    <code>desired_period = df.loc[filt, [\"High\", \"Low\", \"Date\"]].set_index([\"Date\"]).resample(\"D\").mean()</code><br />\n",
    "    <code>timedelta = np.abs(desired_period[\"High\"].idxmax()-desired_period[\"Low\"].idxmin())</code><br />\n",
    "</p>\n",
    "</details>"
   ]
  }
 ],
 "metadata": {
  "kernelspec": {
   "display_name": "Python 3 (ipykernel)",
   "language": "python",
   "name": "python3"
  },
  "language_info": {
   "codemirror_mode": {
    "name": "ipython",
    "version": 3
   },
   "file_extension": ".py",
   "mimetype": "text/x-python",
   "name": "python",
   "nbconvert_exporter": "python",
   "pygments_lexer": "ipython3",
   "version": "3.8.9"
  }
 },
 "nbformat": 4,
 "nbformat_minor": 5
}
