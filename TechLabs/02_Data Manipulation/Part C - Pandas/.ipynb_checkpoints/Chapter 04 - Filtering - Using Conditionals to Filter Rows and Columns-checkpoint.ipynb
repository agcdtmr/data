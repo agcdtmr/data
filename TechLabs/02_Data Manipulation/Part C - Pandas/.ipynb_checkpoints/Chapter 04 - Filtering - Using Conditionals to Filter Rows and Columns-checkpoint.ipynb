{
 "cells": [
  {
   "cell_type": "code",
   "execution_count": null,
   "id": "b29c306a",
   "metadata": {},
   "outputs": [],
   "source": [
    "# RUN THIS COMMAND ONLY IF YOU USE GOOGLE COLAB.\n",
    "from google.colab import drive\n",
    "drive.mount('/content/drive')"
   ]
  },
  {
   "cell_type": "code",
   "execution_count": null,
   "id": "d611f4fe",
   "metadata": {},
   "outputs": [],
   "source": [
    "# RUN THIS COMMAND ONLY IF YOU USE GOOGLE COLAB.\n",
    "%cd drive/MyDrive/TechLabs/02_Data\\ Manipulation/Part\\ C\\ -\\ Pandas"
   ]
  },
  {
   "cell_type": "markdown",
   "id": "bb20ffa2",
   "metadata": {},
   "source": [
    "# Chapter 4 - Filtering - Using Conditionals to Filter Rows and Columns  \n",
    "### Hey Techie,   \n",
    "Welcome to the fourth notebook of this Pandas tutorial series. We encourage you to take this notebook as a template to code along the instruction video, which you may find at: https://youtu.be/Lw2rlcxScZY. In the instruction video's first half, Corey explains how to define and apply filters to DataFrames. Afterward, he demonstrates the new skills with the real-world example which we already know. As always, at the end of this notebook are practice tasks to test your skills.     \n",
    "\n",
    "**Here you may find the Pandas documentation:** https://pandas.pydata.org/docs/reference/index.html\n",
    "\n",
    "#### Have fun! :-)   \n",
    "    \n",
    "*Video length*: 23 minutes   \n",
    "*Self-study time*: 23 minutes   \n",
    "*Total*: **46 minutes**\n",
    "<hr style=\"border:2px solid gray\"> </hr>   \n",
    "\n",
    "## Code-Snippets"
   ]
  },
  {
   "cell_type": "code",
   "execution_count": null,
   "id": "f4fdd5ef",
   "metadata": {},
   "outputs": [],
   "source": [
    "# This is the convention used to import Pandas.\n",
    "import pandas as pd"
   ]
  },
  {
   "cell_type": "code",
   "execution_count": null,
   "id": "d07414d6",
   "metadata": {},
   "outputs": [],
   "source": [
    "people = {\n",
    "    \"first\": [\"Corey\", 'Jane', 'John'], \n",
    "    \"last\": [\"Schafer\", 'Doe', 'Doe'], \n",
    "    \"email\": [\"CoreyMSchafer@gmail.com\", 'JaneDoe@email.com', 'JohnDoe@email.com']\n",
    "}"
   ]
  },
  {
   "cell_type": "code",
   "execution_count": null,
   "id": "7be82032",
   "metadata": {},
   "outputs": [],
   "source": [
    "# START YOUR CODE HERE.\n"
   ]
  },
  {
   "cell_type": "markdown",
   "id": "133675c9",
   "metadata": {},
   "source": [
    "<hr style=\"border:2px solid gray\"> </hr>   \n",
    "    \n",
    "## Real-word Example"
   ]
  },
  {
   "cell_type": "code",
   "execution_count": null,
   "id": "c74badcc",
   "metadata": {},
   "outputs": [],
   "source": [
    "# These options help us to inspect our data more easily.\n",
    "pd.set_option(\"display.max_columns\", 85)\n",
    "pd.set_option(\"display.max_rows\", 85)"
   ]
  },
  {
   "cell_type": "code",
   "execution_count": null,
   "id": "322d973b",
   "metadata": {},
   "outputs": [],
   "source": [
    "# These commands load the same survey data Corey is using in his video.\n",
    "df = pd.read_csv(\"data/survey_results_public.csv\", index_col = \"Respondent\")\n",
    "schema_df = pd.read_csv(\"data/survey_results_schema.csv\", index_col = \"Column\")"
   ]
  },
  {
   "cell_type": "code",
   "execution_count": null,
   "id": "7777a794",
   "metadata": {},
   "outputs": [],
   "source": [
    "# START YOUR CODE HERE.\n"
   ]
  },
  {
   "cell_type": "markdown",
   "id": "4b97ba1c",
   "metadata": {},
   "source": [
    "<hr style=\"border:2px solid gray\"> </hr>   \n",
    "   \n",
    "## Practice Tasks   "
   ]
  },
  {
   "cell_type": "code",
   "execution_count": null,
   "id": "a15892dc",
   "metadata": {},
   "outputs": [],
   "source": [
    "# Load a clean DataFrame.\n",
    "df = pd.read_csv(\"data/survey_results_public.csv\", index_col = \"Respondent\")"
   ]
  },
  {
   "cell_type": "markdown",
   "id": "76e89bef",
   "metadata": {},
   "source": [
    "#### 1. Filter out all respondents with total compensation of more than 100,000 USD per year (*CompTotal* column). We are only interested in the country in which they lived when completing the survey (*Country* column). Then create an overview that shows the number of high earners per country. *filt_overview* should be a Series with countries as its index and compensation counts as its values.\n",
    "<br /> \n",
    "<details>    \n",
    "<summary>\n",
    "    <font size=\"3\" color=\"red\"><b>Hints (click to expand)</b></font>\n",
    "</summary>\n",
    "<p>\n",
    "    <ul>\n",
    "        <li>The filter should be a boolean mask which you can apply to the survey DataFrame.</li>\n",
    "        <li>With the loc-attribute, you can apply the filter and extract the Country column at the same time.</li>\n",
    "        <li>The value_counts-method returns a Series of unique value counts.</li>\n",
    "    </ul>\n",
    "</p>\n",
    "</details>"
   ]
  },
  {
   "cell_type": "code",
   "execution_count": null,
   "id": "009c48ba",
   "metadata": {
    "scrolled": false
   },
   "outputs": [],
   "source": [
    "# START YOUR CODE HERE.\n",
    "\n",
    "# DEFINE A FILTER HERE.\n",
    "filt = ...\n",
    "# APPLY THE FILTER HERE.\n",
    "df_filt = ...\n",
    "# EXTRACT COUNTS PER COUNTRY HERE.\n",
    "filt_overview = ...\n",
    "\n",
    "# END YOUR CODE HERE."
   ]
  },
  {
   "cell_type": "code",
   "execution_count": null,
   "id": "58dc0687",
   "metadata": {},
   "outputs": [],
   "source": [
    "# THIS CELL TESTS YOUR RESULTS.\n",
    "assert type(filt_overview) == type(pd.Series([], dtype = \"int64\")), \"Please return a Series!\"\n",
    "assert filt_overview.loc[\"United States\"] == 7615, \"Your count for the US does not seem to be correct!\"\n",
    "assert filt_overview.loc[\"Australia\"] == 573, \"Your count for Australia does not seem to be correct!\"\n",
    "assert filt_overview.shape[0] == 128, \"Your filter does not seem to work correctly!\""
   ]
  },
  {
   "cell_type": "markdown",
   "id": "7adbc997",
   "metadata": {},
   "source": [
    "<details>    \n",
    "<summary>\n",
    "    <font size=\"3\" color=\"darkgreen\"><b>Solution (click to expand)</b></font>\n",
    "</summary>\n",
    "<p>\n",
    "    <code>filt = (df[\"CompTotal\"] > 100000)</code><br />\n",
    "    <code>df_filt = df.loc[filt, \"Country\"]</code><br />\n",
    "    <code>filt_overview = df_filt.value_counts()</code>\n",
    "</p>\n",
    "</details>   \n",
    "   \n",
    "#### 2. Filter out all respondents with total compensation greater than 100,000 USD per year who are also US residents. We are interested in how coding experience is distributed along these (*YearsCode* column). Therefore, create an overview that indicates how many of those developers have how many years of experience. *filt_overview* should be a Series with years of coding experience as its index and developer counts as its values.\n",
    "<br />\n",
    "<details>    \n",
    "<summary>\n",
    "    <font size=\"3\" color=\"red\"><b>Hints (click to expand)</b></font>\n",
    "</summary>\n",
    "<p>\n",
    "    <ul>\n",
    "        <li>The filter should be a boolean mask which you can apply to the survey DataFrame.</li>\n",
    "        <li>One can string multiple filters together by using the &-operator.</li>\n",
    "        <li>With the loc-attribute, you can apply the filter and extract the Country column at the same time.</li>\n",
    "        <li>The value_counts-method returns a Series of unique value counts.</li>\n",
    "    </ul>\n",
    "</p>\n",
    "</details>"
   ]
  },
  {
   "cell_type": "code",
   "execution_count": null,
   "id": "1f491ff6",
   "metadata": {},
   "outputs": [],
   "source": [
    "# START YOUR CODE HERE.\n",
    "\n",
    "# DEFINE A FILTER HERE.\n",
    "filt = ...\n",
    "# APPLY THE FILTER HERE.\n",
    "df_filt = ...\n",
    "# EXTRACT COUNTS PER YEARS OF EXPERIENCE HERE.\n",
    "filt_overview = ...\n",
    "\n",
    "# END YOUR CODE HERE."
   ]
  },
  {
   "cell_type": "code",
   "execution_count": null,
   "id": "32ea9934",
   "metadata": {
    "scrolled": true
   },
   "outputs": [],
   "source": [
    "# THIS CELL TESTS YOUR RESULTS.\n",
    "assert type(filt_overview) == type(pd.Series([], dtype = \"int64\")), \"Please return a Series!\"\n",
    "assert filt_overview.loc[\"20\"] == 636, \"Your count for 20 years of experience does not seem to be correct!\"\n",
    "assert filt_overview.loc[\"40\"] == 118, \"Your count for 40 years of experience does not seem to be correct!\"\n",
    "assert filt_overview.shape[0] == 52, \"Your filter does not seem to work correctly!\""
   ]
  },
  {
   "cell_type": "markdown",
   "id": "f59624ab",
   "metadata": {},
   "source": [
    "<details>    \n",
    "<summary>\n",
    "    <font size=\"3\" color=\"darkgreen\"><b>Solution (click to expand)</b></font>\n",
    "</summary>\n",
    "<p>\n",
    "    <code>filt = (df[\"CompTotal\"] > 100000) & (df[\"Country\"] == \"United States\")</code><br />\n",
    "    <code>df_filt = df.loc[filt, \"YearsCode\"]</code><br />\n",
    "    <code>filt_overview = df_filt.value_counts()</code><br />\n",
    "</p>\n",
    "</details>   \n",
    "   \n",
    "#### 3. Filter out all respondents with total compensation greater than 100,000 USD per year who are not residents in the US, India, Canada, Russia, or Australia. Then create an overview that shows the number of high earners per country. filt_overview should be a Series with countries as its index and compensation as its values.\n",
    "<br />\n",
    "<details>    \n",
    "<summary>\n",
    "    <font size=\"3\" color=\"red\"><b>Hints (click to expand)</b></font>\n",
    "</summary>\n",
    "<p>\n",
    "    <ul>\n",
    "        <li>The filter should be a boolean mask which you can apply to the survey DataFrame.</li>\n",
    "        <li>One can string multiple filters together by using the &-operator.</li>\n",
    "        <li>One can negate a filter by using the ~-operator.</li>\n",
    "        <li>The isin-method can be used to check whether each element in a Series/DataFrame is contained in the               provided list.</li>\n",
    "        <li>With the loc-attribute, you can apply the filter and extract the Country column at the same time.</li>\n",
    "        <li>The value_counts-method returns a Series of unique value counts.</li>\n",
    "    </ul>\n",
    "        \n",
    "</p>\n",
    "</details>"
   ]
  },
  {
   "cell_type": "code",
   "execution_count": null,
   "id": "37a3ec2d",
   "metadata": {
    "scrolled": false
   },
   "outputs": [],
   "source": [
    "countries = [\"United States\", \"India\", \"Canada\", \"Russian Federation\", \"Australia\"]\n",
    "# START YOUR CODE HERE.\n",
    "\n",
    "# DEFINE A FILTER HERE.\n",
    "filt = ...\n",
    "# APPLY FILTER HERE.\n",
    "df_filt = ...\n",
    "# EXTRACT COUNTS PER COUNTRY HERE.\n",
    "filt_overview = ...\n",
    "\n",
    "# END YOUR CODE HERE."
   ]
  },
  {
   "cell_type": "code",
   "execution_count": null,
   "id": "5121dfe2",
   "metadata": {},
   "outputs": [],
   "source": [
    "# THIS CELL TESTS YOUR RESULTS.\n",
    "assert type(filt_overview) == type(pd.Series([], dtype = \"int64\")), \"Please return a Series!\"\n",
    "assert filt_overview.loc[\"Iran\"] == 393, \"Your count for Iran does not seem to be correct!\"\n",
    "assert filt_overview.loc[\"United Kingdom\"] == 230, \"Your count for the United Kingdom does not seem to be correct!\"\n",
    "assert filt_overview.shape[0] == 123, \"Your filter does not seem to work correctly!\""
   ]
  },
  {
   "cell_type": "markdown",
   "id": "183313e3",
   "metadata": {},
   "source": [
    "<details>    \n",
    "<summary>\n",
    "    <font size=\"3\" color=\"darkgreen\"><b>Solution (click to expand)</b></font>\n",
    "</summary>\n",
    "<p>\n",
    "    <code>filt = (df[\"CompTotal\"] > 100000) & ~(df[\"Country\"].isin(countries))</code><br />\n",
    "    <code>df_filt = df.loc[filt, \"Country\"]</code><br />\n",
    "    <code>filt_overview = df_filt.value_counts()</code>\n",
    "</p>\n",
    "</details>"
   ]
  }
 ],
 "metadata": {
  "kernelspec": {
   "display_name": "Python 3 (ipykernel)",
   "language": "python",
   "name": "python3"
  },
  "language_info": {
   "codemirror_mode": {
    "name": "ipython",
    "version": 3
   },
   "file_extension": ".py",
   "mimetype": "text/x-python",
   "name": "python",
   "nbconvert_exporter": "python",
   "pygments_lexer": "ipython3",
   "version": "3.8.9"
  }
 },
 "nbformat": 4,
 "nbformat_minor": 5
}
