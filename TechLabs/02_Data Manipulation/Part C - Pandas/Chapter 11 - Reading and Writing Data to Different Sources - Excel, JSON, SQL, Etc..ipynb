{
 "cells": [
  {
   "cell_type": "code",
   "execution_count": null,
   "id": "b29c306a",
   "metadata": {},
   "outputs": [],
   "source": [
    "# RUN THIS COMMAND ONLY IF YOU USE GOOGLE COLAB.\n",
    "from google.colab import drive\n",
    "drive.mount('/content/drive')"
   ]
  },
  {
   "cell_type": "code",
   "execution_count": null,
   "id": "d611f4fe",
   "metadata": {},
   "outputs": [],
   "source": [
    "# RUN THIS COMMAND ONLY IF YOU USE GOOGLE COLAB.\n",
    "%cd drive/MyDrive/TechLabs/02_Data\\ Manipulation/Part\\ C\\ -\\ Pandas"
   ]
  },
  {
   "cell_type": "markdown",
   "id": "bb20ffa2",
   "metadata": {},
   "source": [
    "# Chapter 11 - Reading and Writing Data to Different Sources - Excel, JSON, SQL, Etc.\n",
    "### Hey Techie,   \n",
    "Welcome to the final notebook of this Pandas tutorial series. We encourage you to take this notebook as a template to code along the instruction video, which you may find at: https://youtu.be/N6hyN6BW6ao. In the instruction video, Corey explains how to read and write different data formats using Pandas. To work with Excel files, you need to install the packages *xlwt* (https://pypi.org/project/xlwt/), *openpyxl* (https://pypi.org/project/openpyxl/), and *xlrd* (https://pypi.org/project/xlrd/) first - this is explained at 7:30 min. Please note that you can skip the part where Corey explains how to handle data from SQL databases (17:00-28:00 min.). As always, at the end, you may find some practice tasks.\n",
    "\n",
    "**Here you may find the Pandas documentation:** https://pandas.pydata.org/docs/reference/index.html\n",
    "\n",
    "#### Have fun! :-)   \n",
    "    \n",
    "*Video length*: 22 minutes   \n",
    "*Self-study time*: 22 minutes   \n",
    "*Total*: **44 minutes**\n",
    "<hr style=\"border:2px solid gray\"> </hr>   \n",
    "\n",
    "## Real-word Example"
   ]
  },
  {
   "cell_type": "code",
   "execution_count": null,
   "id": "f4fdd5ef",
   "metadata": {},
   "outputs": [],
   "source": [
    "# This is the convention used to import Pandas.\n",
    "import pandas as pd"
   ]
  },
  {
   "cell_type": "code",
   "execution_count": null,
   "id": "ef36d81a",
   "metadata": {},
   "outputs": [],
   "source": [
    "# These options help us to inspect our data more easily.\n",
    "pd.set_option(\"display.max_columns\", 85)\n",
    "pd.set_option(\"display.max_rows\", 85)"
   ]
  },
  {
   "cell_type": "code",
   "execution_count": null,
   "id": "afe51d5c",
   "metadata": {},
   "outputs": [],
   "source": [
    "# These commands load the same survey data Corey is using in his video.\n",
    "df = pd.read_csv(\"data/survey_results_public.csv\", index_col = \"Respondent\")\n",
    "schema_df = pd.read_csv(\"data/survey_results_schema.csv\", index_col = \"Column\")"
   ]
  },
  {
   "cell_type": "code",
   "execution_count": null,
   "id": "0c0b6977",
   "metadata": {},
   "outputs": [],
   "source": [
    "# START YOUR CODE HERE.\n"
   ]
  },
  {
   "cell_type": "markdown",
   "id": "4b97ba1c",
   "metadata": {},
   "source": [
    "<hr style=\"border:2px solid gray\"> </hr>   \n",
    "   \n",
    "## Practice Tasks   \n",
    "#### 1. In the following tasks, we will work with an e-commerce dataset from the Kaggle platform (https://www.kaggle.com/carrie1/ecommerce-data). This dataset is stored under data/transaction_details.csv and contains transaction details of an online store from the end of 2010 to the end of 2011. First, the dataset has to be loaded. Thereby, four parameters of the read_csv method have to be adjusted: sep, na_values, parse_dates, and date_parser. After the dataset has been loaded, all rows should be removed where both the CustomerID and Description column contain NaN values. The DataFrame should be saved as *df*.   \n",
    "\n",
    "<br /> \n",
    "<details>    \n",
    "<summary>\n",
    "    <font size=\"3\" color=\"red\"><b>Hints (click to expand)</b></font>\n",
    "</summary>\n",
    "<p>\n",
    "    <ul>\n",
    "        <li>To determine the used separator, one could open the CSV file with a text editor.</li>\n",
    "        <li>To determine the identifier for NaN values, you should search through the CSV file inside the text editor, for example, with cmd f. Look up terms such as \"NA,\" \"MISSING,\" \"NO DATA,\" etc.</li>\n",
    "        <li>The date's format is month/day/year hour:minute. How does this translate to a date format code?</li>\n",
    "    </ul>\n",
    "</p>\n",
    "</details>"
   ]
  },
  {
   "cell_type": "code",
   "execution_count": null,
   "id": "009c48ba",
   "metadata": {
    "scrolled": false
   },
   "outputs": [],
   "source": [
    "# START YOUR CODE HERE.\n",
    "\n",
    "df = ...\n",
    "\n",
    "# END YOUR CODE HERE."
   ]
  },
  {
   "cell_type": "code",
   "execution_count": null,
   "id": "58dc0687",
   "metadata": {},
   "outputs": [],
   "source": [
    "# THIS CELL TESTS YOUR RESULTS.\n",
    "import numpy as np\n",
    "assert df.shape == (540455, 8), \"Your DataFrame seems to have the wrong shape!\"\n",
    "assert np.dtype('<M8[ns]') == df[\"InvoiceDate\"].dtype, \"The InvoiceDate column should contain DateTime objects!\""
   ]
  },
  {
   "cell_type": "markdown",
   "id": "7adbc997",
   "metadata": {},
   "source": [
    "<details>    \n",
    "<summary>\n",
    "    <font size=\"3\" color=\"darkgreen\"><b>Solution (click to expand)</b></font>\n",
    "</summary>\n",
    "<p>\n",
    "    <code>import pandas as pd</code><br />\n",
    "    <code>from datetime import datetime</code><br />\n",
    "    <code>d_parser = lambda x: datetime.strptime(x, \"%m/%d/%Y %H:%M\")</code><br />\n",
    "    <code>df = pd.read_csv(\"data/transaction_details.csv\", sep = \";\", na_values = \"MISSING_DATA\",</code><br /> \n",
    "    <code>&nbsp;&nbsp;&nbsp;&nbsp;&nbsp;&nbsp;&nbsp;&nbsp;&nbsp;&nbsp;&nbsp;&nbsp;&nbsp;&nbsp;&nbsp;parse_dates= [\"InvoiceDate\"], date_parser = d_parser)</code><br />\n",
    "    <code>df.dropna(how = \"all\", subset = [\"Description\", \"CustomerID\"], inplace = True)</code><br />\n",
    "</p>\n",
    "</details>   \n",
    "   \n",
    "#### 2. Calculate the revenue during January in 2011 and store it in a variable named *revenue_january*.   \n",
    "\n",
    "<br /> \n",
    "<details>    \n",
    "<summary>\n",
    "    <font size=\"3\" color=\"red\"><b>Hints (click to expand)</b></font>\n",
    "</summary>\n",
    "<p>\n",
    "    <ul>\n",
    "        <li>The arithmetic product of the two columns Quantity and UnitPrice yield the overall price per order necessary to calculate the revenue.</li>\n",
    "        <li>Remind yourself how to index specific periods if a DataFrame's index contains DateTime objects.</li>\n",
    "    </ul>\n",
    "</p>\n",
    "</details>"
   ]
  },
  {
   "cell_type": "code",
   "execution_count": null,
   "id": "1f491ff6",
   "metadata": {},
   "outputs": [],
   "source": [
    "# START YOUR CODE HERE.\n",
    "\n",
    "revenue_january = ...\n",
    "\n",
    "# END YOUR CODE HERE."
   ]
  },
  {
   "cell_type": "code",
   "execution_count": null,
   "id": "32ea9934",
   "metadata": {
    "scrolled": true
   },
   "outputs": [],
   "source": [
    "# THIS CELL TESTS YOUR RESULTS.\n",
    "assert revenue_january == 560000.2599999999, \"Your result seems to be incorrect!\""
   ]
  },
  {
   "cell_type": "markdown",
   "id": "f59624ab",
   "metadata": {},
   "source": [
    "<details>    \n",
    "<summary>\n",
    "    <font size=\"3\" color=\"darkgreen\"><b>Solution (click to expand)</b></font>\n",
    "</summary>\n",
    "<p>\n",
    "    <code>df[\"overall_price\"] = df[\"Quantity\"] * df[\"UnitPrice\"]</code><br />\n",
    "    <code>revenue_january = df.set_index(\"InvoiceDate\").loc[\"2011-01\", \"overall_price\"].sum()</code><br />\n",
    "</p>\n",
    "</details>   \n",
    "   \n",
    "#### 3. In which month during 2011 was the revenue the most? Store this month's name as a String (i.e., January) in a variable named *revenue_month*.\n",
    "<br />\n",
    "<details>    \n",
    "<summary>\n",
    "    <font size=\"3\" color=\"red\"><b>Hints (click to expand)</b></font>\n",
    "</summary>\n",
    "<p>\n",
    "    <ul>\n",
    "        <li>Remind yourself how to apply resampling to time series data. In this case, one needs to resample on a monthly basis.</li>\n",
    "        <li>A function called idxmax is applicable to a Series object that returns the index of a Series object's maximum rather than its value.</li>\n",
    "    </ul>\n",
    "        \n",
    "</p>\n",
    "</details>"
   ]
  },
  {
   "cell_type": "code",
   "execution_count": null,
   "id": "37a3ec2d",
   "metadata": {
    "scrolled": false
   },
   "outputs": [],
   "source": [
    "# START YOUR CODE HERE.\n",
    "\n",
    "revenue_month = ...\n",
    "\n",
    "# END YOUR CODE HERE."
   ]
  },
  {
   "cell_type": "code",
   "execution_count": null,
   "id": "5121dfe2",
   "metadata": {},
   "outputs": [],
   "source": [
    "# THIS CELL TESTS YOUR RESULTS.\n",
    "assert revenue_month == \"November\", \"Your result seems to be incorrect!\""
   ]
  },
  {
   "cell_type": "markdown",
   "id": "183313e3",
   "metadata": {},
   "source": [
    "<details>    \n",
    "<summary>\n",
    "    <font size=\"3\" color=\"darkgreen\"><b>Solution (click to expand)</b></font>\n",
    "</summary>\n",
    "<p>\n",
    "    <code>revenue_month = df.set_index(\"InvoiceDate\").loc[:, \"overall_price\"].resample(\"M\").sum().idxmax().month_name()</code><br />\n",
    "</p>\n",
    "</details>  \n",
    "   \n",
    "#### 4. From which country did the most orders come in November 2011? Store this country's name as a String (i.e., United States) called *country_orders*.\n",
    "<br />\n",
    "<details>    \n",
    "<summary>\n",
    "    <font size=\"3\" color=\"red\"><b>Hints (click to expand)</b></font>\n",
    "</summary>\n",
    "<p>\n",
    "    <ul>\n",
    "        <li>The overall approach is very similar to tasks two and three.</li>\n",
    "        <li>Which function returns unique value counts if it is called on a Series object?</li>\n",
    "    </ul>\n",
    "        \n",
    "</p>\n",
    "</details>"
   ]
  },
  {
   "cell_type": "code",
   "execution_count": null,
   "id": "8c475c9d",
   "metadata": {},
   "outputs": [],
   "source": [
    "# START YOUR CODE HERE.\n",
    "\n",
    "country_orders = ...\n",
    "\n",
    "# END YOUR CODE HERE."
   ]
  },
  {
   "cell_type": "code",
   "execution_count": null,
   "id": "ed6569d8",
   "metadata": {},
   "outputs": [],
   "source": [
    "# THIS CELL TESTS YOUR RESULTS.\n",
    "assert country_orders == \"United Kingdom\", \"Your result seems to be incorrect!\""
   ]
  },
  {
   "cell_type": "markdown",
   "id": "0f80ceef",
   "metadata": {},
   "source": [
    "<details>    \n",
    "<summary>\n",
    "    <font size=\"3\" color=\"darkgreen\"><b>Solution (click to expand)</b></font>\n",
    "</summary>\n",
    "<p>\n",
    "    <code>country_orders = df.set_index(\"InvoiceDate\").loc[\"2011-11\", \"Country\"].value_counts().idxmax()</code><br />\n",
    "</p>\n",
    "</details>  "
   ]
  }
 ],
 "metadata": {
  "kernelspec": {
   "display_name": "Python 3 (ipykernel)",
   "language": "python",
   "name": "python3"
  },
  "language_info": {
   "codemirror_mode": {
    "name": "ipython",
    "version": 3
   },
   "file_extension": ".py",
   "mimetype": "text/x-python",
   "name": "python",
   "nbconvert_exporter": "python",
   "pygments_lexer": "ipython3",
   "version": "3.8.9"
  }
 },
 "nbformat": 4,
 "nbformat_minor": 5
}
