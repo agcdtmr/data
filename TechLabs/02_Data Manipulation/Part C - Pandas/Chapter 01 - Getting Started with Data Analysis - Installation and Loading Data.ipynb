{
 "cells": [
  {
   "cell_type": "code",
   "execution_count": null,
   "id": "b29c306a",
   "metadata": {},
   "outputs": [],
   "source": [
    "# RUN THIS COMMAND ONLY IF YOU USE GOOGLE COLAB.\n",
    "from google.colab import drive\n",
    "drive.mount('/content/drive')"
   ]
  },
  {
   "cell_type": "code",
   "execution_count": null,
   "id": "d611f4fe",
   "metadata": {},
   "outputs": [],
   "source": [
    "# RUN THIS COMMAND ONLY IF YOU USE GOOGLE COLAB.\n",
    "%cd drive/MyDrive/TechLabs/03_Data\\ Manipulation/Part\\ C\\ -\\ Pandas"
   ]
  },
  {
   "cell_type": "markdown",
   "id": "65934918",
   "metadata": {},
   "source": [
    "# Chapter 1 - Getting Started with Data Analysis - Installation and Loading Data   \n",
    "### Hey Techie,   \n",
    "Welcome to the first notebook of this Pandas tutorial series. We encourage you to take this notebook as a template to code along the instruction video, which you may find at: https://youtu.be/ZyhVh-qRZPA. We have taken care of downloading the needed data already. Therefore, you can fully concentrate on absorbing the new coding concepts. At the end of this notebook, you can find tasks that test your knowledge of the topics covered in the video.    \n",
    "\n",
    "**Here you may find the Pandas documentation:** https://pandas.pydata.org/docs/reference/index.html  \n",
    "   \n",
    "#### Have fun! :-)   \n",
    "*Video length*: 23 minutes   \n",
    "*Self-study time*: 23 minutes   \n",
    "*Total*: **46 minutes**\n",
    "<hr style=\"border:2px solid gray\"> </hr>   \n",
    "   \n",
    "## Real-word Example"
   ]
  },
  {
   "cell_type": "code",
   "execution_count": null,
   "id": "9b8a5887",
   "metadata": {},
   "outputs": [],
   "source": [
    "# This is the convention used to import Pandas.\n",
    "import pandas as pd"
   ]
  },
  {
   "cell_type": "code",
   "execution_count": null,
   "id": "bd197949",
   "metadata": {},
   "outputs": [],
   "source": [
    "# These options help us to inspect our data more easily.\n",
    "pd.set_option(\"display.max_columns\", 85)\n",
    "pd.set_option(\"display.max_rows\", 85)"
   ]
  },
  {
   "cell_type": "code",
   "execution_count": null,
   "id": "2cc3128e",
   "metadata": {},
   "outputs": [],
   "source": [
    "# These commands load the same survey data Corey is using in his video.\n",
    "df = pd.read_csv(\"data/survey_results_public.csv\")\n",
    "schema_df = pd.read_csv(\"data/survey_results_schema.csv\")"
   ]
  },
  {
   "cell_type": "code",
   "execution_count": null,
   "id": "b9c61a6c",
   "metadata": {},
   "outputs": [],
   "source": [
    "# START YOUR CODE HERE.\n"
   ]
  },
  {
   "cell_type": "markdown",
   "id": "1c3fce90",
   "metadata": {},
   "source": [
    "<hr style=\"border:2px solid gray\"> </hr>   \n",
    "   \n",
    "## Practice Tasks  "
   ]
  },
  {
   "cell_type": "code",
   "execution_count": null,
   "id": "5e7aedfc",
   "metadata": {},
   "outputs": [],
   "source": [
    "# Load a clean DataFrame.\n",
    "df = pd.read_csv(\"data/survey_results_public.csv\")"
   ]
  },
  {
   "cell_type": "markdown",
   "id": "9ee4a3a6",
   "metadata": {},
   "source": [
    " #### 1. What are the dimensions of our survey DataFrame? How many rows, how many columns do we have?   \n",
    "<br /> \n",
    "<details>    \n",
    "<summary>\n",
    "    <font size=\"3\" color=\"red\"><b>Hints (click to expand)</b></font>\n",
    "</summary>\n",
    "<p>\n",
    "    <ul>\n",
    "        <li>DataFrames have an attribute shape that contains this information.</li>\n",
    "        <Li>The shape attribute returns a tuple that contains the rows first and the columns second.</li>\n",
    "        <li>Remind yourself how to index tuple elements.</li>\n",
    "    </ul>\n",
    "</p>\n",
    "</details>"
   ]
  },
  {
   "cell_type": "code",
   "execution_count": null,
   "id": "2929d661",
   "metadata": {},
   "outputs": [],
   "source": [
    "# START YOUR CODE HERE.\n",
    "\n",
    "rows = ...\n",
    "columns = ...\n",
    "\n",
    "# END YOUR CODE HERE.\n",
    "\n",
    "print(\"Our survey data has {} rows and {} columns.\".format(rows, columns))"
   ]
  },
  {
   "cell_type": "markdown",
   "id": "2dcbecfe",
   "metadata": {},
   "source": [
    "<details>    \n",
    "<summary>\n",
    "    <font size=\"3\" color=\"darkgreen\"><b>Solution (click to expand)</b></font>\n",
    "</summary>\n",
    "<p>\n",
    "    <code>rows = df.shape[0]</code><br />\n",
    "    <code>columns = df.shape[1]</code><br /><br />\n",
    "    Quickest way: <code>rows, columns = df.shape</code>\n",
    "</p>\n",
    "</details>   \n",
    "   \n",
    "#### 2. Five columns have the datatype float64: Which are those?   \n",
    "<br />\n",
    "<details>    \n",
    "<summary>\n",
    "    <font size=\"3\" color=\"red\"><b>Hints (click to expand)</b></font>\n",
    "</summary>\n",
    "<p>\n",
    "    <ul>\n",
    "        <li>The info-method, which is callable on a DataFrame, returns an output that contains the data type for every column.</li>\n",
    "    </ul>\n",
    "</p>\n",
    "</details>"
   ]
  },
  {
   "cell_type": "code",
   "execution_count": null,
   "id": "d1c11d2d",
   "metadata": {},
   "outputs": [],
   "source": [
    "# START YOUR CODE HERE.\n",
    "\n",
    "# Add the respective column names to this list as strings.\n",
    "float64_columns = []  \n",
    "\n",
    "# END YOUR CODE HERE.\n",
    "\n",
    "print(\"The following columns have the data type float64: \", \" ,\".join(float64_columns))"
   ]
  },
  {
   "cell_type": "markdown",
   "id": "f0c621fb",
   "metadata": {},
   "source": [
    "<details>    \n",
    "<summary>\n",
    "    <font size=\"3\" color=\"darkgreen\"><b>Solution (click to expand)</b></font>\n",
    "</summary>\n",
    "<p>\n",
    "    <code>df.info()</code> yields <em>CompTotal, ConvertedComp, WorkWeekHrs, CodeRevHrs, Age</em><br />\n",
    "    <code>float64_columns = [\"CompTotal\", \"ConvertedComp\", \"WorkWeekHrs\", \"CodeRevHrs\", \"Age\"]</code>\n",
    "</p>\n",
    "</details>   \n",
    "   \n",
    "#### 3. Return the last 10 rows of the survey DataFrame.   \n",
    "<br />\n",
    "<details>    \n",
    "<summary>\n",
    "    <font size=\"3\" color=\"red\"><b>Hints (click to expand)</b></font>\n",
    "</summary>\n",
    "<p>\n",
    "    <ul>\n",
    "        <li>The tail-method, which is callable on a DataFrame, returns the last five rows by default.</li>\n",
    "        <li>Inside the brackets of the method call, one can specify how many rows should be returned.</li>\n",
    "    </ul>\n",
    "</p>\n",
    "</details>"
   ]
  },
  {
   "cell_type": "code",
   "execution_count": null,
   "id": "aa7065fd",
   "metadata": {},
   "outputs": [],
   "source": [
    "# START YOUR CODE HERE.\n",
    "\n",
    "last_10_rows = ...\n",
    "\n",
    "# END YOUR CODE HERE.\n",
    "\n",
    "last_10_rows"
   ]
  },
  {
   "cell_type": "markdown",
   "id": "b78938e0",
   "metadata": {},
   "source": [
    "<details>    \n",
    "<summary>\n",
    "    <font size=\"3\" color=\"darkgreen\"><b>Solution (click to expand)</b></font>\n",
    "</summary>\n",
    "<p>\n",
    "    <code>last_10_rows = df.tail(10)</code>\n",
    "</p>\n",
    "</details>"
   ]
  }
 ],
 "metadata": {
  "kernelspec": {
   "display_name": "Python 3 (ipykernel)",
   "language": "python",
   "name": "python3"
  },
  "language_info": {
   "codemirror_mode": {
    "name": "ipython",
    "version": 3
   },
   "file_extension": ".py",
   "mimetype": "text/x-python",
   "name": "python",
   "nbconvert_exporter": "python",
   "pygments_lexer": "ipython3",
   "version": "3.8.9"
  }
 },
 "nbformat": 4,
 "nbformat_minor": 5
}
