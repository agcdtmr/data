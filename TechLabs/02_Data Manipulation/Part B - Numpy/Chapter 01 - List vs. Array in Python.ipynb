{
 "cells": [
  {
   "cell_type": "code",
   "execution_count": null,
   "id": "b29c306a",
   "metadata": {},
   "outputs": [],
   "source": [
    "# RUN THIS COMMAND ONLY IF YOU USE GOOGLE COLAB.\n",
    "from google.colab import drive\n",
    "drive.mount('/content/drive')"
   ]
  },
  {
   "cell_type": "code",
   "execution_count": null,
   "id": "d611f4fe",
   "metadata": {},
   "outputs": [],
   "source": [
    "# RUN THIS COMMAND ONLY IF YOU USE GOOGLE COLAB.\n",
    "%cd drive/MyDrive/TechLabs/02_Data\\ Manipulation/Part\\ B\\ -\\ Numpy"
   ]
  },
  {
   "cell_type": "code",
   "execution_count": 1,
   "id": "5a1125b9",
   "metadata": {},
   "outputs": [],
   "source": [
    "# ALWAYS IMPORT NUMPY FIRST.\n",
    "import numpy as np"
   ]
  },
  {
   "cell_type": "markdown",
   "id": "5b0b76d6",
   "metadata": {},
   "source": [
    "# Chapter 1 - List vs. Array in Python\n",
    "### Hey Techie,   \n",
    "Welcome to the first notebook of this Numpy tutorial series. We encourage you to take this notebook as a template to code along the instruction video, which you may find at: https://youtu.be/OVD26YMkT_c. Today's video explains the differences between built-in lists in Python and Numpy arrays. In the end, please try to solve the presented tasks. In case you are interested, you find a complete walk through the tasks at: https://youtu.be/mkbgEvUkSaM. \n",
    "\n",
    "#### Have fun! :-)   \n",
    "*Video length in total*: 15 minutes   \n",
    "*Self-study time*: 15 minutes   \n",
    "*Total*: **30 minutes**   \n",
    "#### Credits\n",
    "Complete Python Numpy Tutorial for Beginners, Nate at StrataScratch, https://www.youtube.com/channel/UCW8Ews7tdKKkBT6GdtQaXvQ.\n",
    "<hr style=\"border:2px solid gray\"> </hr>   "
   ]
  },
  {
   "cell_type": "markdown",
   "id": "1a5b1dd1",
   "metadata": {
    "id": "ibxZ9zh3p_vl"
   },
   "source": [
    "# Intro to NumPy (Numerical Python)\n",
    "\n",
    "NumPy is the fundamental package for scientific computing in Python. NumPy is used in many other packages in python even though you may not see it explicitly running in your code.\n",
    "\n",
    "It is a python library that provides a multidimensional array object, various derived objects (such as masked arrays and matrices), and an assortment of routines for fast operations on arrays, including mathematical, logical, shape manipulation, sorting, selecting, I/O, discrete Fourier transforms, basic linear algebra, basic statistical operations, random simulation and much more.\n",
    "\n",
    "NumPy arrays form the core of nearly the entire ecosystem of data science tools in Python, so time spent learning to use NumPy effectively will be valuable no matter what aspect of data science interests you.\n",
    "\n",
    "\n"
   ]
  },
  {
   "cell_type": "markdown",
   "id": "eac3f5a6",
   "metadata": {
    "id": "SdLfj_D9_def"
   },
   "source": [
    "## Lists in Python"
   ]
  },
  {
   "cell_type": "markdown",
   "id": "c7a8fa2d",
   "metadata": {
    "id": "BKR6mg9PNk__"
   },
   "source": [
    "- Natively built into python and doesn't require you to import libraries to use the functionality\n",
    "- Lists are great to store values collectively and retrieve data easily"
   ]
  },
  {
   "cell_type": "markdown",
   "id": "1c9c2eef",
   "metadata": {
    "id": "Cf8RWu39UXmb"
   },
   "source": [
    "#### We can create list of integers"
   ]
  },
  {
   "cell_type": "code",
   "execution_count": 4,
   "id": "bceb28ee",
   "metadata": {
    "id": "6ZgU2qx7NbrG"
   },
   "outputs": [],
   "source": [
    "#manual way of creating lists\n",
    "A = [10, 11, 12, 13, 14]"
   ]
  },
  {
   "cell_type": "code",
   "execution_count": 9,
   "id": "95fd858e",
   "metadata": {
    "colab": {
     "base_uri": "https://localhost:8080/",
     "height": 34
    },
    "executionInfo": {
     "elapsed": 823,
     "status": "ok",
     "timestamp": 1593989676266,
     "user": {
      "displayName": "StrataScratch Team",
      "photoUrl": "https://lh3.googleusercontent.com/a-/AOh14GghyNtlUJCTQS87RuzjOvzgz_p-VEE5c-uWC3xtQm4EjuIBInlRNE7ARfWb1f41-OcfmpToVfwpCNAYkIhp4QXSTza7QVLkYseNKjW4OzFETE2R4-OZudnZDLLjBzqSV3ID01ylIQfYPJdCJjyMrd_c66bY4o0MOO4eEo2tCzyFCk0rmL-prI4iTYLMeRwEaLGSB7HVk18RHMXjYWyFXSQ8acFMG7GAVpXmiuPCKkL_raTAMRKWW5e-dGsCvwdpqOs7IFImnuDCAgjul_gTs2F1OEW4Qn0hjGMNcekbpIGokLuiT4dcZtiIAjLBtxLpzg_gZTi1WiWbO693oWjcmn-vxVdEcxftzCeOVy73R0lQmlpmDU_rcjK5GdDtkF9OnFvwsUXeqUZYOhRR7MwLfXcsxbMkXsGH3Q2f17nWqnNpGLKg6bRGkxiMapjY1BCfpUQHb99akb_8VLVfqqVFcKiHQwG8dP1uiuyHcIVT8UBvvySsczmCCnEKIaRQei5KnApyKVM2LqJ_wA0s4l7mRffzfyuq-vhBgqczfg1_7E43Ba8EB7tI9BStlgQLLQCTEjm2ouvzhwtNHIrnYW6mc3J_RUFvgFn7gpOe3mAhRTd6FOCjVH8a-_w6d_X9ckiUjvyi2QayN4tVUqRyhD5DUm3UjmNhzkkCJ2yvX2HvCLyZvMPq_zUMrABeGmcv-_kTMtKe1kZRNVBYTDbCtNSIFmxIT6fz2lcNX4r9moUMWeLCFzrj2Dw26QpFxJ7wI5ByYQ=s64",
      "userId": "17044389388162035463"
     },
     "user_tz": 420
    },
    "id": "zlCgDA_C_g1a",
    "outputId": "93a0aa39-bb53-4d41-a7bc-a4094055cdf7"
   },
   "outputs": [
    {
     "data": {
      "text/plain": [
       "[0, 1, 2, 3, 4, 5, 6, 7, 8, 9]"
      ]
     },
     "execution_count": 9,
     "metadata": {},
     "output_type": "execute_result"
    }
   ],
   "source": [
    "#create lists using functions\n",
    "L = list(range(0, 10))\n",
    "L"
   ]
  },
  {
   "cell_type": "code",
   "execution_count": 23,
   "id": "08880c25",
   "metadata": {
    "colab": {
     "base_uri": "https://localhost:8080/",
     "height": 34
    },
    "executionInfo": {
     "elapsed": 812,
     "status": "ok",
     "timestamp": 1593989676267,
     "user": {
      "displayName": "StrataScratch Team",
      "photoUrl": "https://lh3.googleusercontent.com/a-/AOh14GghyNtlUJCTQS87RuzjOvzgz_p-VEE5c-uWC3xtQm4EjuIBInlRNE7ARfWb1f41-OcfmpToVfwpCNAYkIhp4QXSTza7QVLkYseNKjW4OzFETE2R4-OZudnZDLLjBzqSV3ID01ylIQfYPJdCJjyMrd_c66bY4o0MOO4eEo2tCzyFCk0rmL-prI4iTYLMeRwEaLGSB7HVk18RHMXjYWyFXSQ8acFMG7GAVpXmiuPCKkL_raTAMRKWW5e-dGsCvwdpqOs7IFImnuDCAgjul_gTs2F1OEW4Qn0hjGMNcekbpIGokLuiT4dcZtiIAjLBtxLpzg_gZTi1WiWbO693oWjcmn-vxVdEcxftzCeOVy73R0lQmlpmDU_rcjK5GdDtkF9OnFvwsUXeqUZYOhRR7MwLfXcsxbMkXsGH3Q2f17nWqnNpGLKg6bRGkxiMapjY1BCfpUQHb99akb_8VLVfqqVFcKiHQwG8dP1uiuyHcIVT8UBvvySsczmCCnEKIaRQei5KnApyKVM2LqJ_wA0s4l7mRffzfyuq-vhBgqczfg1_7E43Ba8EB7tI9BStlgQLLQCTEjm2ouvzhwtNHIrnYW6mc3J_RUFvgFn7gpOe3mAhRTd6FOCjVH8a-_w6d_X9ckiUjvyi2QayN4tVUqRyhD5DUm3UjmNhzkkCJ2yvX2HvCLyZvMPq_zUMrABeGmcv-_kTMtKe1kZRNVBYTDbCtNSIFmxIT6fz2lcNX4r9moUMWeLCFzrj2Dw26QpFxJ7wI5ByYQ=s64",
      "userId": "17044389388162035463"
     },
     "user_tz": 420
    },
    "id": "vguQnAUYWWqS",
    "outputId": "90092a76-10fb-44b0-eb77-448cf2038419"
   },
   "outputs": [
    {
     "data": {
      "text/plain": [
       "int"
      ]
     },
     "execution_count": 23,
     "metadata": {},
     "output_type": "execute_result"
    }
   ],
   "source": [
    "#find the data type of a list\n",
    "type(L[0])"
   ]
  },
  {
   "cell_type": "markdown",
   "id": "70c40a19",
   "metadata": {
    "id": "I2oK-8j0U-2z"
   },
   "source": [
    "#### We can create a list of strings"
   ]
  },
  {
   "cell_type": "code",
   "execution_count": 11,
   "id": "a7177ee1",
   "metadata": {
    "colab": {
     "base_uri": "https://localhost:8080/",
     "height": 34
    },
    "executionInfo": {
     "elapsed": 800,
     "status": "ok",
     "timestamp": 1593989676267,
     "user": {
      "displayName": "StrataScratch Team",
      "photoUrl": "https://lh3.googleusercontent.com/a-/AOh14GghyNtlUJCTQS87RuzjOvzgz_p-VEE5c-uWC3xtQm4EjuIBInlRNE7ARfWb1f41-OcfmpToVfwpCNAYkIhp4QXSTza7QVLkYseNKjW4OzFETE2R4-OZudnZDLLjBzqSV3ID01ylIQfYPJdCJjyMrd_c66bY4o0MOO4eEo2tCzyFCk0rmL-prI4iTYLMeRwEaLGSB7HVk18RHMXjYWyFXSQ8acFMG7GAVpXmiuPCKkL_raTAMRKWW5e-dGsCvwdpqOs7IFImnuDCAgjul_gTs2F1OEW4Qn0hjGMNcekbpIGokLuiT4dcZtiIAjLBtxLpzg_gZTi1WiWbO693oWjcmn-vxVdEcxftzCeOVy73R0lQmlpmDU_rcjK5GdDtkF9OnFvwsUXeqUZYOhRR7MwLfXcsxbMkXsGH3Q2f17nWqnNpGLKg6bRGkxiMapjY1BCfpUQHb99akb_8VLVfqqVFcKiHQwG8dP1uiuyHcIVT8UBvvySsczmCCnEKIaRQei5KnApyKVM2LqJ_wA0s4l7mRffzfyuq-vhBgqczfg1_7E43Ba8EB7tI9BStlgQLLQCTEjm2ouvzhwtNHIrnYW6mc3J_RUFvgFn7gpOe3mAhRTd6FOCjVH8a-_w6d_X9ckiUjvyi2QayN4tVUqRyhD5DUm3UjmNhzkkCJ2yvX2HvCLyZvMPq_zUMrABeGmcv-_kTMtKe1kZRNVBYTDbCtNSIFmxIT6fz2lcNX4r9moUMWeLCFzrj2Dw26QpFxJ7wI5ByYQ=s64",
      "userId": "17044389388162035463"
     },
     "user_tz": 420
    },
    "id": "AgNxHwQGU-lS",
    "outputId": "840d8a17-366c-4d70-cc5e-51b75dbb1bb6"
   },
   "outputs": [
    {
     "data": {
      "text/plain": [
       "['0', '1', '2', '3', '4', '5', '6', '7', '8', '9']"
      ]
     },
     "execution_count": 11,
     "metadata": {},
     "output_type": "execute_result"
    }
   ],
   "source": [
    "L2 = [str(c) for c in L]\n",
    "L2"
   ]
  },
  {
   "cell_type": "code",
   "execution_count": 12,
   "id": "482cbd48",
   "metadata": {
    "colab": {
     "base_uri": "https://localhost:8080/",
     "height": 34
    },
    "executionInfo": {
     "elapsed": 791,
     "status": "ok",
     "timestamp": 1593989676271,
     "user": {
      "displayName": "StrataScratch Team",
      "photoUrl": "https://lh3.googleusercontent.com/a-/AOh14GghyNtlUJCTQS87RuzjOvzgz_p-VEE5c-uWC3xtQm4EjuIBInlRNE7ARfWb1f41-OcfmpToVfwpCNAYkIhp4QXSTza7QVLkYseNKjW4OzFETE2R4-OZudnZDLLjBzqSV3ID01ylIQfYPJdCJjyMrd_c66bY4o0MOO4eEo2tCzyFCk0rmL-prI4iTYLMeRwEaLGSB7HVk18RHMXjYWyFXSQ8acFMG7GAVpXmiuPCKkL_raTAMRKWW5e-dGsCvwdpqOs7IFImnuDCAgjul_gTs2F1OEW4Qn0hjGMNcekbpIGokLuiT4dcZtiIAjLBtxLpzg_gZTi1WiWbO693oWjcmn-vxVdEcxftzCeOVy73R0lQmlpmDU_rcjK5GdDtkF9OnFvwsUXeqUZYOhRR7MwLfXcsxbMkXsGH3Q2f17nWqnNpGLKg6bRGkxiMapjY1BCfpUQHb99akb_8VLVfqqVFcKiHQwG8dP1uiuyHcIVT8UBvvySsczmCCnEKIaRQei5KnApyKVM2LqJ_wA0s4l7mRffzfyuq-vhBgqczfg1_7E43Ba8EB7tI9BStlgQLLQCTEjm2ouvzhwtNHIrnYW6mc3J_RUFvgFn7gpOe3mAhRTd6FOCjVH8a-_w6d_X9ckiUjvyi2QayN4tVUqRyhD5DUm3UjmNhzkkCJ2yvX2HvCLyZvMPq_zUMrABeGmcv-_kTMtKe1kZRNVBYTDbCtNSIFmxIT6fz2lcNX4r9moUMWeLCFzrj2Dw26QpFxJ7wI5ByYQ=s64",
      "userId": "17044389388162035463"
     },
     "user_tz": 420
    },
    "id": "oeELbJdJVGYa",
    "outputId": "538139ce-1499-4360-ecce-4cdc3a86cb6b"
   },
   "outputs": [
    {
     "data": {
      "text/plain": [
       "str"
      ]
     },
     "execution_count": 12,
     "metadata": {},
     "output_type": "execute_result"
    }
   ],
   "source": [
    "type(L2[0])"
   ]
  },
  {
   "cell_type": "markdown",
   "id": "17be51c2",
   "metadata": {
    "id": "QV6VZf_AVL6R"
   },
   "source": [
    "#### We can create heterogeneous lists"
   ]
  },
  {
   "cell_type": "code",
   "execution_count": 13,
   "id": "b8b37e18",
   "metadata": {
    "colab": {
     "base_uri": "https://localhost:8080/",
     "height": 34
    },
    "executionInfo": {
     "elapsed": 782,
     "status": "ok",
     "timestamp": 1593989676272,
     "user": {
      "displayName": "StrataScratch Team",
      "photoUrl": "https://lh3.googleusercontent.com/a-/AOh14GghyNtlUJCTQS87RuzjOvzgz_p-VEE5c-uWC3xtQm4EjuIBInlRNE7ARfWb1f41-OcfmpToVfwpCNAYkIhp4QXSTza7QVLkYseNKjW4OzFETE2R4-OZudnZDLLjBzqSV3ID01ylIQfYPJdCJjyMrd_c66bY4o0MOO4eEo2tCzyFCk0rmL-prI4iTYLMeRwEaLGSB7HVk18RHMXjYWyFXSQ8acFMG7GAVpXmiuPCKkL_raTAMRKWW5e-dGsCvwdpqOs7IFImnuDCAgjul_gTs2F1OEW4Qn0hjGMNcekbpIGokLuiT4dcZtiIAjLBtxLpzg_gZTi1WiWbO693oWjcmn-vxVdEcxftzCeOVy73R0lQmlpmDU_rcjK5GdDtkF9OnFvwsUXeqUZYOhRR7MwLfXcsxbMkXsGH3Q2f17nWqnNpGLKg6bRGkxiMapjY1BCfpUQHb99akb_8VLVfqqVFcKiHQwG8dP1uiuyHcIVT8UBvvySsczmCCnEKIaRQei5KnApyKVM2LqJ_wA0s4l7mRffzfyuq-vhBgqczfg1_7E43Ba8EB7tI9BStlgQLLQCTEjm2ouvzhwtNHIrnYW6mc3J_RUFvgFn7gpOe3mAhRTd6FOCjVH8a-_w6d_X9ckiUjvyi2QayN4tVUqRyhD5DUm3UjmNhzkkCJ2yvX2HvCLyZvMPq_zUMrABeGmcv-_kTMtKe1kZRNVBYTDbCtNSIFmxIT6fz2lcNX4r9moUMWeLCFzrj2Dw26QpFxJ7wI5ByYQ=s64",
      "userId": "17044389388162035463"
     },
     "user_tz": 420
    },
    "id": "IJhdghjhVKZy",
    "outputId": "79e761e2-14ef-4bb3-c6fd-37efcfc71c37"
   },
   "outputs": [
    {
     "data": {
      "text/plain": [
       "[bool, str, float, int]"
      ]
     },
     "execution_count": 13,
     "metadata": {},
     "output_type": "execute_result"
    }
   ],
   "source": [
    "L3 = [True, \"2\", 3.0, 4]\n",
    "[type(item) for item in L3]"
   ]
  },
  {
   "cell_type": "markdown",
   "id": "fdd57620",
   "metadata": {
    "id": "tVjdXQul_g7Z"
   },
   "source": [
    "## Arrays in Python"
   ]
  },
  {
   "cell_type": "markdown",
   "id": "52e8eefe",
   "metadata": {
    "id": "h4HDV8-SN3Iw"
   },
   "source": [
    "What is an array?\n",
    "\n",
    "- An array is a data structure that allows you to store values...like a list\n",
    "\n",
    "How is it different than a list?\n",
    "- An array is more efficient at storing large amounts of data\n",
    "- Easy and simple to perform numerical/math operations"
   ]
  },
  {
   "cell_type": "markdown",
   "id": "66c9524c",
   "metadata": {
    "id": "z55-GuVvXiG2"
   },
   "source": [
    "### Creating Arrays From Python Lists"
   ]
  },
  {
   "cell_type": "markdown",
   "id": "3ec508e5",
   "metadata": {
    "id": "37PNUFmBWksV"
   },
   "source": [
    "#### Use np.array to create arrays from Python lists"
   ]
  },
  {
   "cell_type": "code",
   "execution_count": 14,
   "id": "8167040a",
   "metadata": {
    "colab": {
     "base_uri": "https://localhost:8080/",
     "height": 34
    },
    "executionInfo": {
     "elapsed": 761,
     "status": "ok",
     "timestamp": 1593989676276,
     "user": {
      "displayName": "StrataScratch Team",
      "photoUrl": "https://lh3.googleusercontent.com/a-/AOh14GghyNtlUJCTQS87RuzjOvzgz_p-VEE5c-uWC3xtQm4EjuIBInlRNE7ARfWb1f41-OcfmpToVfwpCNAYkIhp4QXSTza7QVLkYseNKjW4OzFETE2R4-OZudnZDLLjBzqSV3ID01ylIQfYPJdCJjyMrd_c66bY4o0MOO4eEo2tCzyFCk0rmL-prI4iTYLMeRwEaLGSB7HVk18RHMXjYWyFXSQ8acFMG7GAVpXmiuPCKkL_raTAMRKWW5e-dGsCvwdpqOs7IFImnuDCAgjul_gTs2F1OEW4Qn0hjGMNcekbpIGokLuiT4dcZtiIAjLBtxLpzg_gZTi1WiWbO693oWjcmn-vxVdEcxftzCeOVy73R0lQmlpmDU_rcjK5GdDtkF9OnFvwsUXeqUZYOhRR7MwLfXcsxbMkXsGH3Q2f17nWqnNpGLKg6bRGkxiMapjY1BCfpUQHb99akb_8VLVfqqVFcKiHQwG8dP1uiuyHcIVT8UBvvySsczmCCnEKIaRQei5KnApyKVM2LqJ_wA0s4l7mRffzfyuq-vhBgqczfg1_7E43Ba8EB7tI9BStlgQLLQCTEjm2ouvzhwtNHIrnYW6mc3J_RUFvgFn7gpOe3mAhRTd6FOCjVH8a-_w6d_X9ckiUjvyi2QayN4tVUqRyhD5DUm3UjmNhzkkCJ2yvX2HvCLyZvMPq_zUMrABeGmcv-_kTMtKe1kZRNVBYTDbCtNSIFmxIT6fz2lcNX4r9moUMWeLCFzrj2Dw26QpFxJ7wI5ByYQ=s64",
      "userId": "17044389388162035463"
     },
     "user_tz": 420
    },
    "id": "lJORfgKIUmzI",
    "outputId": "465c21d5-e463-412c-f420-89950b936b69"
   },
   "outputs": [
    {
     "data": {
      "text/plain": [
       "array([1, 4, 2, 5, 3])"
      ]
     },
     "execution_count": 14,
     "metadata": {},
     "output_type": "execute_result"
    }
   ],
   "source": [
    "# integer array\n",
    "listA = [1,4,2,5,3]\n",
    "numpyarrayA = np.array(listA)\n",
    "numpyarrayA"
   ]
  },
  {
   "cell_type": "markdown",
   "id": "9e96d0d7",
   "metadata": {
    "id": "wn-CKlYLW2oq"
   },
   "source": [
    "#### Numpy is constrained to arrays that all contain the same type. If the types do not match, NumPy will try to change the data type"
   ]
  },
  {
   "cell_type": "code",
   "execution_count": 30,
   "id": "47516bdd",
   "metadata": {
    "colab": {
     "base_uri": "https://localhost:8080/",
     "height": 34
    },
    "executionInfo": {
     "elapsed": 755,
     "status": "ok",
     "timestamp": 1593989676277,
     "user": {
      "displayName": "StrataScratch Team",
      "photoUrl": "https://lh3.googleusercontent.com/a-/AOh14GghyNtlUJCTQS87RuzjOvzgz_p-VEE5c-uWC3xtQm4EjuIBInlRNE7ARfWb1f41-OcfmpToVfwpCNAYkIhp4QXSTza7QVLkYseNKjW4OzFETE2R4-OZudnZDLLjBzqSV3ID01ylIQfYPJdCJjyMrd_c66bY4o0MOO4eEo2tCzyFCk0rmL-prI4iTYLMeRwEaLGSB7HVk18RHMXjYWyFXSQ8acFMG7GAVpXmiuPCKkL_raTAMRKWW5e-dGsCvwdpqOs7IFImnuDCAgjul_gTs2F1OEW4Qn0hjGMNcekbpIGokLuiT4dcZtiIAjLBtxLpzg_gZTi1WiWbO693oWjcmn-vxVdEcxftzCeOVy73R0lQmlpmDU_rcjK5GdDtkF9OnFvwsUXeqUZYOhRR7MwLfXcsxbMkXsGH3Q2f17nWqnNpGLKg6bRGkxiMapjY1BCfpUQHb99akb_8VLVfqqVFcKiHQwG8dP1uiuyHcIVT8UBvvySsczmCCnEKIaRQei5KnApyKVM2LqJ_wA0s4l7mRffzfyuq-vhBgqczfg1_7E43Ba8EB7tI9BStlgQLLQCTEjm2ouvzhwtNHIrnYW6mc3J_RUFvgFn7gpOe3mAhRTd6FOCjVH8a-_w6d_X9ckiUjvyi2QayN4tVUqRyhD5DUm3UjmNhzkkCJ2yvX2HvCLyZvMPq_zUMrABeGmcv-_kTMtKe1kZRNVBYTDbCtNSIFmxIT6fz2lcNX4r9moUMWeLCFzrj2Dw26QpFxJ7wI5ByYQ=s64",
      "userId": "17044389388162035463"
     },
     "user_tz": 420
    },
    "id": "x-7AhYbC_oCk",
    "outputId": "7e08df35-dce7-42dd-c5c2-ec9bbcffd8da"
   },
   "outputs": [
    {
     "data": {
      "text/plain": [
       "array([3.14, 4.  , 2.  , 3.  ])"
      ]
     },
     "execution_count": 30,
     "metadata": {},
     "output_type": "execute_result"
    }
   ],
   "source": [
    "np.array([3.14, 4, 2, 3])"
   ]
  },
  {
   "cell_type": "markdown",
   "id": "b5a09c40",
   "metadata": {
    "id": "baR3Z_3aXQzg"
   },
   "source": [
    "#### Numpy allows you to make multidimensional arrays using lists of lists"
   ]
  },
  {
   "cell_type": "code",
   "execution_count": 40,
   "id": "41176b04",
   "metadata": {
    "colab": {
     "base_uri": "https://localhost:8080/",
     "height": 34
    },
    "executionInfo": {
     "elapsed": 751,
     "status": "ok",
     "timestamp": 1593989676280,
     "user": {
      "displayName": "StrataScratch Team",
      "photoUrl": "https://lh3.googleusercontent.com/a-/AOh14GghyNtlUJCTQS87RuzjOvzgz_p-VEE5c-uWC3xtQm4EjuIBInlRNE7ARfWb1f41-OcfmpToVfwpCNAYkIhp4QXSTza7QVLkYseNKjW4OzFETE2R4-OZudnZDLLjBzqSV3ID01ylIQfYPJdCJjyMrd_c66bY4o0MOO4eEo2tCzyFCk0rmL-prI4iTYLMeRwEaLGSB7HVk18RHMXjYWyFXSQ8acFMG7GAVpXmiuPCKkL_raTAMRKWW5e-dGsCvwdpqOs7IFImnuDCAgjul_gTs2F1OEW4Qn0hjGMNcekbpIGokLuiT4dcZtiIAjLBtxLpzg_gZTi1WiWbO693oWjcmn-vxVdEcxftzCeOVy73R0lQmlpmDU_rcjK5GdDtkF9OnFvwsUXeqUZYOhRR7MwLfXcsxbMkXsGH3Q2f17nWqnNpGLKg6bRGkxiMapjY1BCfpUQHb99akb_8VLVfqqVFcKiHQwG8dP1uiuyHcIVT8UBvvySsczmCCnEKIaRQei5KnApyKVM2LqJ_wA0s4l7mRffzfyuq-vhBgqczfg1_7E43Ba8EB7tI9BStlgQLLQCTEjm2ouvzhwtNHIrnYW6mc3J_RUFvgFn7gpOe3mAhRTd6FOCjVH8a-_w6d_X9ckiUjvyi2QayN4tVUqRyhD5DUm3UjmNhzkkCJ2yvX2HvCLyZvMPq_zUMrABeGmcv-_kTMtKe1kZRNVBYTDbCtNSIFmxIT6fz2lcNX4r9moUMWeLCFzrj2Dw26QpFxJ7wI5ByYQ=s64",
      "userId": "17044389388162035463"
     },
     "user_tz": 420
    },
    "id": "hmiR6lk6XXj3",
    "outputId": "22032b70-ae3c-4abb-ba1a-1a208828188c"
   },
   "outputs": [
    {
     "name": "stderr",
     "output_type": "stream",
     "text": [
      "/var/folders/wv/4ykr26xn1xz7lvsm_2btgjc00000gn/T/ipykernel_1134/3111710656.py:1: VisibleDeprecationWarning: Creating an ndarray from ragged nested sequences (which is a list-or-tuple of lists-or-tuples-or ndarrays with different lengths or shapes) is deprecated. If you meant to do this, you must specify 'dtype=object' when creating the ndarray.\n",
      "  np.array([[1, 2, 3],\n"
     ]
    },
    {
     "data": {
      "text/plain": [
       "array([list([1, 2, 3]), list([3, 4]), list([3, 3])], dtype=object)"
      ]
     },
     "execution_count": 40,
     "metadata": {},
     "output_type": "execute_result"
    }
   ],
   "source": [
    "np.array([[1, 2, 3], \n",
    "          [3, 4],\n",
    "          [3, 3]])"
   ]
  },
  {
   "cell_type": "markdown",
   "id": "fe7db892",
   "metadata": {},
   "source": [
    "<hr style=\"border:2px solid gray\"> </hr>   \n",
    "\n",
    "## Practice Tasks"
   ]
  },
  {
   "cell_type": "markdown",
   "id": "8c529a5a",
   "metadata": {
    "id": "Cf8RWu39UXmb"
   },
   "source": [
    "#### 1. Create a list containing the values 1, 3, and 5."
   ]
  },
  {
   "cell_type": "code",
   "execution_count": 21,
   "id": "719c5fba",
   "metadata": {
    "id": "zlCgDA_C_g1a"
   },
   "outputs": [
    {
     "data": {
      "text/plain": [
       "[1, 3, 5]"
      ]
     },
     "execution_count": 21,
     "metadata": {},
     "output_type": "execute_result"
    }
   ],
   "source": [
    "# START YOUR CODE HERE.\n",
    "l = [1, 3, 5]\n",
    "l"
   ]
  },
  {
   "cell_type": "markdown",
   "id": "f7305256",
   "metadata": {
    "id": "E7yEOLNuXRyS"
   },
   "source": [
    "<details>    \n",
    "<summary>\n",
    "    <font size=\"3\" color=\"darkgreen\"><b>Solution (click to expand)</b></font>\n",
    "</summary>\n",
    "<p>\n",
    "    <code>[1, 3, 5]</code>\n",
    "</p>\n",
    "</details> \n",
    "\n",
    "#### 2. Create a list containing the values from 0 to 9 using the range function and assign it to *L*."
   ]
  },
  {
   "cell_type": "code",
   "execution_count": 20,
   "id": "6d10d33a",
   "metadata": {
    "id": "He_YAzYQXRy0"
   },
   "outputs": [
    {
     "data": {
      "text/plain": [
       "[0, 1, 2, 3, 4, 5, 6, 7, 8, 9]"
      ]
     },
     "execution_count": 20,
     "metadata": {},
     "output_type": "execute_result"
    }
   ],
   "source": [
    "# START YOUR CODE HERE.\n",
    "l = list(range(10))\n",
    "l"
   ]
  },
  {
   "cell_type": "markdown",
   "id": "b643b627",
   "metadata": {
    "id": "7wf0YJyNXRzJ"
   },
   "source": [
    "<details>    \n",
    "<summary>\n",
    "    <font size=\"3\" color=\"darkgreen\"><b>Solution (click to expand)</b></font>\n",
    "</summary>\n",
    "<p>\n",
    "    <code>L = list(range(10))</code>\n",
    "</p>\n",
    "</details> \n",
    "\n",
    "#### 3. Print the first element from *L*."
   ]
  },
  {
   "cell_type": "code",
   "execution_count": 24,
   "id": "8d289dbb",
   "metadata": {
    "id": "f9KxYYflUnYw"
   },
   "outputs": [
    {
     "name": "stdout",
     "output_type": "stream",
     "text": [
      "1\n"
     ]
    }
   ],
   "source": [
    "# START YOUR CODE HERE.\n",
    "print(l[0])\n"
   ]
  },
  {
   "cell_type": "markdown",
   "id": "eb791c81",
   "metadata": {
    "id": "37PNUFmBWksV"
   },
   "source": [
    "<details>    \n",
    "<summary>\n",
    "    <font size=\"3\" color=\"darkgreen\"><b>Solution (click to expand)</b></font>\n",
    "</summary>\n",
    "<p>\n",
    "    <code>print(L[0])</code>\n",
    "</p>\n",
    "</details> \n",
    "\n",
    "#### 4. Create an array containing the values [5, 4, 3, 2, 1] and store is in *A*."
   ]
  },
  {
   "cell_type": "code",
   "execution_count": 31,
   "id": "d02f4e32",
   "metadata": {
    "id": "lJORfgKIUmzI"
   },
   "outputs": [
    {
     "data": {
      "text/plain": [
       "array([5, 4, 3, 2, 1])"
      ]
     },
     "execution_count": 31,
     "metadata": {},
     "output_type": "execute_result"
    }
   ],
   "source": [
    "# START YOUR CODE HERE.\n",
    "A = ([5,4,3,2,1])\n",
    "numpyarrayA = np.array(A)\n",
    "numpyarrayA"
   ]
  },
  {
   "cell_type": "markdown",
   "id": "7c410ec7",
   "metadata": {
    "id": "wn-CKlYLW2oq"
   },
   "source": [
    "<details>    \n",
    "<summary>\n",
    "    <font size=\"3\" color=\"darkgreen\"><b>Solution (click to expand)</b></font>\n",
    "</summary>\n",
    "<p>\n",
    "    <code>A = np.array([5, 4, 3, 2, 1])</code>\n",
    "</p>\n",
    "</details> \n",
    "\n",
    "#### 5. Print the datatype of array *A*."
   ]
  },
  {
   "cell_type": "code",
   "execution_count": 34,
   "id": "fee1434e",
   "metadata": {
    "id": "x-7AhYbC_oCk"
   },
   "outputs": [
    {
     "data": {
      "text/plain": [
       "dtype('int64')"
      ]
     },
     "execution_count": 34,
     "metadata": {},
     "output_type": "execute_result"
    }
   ],
   "source": [
    "# START YOUR CODE HERE.\n",
    "# type(numpyarrayA)\n",
    "\n",
    "numpyarrayA.dtype"
   ]
  },
  {
   "cell_type": "markdown",
   "id": "e475eaf9",
   "metadata": {
    "id": "KysUGinnXR0E"
   },
   "source": [
    "<details>    \n",
    "<summary>\n",
    "    <font size=\"3\" color=\"darkgreen\"><b>Solution (click to expand)</b></font>\n",
    "</summary>\n",
    "<p>\n",
    "    <code>print(A.dtype)</code>\n",
    "</p>\n",
    "</details> \n",
    "\n",
    "#### 6. What is the expected datatype of this array? Why? Enter the expected datatype between quotation marks"
   ]
  },
  {
   "cell_type": "code",
   "execution_count": 36,
   "id": "cb5b95a9",
   "metadata": {
    "id": "GLLBKq6uXR0G"
   },
   "outputs": [
    {
     "data": {
      "text/plain": [
       "dtype('float64')"
      ]
     },
     "execution_count": 36,
     "metadata": {},
     "output_type": "execute_result"
    }
   ],
   "source": [
    "# A2 = np.array([3.14, 4, 2, 3])\n",
    "# # START YOUR CODE HERE.\n",
    "# A2.dtype == 'float'\n",
    "\n",
    "A2.dtype"
   ]
  },
  {
   "cell_type": "markdown",
   "id": "8707352c",
   "metadata": {
    "id": "baR3Z_3aXQzg"
   },
   "source": [
    "<details>    \n",
    "<summary>\n",
    "    <font size=\"3\" color=\"darkgreen\"><b>Solution (click to expand)</b></font>\n",
    "</summary>\n",
    "<p>\n",
    "    <code>A2.dtype == 'float64'</code>\n",
    "</p>\n",
    "</details> \n",
    "\n",
    "#### 7. For practice reasons, create a multidimesional array from a multidimesional list. "
   ]
  },
  {
   "cell_type": "code",
   "execution_count": 39,
   "id": "8dc1e040",
   "metadata": {
    "id": "hmiR6lk6XXj3"
   },
   "outputs": [
    {
     "data": {
      "text/plain": [
       "array([[1, 2, 3],\n",
       "       [4, 5, 6],\n",
       "       [7, 8, 9]])"
      ]
     },
     "execution_count": 39,
     "metadata": {},
     "output_type": "execute_result"
    }
   ],
   "source": [
    "# START YOUR CODE HERE.\n",
    "\n",
    "np.array([[1,2,3],\n",
    "[4,5,6],\n",
    "[7,8,9]])\n"
   ]
  },
  {
   "cell_type": "markdown",
   "id": "e3e94ac9",
   "metadata": {},
   "source": [
    "<details>    \n",
    "<summary>\n",
    "    <font size=\"3\" color=\"darkgreen\"><b>Solution (click to expand)</b></font>\n",
    "</summary>\n",
    "<p>\n",
    "    <code># EXAMPLE</code><br />\n",
    "    <code>array = np.array([[1, 2], [3, 4], [5, 6]])</code>\n",
    "</p>\n",
    "</details>"
   ]
  }
 ],
 "metadata": {
  "kernelspec": {
   "display_name": "Python 3 (ipykernel)",
   "language": "python",
   "name": "python3"
  },
  "language_info": {
   "codemirror_mode": {
    "name": "ipython",
    "version": 3
   },
   "file_extension": ".py",
   "mimetype": "text/x-python",
   "name": "python",
   "nbconvert_exporter": "python",
   "pygments_lexer": "ipython3",
   "version": "3.9.12"
  }
 },
 "nbformat": 4,
 "nbformat_minor": 5
}
