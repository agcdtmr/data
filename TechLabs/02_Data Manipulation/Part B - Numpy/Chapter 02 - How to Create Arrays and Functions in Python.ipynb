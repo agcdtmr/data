{
 "cells": [
  {
   "cell_type": "code",
   "execution_count": null,
   "id": "b29c306a",
   "metadata": {},
   "outputs": [],
   "source": [
    "# RUN THIS COMMAND ONLY IF YOU USE GOOGLE COLAB.\n",
    "from google.colab import drive\n",
    "drive.mount('/content/drive')"
   ]
  },
  {
   "cell_type": "code",
   "execution_count": null,
   "id": "d611f4fe",
   "metadata": {},
   "outputs": [],
   "source": [
    "# RUN THIS COMMAND ONLY IF YOU USE GOOGLE COLAB.\n",
    "%cd drive/MyDrive/TechLabs/02_Data\\ Manipulation/Part\\ B\\ -\\ Numpy"
   ]
  },
  {
   "cell_type": "code",
   "execution_count": 1,
   "id": "0b04a8c6",
   "metadata": {},
   "outputs": [],
   "source": [
    "# ALWAYS IMPORT NUMPY FIRST.\n",
    "import numpy as np"
   ]
  },
  {
   "cell_type": "markdown",
   "id": "5b0b76d6",
   "metadata": {},
   "source": [
    "# Chapter 2 - How to Create Arrays and Functions in Python\n",
    "### Hey Techie,   \n",
    "Welcome to the second notebook of this Numpy tutorial series. We encourage you to take this notebook as a template to code along the instruction video, which you may find at: https://youtu.be/F5sKh-3V3KA. Today's video explains multiple options on how to create Numpy arrays. In the end, please try to solve the presented tasks. In case you are interested, you find a complete walk through the tasks at: https://youtu.be/yLn52ppKO80. \n",
    "\n",
    "#### Have fun! :-)   \n",
    "*Video length in total*: 15 minutes   \n",
    "*Self-study time*: 15 minutes   \n",
    "*Total*: **30 minutes**   \n",
    "#### Credits\n",
    "Complete Python Numpy Tutorial for Beginners, Nate at StrataScratch, https://www.youtube.com/channel/UCW8Ews7tdKKkBT6GdtQaXvQ.\n",
    "<hr style=\"border:2px solid gray\"> </hr>   "
   ]
  },
  {
   "cell_type": "markdown",
   "id": "356e9554",
   "metadata": {
    "id": "Ea6bZnYZXmS_"
   },
   "source": [
    "### Creating Arrays from Scratch"
   ]
  },
  {
   "cell_type": "markdown",
   "id": "7f39dc79",
   "metadata": {
    "id": "FV8fB0y3XySE"
   },
   "source": [
    "#### Especially for larger arrays, it's more efficient to create arrays from scratch using functions built into NumPy"
   ]
  },
  {
   "cell_type": "code",
   "execution_count": 2,
   "id": "497dd369",
   "metadata": {
    "colab": {
     "base_uri": "https://localhost:8080/",
     "height": 34
    },
    "executionInfo": {
     "elapsed": 749,
     "status": "ok",
     "timestamp": 1593989676286,
     "user": {
      "displayName": "StrataScratch Team",
      "photoUrl": "https://lh3.googleusercontent.com/a-/AOh14GghyNtlUJCTQS87RuzjOvzgz_p-VEE5c-uWC3xtQm4EjuIBInlRNE7ARfWb1f41-OcfmpToVfwpCNAYkIhp4QXSTza7QVLkYseNKjW4OzFETE2R4-OZudnZDLLjBzqSV3ID01ylIQfYPJdCJjyMrd_c66bY4o0MOO4eEo2tCzyFCk0rmL-prI4iTYLMeRwEaLGSB7HVk18RHMXjYWyFXSQ8acFMG7GAVpXmiuPCKkL_raTAMRKWW5e-dGsCvwdpqOs7IFImnuDCAgjul_gTs2F1OEW4Qn0hjGMNcekbpIGokLuiT4dcZtiIAjLBtxLpzg_gZTi1WiWbO693oWjcmn-vxVdEcxftzCeOVy73R0lQmlpmDU_rcjK5GdDtkF9OnFvwsUXeqUZYOhRR7MwLfXcsxbMkXsGH3Q2f17nWqnNpGLKg6bRGkxiMapjY1BCfpUQHb99akb_8VLVfqqVFcKiHQwG8dP1uiuyHcIVT8UBvvySsczmCCnEKIaRQei5KnApyKVM2LqJ_wA0s4l7mRffzfyuq-vhBgqczfg1_7E43Ba8EB7tI9BStlgQLLQCTEjm2ouvzhwtNHIrnYW6mc3J_RUFvgFn7gpOe3mAhRTd6FOCjVH8a-_w6d_X9ckiUjvyi2QayN4tVUqRyhD5DUm3UjmNhzkkCJ2yvX2HvCLyZvMPq_zUMrABeGmcv-_kTMtKe1kZRNVBYTDbCtNSIFmxIT6fz2lcNX4r9moUMWeLCFzrj2Dw26QpFxJ7wI5ByYQ=s64",
      "userId": "17044389388162035463"
     },
     "user_tz": 420
    },
    "id": "9SZ2FDADXpgV",
    "outputId": "35a44689-cd5e-4c53-82e0-15ebc6940d71"
   },
   "outputs": [
    {
     "data": {
      "text/plain": [
       "array([0, 0, 0, 0, 0, 0, 0, 0, 0, 0])"
      ]
     },
     "execution_count": 2,
     "metadata": {},
     "output_type": "execute_result"
    }
   ],
   "source": [
    "# create an integer array with 10 zeros\n",
    "np.zeros(10, dtype=int)"
   ]
  },
  {
   "cell_type": "code",
   "execution_count": 3,
   "id": "ceeaf4ca",
   "metadata": {
    "colab": {
     "base_uri": "https://localhost:8080/",
     "height": 68
    },
    "executionInfo": {
     "elapsed": 740,
     "status": "ok",
     "timestamp": 1593989676287,
     "user": {
      "displayName": "StrataScratch Team",
      "photoUrl": "https://lh3.googleusercontent.com/a-/AOh14GghyNtlUJCTQS87RuzjOvzgz_p-VEE5c-uWC3xtQm4EjuIBInlRNE7ARfWb1f41-OcfmpToVfwpCNAYkIhp4QXSTza7QVLkYseNKjW4OzFETE2R4-OZudnZDLLjBzqSV3ID01ylIQfYPJdCJjyMrd_c66bY4o0MOO4eEo2tCzyFCk0rmL-prI4iTYLMeRwEaLGSB7HVk18RHMXjYWyFXSQ8acFMG7GAVpXmiuPCKkL_raTAMRKWW5e-dGsCvwdpqOs7IFImnuDCAgjul_gTs2F1OEW4Qn0hjGMNcekbpIGokLuiT4dcZtiIAjLBtxLpzg_gZTi1WiWbO693oWjcmn-vxVdEcxftzCeOVy73R0lQmlpmDU_rcjK5GdDtkF9OnFvwsUXeqUZYOhRR7MwLfXcsxbMkXsGH3Q2f17nWqnNpGLKg6bRGkxiMapjY1BCfpUQHb99akb_8VLVfqqVFcKiHQwG8dP1uiuyHcIVT8UBvvySsczmCCnEKIaRQei5KnApyKVM2LqJ_wA0s4l7mRffzfyuq-vhBgqczfg1_7E43Ba8EB7tI9BStlgQLLQCTEjm2ouvzhwtNHIrnYW6mc3J_RUFvgFn7gpOe3mAhRTd6FOCjVH8a-_w6d_X9ckiUjvyi2QayN4tVUqRyhD5DUm3UjmNhzkkCJ2yvX2HvCLyZvMPq_zUMrABeGmcv-_kTMtKe1kZRNVBYTDbCtNSIFmxIT6fz2lcNX4r9moUMWeLCFzrj2Dw26QpFxJ7wI5ByYQ=s64",
      "userId": "17044389388162035463"
     },
     "user_tz": 420
    },
    "id": "hTOZcQ-9Xpit",
    "outputId": "561566c8-9245-4910-899e-31baa0d8b364"
   },
   "outputs": [
    {
     "data": {
      "text/plain": [
       "array([[1., 1., 1., 1., 1.],\n",
       "       [1., 1., 1., 1., 1.],\n",
       "       [1., 1., 1., 1., 1.]])"
      ]
     },
     "execution_count": 3,
     "metadata": {},
     "output_type": "execute_result"
    }
   ],
   "source": [
    "# create a 3x5 float-ing point array filled with 1s\n",
    "np.ones((3,5), dtype=float)"
   ]
  },
  {
   "cell_type": "code",
   "execution_count": 4,
   "id": "fcf83d73",
   "metadata": {
    "colab": {
     "base_uri": "https://localhost:8080/",
     "height": 68
    },
    "executionInfo": {
     "elapsed": 918,
     "status": "ok",
     "timestamp": 1593989676471,
     "user": {
      "displayName": "StrataScratch Team",
      "photoUrl": "https://lh3.googleusercontent.com/a-/AOh14GghyNtlUJCTQS87RuzjOvzgz_p-VEE5c-uWC3xtQm4EjuIBInlRNE7ARfWb1f41-OcfmpToVfwpCNAYkIhp4QXSTza7QVLkYseNKjW4OzFETE2R4-OZudnZDLLjBzqSV3ID01ylIQfYPJdCJjyMrd_c66bY4o0MOO4eEo2tCzyFCk0rmL-prI4iTYLMeRwEaLGSB7HVk18RHMXjYWyFXSQ8acFMG7GAVpXmiuPCKkL_raTAMRKWW5e-dGsCvwdpqOs7IFImnuDCAgjul_gTs2F1OEW4Qn0hjGMNcekbpIGokLuiT4dcZtiIAjLBtxLpzg_gZTi1WiWbO693oWjcmn-vxVdEcxftzCeOVy73R0lQmlpmDU_rcjK5GdDtkF9OnFvwsUXeqUZYOhRR7MwLfXcsxbMkXsGH3Q2f17nWqnNpGLKg6bRGkxiMapjY1BCfpUQHb99akb_8VLVfqqVFcKiHQwG8dP1uiuyHcIVT8UBvvySsczmCCnEKIaRQei5KnApyKVM2LqJ_wA0s4l7mRffzfyuq-vhBgqczfg1_7E43Ba8EB7tI9BStlgQLLQCTEjm2ouvzhwtNHIrnYW6mc3J_RUFvgFn7gpOe3mAhRTd6FOCjVH8a-_w6d_X9ckiUjvyi2QayN4tVUqRyhD5DUm3UjmNhzkkCJ2yvX2HvCLyZvMPq_zUMrABeGmcv-_kTMtKe1kZRNVBYTDbCtNSIFmxIT6fz2lcNX4r9moUMWeLCFzrj2Dw26QpFxJ7wI5ByYQ=s64",
      "userId": "17044389388162035463"
     },
     "user_tz": 420
    },
    "id": "hF9Z27-oXplK",
    "outputId": "42d83af3-533d-471f-a82e-985bf3e0dae7"
   },
   "outputs": [
    {
     "data": {
      "text/plain": [
       "array([[3.14, 3.14, 3.14, 3.14, 3.14],\n",
       "       [3.14, 3.14, 3.14, 3.14, 3.14],\n",
       "       [3.14, 3.14, 3.14, 3.14, 3.14]])"
      ]
     },
     "execution_count": 4,
     "metadata": {},
     "output_type": "execute_result"
    }
   ],
   "source": [
    "# create a 3x5 array filled with 3.14\n",
    "np.full((3,5), 3.14)"
   ]
  },
  {
   "cell_type": "code",
   "execution_count": 7,
   "id": "981c3818",
   "metadata": {
    "colab": {
     "base_uri": "https://localhost:8080/",
     "height": 34
    },
    "executionInfo": {
     "elapsed": 913,
     "status": "ok",
     "timestamp": 1593989676474,
     "user": {
      "displayName": "StrataScratch Team",
      "photoUrl": "https://lh3.googleusercontent.com/a-/AOh14GghyNtlUJCTQS87RuzjOvzgz_p-VEE5c-uWC3xtQm4EjuIBInlRNE7ARfWb1f41-OcfmpToVfwpCNAYkIhp4QXSTza7QVLkYseNKjW4OzFETE2R4-OZudnZDLLjBzqSV3ID01ylIQfYPJdCJjyMrd_c66bY4o0MOO4eEo2tCzyFCk0rmL-prI4iTYLMeRwEaLGSB7HVk18RHMXjYWyFXSQ8acFMG7GAVpXmiuPCKkL_raTAMRKWW5e-dGsCvwdpqOs7IFImnuDCAgjul_gTs2F1OEW4Qn0hjGMNcekbpIGokLuiT4dcZtiIAjLBtxLpzg_gZTi1WiWbO693oWjcmn-vxVdEcxftzCeOVy73R0lQmlpmDU_rcjK5GdDtkF9OnFvwsUXeqUZYOhRR7MwLfXcsxbMkXsGH3Q2f17nWqnNpGLKg6bRGkxiMapjY1BCfpUQHb99akb_8VLVfqqVFcKiHQwG8dP1uiuyHcIVT8UBvvySsczmCCnEKIaRQei5KnApyKVM2LqJ_wA0s4l7mRffzfyuq-vhBgqczfg1_7E43Ba8EB7tI9BStlgQLLQCTEjm2ouvzhwtNHIrnYW6mc3J_RUFvgFn7gpOe3mAhRTd6FOCjVH8a-_w6d_X9ckiUjvyi2QayN4tVUqRyhD5DUm3UjmNhzkkCJ2yvX2HvCLyZvMPq_zUMrABeGmcv-_kTMtKe1kZRNVBYTDbCtNSIFmxIT6fz2lcNX4r9moUMWeLCFzrj2Dw26QpFxJ7wI5ByYQ=s64",
      "userId": "17044389388162035463"
     },
     "user_tz": 420
    },
    "id": "xnQwpisIXpnT",
    "outputId": "f6a56487-ae3b-4dca-ce21-570ac96029a2"
   },
   "outputs": [
    {
     "data": {
      "text/plain": [
       "array([ 0,  2,  4,  6,  8, 10, 12, 14, 16, 18])"
      ]
     },
     "execution_count": 7,
     "metadata": {},
     "output_type": "execute_result"
    }
   ],
   "source": [
    "# create an array filled with a linear sequence\n",
    "# starting at 0, ending at 20, stepping by 2\n",
    "np.arange(0, 20, 2)"
   ]
  },
  {
   "cell_type": "code",
   "execution_count": 11,
   "id": "addaced9",
   "metadata": {
    "colab": {
     "base_uri": "https://localhost:8080/",
     "height": 34
    },
    "executionInfo": {
     "elapsed": 904,
     "status": "ok",
     "timestamp": 1593989676476,
     "user": {
      "displayName": "StrataScratch Team",
      "photoUrl": "https://lh3.googleusercontent.com/a-/AOh14GghyNtlUJCTQS87RuzjOvzgz_p-VEE5c-uWC3xtQm4EjuIBInlRNE7ARfWb1f41-OcfmpToVfwpCNAYkIhp4QXSTza7QVLkYseNKjW4OzFETE2R4-OZudnZDLLjBzqSV3ID01ylIQfYPJdCJjyMrd_c66bY4o0MOO4eEo2tCzyFCk0rmL-prI4iTYLMeRwEaLGSB7HVk18RHMXjYWyFXSQ8acFMG7GAVpXmiuPCKkL_raTAMRKWW5e-dGsCvwdpqOs7IFImnuDCAgjul_gTs2F1OEW4Qn0hjGMNcekbpIGokLuiT4dcZtiIAjLBtxLpzg_gZTi1WiWbO693oWjcmn-vxVdEcxftzCeOVy73R0lQmlpmDU_rcjK5GdDtkF9OnFvwsUXeqUZYOhRR7MwLfXcsxbMkXsGH3Q2f17nWqnNpGLKg6bRGkxiMapjY1BCfpUQHb99akb_8VLVfqqVFcKiHQwG8dP1uiuyHcIVT8UBvvySsczmCCnEKIaRQei5KnApyKVM2LqJ_wA0s4l7mRffzfyuq-vhBgqczfg1_7E43Ba8EB7tI9BStlgQLLQCTEjm2ouvzhwtNHIrnYW6mc3J_RUFvgFn7gpOe3mAhRTd6FOCjVH8a-_w6d_X9ckiUjvyi2QayN4tVUqRyhD5DUm3UjmNhzkkCJ2yvX2HvCLyZvMPq_zUMrABeGmcv-_kTMtKe1kZRNVBYTDbCtNSIFmxIT6fz2lcNX4r9moUMWeLCFzrj2Dw26QpFxJ7wI5ByYQ=s64",
      "userId": "17044389388162035463"
     },
     "user_tz": 420
    },
    "id": "eKeSVZChZnug",
    "outputId": "36f76370-a8ff-4086-d576-bbc16a8abdad"
   },
   "outputs": [
    {
     "data": {
      "text/plain": [
       "array([0.  , 0.25, 0.5 , 0.75, 1.  ])"
      ]
     },
     "execution_count": 11,
     "metadata": {},
     "output_type": "execute_result"
    }
   ],
   "source": [
    "# create an array of five values evenly spaced between 0 and 1\n",
    "np.linspace(0, 1, 5)"
   ]
  },
  {
   "cell_type": "code",
   "execution_count": 41,
   "id": "5998e743",
   "metadata": {
    "colab": {
     "base_uri": "https://localhost:8080/",
     "height": 68
    },
    "executionInfo": {
     "elapsed": 897,
     "status": "ok",
     "timestamp": 1593989676478,
     "user": {
      "displayName": "StrataScratch Team",
      "photoUrl": "https://lh3.googleusercontent.com/a-/AOh14GghyNtlUJCTQS87RuzjOvzgz_p-VEE5c-uWC3xtQm4EjuIBInlRNE7ARfWb1f41-OcfmpToVfwpCNAYkIhp4QXSTza7QVLkYseNKjW4OzFETE2R4-OZudnZDLLjBzqSV3ID01ylIQfYPJdCJjyMrd_c66bY4o0MOO4eEo2tCzyFCk0rmL-prI4iTYLMeRwEaLGSB7HVk18RHMXjYWyFXSQ8acFMG7GAVpXmiuPCKkL_raTAMRKWW5e-dGsCvwdpqOs7IFImnuDCAgjul_gTs2F1OEW4Qn0hjGMNcekbpIGokLuiT4dcZtiIAjLBtxLpzg_gZTi1WiWbO693oWjcmn-vxVdEcxftzCeOVy73R0lQmlpmDU_rcjK5GdDtkF9OnFvwsUXeqUZYOhRR7MwLfXcsxbMkXsGH3Q2f17nWqnNpGLKg6bRGkxiMapjY1BCfpUQHb99akb_8VLVfqqVFcKiHQwG8dP1uiuyHcIVT8UBvvySsczmCCnEKIaRQei5KnApyKVM2LqJ_wA0s4l7mRffzfyuq-vhBgqczfg1_7E43Ba8EB7tI9BStlgQLLQCTEjm2ouvzhwtNHIrnYW6mc3J_RUFvgFn7gpOe3mAhRTd6FOCjVH8a-_w6d_X9ckiUjvyi2QayN4tVUqRyhD5DUm3UjmNhzkkCJ2yvX2HvCLyZvMPq_zUMrABeGmcv-_kTMtKe1kZRNVBYTDbCtNSIFmxIT6fz2lcNX4r9moUMWeLCFzrj2Dw26QpFxJ7wI5ByYQ=s64",
      "userId": "17044389388162035463"
     },
     "user_tz": 420
    },
    "id": "YNrI5UTiZxP5",
    "outputId": "e6c981ae-e84b-4d2c-f395-0ea3763ae9ae"
   },
   "outputs": [
    {
     "data": {
      "text/plain": [
       "array([[0.73381868, 0.66216088, 0.51966618],\n",
       "       [0.39593776, 0.76721399, 0.23385694],\n",
       "       [0.87244599, 0.44721538, 0.62469623]])"
      ]
     },
     "execution_count": 41,
     "metadata": {},
     "output_type": "execute_result"
    }
   ],
   "source": [
    "# create a 3x3 array of uniformly distributed random values between 0 and 1\n",
    "np.random.random((3,3))"
   ]
  },
  {
   "cell_type": "code",
   "execution_count": 40,
   "id": "3281dd02",
   "metadata": {
    "colab": {
     "base_uri": "https://localhost:8080/",
     "height": 68
    },
    "executionInfo": {
     "elapsed": 886,
     "status": "ok",
     "timestamp": 1593989676480,
     "user": {
      "displayName": "StrataScratch Team",
      "photoUrl": "https://lh3.googleusercontent.com/a-/AOh14GghyNtlUJCTQS87RuzjOvzgz_p-VEE5c-uWC3xtQm4EjuIBInlRNE7ARfWb1f41-OcfmpToVfwpCNAYkIhp4QXSTza7QVLkYseNKjW4OzFETE2R4-OZudnZDLLjBzqSV3ID01ylIQfYPJdCJjyMrd_c66bY4o0MOO4eEo2tCzyFCk0rmL-prI4iTYLMeRwEaLGSB7HVk18RHMXjYWyFXSQ8acFMG7GAVpXmiuPCKkL_raTAMRKWW5e-dGsCvwdpqOs7IFImnuDCAgjul_gTs2F1OEW4Qn0hjGMNcekbpIGokLuiT4dcZtiIAjLBtxLpzg_gZTi1WiWbO693oWjcmn-vxVdEcxftzCeOVy73R0lQmlpmDU_rcjK5GdDtkF9OnFvwsUXeqUZYOhRR7MwLfXcsxbMkXsGH3Q2f17nWqnNpGLKg6bRGkxiMapjY1BCfpUQHb99akb_8VLVfqqVFcKiHQwG8dP1uiuyHcIVT8UBvvySsczmCCnEKIaRQei5KnApyKVM2LqJ_wA0s4l7mRffzfyuq-vhBgqczfg1_7E43Ba8EB7tI9BStlgQLLQCTEjm2ouvzhwtNHIrnYW6mc3J_RUFvgFn7gpOe3mAhRTd6FOCjVH8a-_w6d_X9ckiUjvyi2QayN4tVUqRyhD5DUm3UjmNhzkkCJ2yvX2HvCLyZvMPq_zUMrABeGmcv-_kTMtKe1kZRNVBYTDbCtNSIFmxIT6fz2lcNX4r9moUMWeLCFzrj2Dw26QpFxJ7wI5ByYQ=s64",
      "userId": "17044389388162035463"
     },
     "user_tz": 420
    },
    "id": "xeG1VgFCZ-Ay",
    "outputId": "7fda2f6c-f4b0-4e4f-f19b-5e6c000c70f7"
   },
   "outputs": [
    {
     "data": {
      "text/plain": [
       "array([[-0.81743972,  0.72503321,  0.8552119 ],\n",
       "       [-0.38783319,  1.12707775, -1.04664932],\n",
       "       [ 2.12733058, -0.91116093, -0.03586414]])"
      ]
     },
     "execution_count": 40,
     "metadata": {},
     "output_type": "execute_result"
    }
   ],
   "source": [
    "# create a 3x3 array of normally distributed random values\n",
    "# with mean 0 and standard deviation 1\n",
    "# np.random.normal(mean,std,array size)\n",
    "\n",
    "np.random.normal(0, 1, (3, 3))"
   ]
  },
  {
   "cell_type": "code",
   "execution_count": 55,
   "id": "ed3b0a0e",
   "metadata": {
    "colab": {
     "base_uri": "https://localhost:8080/",
     "height": 68
    },
    "executionInfo": {
     "elapsed": 879,
     "status": "ok",
     "timestamp": 1593989676482,
     "user": {
      "displayName": "StrataScratch Team",
      "photoUrl": "https://lh3.googleusercontent.com/a-/AOh14GghyNtlUJCTQS87RuzjOvzgz_p-VEE5c-uWC3xtQm4EjuIBInlRNE7ARfWb1f41-OcfmpToVfwpCNAYkIhp4QXSTza7QVLkYseNKjW4OzFETE2R4-OZudnZDLLjBzqSV3ID01ylIQfYPJdCJjyMrd_c66bY4o0MOO4eEo2tCzyFCk0rmL-prI4iTYLMeRwEaLGSB7HVk18RHMXjYWyFXSQ8acFMG7GAVpXmiuPCKkL_raTAMRKWW5e-dGsCvwdpqOs7IFImnuDCAgjul_gTs2F1OEW4Qn0hjGMNcekbpIGokLuiT4dcZtiIAjLBtxLpzg_gZTi1WiWbO693oWjcmn-vxVdEcxftzCeOVy73R0lQmlpmDU_rcjK5GdDtkF9OnFvwsUXeqUZYOhRR7MwLfXcsxbMkXsGH3Q2f17nWqnNpGLKg6bRGkxiMapjY1BCfpUQHb99akb_8VLVfqqVFcKiHQwG8dP1uiuyHcIVT8UBvvySsczmCCnEKIaRQei5KnApyKVM2LqJ_wA0s4l7mRffzfyuq-vhBgqczfg1_7E43Ba8EB7tI9BStlgQLLQCTEjm2ouvzhwtNHIrnYW6mc3J_RUFvgFn7gpOe3mAhRTd6FOCjVH8a-_w6d_X9ckiUjvyi2QayN4tVUqRyhD5DUm3UjmNhzkkCJ2yvX2HvCLyZvMPq_zUMrABeGmcv-_kTMtKe1kZRNVBYTDbCtNSIFmxIT6fz2lcNX4r9moUMWeLCFzrj2Dw26QpFxJ7wI5ByYQ=s64",
      "userId": "17044389388162035463"
     },
     "user_tz": 420
    },
    "id": "LWEpGXNNZ-Dv",
    "outputId": "d0b0954a-26b4-41e1-d0c6-b2c5b0eb3e02"
   },
   "outputs": [
    {
     "data": {
      "text/plain": [
       "array([[2, 6, 2],\n",
       "       [5, 0, 6],\n",
       "       [0, 9, 9]])"
      ]
     },
     "execution_count": 55,
     "metadata": {},
     "output_type": "execute_result"
    }
   ],
   "source": [
    "# create a 3x3 array of random integers in the interval [0, 10)\n",
    "# np.random.randint(start value, stop value, array size)\n",
    "np.random.randint(0, 10, (3,3))"
   ]
  },
  {
   "cell_type": "code",
   "execution_count": 106,
   "id": "4dfe259b",
   "metadata": {
    "colab": {
     "base_uri": "https://localhost:8080/",
     "height": 102
    },
    "executionInfo": {
     "elapsed": 872,
     "status": "ok",
     "timestamp": 1593989676484,
     "user": {
      "displayName": "StrataScratch Team",
      "photoUrl": "https://lh3.googleusercontent.com/a-/AOh14GghyNtlUJCTQS87RuzjOvzgz_p-VEE5c-uWC3xtQm4EjuIBInlRNE7ARfWb1f41-OcfmpToVfwpCNAYkIhp4QXSTza7QVLkYseNKjW4OzFETE2R4-OZudnZDLLjBzqSV3ID01ylIQfYPJdCJjyMrd_c66bY4o0MOO4eEo2tCzyFCk0rmL-prI4iTYLMeRwEaLGSB7HVk18RHMXjYWyFXSQ8acFMG7GAVpXmiuPCKkL_raTAMRKWW5e-dGsCvwdpqOs7IFImnuDCAgjul_gTs2F1OEW4Qn0hjGMNcekbpIGokLuiT4dcZtiIAjLBtxLpzg_gZTi1WiWbO693oWjcmn-vxVdEcxftzCeOVy73R0lQmlpmDU_rcjK5GdDtkF9OnFvwsUXeqUZYOhRR7MwLfXcsxbMkXsGH3Q2f17nWqnNpGLKg6bRGkxiMapjY1BCfpUQHb99akb_8VLVfqqVFcKiHQwG8dP1uiuyHcIVT8UBvvySsczmCCnEKIaRQei5KnApyKVM2LqJ_wA0s4l7mRffzfyuq-vhBgqczfg1_7E43Ba8EB7tI9BStlgQLLQCTEjm2ouvzhwtNHIrnYW6mc3J_RUFvgFn7gpOe3mAhRTd6FOCjVH8a-_w6d_X9ckiUjvyi2QayN4tVUqRyhD5DUm3UjmNhzkkCJ2yvX2HvCLyZvMPq_zUMrABeGmcv-_kTMtKe1kZRNVBYTDbCtNSIFmxIT6fz2lcNX4r9moUMWeLCFzrj2Dw26QpFxJ7wI5ByYQ=s64",
      "userId": "17044389388162035463"
     },
     "user_tz": 420
    },
    "id": "Kxr1cNnmajaR",
    "outputId": "c1c14804-5fcd-4a22-fa4d-78e9d1904fb0"
   },
   "outputs": [
    {
     "data": {
      "text/plain": [
       "array([[1., 0., 0.],\n",
       "       [0., 1., 0.],\n",
       "       [0., 0., 1.]])"
      ]
     },
     "execution_count": 106,
     "metadata": {},
     "output_type": "execute_result"
    }
   ],
   "source": [
    "# create a 3x3 identity matrix\n",
    "np.eye(3)"
   ]
  },
  {
   "cell_type": "code",
   "execution_count": 63,
   "id": "43ac313c",
   "metadata": {
    "colab": {
     "base_uri": "https://localhost:8080/",
     "height": 34
    },
    "executionInfo": {
     "elapsed": 865,
     "status": "ok",
     "timestamp": 1593989676485,
     "user": {
      "displayName": "StrataScratch Team",
      "photoUrl": "https://lh3.googleusercontent.com/a-/AOh14GghyNtlUJCTQS87RuzjOvzgz_p-VEE5c-uWC3xtQm4EjuIBInlRNE7ARfWb1f41-OcfmpToVfwpCNAYkIhp4QXSTza7QVLkYseNKjW4OzFETE2R4-OZudnZDLLjBzqSV3ID01ylIQfYPJdCJjyMrd_c66bY4o0MOO4eEo2tCzyFCk0rmL-prI4iTYLMeRwEaLGSB7HVk18RHMXjYWyFXSQ8acFMG7GAVpXmiuPCKkL_raTAMRKWW5e-dGsCvwdpqOs7IFImnuDCAgjul_gTs2F1OEW4Qn0hjGMNcekbpIGokLuiT4dcZtiIAjLBtxLpzg_gZTi1WiWbO693oWjcmn-vxVdEcxftzCeOVy73R0lQmlpmDU_rcjK5GdDtkF9OnFvwsUXeqUZYOhRR7MwLfXcsxbMkXsGH3Q2f17nWqnNpGLKg6bRGkxiMapjY1BCfpUQHb99akb_8VLVfqqVFcKiHQwG8dP1uiuyHcIVT8UBvvySsczmCCnEKIaRQei5KnApyKVM2LqJ_wA0s4l7mRffzfyuq-vhBgqczfg1_7E43Ba8EB7tI9BStlgQLLQCTEjm2ouvzhwtNHIrnYW6mc3J_RUFvgFn7gpOe3mAhRTd6FOCjVH8a-_w6d_X9ckiUjvyi2QayN4tVUqRyhD5DUm3UjmNhzkkCJ2yvX2HvCLyZvMPq_zUMrABeGmcv-_kTMtKe1kZRNVBYTDbCtNSIFmxIT6fz2lcNX4r9moUMWeLCFzrj2Dw26QpFxJ7wI5ByYQ=s64",
      "userId": "17044389388162035463"
     },
     "user_tz": 420
    },
    "id": "a-U8npvTajdo",
    "outputId": "686600e5-0aae-472a-ae6e-6b9c24b20e1e"
   },
   "outputs": [
    {
     "data": {
      "text/plain": [
       "array([3., 2., 1.])"
      ]
     },
     "execution_count": 63,
     "metadata": {},
     "output_type": "execute_result"
    }
   ],
   "source": [
    "# create an uninitialized array of three integers\n",
    "# the values will be whatever happens to already exist at that memory location\n",
    "np.empty(3)"
   ]
  },
  {
   "cell_type": "markdown",
   "id": "e2d28aec",
   "metadata": {
    "id": "feQeb3ofc5YN"
   },
   "source": [
    "## NumPy Standard Data Types\n",
    "\n",
    "NumPy arrays contain values of a single type, so it is important to have detailed knowledge of those types and their limitations.\n",
    "Because NumPy is built in C, the types will be familiar to users of C, Fortran, and other related languages.\n",
    "\n",
    "The standard NumPy data types are listed in the following table.\n",
    "Note that when constructing an array, they can be specified using a string:\n",
    "\n",
    "```python\n",
    "np.zeros(10, dtype='int16')\n",
    "```\n",
    "\n",
    "Or using the associated NumPy object:\n",
    "\n",
    "```python\n",
    "np.zeros(10, dtype=np.int16)\n",
    "```"
   ]
  },
  {
   "cell_type": "code",
   "execution_count": 65,
   "id": "7c1ccf0f",
   "metadata": {
    "colab": {
     "base_uri": "https://localhost:8080/",
     "height": 34
    },
    "executionInfo": {
     "elapsed": 854,
     "status": "ok",
     "timestamp": 1593989676486,
     "user": {
      "displayName": "StrataScratch Team",
      "photoUrl": "https://lh3.googleusercontent.com/a-/AOh14GghyNtlUJCTQS87RuzjOvzgz_p-VEE5c-uWC3xtQm4EjuIBInlRNE7ARfWb1f41-OcfmpToVfwpCNAYkIhp4QXSTza7QVLkYseNKjW4OzFETE2R4-OZudnZDLLjBzqSV3ID01ylIQfYPJdCJjyMrd_c66bY4o0MOO4eEo2tCzyFCk0rmL-prI4iTYLMeRwEaLGSB7HVk18RHMXjYWyFXSQ8acFMG7GAVpXmiuPCKkL_raTAMRKWW5e-dGsCvwdpqOs7IFImnuDCAgjul_gTs2F1OEW4Qn0hjGMNcekbpIGokLuiT4dcZtiIAjLBtxLpzg_gZTi1WiWbO693oWjcmn-vxVdEcxftzCeOVy73R0lQmlpmDU_rcjK5GdDtkF9OnFvwsUXeqUZYOhRR7MwLfXcsxbMkXsGH3Q2f17nWqnNpGLKg6bRGkxiMapjY1BCfpUQHb99akb_8VLVfqqVFcKiHQwG8dP1uiuyHcIVT8UBvvySsczmCCnEKIaRQei5KnApyKVM2LqJ_wA0s4l7mRffzfyuq-vhBgqczfg1_7E43Ba8EB7tI9BStlgQLLQCTEjm2ouvzhwtNHIrnYW6mc3J_RUFvgFn7gpOe3mAhRTd6FOCjVH8a-_w6d_X9ckiUjvyi2QayN4tVUqRyhD5DUm3UjmNhzkkCJ2yvX2HvCLyZvMPq_zUMrABeGmcv-_kTMtKe1kZRNVBYTDbCtNSIFmxIT6fz2lcNX4r9moUMWeLCFzrj2Dw26QpFxJ7wI5ByYQ=s64",
      "userId": "17044389388162035463"
     },
     "user_tz": 420
    },
    "id": "JNxLLBGUiL2H",
    "outputId": "ca0306fc-99b5-4f42-bd5e-588abf967cfb"
   },
   "outputs": [
    {
     "data": {
      "text/plain": [
       "array([0, 0, 0, 0, 0, 0, 0, 0, 0, 0], dtype=int16)"
      ]
     },
     "execution_count": 65,
     "metadata": {},
     "output_type": "execute_result"
    }
   ],
   "source": [
    "a = np.zeros(10, dtype='int16')\n",
    "a"
   ]
  },
  {
   "cell_type": "code",
   "execution_count": null,
   "id": "1c09076e",
   "metadata": {
    "colab": {
     "base_uri": "https://localhost:8080/",
     "height": 34
    },
    "executionInfo": {
     "elapsed": 851,
     "status": "ok",
     "timestamp": 1593989676489,
     "user": {
      "displayName": "StrataScratch Team",
      "photoUrl": "https://lh3.googleusercontent.com/a-/AOh14GghyNtlUJCTQS87RuzjOvzgz_p-VEE5c-uWC3xtQm4EjuIBInlRNE7ARfWb1f41-OcfmpToVfwpCNAYkIhp4QXSTza7QVLkYseNKjW4OzFETE2R4-OZudnZDLLjBzqSV3ID01ylIQfYPJdCJjyMrd_c66bY4o0MOO4eEo2tCzyFCk0rmL-prI4iTYLMeRwEaLGSB7HVk18RHMXjYWyFXSQ8acFMG7GAVpXmiuPCKkL_raTAMRKWW5e-dGsCvwdpqOs7IFImnuDCAgjul_gTs2F1OEW4Qn0hjGMNcekbpIGokLuiT4dcZtiIAjLBtxLpzg_gZTi1WiWbO693oWjcmn-vxVdEcxftzCeOVy73R0lQmlpmDU_rcjK5GdDtkF9OnFvwsUXeqUZYOhRR7MwLfXcsxbMkXsGH3Q2f17nWqnNpGLKg6bRGkxiMapjY1BCfpUQHb99akb_8VLVfqqVFcKiHQwG8dP1uiuyHcIVT8UBvvySsczmCCnEKIaRQei5KnApyKVM2LqJ_wA0s4l7mRffzfyuq-vhBgqczfg1_7E43Ba8EB7tI9BStlgQLLQCTEjm2ouvzhwtNHIrnYW6mc3J_RUFvgFn7gpOe3mAhRTd6FOCjVH8a-_w6d_X9ckiUjvyi2QayN4tVUqRyhD5DUm3UjmNhzkkCJ2yvX2HvCLyZvMPq_zUMrABeGmcv-_kTMtKe1kZRNVBYTDbCtNSIFmxIT6fz2lcNX4r9moUMWeLCFzrj2Dw26QpFxJ7wI5ByYQ=s64",
      "userId": "17044389388162035463"
     },
     "user_tz": 420
    },
    "id": "GvRTE-spiQ07",
    "outputId": "607b2870-b271-43d1-fdc0-38d869bb5ba4"
   },
   "outputs": [],
   "source": [
    "a.dtype"
   ]
  },
  {
   "cell_type": "markdown",
   "id": "c4fabdda",
   "metadata": {
    "id": "uNycGTzEc7BI"
   },
   "source": [
    "| Data type\t    | Description |\n",
    "|---------------|-------------|\n",
    "| ``bool_``     | Boolean (True or False) stored as a byte |\n",
    "| ``int_``      | Default integer type (same as C ``long``; normally either ``int64`` or ``int32``)| \n",
    "| ``intc``      | Identical to C ``int`` (normally ``int32`` or ``int64``)| \n",
    "| ``intp``      | Integer used for indexing (same as C ``ssize_t``; normally either ``int32`` or ``int64``)| \n",
    "| ``int8``      | Byte (-128 to 127)| \n",
    "| ``int16``     | Integer (-32768 to 32767)|\n",
    "| ``int32``     | Integer (-2147483648 to 2147483647)|\n",
    "| ``int64``     | Integer (-9223372036854775808 to 9223372036854775807)| \n",
    "| ``uint8``     | Unsigned integer (0 to 255)| \n",
    "| ``uint16``    | Unsigned integer (0 to 65535)| \n",
    "| ``uint32``    | Unsigned integer (0 to 4294967295)| \n",
    "| ``uint64``    | Unsigned integer (0 to 18446744073709551615)| \n",
    "| ``float_``    | Shorthand for ``float64``.| \n",
    "| ``float16``   | Half precision float: sign bit, 5 bits exponent, 10 bits mantissa| \n",
    "| ``float32``   | Single precision float: sign bit, 8 bits exponent, 23 bits mantissa| \n",
    "| ``float64``   | Double precision float: sign bit, 11 bits exponent, 52 bits mantissa| \n",
    "| ``complex_``  | Shorthand for ``complex128``.| \n",
    "| ``complex64`` | Complex number, represented by two 32-bit floats| \n",
    "| ``complex128``| Complex number, represented by two 64-bit floats| "
   ]
  },
  {
   "cell_type": "markdown",
   "id": "fe7db892",
   "metadata": {},
   "source": [
    "<hr style=\"border:2px solid gray\"> </hr>   \n",
    "\n",
    "## Practice Tasks"
   ]
  },
  {
   "cell_type": "markdown",
   "id": "60bcbdf7",
   "metadata": {
    "id": "5oDROiTUXR0U"
   },
   "source": [
    "#### 1. Create an integer array with 100 ones."
   ]
  },
  {
   "cell_type": "code",
   "execution_count": 69,
   "id": "bceb7957",
   "metadata": {
    "id": "9SZ2FDADXpgV"
   },
   "outputs": [
    {
     "data": {
      "text/plain": [
       "array([1, 1, 1, 1, 1, 1, 1, 1, 1, 1, 1, 1, 1, 1, 1, 1, 1, 1, 1, 1, 1, 1,\n",
       "       1, 1, 1, 1, 1, 1, 1, 1, 1, 1, 1, 1, 1, 1, 1, 1, 1, 1, 1, 1, 1, 1,\n",
       "       1, 1, 1, 1, 1, 1, 1, 1, 1, 1, 1, 1, 1, 1, 1, 1, 1, 1, 1, 1, 1, 1,\n",
       "       1, 1, 1, 1, 1, 1, 1, 1, 1, 1, 1, 1, 1, 1, 1, 1, 1, 1, 1, 1, 1, 1,\n",
       "       1, 1, 1, 1, 1, 1, 1, 1, 1, 1, 1, 1])"
      ]
     },
     "execution_count": 69,
     "metadata": {},
     "output_type": "execute_result"
    }
   ],
   "source": [
    "import numpy as np\n",
    "\n",
    "# START YOUR CODE HERE.\n",
    "np.ones(100, dtype='int')"
   ]
  },
  {
   "cell_type": "markdown",
   "id": "b4e18ec6",
   "metadata": {
    "id": "dXAEoe_UXR0a"
   },
   "source": [
    "<details>    \n",
    "<summary>\n",
    "    <font size=\"3\" color=\"darkgreen\"><b>Solution (click to expand)</b></font>\n",
    "</summary>\n",
    "<p>\n",
    "    <code>np.ones(100)</code><br />\n",
    "</p>\n",
    "</details>\n",
    "\n",
    "#### 2. Create a (4, 3) float array filled with zeros."
   ]
  },
  {
   "cell_type": "code",
   "execution_count": 71,
   "id": "2f31260e",
   "metadata": {},
   "outputs": [
    {
     "data": {
      "text/plain": [
       "array([[0., 0., 0.],\n",
       "       [0., 0., 0.],\n",
       "       [0., 0., 0.],\n",
       "       [0., 0., 0.]])"
      ]
     },
     "execution_count": 71,
     "metadata": {},
     "output_type": "execute_result"
    }
   ],
   "source": [
    "import numpy as np\n",
    "\n",
    "# START YOUR CODE HERE.\n",
    "np.zeros((4,3))"
   ]
  },
  {
   "cell_type": "markdown",
   "id": "26e9a20e",
   "metadata": {
    "id": "6AS1UcxFXR0j"
   },
   "source": [
    "<details>    \n",
    "<summary>\n",
    "    <font size=\"3\" color=\"darkgreen\"><b>Solution (click to expand)</b></font>\n",
    "</summary>\n",
    "<p>\n",
    "    <code>np.zeros((4, 3), dtype = \"float64\")</code><br />\n",
    "</p>\n",
    "</details>\n",
    "\n",
    "#### 3. Create a (5, 2) array filled with 6.28."
   ]
  },
  {
   "cell_type": "code",
   "execution_count": 72,
   "id": "99b48e7e",
   "metadata": {
    "id": "hF9Z27-oXplK"
   },
   "outputs": [
    {
     "data": {
      "text/plain": [
       "array([[6.28, 6.28],\n",
       "       [6.28, 6.28],\n",
       "       [6.28, 6.28],\n",
       "       [6.28, 6.28],\n",
       "       [6.28, 6.28]])"
      ]
     },
     "execution_count": 72,
     "metadata": {},
     "output_type": "execute_result"
    }
   ],
   "source": [
    "import numpy as np\n",
    "\n",
    "# START YOUR CODE HERE.\n",
    "\n",
    "np.full((5,2), 6.28)"
   ]
  },
  {
   "cell_type": "markdown",
   "id": "82b45e50",
   "metadata": {
    "id": "8vsyVk0xXR0q"
   },
   "source": [
    "<details>    \n",
    "<summary>\n",
    "    <font size=\"3\" color=\"darkgreen\"><b>Solution (click to expand)</b></font>\n",
    "</summary>\n",
    "<p>\n",
    "    <code>np.full((5, 2), 6.28)</code><br />\n",
    "</p>\n",
    "</details>\n",
    "\n",
    "#### 4. Create an array filled with a linear sequence, started at 0, ending at 30, stepping by 3."
   ]
  },
  {
   "cell_type": "code",
   "execution_count": 76,
   "id": "170f1ac7",
   "metadata": {},
   "outputs": [
    {
     "data": {
      "text/plain": [
       "array([ 0,  3,  6,  9, 12, 15, 18, 21, 24, 27, 30])"
      ]
     },
     "execution_count": 76,
     "metadata": {},
     "output_type": "execute_result"
    }
   ],
   "source": [
    "# START YOUR CODE HERE.\n",
    "\n",
    "np.arange(0, 33, 3)"
   ]
  },
  {
   "cell_type": "markdown",
   "id": "c1f7732d",
   "metadata": {
    "id": "AZ0-gvJKXR0y"
   },
   "source": [
    "<details>    \n",
    "<summary>\n",
    "    <font size=\"3\" color=\"darkgreen\"><b>Solution (click to expand)</b></font>\n",
    "</summary>\n",
    "<p>\n",
    "    <code>np.array(range(0, 31, 3))</code><br />\n",
    "</p>\n",
    "</details>\n",
    "\n",
    "#### 5. Create an array of 9 evenly  spaced values between 0 and 64 inclusive."
   ]
  },
  {
   "cell_type": "code",
   "execution_count": 77,
   "id": "8a2c4dd0",
   "metadata": {},
   "outputs": [
    {
     "data": {
      "text/plain": [
       "array([ 0.,  8., 16., 24., 32., 40., 48., 56., 64.])"
      ]
     },
     "execution_count": 77,
     "metadata": {},
     "output_type": "execute_result"
    }
   ],
   "source": [
    "# START YOUR CODE HERE.\n",
    "\n",
    "np.linspace(0,64,9)"
   ]
  },
  {
   "cell_type": "markdown",
   "id": "61d75189",
   "metadata": {
    "id": "DFubsB-gXR05"
   },
   "source": [
    "<details>    \n",
    "<summary>\n",
    "    <font size=\"3\" color=\"darkgreen\"><b>Solution (click to expand)</b></font>\n",
    "</summary>\n",
    "<p>\n",
    "    <code>np.linspace(0, 64, 9)</code><br />\n",
    "</p>\n",
    "</details>\n",
    "\n",
    "\n",
    "#### 6. Create a (5, 2) array of uniformaly distributed random values between 0 and 1."
   ]
  },
  {
   "cell_type": "code",
   "execution_count": 80,
   "id": "bac70e1c",
   "metadata": {
    "id": "YNrI5UTiZxP5"
   },
   "outputs": [
    {
     "data": {
      "text/plain": [
       "array([[0.92624454, 0.12997526],\n",
       "       [0.97267474, 0.64072785],\n",
       "       [0.97922791, 0.06505471],\n",
       "       [0.22796173, 0.40275629],\n",
       "       [0.95262043, 0.29132866]])"
      ]
     },
     "execution_count": 80,
     "metadata": {},
     "output_type": "execute_result"
    }
   ],
   "source": [
    "# START YOUR CODE HERE.\n",
    "\n",
    "np.random.random((5,2))"
   ]
  },
  {
   "cell_type": "markdown",
   "id": "d22ec0e0",
   "metadata": {
    "id": "Y16kNpnFXR1C"
   },
   "source": [
    "<details>    \n",
    "<summary>\n",
    "    <font size=\"3\" color=\"darkgreen\"><b>Solution (click to expand)</b></font>\n",
    "</summary>\n",
    "<p>\n",
    "    <code>np.random.random((5, 2))</code><br />\n",
    "</p>\n",
    "</details>\n",
    "\n",
    "#### 7. Create an array of 10 random integers in the interval [0, 5]."
   ]
  },
  {
   "cell_type": "code",
   "execution_count": 108,
   "id": "bcd798e4",
   "metadata": {
    "id": "LWEpGXNNZ-Dv"
   },
   "outputs": [
    {
     "data": {
      "text/plain": [
       "array([5, 4, 2, 0, 2, 0, 1, 5, 5, 0])"
      ]
     },
     "execution_count": 108,
     "metadata": {},
     "output_type": "execute_result"
    }
   ],
   "source": [
    "import numpy as np\n",
    "\n",
    "\n",
    "# START YOUR CODE HERE.\n",
    "# [0, 5] includes 5\n",
    "# (0, 5) exclues 5\n",
    "\n",
    "\n",
    "np.random.randint(0, 6, 10)"
   ]
  },
  {
   "cell_type": "markdown",
   "id": "42e98b30",
   "metadata": {
    "id": "t40-aqSqXR1N"
   },
   "source": [
    "<details>    \n",
    "<summary>\n",
    "    <font size=\"3\" color=\"darkgreen\"><b>Solution (click to expand)</b></font>\n",
    "</summary>\n",
    "<p>\n",
    "    <code>np.random.randint(0, 6, 10)</code><br />\n",
    "</p>\n",
    "</details>\n",
    "\n",
    "#### 8. Create a (4, 4) identity matrix."
   ]
  },
  {
   "cell_type": "code",
   "execution_count": 116,
   "id": "980ebed5",
   "metadata": {
    "id": "Kxr1cNnmajaR"
   },
   "outputs": [
    {
     "data": {
      "text/plain": [
       "array([[1., 0., 0., 0.],\n",
       "       [0., 1., 0., 0.],\n",
       "       [0., 0., 1., 0.],\n",
       "       [0., 0., 0., 1.]])"
      ]
     },
     "execution_count": 116,
     "metadata": {},
     "output_type": "execute_result"
    }
   ],
   "source": [
    "# START YOUR CODE HERE.\n",
    "\n",
    "np.eye(4)"
   ]
  },
  {
   "cell_type": "markdown",
   "id": "d8d6b532",
   "metadata": {},
   "source": [
    "<details>    \n",
    "<summary>\n",
    "    <font size=\"3\" color=\"darkgreen\"><b>Solution (click to expand)</b></font>\n",
    "</summary>\n",
    "<p>\n",
    "    <code>np.eye(4)</code><br />\n",
    "</p>\n",
    "</details>"
   ]
  }
 ],
 "metadata": {
  "kernelspec": {
   "display_name": "Python 3 (ipykernel)",
   "language": "python",
   "name": "python3"
  },
  "language_info": {
   "codemirror_mode": {
    "name": "ipython",
    "version": 3
   },
   "file_extension": ".py",
   "mimetype": "text/x-python",
   "name": "python",
   "nbconvert_exporter": "python",
   "pygments_lexer": "ipython3",
   "version": "3.9.12"
  }
 },
 "nbformat": 4,
 "nbformat_minor": 5
}
