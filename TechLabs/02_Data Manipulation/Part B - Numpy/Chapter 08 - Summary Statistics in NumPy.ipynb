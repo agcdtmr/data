{
 "cells": [
  {
   "cell_type": "code",
   "execution_count": null,
   "id": "b29c306a",
   "metadata": {},
   "outputs": [],
   "source": [
    "# RUN THIS COMMAND ONLY IF YOU USE GOOGLE COLAB.\n",
    "from google.colab import drive\n",
    "drive.mount('/content/drive')"
   ]
  },
  {
   "cell_type": "code",
   "execution_count": null,
   "id": "d611f4fe",
   "metadata": {},
   "outputs": [],
   "source": [
    "# RUN THIS COMMAND ONLY IF YOU USE GOOGLE COLAB.\n",
    "%cd drive/MyDrive/TechLabs/02_Data\\ Manipulation/Part\\ B\\ -\\ Numpy"
   ]
  },
  {
   "cell_type": "code",
   "execution_count": null,
   "id": "5a1125b9",
   "metadata": {},
   "outputs": [],
   "source": [
    "# ALWAYS IMPORT NUMPY FIRST.\n",
    "import numpy as np"
   ]
  },
  {
   "cell_type": "markdown",
   "id": "5b0b76d6",
   "metadata": {},
   "source": [
    "# Chapter 8 - Summary Statistics in NumPy\n",
    "### Hey Techie,   \n",
    "Welcome to the eigth notebook of this Numpy tutorial series. We encourage you to take this notebook as a template to code along the instruction video, which you may find at: https://youtu.be/gZGGexOyL9M (*until 7:16 min*). Today's video explains how to calculate different statistical measures for Numpy arrays. In the end, please try to solve the presented tasks. In case you are interested, you find a complete walk through the tasks at: https://youtu.be/ceJ4lVXN0T8 (*until 6:49 min*). \n",
    "\n",
    "#### Have fun! :-)   \n",
    "*Video length in total*: 8 minutes   \n",
    "*Self-study time*: 8 minutes   \n",
    "*Total*: **16 minutes**   \n",
    "#### Credits\n",
    "Complete Python Numpy Tutorial for Beginners, Nate at StrataScratch, https://www.youtube.com/channel/UCW8Ews7tdKKkBT6GdtQaXvQ.\n",
    "<hr style=\"border:2px solid gray\"> </hr>   "
   ]
  },
  {
   "cell_type": "markdown",
   "id": "f839f188",
   "metadata": {
    "colab_type": "text",
    "id": "n8GMBzxVi6Zb"
   },
   "source": [
    "# Aggregations: Min, Max, and Everything In Between"
   ]
  },
  {
   "cell_type": "markdown",
   "id": "f0b43851",
   "metadata": {
    "colab_type": "text",
    "id": "hX7niuHai6Zc"
   },
   "source": [
    "Often when faced with a large amount of data, a first step is to compute summary statistics for the data in question.\n",
    "Perhaps the most common summary statistics are the mean and standard deviation, which allow you to summarize the \"typical\" values in a dataset, but other aggregates are useful as well (the sum, product, median, minimum and maximum, quantiles, etc.).\n",
    "\n",
    "NumPy has fast built-in aggregation functions for working on arrays; we'll discuss and demonstrate some of them here."
   ]
  },
  {
   "cell_type": "markdown",
   "id": "43087fce",
   "metadata": {
    "colab_type": "text",
    "id": "iiuuE8z6i6Zp"
   },
   "source": [
    "## Minimum and Maximum\n",
    "\n",
    "Similarly, Python has built-in ``min`` and ``max`` functions, used to find the minimum value and maximum value of any given array:"
   ]
  },
  {
   "cell_type": "code",
   "execution_count": null,
   "id": "21f5c9e9",
   "metadata": {
    "colab": {},
    "colab_type": "code",
    "id": "t7Xx6CRQpdP0"
   },
   "outputs": [],
   "source": [
    "big_array = np.random.rand(1000000)"
   ]
  },
  {
   "cell_type": "markdown",
   "id": "542070d3",
   "metadata": {
    "colab_type": "text",
    "id": "7sRLY_DUi6Zs"
   },
   "source": [
    "NumPy's corresponding functions have similar syntax, and again operate much more quickly:"
   ]
  },
  {
   "cell_type": "code",
   "execution_count": null,
   "id": "b63582d1",
   "metadata": {
    "colab": {
     "base_uri": "https://localhost:8080/",
     "height": 34
    },
    "colab_type": "code",
    "executionInfo": {
     "elapsed": 1187,
     "status": "ok",
     "timestamp": 1589650482760,
     "user": {
      "displayName": "Strata Scratch",
      "photoUrl": "https://lh3.googleusercontent.com/a-/AOh14GiMlP7og4BhLjdQaGkhP09NX7ydojYCTiLijLzIROGnMj_EDVCI7GOfqQUqMbP7CarbjEKPcCGap2bbd2ENZ9b-6rjmJtIoP2sn7JI3sId-uewsOejWoFqsFMxKMujg3AS0l4R18fvIIxXpTiIUkW5AODjfGLfFqzg4HjtMQrO8MtPOqARZjsEkAqSKtuxBkjojORaURr5yMQC8RpzGNL-Q3YLhnRrGzteyxarPcCC-9UqyYn2doXTmTXTctHNrF_L6iTfxCd_HkZCS18iu8bfv2fIYqtvY6LXLCgf6QlR_62ocI7E6ltaekqN5bslN0n4FENSAl8aSwtVTnhzn8SJE3lUPI6vuTqqwz8VOY5z8jPNxHc2XxpVkj-mXm0arTzoYMBen2PJnXOC_a0Y2k2OVije7PDngzTEAeobZuvtOkHotD4l_GxaNV7z9XhgTSNVnhD-iYIMgxCrxBPtf3J48XKsUOP5UGap44fiNw2SeoIej2aFnOX_um-rvpHquFWVy1UjV9E7MIkI3PrHEDZtKiYTK-EieG7s6VIlJ17Sy7pQxnmR-dD62ob5AHkCuSIJT75wwMX5aZI53-Q7O1LuQE_xoNU3ZSOD2GqqI415s2od2CzU0INXSdUpk4DltggkdM6jluT4Sl1i6T8clQfwpI4O3XYU_4LTppYD3SZphm4jIf4qcXB5q3KQjuJGD1bGc6a8TrFOpyqStCmT_pO8p-zqRQx35ZdQJFmNfgVb8zvRIXjNpGXOxCFUems7Ylg=s64",
      "userId": "17044389388162035463"
     },
     "user_tz": 420
    },
    "id": "BP0V9fHCi6Zs",
    "outputId": "9c1f30f9-c6a2-4228-866b-95641b639b01"
   },
   "outputs": [],
   "source": [
    "np.min(big_array), np.max(big_array)"
   ]
  },
  {
   "cell_type": "markdown",
   "id": "3675be98",
   "metadata": {
    "colab_type": "text",
    "id": "dk5t-1bQi6Zy"
   },
   "source": [
    "For ``min``, ``max``, ``sum``, and several other NumPy aggregates, a shorter syntax is to use methods of the array object itself:"
   ]
  },
  {
   "cell_type": "code",
   "execution_count": null,
   "id": "17c9c5be",
   "metadata": {
    "colab": {
     "base_uri": "https://localhost:8080/",
     "height": 34
    },
    "colab_type": "code",
    "executionInfo": {
     "elapsed": 1181,
     "status": "ok",
     "timestamp": 1589650482760,
     "user": {
      "displayName": "Strata Scratch",
      "photoUrl": "https://lh3.googleusercontent.com/a-/AOh14GiMlP7og4BhLjdQaGkhP09NX7ydojYCTiLijLzIROGnMj_EDVCI7GOfqQUqMbP7CarbjEKPcCGap2bbd2ENZ9b-6rjmJtIoP2sn7JI3sId-uewsOejWoFqsFMxKMujg3AS0l4R18fvIIxXpTiIUkW5AODjfGLfFqzg4HjtMQrO8MtPOqARZjsEkAqSKtuxBkjojORaURr5yMQC8RpzGNL-Q3YLhnRrGzteyxarPcCC-9UqyYn2doXTmTXTctHNrF_L6iTfxCd_HkZCS18iu8bfv2fIYqtvY6LXLCgf6QlR_62ocI7E6ltaekqN5bslN0n4FENSAl8aSwtVTnhzn8SJE3lUPI6vuTqqwz8VOY5z8jPNxHc2XxpVkj-mXm0arTzoYMBen2PJnXOC_a0Y2k2OVije7PDngzTEAeobZuvtOkHotD4l_GxaNV7z9XhgTSNVnhD-iYIMgxCrxBPtf3J48XKsUOP5UGap44fiNw2SeoIej2aFnOX_um-rvpHquFWVy1UjV9E7MIkI3PrHEDZtKiYTK-EieG7s6VIlJ17Sy7pQxnmR-dD62ob5AHkCuSIJT75wwMX5aZI53-Q7O1LuQE_xoNU3ZSOD2GqqI415s2od2CzU0INXSdUpk4DltggkdM6jluT4Sl1i6T8clQfwpI4O3XYU_4LTppYD3SZphm4jIf4qcXB5q3KQjuJGD1bGc6a8TrFOpyqStCmT_pO8p-zqRQx35ZdQJFmNfgVb8zvRIXjNpGXOxCFUems7Ylg=s64",
      "userId": "17044389388162035463"
     },
     "user_tz": 420
    },
    "id": "2qx5z7H3i6Zy",
    "outputId": "cd7a3750-b340-4c40-b059-2a5743891c57"
   },
   "outputs": [],
   "source": [
    "print(big_array.min(), big_array.max(), big_array.sum())"
   ]
  },
  {
   "cell_type": "markdown",
   "id": "11da131d",
   "metadata": {
    "colab_type": "text",
    "id": "EigHxKpui6Z1"
   },
   "source": [
    "### Multi dimensional aggregates\n",
    "\n",
    "One common type of aggregation operation is an aggregate along a row or column.\n",
    "Say you have some data stored in a two-dimensional array:"
   ]
  },
  {
   "cell_type": "code",
   "execution_count": null,
   "id": "34cabd28",
   "metadata": {
    "colab": {
     "base_uri": "https://localhost:8080/",
     "height": 68
    },
    "colab_type": "code",
    "executionInfo": {
     "elapsed": 1175,
     "status": "ok",
     "timestamp": 1589650482761,
     "user": {
      "displayName": "Strata Scratch",
      "photoUrl": "https://lh3.googleusercontent.com/a-/AOh14GiMlP7og4BhLjdQaGkhP09NX7ydojYCTiLijLzIROGnMj_EDVCI7GOfqQUqMbP7CarbjEKPcCGap2bbd2ENZ9b-6rjmJtIoP2sn7JI3sId-uewsOejWoFqsFMxKMujg3AS0l4R18fvIIxXpTiIUkW5AODjfGLfFqzg4HjtMQrO8MtPOqARZjsEkAqSKtuxBkjojORaURr5yMQC8RpzGNL-Q3YLhnRrGzteyxarPcCC-9UqyYn2doXTmTXTctHNrF_L6iTfxCd_HkZCS18iu8bfv2fIYqtvY6LXLCgf6QlR_62ocI7E6ltaekqN5bslN0n4FENSAl8aSwtVTnhzn8SJE3lUPI6vuTqqwz8VOY5z8jPNxHc2XxpVkj-mXm0arTzoYMBen2PJnXOC_a0Y2k2OVije7PDngzTEAeobZuvtOkHotD4l_GxaNV7z9XhgTSNVnhD-iYIMgxCrxBPtf3J48XKsUOP5UGap44fiNw2SeoIej2aFnOX_um-rvpHquFWVy1UjV9E7MIkI3PrHEDZtKiYTK-EieG7s6VIlJ17Sy7pQxnmR-dD62ob5AHkCuSIJT75wwMX5aZI53-Q7O1LuQE_xoNU3ZSOD2GqqI415s2od2CzU0INXSdUpk4DltggkdM6jluT4Sl1i6T8clQfwpI4O3XYU_4LTppYD3SZphm4jIf4qcXB5q3KQjuJGD1bGc6a8TrFOpyqStCmT_pO8p-zqRQx35ZdQJFmNfgVb8zvRIXjNpGXOxCFUems7Ylg=s64",
      "userId": "17044389388162035463"
     },
     "user_tz": 420
    },
    "id": "91jChFHwi6Z1",
    "outputId": "105dd1f3-9482-4dbd-ac2d-9d6b3ae289d6"
   },
   "outputs": [],
   "source": [
    "M = np.random.random((3, 4))\n",
    "print(M)"
   ]
  },
  {
   "cell_type": "markdown",
   "id": "afab092b",
   "metadata": {
    "colab_type": "text",
    "id": "WNMd6vqBi6Z3"
   },
   "source": [
    "By default, each NumPy aggregation function will return the aggregate over the entire array:"
   ]
  },
  {
   "cell_type": "code",
   "execution_count": null,
   "id": "21797cc0",
   "metadata": {
    "colab": {
     "base_uri": "https://localhost:8080/",
     "height": 34
    },
    "colab_type": "code",
    "executionInfo": {
     "elapsed": 1169,
     "status": "ok",
     "timestamp": 1589650482761,
     "user": {
      "displayName": "Strata Scratch",
      "photoUrl": "https://lh3.googleusercontent.com/a-/AOh14GiMlP7og4BhLjdQaGkhP09NX7ydojYCTiLijLzIROGnMj_EDVCI7GOfqQUqMbP7CarbjEKPcCGap2bbd2ENZ9b-6rjmJtIoP2sn7JI3sId-uewsOejWoFqsFMxKMujg3AS0l4R18fvIIxXpTiIUkW5AODjfGLfFqzg4HjtMQrO8MtPOqARZjsEkAqSKtuxBkjojORaURr5yMQC8RpzGNL-Q3YLhnRrGzteyxarPcCC-9UqyYn2doXTmTXTctHNrF_L6iTfxCd_HkZCS18iu8bfv2fIYqtvY6LXLCgf6QlR_62ocI7E6ltaekqN5bslN0n4FENSAl8aSwtVTnhzn8SJE3lUPI6vuTqqwz8VOY5z8jPNxHc2XxpVkj-mXm0arTzoYMBen2PJnXOC_a0Y2k2OVije7PDngzTEAeobZuvtOkHotD4l_GxaNV7z9XhgTSNVnhD-iYIMgxCrxBPtf3J48XKsUOP5UGap44fiNw2SeoIej2aFnOX_um-rvpHquFWVy1UjV9E7MIkI3PrHEDZtKiYTK-EieG7s6VIlJ17Sy7pQxnmR-dD62ob5AHkCuSIJT75wwMX5aZI53-Q7O1LuQE_xoNU3ZSOD2GqqI415s2od2CzU0INXSdUpk4DltggkdM6jluT4Sl1i6T8clQfwpI4O3XYU_4LTppYD3SZphm4jIf4qcXB5q3KQjuJGD1bGc6a8TrFOpyqStCmT_pO8p-zqRQx35ZdQJFmNfgVb8zvRIXjNpGXOxCFUems7Ylg=s64",
      "userId": "17044389388162035463"
     },
     "user_tz": 420
    },
    "id": "nd1UbwmTi6Z4",
    "outputId": "66aaaea2-0461-42e8-f50d-ccca63fcd6b3"
   },
   "outputs": [],
   "source": [
    "M.sum()"
   ]
  },
  {
   "cell_type": "markdown",
   "id": "f80712a6",
   "metadata": {
    "colab_type": "text",
    "id": "kYvdcG5pi6Z6"
   },
   "source": [
    "Aggregation functions take an additional argument specifying the *axis* along which the aggregate is computed. For example, we can find the minimum value within each column by specifying ``axis=0``:"
   ]
  },
  {
   "cell_type": "code",
   "execution_count": null,
   "id": "e862d8d7",
   "metadata": {
    "colab": {
     "base_uri": "https://localhost:8080/",
     "height": 34
    },
    "colab_type": "code",
    "executionInfo": {
     "elapsed": 1164,
     "status": "ok",
     "timestamp": 1589650482762,
     "user": {
      "displayName": "Strata Scratch",
      "photoUrl": "https://lh3.googleusercontent.com/a-/AOh14GiMlP7og4BhLjdQaGkhP09NX7ydojYCTiLijLzIROGnMj_EDVCI7GOfqQUqMbP7CarbjEKPcCGap2bbd2ENZ9b-6rjmJtIoP2sn7JI3sId-uewsOejWoFqsFMxKMujg3AS0l4R18fvIIxXpTiIUkW5AODjfGLfFqzg4HjtMQrO8MtPOqARZjsEkAqSKtuxBkjojORaURr5yMQC8RpzGNL-Q3YLhnRrGzteyxarPcCC-9UqyYn2doXTmTXTctHNrF_L6iTfxCd_HkZCS18iu8bfv2fIYqtvY6LXLCgf6QlR_62ocI7E6ltaekqN5bslN0n4FENSAl8aSwtVTnhzn8SJE3lUPI6vuTqqwz8VOY5z8jPNxHc2XxpVkj-mXm0arTzoYMBen2PJnXOC_a0Y2k2OVije7PDngzTEAeobZuvtOkHotD4l_GxaNV7z9XhgTSNVnhD-iYIMgxCrxBPtf3J48XKsUOP5UGap44fiNw2SeoIej2aFnOX_um-rvpHquFWVy1UjV9E7MIkI3PrHEDZtKiYTK-EieG7s6VIlJ17Sy7pQxnmR-dD62ob5AHkCuSIJT75wwMX5aZI53-Q7O1LuQE_xoNU3ZSOD2GqqI415s2od2CzU0INXSdUpk4DltggkdM6jluT4Sl1i6T8clQfwpI4O3XYU_4LTppYD3SZphm4jIf4qcXB5q3KQjuJGD1bGc6a8TrFOpyqStCmT_pO8p-zqRQx35ZdQJFmNfgVb8zvRIXjNpGXOxCFUems7Ylg=s64",
      "userId": "17044389388162035463"
     },
     "user_tz": 420
    },
    "id": "HuoW0YVqi6Z7",
    "outputId": "2fa50635-b623-44b5-a136-b7427c49218d"
   },
   "outputs": [],
   "source": [
    "M.min(axis=0)"
   ]
  },
  {
   "cell_type": "markdown",
   "id": "97a5b16e",
   "metadata": {
    "colab_type": "text",
    "id": "ML71HDNWi6Z-"
   },
   "source": [
    "The function returns four values, corresponding to the four columns of numbers.\n",
    "\n",
    "Similarly, we can find the maximum value within each row:"
   ]
  },
  {
   "cell_type": "code",
   "execution_count": null,
   "id": "d408b874",
   "metadata": {
    "colab": {
     "base_uri": "https://localhost:8080/",
     "height": 34
    },
    "colab_type": "code",
    "executionInfo": {
     "elapsed": 1157,
     "status": "ok",
     "timestamp": 1589650482762,
     "user": {
      "displayName": "Strata Scratch",
      "photoUrl": "https://lh3.googleusercontent.com/a-/AOh14GiMlP7og4BhLjdQaGkhP09NX7ydojYCTiLijLzIROGnMj_EDVCI7GOfqQUqMbP7CarbjEKPcCGap2bbd2ENZ9b-6rjmJtIoP2sn7JI3sId-uewsOejWoFqsFMxKMujg3AS0l4R18fvIIxXpTiIUkW5AODjfGLfFqzg4HjtMQrO8MtPOqARZjsEkAqSKtuxBkjojORaURr5yMQC8RpzGNL-Q3YLhnRrGzteyxarPcCC-9UqyYn2doXTmTXTctHNrF_L6iTfxCd_HkZCS18iu8bfv2fIYqtvY6LXLCgf6QlR_62ocI7E6ltaekqN5bslN0n4FENSAl8aSwtVTnhzn8SJE3lUPI6vuTqqwz8VOY5z8jPNxHc2XxpVkj-mXm0arTzoYMBen2PJnXOC_a0Y2k2OVije7PDngzTEAeobZuvtOkHotD4l_GxaNV7z9XhgTSNVnhD-iYIMgxCrxBPtf3J48XKsUOP5UGap44fiNw2SeoIej2aFnOX_um-rvpHquFWVy1UjV9E7MIkI3PrHEDZtKiYTK-EieG7s6VIlJ17Sy7pQxnmR-dD62ob5AHkCuSIJT75wwMX5aZI53-Q7O1LuQE_xoNU3ZSOD2GqqI415s2od2CzU0INXSdUpk4DltggkdM6jluT4Sl1i6T8clQfwpI4O3XYU_4LTppYD3SZphm4jIf4qcXB5q3KQjuJGD1bGc6a8TrFOpyqStCmT_pO8p-zqRQx35ZdQJFmNfgVb8zvRIXjNpGXOxCFUems7Ylg=s64",
      "userId": "17044389388162035463"
     },
     "user_tz": 420
    },
    "id": "0bO18mufi6Z_",
    "outputId": "ba5ff162-08a3-4e10-a312-0ff431bcd0d2"
   },
   "outputs": [],
   "source": [
    "M.max(axis=1)"
   ]
  },
  {
   "cell_type": "markdown",
   "id": "a6e38bda",
   "metadata": {
    "colab_type": "text",
    "id": "Ki8Kaqt2i6aB"
   },
   "source": [
    "The way the axis is specified here can be confusing to users coming from other languages.\n",
    "The ``axis`` keyword specifies the *dimension of the array that will be collapsed*, rather than the dimension that will be returned.\n",
    "So specifying ``axis=0`` means that the first axis will be collapsed: for two-dimensional arrays, this means that values within each column will be aggregated."
   ]
  },
  {
   "cell_type": "markdown",
   "id": "d6bcfdfe",
   "metadata": {
    "colab_type": "text",
    "id": "6rlEI5zBi6aD"
   },
   "source": [
    "### Other aggregation functions\n",
    "\n",
    "NumPy provides many other aggregation functions, but we won't discuss them in detail here.\n",
    "Additionally, most aggregates have a ``NaN``-safe counterpart that computes the result while ignoring missing values, which are marked by the special IEEE floating-point ``NaN`` value.\n",
    "Some of these ``NaN``-safe functions were not added until NumPy 1.8, so they will not be available in older NumPy versions.\n",
    "\n",
    "The following table provides a list of useful aggregation functions available in NumPy:\n",
    "\n",
    "|Function Name      |   NaN-safe Version  | Description                                   |\n",
    "|-------------------|---------------------|-----------------------------------------------|\n",
    "| ``np.sum``        | ``np.nansum``       | Compute sum of elements                       |\n",
    "| ``np.prod``       | ``np.nanprod``      | Compute product of elements                   |\n",
    "| ``np.mean``       | ``np.nanmean``      | Compute mean of elements                      |\n",
    "| ``np.std``        | ``np.nanstd``       | Compute standard deviation                    |\n",
    "| ``np.var``        | ``np.nanvar``       | Compute variance                              |\n",
    "| ``np.min``        | ``np.nanmin``       | Find minimum value                            |\n",
    "| ``np.max``        | ``np.nanmax``       | Find maximum value                            |\n",
    "| ``np.argmin``     | ``np.nanargmin``    | Find index of minimum value                   |\n",
    "| ``np.argmax``     | ``np.nanargmax``    | Find index of maximum value                   |\n",
    "| ``np.median``     | ``np.nanmedian``    | Compute median of elements                    |\n",
    "| ``np.percentile`` | ``np.nanpercentile``| Compute rank-based statistics of elements     |\n",
    "| ``np.any``        | N/A                 | Evaluate whether any elements are true        |\n",
    "| ``np.all``        | N/A                 | Evaluate whether all elements are true        |\n",
    "\n",
    "We will see these aggregates often throughout the rest of the book."
   ]
  },
  {
   "cell_type": "markdown",
   "id": "fe7db892",
   "metadata": {},
   "source": [
    "<hr style=\"border:2px solid gray\"> </hr>   \n",
    "\n",
    "## Practice Tasks\n",
    "#### 1. Print the min and max values of big_data."
   ]
  },
  {
   "cell_type": "code",
   "execution_count": null,
   "id": "95d5239f",
   "metadata": {
    "colab": {},
    "colab_type": "code",
    "id": "BP0V9fHCi6Zs"
   },
   "outputs": [],
   "source": [
    "np.random.seed(1)  # seed for reproducibility\n",
    "big_data = np.random.rand(1000000)\n",
    "# INSERT CODE BELOW.\n",
    "print(\"Max value:\", )\n",
    "print(\"Min value:\", )"
   ]
  },
  {
   "cell_type": "markdown",
   "id": "583e747c",
   "metadata": {
    "colab_type": "text",
    "id": "dk5t-1bQi6Zy"
   },
   "source": [
    "<details>    \n",
    "<summary>\n",
    "    <font size=\"3\" color=\"darkgreen\"><b>Solution (click to expand)</b></font>\n",
    "</summary>\n",
    "<p>\n",
    "    <code>print(\"Max value:\", big_data.max())</code><br />\n",
    "    <code>print(\"Min value:\", big_data.min())</code>\n",
    "</p>\n",
    "</details>\n",
    "\n",
    "#### 2. Print the sum of the elements of big_data."
   ]
  },
  {
   "cell_type": "code",
   "execution_count": null,
   "id": "6d69a791",
   "metadata": {
    "colab": {},
    "colab_type": "code",
    "id": "2qx5z7H3i6Zy"
   },
   "outputs": [],
   "source": [
    "# INSERT CODE BELOW.\n",
    "print(\"Sum:\", )"
   ]
  },
  {
   "cell_type": "markdown",
   "id": "684021f9",
   "metadata": {
    "colab_type": "text",
    "id": "kYvdcG5pi6Z6"
   },
   "source": [
    "<details>    \n",
    "<summary>\n",
    "    <font size=\"3\" color=\"darkgreen\"><b>Solution (click to expand)</b></font>\n",
    "</summary>\n",
    "<p>\n",
    "    <code>print(\"Sum:\", big_data.sum())</code><br />\n",
    "</p>\n",
    "</details>\n",
    "\n",
    "#### 3. Print the minimum value of each column of x."
   ]
  },
  {
   "cell_type": "code",
   "execution_count": null,
   "id": "00237722",
   "metadata": {
    "colab": {},
    "colab_type": "code",
    "id": "HuoW0YVqi6Z7"
   },
   "outputs": [],
   "source": [
    "np.random.seed(1)  # seed for reproducibility\n",
    "x = np.random.random((3, 4))\n",
    "# YOUR CODE GOES HERE.\n"
   ]
  },
  {
   "cell_type": "markdown",
   "id": "3f445b31",
   "metadata": {
    "colab_type": "text",
    "id": "ML71HDNWi6Z-"
   },
   "source": [
    "<details>    \n",
    "<summary>\n",
    "    <font size=\"3\" color=\"darkgreen\"><b>Solution (click to expand)</b></font>\n",
    "</summary>\n",
    "<p>\n",
    "    <code>x.min(axis = 0)</code><br />\n",
    "</p>\n",
    "</details>\n",
    "\n",
    "#### 4. Print the maximum value of each row of x."
   ]
  },
  {
   "cell_type": "code",
   "execution_count": null,
   "id": "42dc2c85",
   "metadata": {
    "colab": {},
    "colab_type": "code",
    "id": "0bO18mufi6Z_"
   },
   "outputs": [],
   "source": [
    "# YOUR CODE GOES HERE.\n"
   ]
  },
  {
   "cell_type": "markdown",
   "id": "e3e94ac9",
   "metadata": {},
   "source": [
    "<details>    \n",
    "<summary>\n",
    "    <font size=\"3\" color=\"darkgreen\"><b>Solution (click to expand)</b></font>\n",
    "</summary>\n",
    "<p>\n",
    "    <code>x.max(axis = 1)</code><br />\n",
    "</p>\n",
    "</details>"
   ]
  }
 ],
 "metadata": {
  "kernelspec": {
   "display_name": "Python 3 (ipykernel)",
   "language": "python",
   "name": "python3"
  },
  "language_info": {
   "codemirror_mode": {
    "name": "ipython",
    "version": 3
   },
   "file_extension": ".py",
   "mimetype": "text/x-python",
   "name": "python",
   "nbconvert_exporter": "python",
   "pygments_lexer": "ipython3",
   "version": "3.8.9"
  }
 },
 "nbformat": 4,
 "nbformat_minor": 5
}
