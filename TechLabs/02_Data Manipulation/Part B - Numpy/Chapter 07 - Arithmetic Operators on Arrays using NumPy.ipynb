{
 "cells": [
  {
   "cell_type": "code",
   "execution_count": null,
   "id": "b29c306a",
   "metadata": {},
   "outputs": [],
   "source": [
    "# RUN THIS COMMAND ONLY IF YOU USE GOOGLE COLAB.\n",
    "from google.colab import drive\n",
    "drive.mount('/content/drive')"
   ]
  },
  {
   "cell_type": "code",
   "execution_count": null,
   "id": "d611f4fe",
   "metadata": {},
   "outputs": [],
   "source": [
    "# RUN THIS COMMAND ONLY IF YOU USE GOOGLE COLAB.\n",
    "%cd drive/MyDrive/TechLabs/02_Data\\ Manipulation/Part\\ B\\ -\\ Numpy"
   ]
  },
  {
   "cell_type": "code",
   "execution_count": 2,
   "id": "5a1125b9",
   "metadata": {},
   "outputs": [],
   "source": [
    "# ALWAYS IMPORT NUMPY FIRST.\n",
    "import numpy as np"
   ]
  },
  {
   "cell_type": "markdown",
   "id": "5b0b76d6",
   "metadata": {},
   "source": [
    "# Chapter 7 - Arithmetic Operators on Arrays using NumPy\n",
    "### Hey Techie,   \n",
    "Welcome to the seventh notebook of this Numpy tutorial series. We encourage you to take this notebook as a template to code along the instruction video, which you may find at: https://youtu.be/JZfsZuLKaJ4. Today's video explains how to apply different arithmetic operations on Numpy arrays. In the end, please try to solve the presented tasks. In case you are interested, you find a complete walk through the tasks at: https://youtu.be/ccDPI7v-0QE. \n",
    "\n",
    "#### Have fun! :-)   \n",
    "*Video length in total*: 26 minutes   \n",
    "*Self-study time*: 26 minutes   \n",
    "*Total*: **52 minutes**   \n",
    "#### Credits\n",
    "Complete Python Numpy Tutorial for Beginners, Nate at StrataScratch, https://www.youtube.com/channel/UCW8Ews7tdKKkBT6GdtQaXvQ.\n",
    "<hr style=\"border:2px solid gray\"> </hr>   "
   ]
  },
  {
   "cell_type": "markdown",
   "id": "b97d13ad",
   "metadata": {
    "colab_type": "text",
    "id": "3FdsyRZ8i5yv"
   },
   "source": [
    "# Computation on NumPy Arrays: Universal Functions"
   ]
  },
  {
   "cell_type": "markdown",
   "id": "488e3019",
   "metadata": {
    "colab_type": "text",
    "id": "DqIPgZjti5yv"
   },
   "source": [
    "Up until now, we have been discussing some of the basic nuts and bolts of NumPy; in the next few sections, we will dive into the reasons that NumPy is so important in the Python data science world.\n",
    "Namely, it provides an easy and flexible interface to optimized computation with arrays of data.\n",
    "\n",
    "Computation on NumPy arrays can be very fast, or it can be very slow.\n",
    "The key to making it fast is to use *vectorized* operations, generally implemented through NumPy's *universal functions* (ufuncs).\n",
    "This section motivates the need for NumPy's ufuncs, which can be used to make repeated calculations on array elements much more efficient.\n",
    "It then introduces many of the most common and useful arithmetic ufuncs available in the NumPy package."
   ]
  },
  {
   "cell_type": "markdown",
   "id": "81f0e714",
   "metadata": {
    "colab_type": "text",
    "id": "-EY656Jki5zA"
   },
   "source": [
    "Vectorized operations in NumPy are implemented via *ufuncs*, whose main purpose is to quickly execute repeated operations on values in NumPy arrays.\n",
    "Ufuncs are extremely flexible – before we saw an operation between a scalar and an array, but we can also operate between two arrays:"
   ]
  },
  {
   "cell_type": "code",
   "execution_count": 4,
   "id": "458f91c0",
   "metadata": {
    "colab": {},
    "colab_type": "code",
    "id": "CnHFp-cGDiaf"
   },
   "outputs": [],
   "source": [
    "import numpy as np"
   ]
  },
  {
   "cell_type": "code",
   "execution_count": 6,
   "id": "8f1b9519",
   "metadata": {
    "colab": {
     "base_uri": "https://localhost:8080/",
     "height": 34
    },
    "colab_type": "code",
    "executionInfo": {
     "elapsed": 992,
     "status": "ok",
     "timestamp": 1589650482457,
     "user": {
      "displayName": "Strata Scratch",
      "photoUrl": "https://lh3.googleusercontent.com/a-/AOh14GiMlP7og4BhLjdQaGkhP09NX7ydojYCTiLijLzIROGnMj_EDVCI7GOfqQUqMbP7CarbjEKPcCGap2bbd2ENZ9b-6rjmJtIoP2sn7JI3sId-uewsOejWoFqsFMxKMujg3AS0l4R18fvIIxXpTiIUkW5AODjfGLfFqzg4HjtMQrO8MtPOqARZjsEkAqSKtuxBkjojORaURr5yMQC8RpzGNL-Q3YLhnRrGzteyxarPcCC-9UqyYn2doXTmTXTctHNrF_L6iTfxCd_HkZCS18iu8bfv2fIYqtvY6LXLCgf6QlR_62ocI7E6ltaekqN5bslN0n4FENSAl8aSwtVTnhzn8SJE3lUPI6vuTqqwz8VOY5z8jPNxHc2XxpVkj-mXm0arTzoYMBen2PJnXOC_a0Y2k2OVije7PDngzTEAeobZuvtOkHotD4l_GxaNV7z9XhgTSNVnhD-iYIMgxCrxBPtf3J48XKsUOP5UGap44fiNw2SeoIej2aFnOX_um-rvpHquFWVy1UjV9E7MIkI3PrHEDZtKiYTK-EieG7s6VIlJ17Sy7pQxnmR-dD62ob5AHkCuSIJT75wwMX5aZI53-Q7O1LuQE_xoNU3ZSOD2GqqI415s2od2CzU0INXSdUpk4DltggkdM6jluT4Sl1i6T8clQfwpI4O3XYU_4LTppYD3SZphm4jIf4qcXB5q3KQjuJGD1bGc6a8TrFOpyqStCmT_pO8p-zqRQx35ZdQJFmNfgVb8zvRIXjNpGXOxCFUems7Ylg=s64",
      "userId": "17044389388162035463"
     },
     "user_tz": 420
    },
    "id": "m2iekueii5zA",
    "outputId": "5abd5f96-1dd4-4237-f7a7-ec06bc418ce7"
   },
   "outputs": [
    {
     "data": {
      "text/plain": [
       "array([0.        , 0.5       , 0.66666667, 0.75      , 0.8       ])"
      ]
     },
     "execution_count": 6,
     "metadata": {},
     "output_type": "execute_result"
    }
   ],
   "source": [
    "np.arange(5) / np.arange(1, 6)"
   ]
  },
  {
   "cell_type": "markdown",
   "id": "4633d616",
   "metadata": {
    "colab_type": "text",
    "id": "oftzUfCSi5zC"
   },
   "source": [
    "And ufunc operations are not limited to one-dimensional arrays–they can also act on multi-dimensional arrays as well:"
   ]
  },
  {
   "cell_type": "code",
   "execution_count": 11,
   "id": "6bb6ee9e",
   "metadata": {
    "colab": {
     "base_uri": "https://localhost:8080/",
     "height": 68
    },
    "colab_type": "code",
    "executionInfo": {
     "elapsed": 986,
     "status": "ok",
     "timestamp": 1589650482458,
     "user": {
      "displayName": "Strata Scratch",
      "photoUrl": "https://lh3.googleusercontent.com/a-/AOh14GiMlP7og4BhLjdQaGkhP09NX7ydojYCTiLijLzIROGnMj_EDVCI7GOfqQUqMbP7CarbjEKPcCGap2bbd2ENZ9b-6rjmJtIoP2sn7JI3sId-uewsOejWoFqsFMxKMujg3AS0l4R18fvIIxXpTiIUkW5AODjfGLfFqzg4HjtMQrO8MtPOqARZjsEkAqSKtuxBkjojORaURr5yMQC8RpzGNL-Q3YLhnRrGzteyxarPcCC-9UqyYn2doXTmTXTctHNrF_L6iTfxCd_HkZCS18iu8bfv2fIYqtvY6LXLCgf6QlR_62ocI7E6ltaekqN5bslN0n4FENSAl8aSwtVTnhzn8SJE3lUPI6vuTqqwz8VOY5z8jPNxHc2XxpVkj-mXm0arTzoYMBen2PJnXOC_a0Y2k2OVije7PDngzTEAeobZuvtOkHotD4l_GxaNV7z9XhgTSNVnhD-iYIMgxCrxBPtf3J48XKsUOP5UGap44fiNw2SeoIej2aFnOX_um-rvpHquFWVy1UjV9E7MIkI3PrHEDZtKiYTK-EieG7s6VIlJ17Sy7pQxnmR-dD62ob5AHkCuSIJT75wwMX5aZI53-Q7O1LuQE_xoNU3ZSOD2GqqI415s2od2CzU0INXSdUpk4DltggkdM6jluT4Sl1i6T8clQfwpI4O3XYU_4LTppYD3SZphm4jIf4qcXB5q3KQjuJGD1bGc6a8TrFOpyqStCmT_pO8p-zqRQx35ZdQJFmNfgVb8zvRIXjNpGXOxCFUems7Ylg=s64",
      "userId": "17044389388162035463"
     },
     "user_tz": 420
    },
    "id": "wIOTf3hdi5zD",
    "outputId": "797ffa3f-b52a-4d99-840e-0b486a9b68d4"
   },
   "outputs": [
    {
     "name": "stdout",
     "output_type": "stream",
     "text": [
      "[[0 1 2]\n",
      " [3 4 5]\n",
      " [6 7 8]]\n"
     ]
    },
    {
     "data": {
      "text/plain": [
       "array([[  1,   2,   4],\n",
       "       [  8,  16,  32],\n",
       "       [ 64, 128, 256]])"
      ]
     },
     "execution_count": 11,
     "metadata": {},
     "output_type": "execute_result"
    }
   ],
   "source": [
    "x = np.arange(9).reshape((3, 3))\n",
    "print(x)\n",
    "2 ** x"
   ]
  },
  {
   "cell_type": "markdown",
   "id": "ba01ebb1",
   "metadata": {
    "colab_type": "text",
    "id": "x_PucBsfi5zG"
   },
   "source": [
    "## Exploring NumPy's UFuncs\n",
    "\n",
    "Ufuncs exist in two flavors: *unary ufuncs*, which operate on a single input, and *binary ufuncs*, which operate on two inputs.\n",
    "We'll see examples of both these types of functions here."
   ]
  },
  {
   "cell_type": "markdown",
   "id": "be84dfce",
   "metadata": {
    "colab_type": "text",
    "id": "4Wb4YhB3i5zH"
   },
   "source": [
    "### Array arithmetic\n",
    "\n",
    "NumPy's ufuncs feel very natural to use because they make use of Python's native arithmetic operators.\n",
    "The standard addition, subtraction, multiplication, and division can all be used:"
   ]
  },
  {
   "cell_type": "code",
   "execution_count": 12,
   "id": "92384436",
   "metadata": {
    "colab": {
     "base_uri": "https://localhost:8080/",
     "height": 119
    },
    "colab_type": "code",
    "executionInfo": {
     "elapsed": 981,
     "status": "ok",
     "timestamp": 1589650482458,
     "user": {
      "displayName": "Strata Scratch",
      "photoUrl": "https://lh3.googleusercontent.com/a-/AOh14GiMlP7og4BhLjdQaGkhP09NX7ydojYCTiLijLzIROGnMj_EDVCI7GOfqQUqMbP7CarbjEKPcCGap2bbd2ENZ9b-6rjmJtIoP2sn7JI3sId-uewsOejWoFqsFMxKMujg3AS0l4R18fvIIxXpTiIUkW5AODjfGLfFqzg4HjtMQrO8MtPOqARZjsEkAqSKtuxBkjojORaURr5yMQC8RpzGNL-Q3YLhnRrGzteyxarPcCC-9UqyYn2doXTmTXTctHNrF_L6iTfxCd_HkZCS18iu8bfv2fIYqtvY6LXLCgf6QlR_62ocI7E6ltaekqN5bslN0n4FENSAl8aSwtVTnhzn8SJE3lUPI6vuTqqwz8VOY5z8jPNxHc2XxpVkj-mXm0arTzoYMBen2PJnXOC_a0Y2k2OVije7PDngzTEAeobZuvtOkHotD4l_GxaNV7z9XhgTSNVnhD-iYIMgxCrxBPtf3J48XKsUOP5UGap44fiNw2SeoIej2aFnOX_um-rvpHquFWVy1UjV9E7MIkI3PrHEDZtKiYTK-EieG7s6VIlJ17Sy7pQxnmR-dD62ob5AHkCuSIJT75wwMX5aZI53-Q7O1LuQE_xoNU3ZSOD2GqqI415s2od2CzU0INXSdUpk4DltggkdM6jluT4Sl1i6T8clQfwpI4O3XYU_4LTppYD3SZphm4jIf4qcXB5q3KQjuJGD1bGc6a8TrFOpyqStCmT_pO8p-zqRQx35ZdQJFmNfgVb8zvRIXjNpGXOxCFUems7Ylg=s64",
      "userId": "17044389388162035463"
     },
     "user_tz": 420
    },
    "id": "cCjjxs45i5zI",
    "outputId": "31c05d8f-e382-4cd4-8928-dc72d01bdad7"
   },
   "outputs": [
    {
     "name": "stdout",
     "output_type": "stream",
     "text": [
      "x     = [0 1 2 3]\n",
      "x + 5 = [5 6 7 8]\n",
      "x - 5 = [-5 -4 -3 -2]\n",
      "x * 2 = [0 2 4 6]\n",
      "x / 2 = [0.  0.5 1.  1.5]\n",
      "x // 2 = [0 0 1 1]\n"
     ]
    }
   ],
   "source": [
    "x = np.arange(4)\n",
    "print(\"x     =\", x)\n",
    "print(\"x + 5 =\", x + 5)\n",
    "print(\"x - 5 =\", x - 5)\n",
    "print(\"x * 2 =\", x * 2)\n",
    "print(\"x / 2 =\", x / 2)\n",
    "print(\"x // 2 =\", x // 2)  # floor division, rounding off"
   ]
  },
  {
   "cell_type": "markdown",
   "id": "8682595a",
   "metadata": {
    "colab_type": "text",
    "id": "rrROA3ghi5zK"
   },
   "source": [
    "There is also a unary ufunc for negation, and a ``**`` operator for exponentiation, and a ``%`` operator for modulus:"
   ]
  },
  {
   "cell_type": "code",
   "execution_count": 13,
   "id": "8f05b421",
   "metadata": {
    "colab": {
     "base_uri": "https://localhost:8080/",
     "height": 68
    },
    "colab_type": "code",
    "executionInfo": {
     "elapsed": 975,
     "status": "ok",
     "timestamp": 1589650482459,
     "user": {
      "displayName": "Strata Scratch",
      "photoUrl": "https://lh3.googleusercontent.com/a-/AOh14GiMlP7og4BhLjdQaGkhP09NX7ydojYCTiLijLzIROGnMj_EDVCI7GOfqQUqMbP7CarbjEKPcCGap2bbd2ENZ9b-6rjmJtIoP2sn7JI3sId-uewsOejWoFqsFMxKMujg3AS0l4R18fvIIxXpTiIUkW5AODjfGLfFqzg4HjtMQrO8MtPOqARZjsEkAqSKtuxBkjojORaURr5yMQC8RpzGNL-Q3YLhnRrGzteyxarPcCC-9UqyYn2doXTmTXTctHNrF_L6iTfxCd_HkZCS18iu8bfv2fIYqtvY6LXLCgf6QlR_62ocI7E6ltaekqN5bslN0n4FENSAl8aSwtVTnhzn8SJE3lUPI6vuTqqwz8VOY5z8jPNxHc2XxpVkj-mXm0arTzoYMBen2PJnXOC_a0Y2k2OVije7PDngzTEAeobZuvtOkHotD4l_GxaNV7z9XhgTSNVnhD-iYIMgxCrxBPtf3J48XKsUOP5UGap44fiNw2SeoIej2aFnOX_um-rvpHquFWVy1UjV9E7MIkI3PrHEDZtKiYTK-EieG7s6VIlJ17Sy7pQxnmR-dD62ob5AHkCuSIJT75wwMX5aZI53-Q7O1LuQE_xoNU3ZSOD2GqqI415s2od2CzU0INXSdUpk4DltggkdM6jluT4Sl1i6T8clQfwpI4O3XYU_4LTppYD3SZphm4jIf4qcXB5q3KQjuJGD1bGc6a8TrFOpyqStCmT_pO8p-zqRQx35ZdQJFmNfgVb8zvRIXjNpGXOxCFUems7Ylg=s64",
      "userId": "17044389388162035463"
     },
     "user_tz": 420
    },
    "id": "-W60o3SVi5zL",
    "outputId": "4a53e176-12c8-47a0-fc78-2bafecaf1232"
   },
   "outputs": [
    {
     "name": "stdout",
     "output_type": "stream",
     "text": [
      "-x     =  [ 0 -1 -2 -3]\n",
      "x ** 2 =  [0 1 4 9]\n",
      "x % 2  =  [0 1 0 1]\n"
     ]
    }
   ],
   "source": [
    "# negation\n",
    "print(\"-x     = \", -x)\n",
    "\n",
    "# exponent\n",
    "print(\"x ** 2 = \", x ** 2)\n",
    "\n",
    "# modulus\n",
    "print(\"x % 2  = \", x % 2)"
   ]
  },
  {
   "cell_type": "markdown",
   "id": "c4e3e01a",
   "metadata": {
    "colab_type": "text",
    "id": "p7X-fBQli5zO"
   },
   "source": [
    "In addition, these can be strung together however you wish, and the standard order of operations is respected:"
   ]
  },
  {
   "cell_type": "code",
   "execution_count": null,
   "id": "11a8eefc",
   "metadata": {
    "colab": {
     "base_uri": "https://localhost:8080/",
     "height": 34
    },
    "colab_type": "code",
    "executionInfo": {
     "elapsed": 970,
     "status": "ok",
     "timestamp": 1589650482460,
     "user": {
      "displayName": "Strata Scratch",
      "photoUrl": "https://lh3.googleusercontent.com/a-/AOh14GiMlP7og4BhLjdQaGkhP09NX7ydojYCTiLijLzIROGnMj_EDVCI7GOfqQUqMbP7CarbjEKPcCGap2bbd2ENZ9b-6rjmJtIoP2sn7JI3sId-uewsOejWoFqsFMxKMujg3AS0l4R18fvIIxXpTiIUkW5AODjfGLfFqzg4HjtMQrO8MtPOqARZjsEkAqSKtuxBkjojORaURr5yMQC8RpzGNL-Q3YLhnRrGzteyxarPcCC-9UqyYn2doXTmTXTctHNrF_L6iTfxCd_HkZCS18iu8bfv2fIYqtvY6LXLCgf6QlR_62ocI7E6ltaekqN5bslN0n4FENSAl8aSwtVTnhzn8SJE3lUPI6vuTqqwz8VOY5z8jPNxHc2XxpVkj-mXm0arTzoYMBen2PJnXOC_a0Y2k2OVije7PDngzTEAeobZuvtOkHotD4l_GxaNV7z9XhgTSNVnhD-iYIMgxCrxBPtf3J48XKsUOP5UGap44fiNw2SeoIej2aFnOX_um-rvpHquFWVy1UjV9E7MIkI3PrHEDZtKiYTK-EieG7s6VIlJ17Sy7pQxnmR-dD62ob5AHkCuSIJT75wwMX5aZI53-Q7O1LuQE_xoNU3ZSOD2GqqI415s2od2CzU0INXSdUpk4DltggkdM6jluT4Sl1i6T8clQfwpI4O3XYU_4LTppYD3SZphm4jIf4qcXB5q3KQjuJGD1bGc6a8TrFOpyqStCmT_pO8p-zqRQx35ZdQJFmNfgVb8zvRIXjNpGXOxCFUems7Ylg=s64",
      "userId": "17044389388162035463"
     },
     "user_tz": 420
    },
    "id": "fMxMojEEi5zO",
    "outputId": "e00cbe2e-0ab6-43ea-e759-eabd62beaef9"
   },
   "outputs": [],
   "source": [
    "-(0.5*x + 1) ** 2 "
   ]
  },
  {
   "cell_type": "markdown",
   "id": "082bd197",
   "metadata": {
    "colab_type": "text",
    "id": "2kkdx9_Gi5zR"
   },
   "source": [
    "Each of these arithmetic operations are simply convenient wrappers around specific functions built into NumPy; for example, the ``+`` operator is a wrapper for the ``add`` function:"
   ]
  },
  {
   "cell_type": "code",
   "execution_count": 14,
   "id": "848aa141",
   "metadata": {
    "colab": {
     "base_uri": "https://localhost:8080/",
     "height": 34
    },
    "colab_type": "code",
    "executionInfo": {
     "elapsed": 965,
     "status": "ok",
     "timestamp": 1589650482461,
     "user": {
      "displayName": "Strata Scratch",
      "photoUrl": "https://lh3.googleusercontent.com/a-/AOh14GiMlP7og4BhLjdQaGkhP09NX7ydojYCTiLijLzIROGnMj_EDVCI7GOfqQUqMbP7CarbjEKPcCGap2bbd2ENZ9b-6rjmJtIoP2sn7JI3sId-uewsOejWoFqsFMxKMujg3AS0l4R18fvIIxXpTiIUkW5AODjfGLfFqzg4HjtMQrO8MtPOqARZjsEkAqSKtuxBkjojORaURr5yMQC8RpzGNL-Q3YLhnRrGzteyxarPcCC-9UqyYn2doXTmTXTctHNrF_L6iTfxCd_HkZCS18iu8bfv2fIYqtvY6LXLCgf6QlR_62ocI7E6ltaekqN5bslN0n4FENSAl8aSwtVTnhzn8SJE3lUPI6vuTqqwz8VOY5z8jPNxHc2XxpVkj-mXm0arTzoYMBen2PJnXOC_a0Y2k2OVije7PDngzTEAeobZuvtOkHotD4l_GxaNV7z9XhgTSNVnhD-iYIMgxCrxBPtf3J48XKsUOP5UGap44fiNw2SeoIej2aFnOX_um-rvpHquFWVy1UjV9E7MIkI3PrHEDZtKiYTK-EieG7s6VIlJ17Sy7pQxnmR-dD62ob5AHkCuSIJT75wwMX5aZI53-Q7O1LuQE_xoNU3ZSOD2GqqI415s2od2CzU0INXSdUpk4DltggkdM6jluT4Sl1i6T8clQfwpI4O3XYU_4LTppYD3SZphm4jIf4qcXB5q3KQjuJGD1bGc6a8TrFOpyqStCmT_pO8p-zqRQx35ZdQJFmNfgVb8zvRIXjNpGXOxCFUems7Ylg=s64",
      "userId": "17044389388162035463"
     },
     "user_tz": 420
    },
    "id": "qMpDwLzVi5zS",
    "outputId": "c2f1d4e9-4b24-421e-8170-74c409be4fc9"
   },
   "outputs": [
    {
     "data": {
      "text/plain": [
       "array([2, 3, 4, 5])"
      ]
     },
     "execution_count": 14,
     "metadata": {},
     "output_type": "execute_result"
    }
   ],
   "source": [
    "np.add(x, 2)"
   ]
  },
  {
   "cell_type": "markdown",
   "id": "87b9b974",
   "metadata": {
    "colab_type": "text",
    "id": "ezzaMRtsi5zV"
   },
   "source": [
    "The following table lists the arithmetic operators implemented in NumPy:\n",
    "\n",
    "| Operator\t    | Equivalent ufunc    | Description                           |\n",
    "|---------------|---------------------|---------------------------------------|\n",
    "|``+``          |``np.add``           |Addition (e.g., ``1 + 1 = 2``)         |\n",
    "|``-``          |``np.subtract``      |Subtraction (e.g., ``3 - 2 = 1``)      |\n",
    "|``-``          |``np.negative``      |Unary negation (e.g., ``-2``)          |\n",
    "|``*``          |``np.multiply``      |Multiplication (e.g., ``2 * 3 = 6``)   |\n",
    "|``/``          |``np.divide``        |Division (e.g., ``3 / 2 = 1.5``)       |\n",
    "|``//``         |``np.floor_divide``  |Floor division (e.g., ``3 // 2 = 1``)  |\n",
    "|``**``         |``np.power``         |Exponentiation (e.g., ``2 ** 3 = 8``)  |\n",
    "|``%``          |``np.mod``           |Modulus/remainder (e.g., ``9 % 4 = 1``)|\n"
   ]
  },
  {
   "cell_type": "markdown",
   "id": "0e1d091a",
   "metadata": {
    "colab_type": "text",
    "id": "AV5UnmDGi5zW"
   },
   "source": [
    "### Absolute value\n",
    "\n",
    "Just as NumPy understands Python's built-in arithmetic operators, it also understands Python's built-in absolute value function:"
   ]
  },
  {
   "cell_type": "code",
   "execution_count": 15,
   "id": "15adee6c",
   "metadata": {
    "colab": {
     "base_uri": "https://localhost:8080/",
     "height": 34
    },
    "colab_type": "code",
    "executionInfo": {
     "elapsed": 958,
     "status": "ok",
     "timestamp": 1589650482462,
     "user": {
      "displayName": "Strata Scratch",
      "photoUrl": "https://lh3.googleusercontent.com/a-/AOh14GiMlP7og4BhLjdQaGkhP09NX7ydojYCTiLijLzIROGnMj_EDVCI7GOfqQUqMbP7CarbjEKPcCGap2bbd2ENZ9b-6rjmJtIoP2sn7JI3sId-uewsOejWoFqsFMxKMujg3AS0l4R18fvIIxXpTiIUkW5AODjfGLfFqzg4HjtMQrO8MtPOqARZjsEkAqSKtuxBkjojORaURr5yMQC8RpzGNL-Q3YLhnRrGzteyxarPcCC-9UqyYn2doXTmTXTctHNrF_L6iTfxCd_HkZCS18iu8bfv2fIYqtvY6LXLCgf6QlR_62ocI7E6ltaekqN5bslN0n4FENSAl8aSwtVTnhzn8SJE3lUPI6vuTqqwz8VOY5z8jPNxHc2XxpVkj-mXm0arTzoYMBen2PJnXOC_a0Y2k2OVije7PDngzTEAeobZuvtOkHotD4l_GxaNV7z9XhgTSNVnhD-iYIMgxCrxBPtf3J48XKsUOP5UGap44fiNw2SeoIej2aFnOX_um-rvpHquFWVy1UjV9E7MIkI3PrHEDZtKiYTK-EieG7s6VIlJ17Sy7pQxnmR-dD62ob5AHkCuSIJT75wwMX5aZI53-Q7O1LuQE_xoNU3ZSOD2GqqI415s2od2CzU0INXSdUpk4DltggkdM6jluT4Sl1i6T8clQfwpI4O3XYU_4LTppYD3SZphm4jIf4qcXB5q3KQjuJGD1bGc6a8TrFOpyqStCmT_pO8p-zqRQx35ZdQJFmNfgVb8zvRIXjNpGXOxCFUems7Ylg=s64",
      "userId": "17044389388162035463"
     },
     "user_tz": 420
    },
    "id": "THUnhSNOi5zX",
    "outputId": "a10d0d00-456d-4d28-b1ba-a6a54d3c0537"
   },
   "outputs": [
    {
     "data": {
      "text/plain": [
       "array([2, 1, 0, 1, 2])"
      ]
     },
     "execution_count": 15,
     "metadata": {},
     "output_type": "execute_result"
    }
   ],
   "source": [
    "x = np.array([-2, -1, 0, 1, 2])\n",
    "abs(x)"
   ]
  },
  {
   "cell_type": "markdown",
   "id": "3e9c3bbd",
   "metadata": {
    "colab_type": "text",
    "id": "OpNIRxIki5zb"
   },
   "source": [
    "The corresponding NumPy ufunc is ``np.absolute``, which is also available under the alias ``np.abs``:"
   ]
  },
  {
   "cell_type": "code",
   "execution_count": 16,
   "id": "a6c9f5cb",
   "metadata": {
    "colab": {
     "base_uri": "https://localhost:8080/",
     "height": 34
    },
    "colab_type": "code",
    "executionInfo": {
     "elapsed": 951,
     "status": "ok",
     "timestamp": 1589650482462,
     "user": {
      "displayName": "Strata Scratch",
      "photoUrl": "https://lh3.googleusercontent.com/a-/AOh14GiMlP7og4BhLjdQaGkhP09NX7ydojYCTiLijLzIROGnMj_EDVCI7GOfqQUqMbP7CarbjEKPcCGap2bbd2ENZ9b-6rjmJtIoP2sn7JI3sId-uewsOejWoFqsFMxKMujg3AS0l4R18fvIIxXpTiIUkW5AODjfGLfFqzg4HjtMQrO8MtPOqARZjsEkAqSKtuxBkjojORaURr5yMQC8RpzGNL-Q3YLhnRrGzteyxarPcCC-9UqyYn2doXTmTXTctHNrF_L6iTfxCd_HkZCS18iu8bfv2fIYqtvY6LXLCgf6QlR_62ocI7E6ltaekqN5bslN0n4FENSAl8aSwtVTnhzn8SJE3lUPI6vuTqqwz8VOY5z8jPNxHc2XxpVkj-mXm0arTzoYMBen2PJnXOC_a0Y2k2OVije7PDngzTEAeobZuvtOkHotD4l_GxaNV7z9XhgTSNVnhD-iYIMgxCrxBPtf3J48XKsUOP5UGap44fiNw2SeoIej2aFnOX_um-rvpHquFWVy1UjV9E7MIkI3PrHEDZtKiYTK-EieG7s6VIlJ17Sy7pQxnmR-dD62ob5AHkCuSIJT75wwMX5aZI53-Q7O1LuQE_xoNU3ZSOD2GqqI415s2od2CzU0INXSdUpk4DltggkdM6jluT4Sl1i6T8clQfwpI4O3XYU_4LTppYD3SZphm4jIf4qcXB5q3KQjuJGD1bGc6a8TrFOpyqStCmT_pO8p-zqRQx35ZdQJFmNfgVb8zvRIXjNpGXOxCFUems7Ylg=s64",
      "userId": "17044389388162035463"
     },
     "user_tz": 420
    },
    "id": "IkwTP9UUi5zc",
    "outputId": "f4697626-1945-4f61-f70c-ae296481073b"
   },
   "outputs": [
    {
     "data": {
      "text/plain": [
       "array([2, 1, 0, 1, 2])"
      ]
     },
     "execution_count": 16,
     "metadata": {},
     "output_type": "execute_result"
    }
   ],
   "source": [
    "np.absolute(x)"
   ]
  },
  {
   "cell_type": "code",
   "execution_count": 17,
   "id": "4cd282e5",
   "metadata": {
    "colab": {
     "base_uri": "https://localhost:8080/",
     "height": 34
    },
    "colab_type": "code",
    "executionInfo": {
     "elapsed": 945,
     "status": "ok",
     "timestamp": 1589650482463,
     "user": {
      "displayName": "Strata Scratch",
      "photoUrl": "https://lh3.googleusercontent.com/a-/AOh14GiMlP7og4BhLjdQaGkhP09NX7ydojYCTiLijLzIROGnMj_EDVCI7GOfqQUqMbP7CarbjEKPcCGap2bbd2ENZ9b-6rjmJtIoP2sn7JI3sId-uewsOejWoFqsFMxKMujg3AS0l4R18fvIIxXpTiIUkW5AODjfGLfFqzg4HjtMQrO8MtPOqARZjsEkAqSKtuxBkjojORaURr5yMQC8RpzGNL-Q3YLhnRrGzteyxarPcCC-9UqyYn2doXTmTXTctHNrF_L6iTfxCd_HkZCS18iu8bfv2fIYqtvY6LXLCgf6QlR_62ocI7E6ltaekqN5bslN0n4FENSAl8aSwtVTnhzn8SJE3lUPI6vuTqqwz8VOY5z8jPNxHc2XxpVkj-mXm0arTzoYMBen2PJnXOC_a0Y2k2OVije7PDngzTEAeobZuvtOkHotD4l_GxaNV7z9XhgTSNVnhD-iYIMgxCrxBPtf3J48XKsUOP5UGap44fiNw2SeoIej2aFnOX_um-rvpHquFWVy1UjV9E7MIkI3PrHEDZtKiYTK-EieG7s6VIlJ17Sy7pQxnmR-dD62ob5AHkCuSIJT75wwMX5aZI53-Q7O1LuQE_xoNU3ZSOD2GqqI415s2od2CzU0INXSdUpk4DltggkdM6jluT4Sl1i6T8clQfwpI4O3XYU_4LTppYD3SZphm4jIf4qcXB5q3KQjuJGD1bGc6a8TrFOpyqStCmT_pO8p-zqRQx35ZdQJFmNfgVb8zvRIXjNpGXOxCFUems7Ylg=s64",
      "userId": "17044389388162035463"
     },
     "user_tz": 420
    },
    "id": "sXfKfJagi5zf",
    "outputId": "579d34a9-fd71-4f08-f1ac-06f0b05ea06e"
   },
   "outputs": [
    {
     "data": {
      "text/plain": [
       "array([2, 1, 0, 1, 2])"
      ]
     },
     "execution_count": 17,
     "metadata": {},
     "output_type": "execute_result"
    }
   ],
   "source": [
    "np.abs(x)"
   ]
  },
  {
   "cell_type": "markdown",
   "id": "48f27e8d",
   "metadata": {
    "colab_type": "text",
    "id": "SnrPrT5zi5zk"
   },
   "source": [
    "This ufunc can also handle complex data, in which the absolute value returns the magnitude:"
   ]
  },
  {
   "cell_type": "code",
   "execution_count": 18,
   "id": "08fdcd29",
   "metadata": {
    "colab": {
     "base_uri": "https://localhost:8080/",
     "height": 34
    },
    "colab_type": "code",
    "executionInfo": {
     "elapsed": 939,
     "status": "ok",
     "timestamp": 1589650482463,
     "user": {
      "displayName": "Strata Scratch",
      "photoUrl": "https://lh3.googleusercontent.com/a-/AOh14GiMlP7og4BhLjdQaGkhP09NX7ydojYCTiLijLzIROGnMj_EDVCI7GOfqQUqMbP7CarbjEKPcCGap2bbd2ENZ9b-6rjmJtIoP2sn7JI3sId-uewsOejWoFqsFMxKMujg3AS0l4R18fvIIxXpTiIUkW5AODjfGLfFqzg4HjtMQrO8MtPOqARZjsEkAqSKtuxBkjojORaURr5yMQC8RpzGNL-Q3YLhnRrGzteyxarPcCC-9UqyYn2doXTmTXTctHNrF_L6iTfxCd_HkZCS18iu8bfv2fIYqtvY6LXLCgf6QlR_62ocI7E6ltaekqN5bslN0n4FENSAl8aSwtVTnhzn8SJE3lUPI6vuTqqwz8VOY5z8jPNxHc2XxpVkj-mXm0arTzoYMBen2PJnXOC_a0Y2k2OVije7PDngzTEAeobZuvtOkHotD4l_GxaNV7z9XhgTSNVnhD-iYIMgxCrxBPtf3J48XKsUOP5UGap44fiNw2SeoIej2aFnOX_um-rvpHquFWVy1UjV9E7MIkI3PrHEDZtKiYTK-EieG7s6VIlJ17Sy7pQxnmR-dD62ob5AHkCuSIJT75wwMX5aZI53-Q7O1LuQE_xoNU3ZSOD2GqqI415s2od2CzU0INXSdUpk4DltggkdM6jluT4Sl1i6T8clQfwpI4O3XYU_4LTppYD3SZphm4jIf4qcXB5q3KQjuJGD1bGc6a8TrFOpyqStCmT_pO8p-zqRQx35ZdQJFmNfgVb8zvRIXjNpGXOxCFUems7Ylg=s64",
      "userId": "17044389388162035463"
     },
     "user_tz": 420
    },
    "id": "YwdJQT0Bi5zk",
    "outputId": "7166eee7-5c92-414d-a4dc-fd221f8e0dbc"
   },
   "outputs": [
    {
     "data": {
      "text/plain": [
       "array([5., 5., 2., 1.])"
      ]
     },
     "execution_count": 18,
     "metadata": {},
     "output_type": "execute_result"
    }
   ],
   "source": [
    "x = np.array([3 - 4j, 4 - 3j, 2 + 0j, 0 + 1j])\n",
    "np.abs(x)"
   ]
  },
  {
   "cell_type": "markdown",
   "id": "b3c7f110",
   "metadata": {
    "colab_type": "text",
    "id": "4vbeuWYHi5zm"
   },
   "source": [
    "### Trigonometric functions\n",
    "\n",
    "NumPy provides a large number of useful ufuncs, and some of the most useful for the data scientist are the trigonometric functions.\n",
    "We'll start by defining an array of angles:"
   ]
  },
  {
   "cell_type": "code",
   "execution_count": 22,
   "id": "a26e96f0",
   "metadata": {
    "colab": {},
    "colab_type": "code",
    "id": "UQJqPo7xi5zm"
   },
   "outputs": [],
   "source": [
    "theta = np.linspace(0, np.pi, 3)"
   ]
  },
  {
   "cell_type": "markdown",
   "id": "8f6daff2",
   "metadata": {
    "colab_type": "text",
    "id": "_ulz8HNUi5zo"
   },
   "source": [
    "Now we can compute some trigonometric functions on these values:"
   ]
  },
  {
   "cell_type": "code",
   "execution_count": 24,
   "id": "3b6a8409",
   "metadata": {
    "colab": {
     "base_uri": "https://localhost:8080/",
     "height": 85
    },
    "colab_type": "code",
    "executionInfo": {
     "elapsed": 1220,
     "status": "ok",
     "timestamp": 1589650482756,
     "user": {
      "displayName": "Strata Scratch",
      "photoUrl": "https://lh3.googleusercontent.com/a-/AOh14GiMlP7og4BhLjdQaGkhP09NX7ydojYCTiLijLzIROGnMj_EDVCI7GOfqQUqMbP7CarbjEKPcCGap2bbd2ENZ9b-6rjmJtIoP2sn7JI3sId-uewsOejWoFqsFMxKMujg3AS0l4R18fvIIxXpTiIUkW5AODjfGLfFqzg4HjtMQrO8MtPOqARZjsEkAqSKtuxBkjojORaURr5yMQC8RpzGNL-Q3YLhnRrGzteyxarPcCC-9UqyYn2doXTmTXTctHNrF_L6iTfxCd_HkZCS18iu8bfv2fIYqtvY6LXLCgf6QlR_62ocI7E6ltaekqN5bslN0n4FENSAl8aSwtVTnhzn8SJE3lUPI6vuTqqwz8VOY5z8jPNxHc2XxpVkj-mXm0arTzoYMBen2PJnXOC_a0Y2k2OVije7PDngzTEAeobZuvtOkHotD4l_GxaNV7z9XhgTSNVnhD-iYIMgxCrxBPtf3J48XKsUOP5UGap44fiNw2SeoIej2aFnOX_um-rvpHquFWVy1UjV9E7MIkI3PrHEDZtKiYTK-EieG7s6VIlJ17Sy7pQxnmR-dD62ob5AHkCuSIJT75wwMX5aZI53-Q7O1LuQE_xoNU3ZSOD2GqqI415s2od2CzU0INXSdUpk4DltggkdM6jluT4Sl1i6T8clQfwpI4O3XYU_4LTppYD3SZphm4jIf4qcXB5q3KQjuJGD1bGc6a8TrFOpyqStCmT_pO8p-zqRQx35ZdQJFmNfgVb8zvRIXjNpGXOxCFUems7Ylg=s64",
      "userId": "17044389388162035463"
     },
     "user_tz": 420
    },
    "id": "WSzGW3Wyi5zp",
    "outputId": "6d730722-90f8-4a19-ee42-c2ec7387be78"
   },
   "outputs": [
    {
     "name": "stdout",
     "output_type": "stream",
     "text": [
      "theta      =  [0.         1.57079633 3.14159265]\n",
      "sin(theta) =  [0.0000000e+00 1.0000000e+00 1.2246468e-16]\n",
      "cos(theta) =  [ 1.000000e+00  6.123234e-17 -1.000000e+00]\n",
      "tan(theta) =  [ 0.00000000e+00  1.63312394e+16 -1.22464680e-16]\n"
     ]
    }
   ],
   "source": [
    "print(\"theta      = \", theta)\n",
    "print(\"sin(theta) = \", np.sin(theta))\n",
    "print(\"cos(theta) = \", np.cos(theta))\n",
    "print(\"tan(theta) = \", np.tan(theta))"
   ]
  },
  {
   "cell_type": "markdown",
   "id": "c1911f82",
   "metadata": {
    "colab_type": "text",
    "id": "qA1jk5U1i5zr"
   },
   "source": [
    "The values are computed to within machine precision, which is why values that should be zero do not always hit exactly zero.\n",
    "Inverse trigonometric functions are also available:"
   ]
  },
  {
   "cell_type": "code",
   "execution_count": 25,
   "id": "f5253981",
   "metadata": {
    "colab": {
     "base_uri": "https://localhost:8080/",
     "height": 85
    },
    "colab_type": "code",
    "executionInfo": {
     "elapsed": 1215,
     "status": "ok",
     "timestamp": 1589650482757,
     "user": {
      "displayName": "Strata Scratch",
      "photoUrl": "https://lh3.googleusercontent.com/a-/AOh14GiMlP7og4BhLjdQaGkhP09NX7ydojYCTiLijLzIROGnMj_EDVCI7GOfqQUqMbP7CarbjEKPcCGap2bbd2ENZ9b-6rjmJtIoP2sn7JI3sId-uewsOejWoFqsFMxKMujg3AS0l4R18fvIIxXpTiIUkW5AODjfGLfFqzg4HjtMQrO8MtPOqARZjsEkAqSKtuxBkjojORaURr5yMQC8RpzGNL-Q3YLhnRrGzteyxarPcCC-9UqyYn2doXTmTXTctHNrF_L6iTfxCd_HkZCS18iu8bfv2fIYqtvY6LXLCgf6QlR_62ocI7E6ltaekqN5bslN0n4FENSAl8aSwtVTnhzn8SJE3lUPI6vuTqqwz8VOY5z8jPNxHc2XxpVkj-mXm0arTzoYMBen2PJnXOC_a0Y2k2OVije7PDngzTEAeobZuvtOkHotD4l_GxaNV7z9XhgTSNVnhD-iYIMgxCrxBPtf3J48XKsUOP5UGap44fiNw2SeoIej2aFnOX_um-rvpHquFWVy1UjV9E7MIkI3PrHEDZtKiYTK-EieG7s6VIlJ17Sy7pQxnmR-dD62ob5AHkCuSIJT75wwMX5aZI53-Q7O1LuQE_xoNU3ZSOD2GqqI415s2od2CzU0INXSdUpk4DltggkdM6jluT4Sl1i6T8clQfwpI4O3XYU_4LTppYD3SZphm4jIf4qcXB5q3KQjuJGD1bGc6a8TrFOpyqStCmT_pO8p-zqRQx35ZdQJFmNfgVb8zvRIXjNpGXOxCFUems7Ylg=s64",
      "userId": "17044389388162035463"
     },
     "user_tz": 420
    },
    "id": "6JSZbtyXi5zr",
    "outputId": "f05ba7a5-2ea2-4a73-9139-41d7ce87e838"
   },
   "outputs": [
    {
     "name": "stdout",
     "output_type": "stream",
     "text": [
      "x         =  [-1, 0, 1]\n",
      "arcsin(x) =  [-1.57079633  0.          1.57079633]\n",
      "arccos(x) =  [3.14159265 1.57079633 0.        ]\n",
      "arctan(x) =  [-0.78539816  0.          0.78539816]\n"
     ]
    }
   ],
   "source": [
    "x = [-1, 0, 1]\n",
    "print(\"x         = \", x)\n",
    "print(\"arcsin(x) = \", np.arcsin(x))\n",
    "print(\"arccos(x) = \", np.arccos(x))\n",
    "print(\"arctan(x) = \", np.arctan(x))"
   ]
  },
  {
   "cell_type": "markdown",
   "id": "3059a590",
   "metadata": {
    "colab_type": "text",
    "id": "wTJIu1EYi5zt"
   },
   "source": [
    "### Exponents and logarithms\n",
    "\n",
    "Another common type of operation available in a NumPy ufunc are the exponentials:"
   ]
  },
  {
   "cell_type": "code",
   "execution_count": 3,
   "id": "b7461038",
   "metadata": {
    "colab": {
     "base_uri": "https://localhost:8080/",
     "height": 85
    },
    "colab_type": "code",
    "executionInfo": {
     "elapsed": 1209,
     "status": "ok",
     "timestamp": 1589650482757,
     "user": {
      "displayName": "Strata Scratch",
      "photoUrl": "https://lh3.googleusercontent.com/a-/AOh14GiMlP7og4BhLjdQaGkhP09NX7ydojYCTiLijLzIROGnMj_EDVCI7GOfqQUqMbP7CarbjEKPcCGap2bbd2ENZ9b-6rjmJtIoP2sn7JI3sId-uewsOejWoFqsFMxKMujg3AS0l4R18fvIIxXpTiIUkW5AODjfGLfFqzg4HjtMQrO8MtPOqARZjsEkAqSKtuxBkjojORaURr5yMQC8RpzGNL-Q3YLhnRrGzteyxarPcCC-9UqyYn2doXTmTXTctHNrF_L6iTfxCd_HkZCS18iu8bfv2fIYqtvY6LXLCgf6QlR_62ocI7E6ltaekqN5bslN0n4FENSAl8aSwtVTnhzn8SJE3lUPI6vuTqqwz8VOY5z8jPNxHc2XxpVkj-mXm0arTzoYMBen2PJnXOC_a0Y2k2OVije7PDngzTEAeobZuvtOkHotD4l_GxaNV7z9XhgTSNVnhD-iYIMgxCrxBPtf3J48XKsUOP5UGap44fiNw2SeoIej2aFnOX_um-rvpHquFWVy1UjV9E7MIkI3PrHEDZtKiYTK-EieG7s6VIlJ17Sy7pQxnmR-dD62ob5AHkCuSIJT75wwMX5aZI53-Q7O1LuQE_xoNU3ZSOD2GqqI415s2od2CzU0INXSdUpk4DltggkdM6jluT4Sl1i6T8clQfwpI4O3XYU_4LTppYD3SZphm4jIf4qcXB5q3KQjuJGD1bGc6a8TrFOpyqStCmT_pO8p-zqRQx35ZdQJFmNfgVb8zvRIXjNpGXOxCFUems7Ylg=s64",
      "userId": "17044389388162035463"
     },
     "user_tz": 420
    },
    "id": "x7r-N9V0i5zt",
    "outputId": "9ededa60-5eec-44f6-ba55-b9143646cbd8"
   },
   "outputs": [
    {
     "name": "stdout",
     "output_type": "stream",
     "text": [
      "x     = [1, 2, 3]\n",
      "e^x   = [ 2.71828183  7.3890561  20.08553692]\n",
      "2^x   = [2. 4. 8.]\n",
      "3^x   = [ 3  9 27]\n"
     ]
    }
   ],
   "source": [
    "x = [1, 2, 3]\n",
    "print(\"x     =\", x)\n",
    "print(\"e^x   =\", np.exp(x))\n",
    "print(\"2^x   =\", np.exp2(x))\n",
    "print(\"3^x   =\", np.power(3, x))"
   ]
  },
  {
   "cell_type": "markdown",
   "id": "20212451",
   "metadata": {
    "colab_type": "text",
    "id": "D62HU9Ebi5zv"
   },
   "source": [
    "The inverse of the exponentials, the logarithms, are also available.\n",
    "The basic ``np.log`` gives the natural logarithm; if you prefer to compute the base-2 logarithm or the base-10 logarithm, these are available as well:"
   ]
  },
  {
   "cell_type": "code",
   "execution_count": 4,
   "id": "cf08f7d1",
   "metadata": {
    "colab": {
     "base_uri": "https://localhost:8080/",
     "height": 85
    },
    "colab_type": "code",
    "executionInfo": {
     "elapsed": 1204,
     "status": "ok",
     "timestamp": 1589650482758,
     "user": {
      "displayName": "Strata Scratch",
      "photoUrl": "https://lh3.googleusercontent.com/a-/AOh14GiMlP7og4BhLjdQaGkhP09NX7ydojYCTiLijLzIROGnMj_EDVCI7GOfqQUqMbP7CarbjEKPcCGap2bbd2ENZ9b-6rjmJtIoP2sn7JI3sId-uewsOejWoFqsFMxKMujg3AS0l4R18fvIIxXpTiIUkW5AODjfGLfFqzg4HjtMQrO8MtPOqARZjsEkAqSKtuxBkjojORaURr5yMQC8RpzGNL-Q3YLhnRrGzteyxarPcCC-9UqyYn2doXTmTXTctHNrF_L6iTfxCd_HkZCS18iu8bfv2fIYqtvY6LXLCgf6QlR_62ocI7E6ltaekqN5bslN0n4FENSAl8aSwtVTnhzn8SJE3lUPI6vuTqqwz8VOY5z8jPNxHc2XxpVkj-mXm0arTzoYMBen2PJnXOC_a0Y2k2OVije7PDngzTEAeobZuvtOkHotD4l_GxaNV7z9XhgTSNVnhD-iYIMgxCrxBPtf3J48XKsUOP5UGap44fiNw2SeoIej2aFnOX_um-rvpHquFWVy1UjV9E7MIkI3PrHEDZtKiYTK-EieG7s6VIlJ17Sy7pQxnmR-dD62ob5AHkCuSIJT75wwMX5aZI53-Q7O1LuQE_xoNU3ZSOD2GqqI415s2od2CzU0INXSdUpk4DltggkdM6jluT4Sl1i6T8clQfwpI4O3XYU_4LTppYD3SZphm4jIf4qcXB5q3KQjuJGD1bGc6a8TrFOpyqStCmT_pO8p-zqRQx35ZdQJFmNfgVb8zvRIXjNpGXOxCFUems7Ylg=s64",
      "userId": "17044389388162035463"
     },
     "user_tz": 420
    },
    "id": "Hb4Mibdri5zw",
    "outputId": "e58403a5-e4bc-4a69-bea9-b9f1cdee9855"
   },
   "outputs": [
    {
     "name": "stdout",
     "output_type": "stream",
     "text": [
      "x        = [1, 2, 4, 10]\n",
      "ln(x)    = [0.         0.69314718 1.38629436 2.30258509]\n",
      "log2(x)  = [0.         1.         2.         3.32192809]\n",
      "log10(x) = [0.         0.30103    0.60205999 1.        ]\n"
     ]
    }
   ],
   "source": [
    "x = [1, 2, 4, 10]\n",
    "print(\"x        =\", x)\n",
    "print(\"ln(x)    =\", np.log(x))\n",
    "print(\"log2(x)  =\", np.log2(x))\n",
    "print(\"log10(x) =\", np.log10(x))"
   ]
  },
  {
   "cell_type": "markdown",
   "id": "4b7b9c34",
   "metadata": {
    "colab_type": "text",
    "id": "80WAcKJMi5zx"
   },
   "source": [
    "There are also some specialized versions that are useful for maintaining precision with very small input:"
   ]
  },
  {
   "cell_type": "code",
   "execution_count": null,
   "id": "1a84527c",
   "metadata": {
    "colab": {
     "base_uri": "https://localhost:8080/",
     "height": 51
    },
    "colab_type": "code",
    "executionInfo": {
     "elapsed": 1197,
     "status": "ok",
     "timestamp": 1589650482758,
     "user": {
      "displayName": "Strata Scratch",
      "photoUrl": "https://lh3.googleusercontent.com/a-/AOh14GiMlP7og4BhLjdQaGkhP09NX7ydojYCTiLijLzIROGnMj_EDVCI7GOfqQUqMbP7CarbjEKPcCGap2bbd2ENZ9b-6rjmJtIoP2sn7JI3sId-uewsOejWoFqsFMxKMujg3AS0l4R18fvIIxXpTiIUkW5AODjfGLfFqzg4HjtMQrO8MtPOqARZjsEkAqSKtuxBkjojORaURr5yMQC8RpzGNL-Q3YLhnRrGzteyxarPcCC-9UqyYn2doXTmTXTctHNrF_L6iTfxCd_HkZCS18iu8bfv2fIYqtvY6LXLCgf6QlR_62ocI7E6ltaekqN5bslN0n4FENSAl8aSwtVTnhzn8SJE3lUPI6vuTqqwz8VOY5z8jPNxHc2XxpVkj-mXm0arTzoYMBen2PJnXOC_a0Y2k2OVije7PDngzTEAeobZuvtOkHotD4l_GxaNV7z9XhgTSNVnhD-iYIMgxCrxBPtf3J48XKsUOP5UGap44fiNw2SeoIej2aFnOX_um-rvpHquFWVy1UjV9E7MIkI3PrHEDZtKiYTK-EieG7s6VIlJ17Sy7pQxnmR-dD62ob5AHkCuSIJT75wwMX5aZI53-Q7O1LuQE_xoNU3ZSOD2GqqI415s2od2CzU0INXSdUpk4DltggkdM6jluT4Sl1i6T8clQfwpI4O3XYU_4LTppYD3SZphm4jIf4qcXB5q3KQjuJGD1bGc6a8TrFOpyqStCmT_pO8p-zqRQx35ZdQJFmNfgVb8zvRIXjNpGXOxCFUems7Ylg=s64",
      "userId": "17044389388162035463"
     },
     "user_tz": 420
    },
    "id": "mdjipskqi5zz",
    "outputId": "993511b4-d4c5-4845-d1b9-694e423b0554"
   },
   "outputs": [],
   "source": [
    "x = [0, 0.001, 0.01, 0.1]\n",
    "print(\"exp(x) - 1 =\", np.expm1(x))\n",
    "print(\"log(1 + x) =\", np.log1p(x))"
   ]
  },
  {
   "cell_type": "markdown",
   "id": "52153902",
   "metadata": {
    "colab_type": "text",
    "id": "CVOPfuSNi5z1"
   },
   "source": [
    "When ``x`` is very small, these functions give more precise values than if the raw ``np.log`` or ``np.exp`` were to be used."
   ]
  },
  {
   "cell_type": "markdown",
   "id": "fe7db892",
   "metadata": {},
   "source": [
    "<hr style=\"border:2px solid gray\"> </hr>   \n",
    "\n",
    "## Practice Tasks   \n",
    "\n",
    "#### 1. Add 2 to every element in *x*, subtract 2 from every element in *x*, multiply every element in *x* with 3."
   ]
  },
  {
   "cell_type": "code",
   "execution_count": 5,
   "id": "fb3b87d5",
   "metadata": {
    "colab": {},
    "colab_type": "code",
    "id": "cCjjxs45i5zI"
   },
   "outputs": [
    {
     "name": "stdout",
     "output_type": "stream",
     "text": [
      "Add 2: [1 2 3 4 5 6 7 8 9]\n",
      "Subtract 2: [-2 -1  0  1  2  3  4  5  6]\n",
      "Multiply 3: [ 0  3  6  9 12 15 18 21 24]\n"
     ]
    }
   ],
   "source": [
    "x = np.arange(9)\n",
    "# INSERT CODE BELOW.\n",
    "print(\"Add 2:\", x + 1)\n",
    "print(\"Subtract 2:\", x - 2)\n",
    "print(\"Multiply 3:\", x * 3)"
   ]
  },
  {
   "cell_type": "markdown",
   "id": "b0d49628",
   "metadata": {
    "colab_type": "text",
    "id": "rrROA3ghi5zK"
   },
   "source": [
    "<details>    \n",
    "<summary>\n",
    "    <font size=\"3\" color=\"darkgreen\"><b>Solution (click to expand)</b></font>\n",
    "</summary>\n",
    "<p>\n",
    "    <code>print(\"Add 2:\", x+2)</code><br />\n",
    "    <code>print(\"Subtract 2:\", x-2)</code><br />\n",
    "    <code>print(\"Multiply 3:\", x*3)</code>\n",
    "</p>\n",
    "</details>\n",
    "\n",
    "#### 2. Negate every element in *x*, cube every element in *x*, calcualte the remainder if you divide every element by 4 in *x*."
   ]
  },
  {
   "cell_type": "code",
   "execution_count": 8,
   "id": "61022733",
   "metadata": {
    "colab": {},
    "colab_type": "code",
    "id": "-W60o3SVi5zL",
    "scrolled": true
   },
   "outputs": [
    {
     "name": "stdout",
     "output_type": "stream",
     "text": [
      "Negation: [ 0 -1 -2 -3 -4 -5 -6 -7 -8]\n",
      "Cubed: [  0   1   8  27  64 125 216 343 512]\n",
      "Mod 4: [0 1 2 3 0 1 2 3 0]\n"
     ]
    }
   ],
   "source": [
    "# INSTERT CODE BELOW.\n",
    "print(\"Negation:\", -1*x)\n",
    "print(\"Cubed:\", x ** 3)\n",
    "print(\"Mod 4:\", x % 4)"
   ]
  },
  {
   "cell_type": "markdown",
   "id": "c646909c",
   "metadata": {
    "colab_type": "text",
    "id": "AV5UnmDGi5zW"
   },
   "source": [
    "<details>    \n",
    "<summary>\n",
    "    <font size=\"3\" color=\"darkgreen\"><b>Solution (click to expand)</b></font>\n",
    "</summary>\n",
    "<p>\n",
    "    <code>print(\"Negation:\", -1*x)</code><br />\n",
    "    <code>print(\"Cubed:\", x**3)</code><br />\n",
    "    <code>print(\"Mod 4:\", x%4)</code>\n",
    "</p>\n",
    "</details>\n",
    "\n",
    "#### 3. Print the absolute value for every element in *x*."
   ]
  },
  {
   "cell_type": "code",
   "execution_count": 10,
   "id": "ce74f4b2",
   "metadata": {
    "colab": {},
    "colab_type": "code",
    "id": "THUnhSNOi5zX"
   },
   "outputs": [
    {
     "data": {
      "text/plain": [
       "array([4, 3, 2, 1, 0, 1, 2, 3, 4])"
      ]
     },
     "execution_count": 10,
     "metadata": {},
     "output_type": "execute_result"
    }
   ],
   "source": [
    "x = np.arange(-4, 5)\n",
    "# START YOUR CODE HERE.\n",
    "np.abs(x)"
   ]
  },
  {
   "cell_type": "markdown",
   "id": "d170e7ab",
   "metadata": {
    "colab_type": "text",
    "id": "_ulz8HNUi5zo"
   },
   "source": [
    "<details>    \n",
    "<summary>\n",
    "    <font size=\"3\" color=\"darkgreen\"><b>Solution (click to expand)</b></font>\n",
    "</summary>\n",
    "<p>\n",
    "    <code>np.abs(x)</code>\n",
    "</p>\n",
    "</details>\n",
    "\n",
    "#### 4. Print the results sine, cosine, and tangent on the elements of *theta*."
   ]
  },
  {
   "cell_type": "code",
   "execution_count": 11,
   "id": "d3134f7b",
   "metadata": {
    "colab": {},
    "colab_type": "code",
    "id": "WSzGW3Wyi5zp"
   },
   "outputs": [
    {
     "name": "stdout",
     "output_type": "stream",
     "text": [
      "theta      =  [0.         1.57079633 3.14159265]\n",
      "sin(theta) =  [0.0000000e+00 1.0000000e+00 1.2246468e-16]\n",
      "cos(theta) =  [ 1.000000e+00  6.123234e-17 -1.000000e+00]\n",
      "tan(theta) =  [ 0.00000000e+00  1.63312394e+16 -1.22464680e-16]\n"
     ]
    }
   ],
   "source": [
    "theta = np.linspace(0, np.pi, 3)\n",
    "# INSERT CODE BELOW.\n",
    "print(\"theta      = \", theta)\n",
    "print(\"sin(theta) = \", np.sin(theta))\n",
    "print(\"cos(theta) = \", np.cos(theta))\n",
    "print(\"tan(theta) = \", np.tan(theta))"
   ]
  },
  {
   "cell_type": "markdown",
   "id": "4641c0a0",
   "metadata": {
    "colab_type": "text",
    "id": "qA1jk5U1i5zr"
   },
   "source": [
    "<details>    \n",
    "<summary>\n",
    "    <font size=\"3\" color=\"darkgreen\"><b>Solution (click to expand)</b></font>\n",
    "</summary>\n",
    "<p>\n",
    "    <code>print(\"sin(theta) = \", np.sin(theta))</code><br />\n",
    "    <code>print(\"cos(theta) = \", np.cos(theta))</code><br />\n",
    "    <code>print(\"tan(theta) = \", np.tan(theta))</code>\n",
    "</p>\n",
    "</details>\n",
    "\n",
    "#### 5. Print the results arcsine, arccosine, and arctangent on the elements of *x*."
   ]
  },
  {
   "cell_type": "code",
   "execution_count": 12,
   "id": "1e6bf00a",
   "metadata": {
    "colab": {},
    "colab_type": "code",
    "id": "6JSZbtyXi5zr"
   },
   "outputs": [
    {
     "name": "stdout",
     "output_type": "stream",
     "text": [
      "x         =  [-1, 0, 1]\n",
      "arcsin(x) =  [-1.57079633  0.          1.57079633]\n",
      "arccos(x) =  [3.14159265 1.57079633 0.        ]\n",
      "arctan(x) =  [-0.78539816  0.          0.78539816]\n"
     ]
    }
   ],
   "source": [
    "x = [-1, 0, 1]\n",
    "# INSERT CODE BELOW.\n",
    "print(\"x         = \", x)\n",
    "print(\"arcsin(x) = \", np.arcsin(x))\n",
    "print(\"arccos(x) = \", np.arccos(x))\n",
    "print(\"arctan(x) = \", np.arctan(x))"
   ]
  },
  {
   "cell_type": "markdown",
   "id": "3ffda460",
   "metadata": {
    "colab_type": "text",
    "id": "UeZTr64XD9fs"
   },
   "source": [
    "<details>    \n",
    "<summary>\n",
    "    <font size=\"3\" color=\"darkgreen\"><b>Solution (click to expand)</b></font>\n",
    "</summary>\n",
    "<p>\n",
    "    <code>print(\"arcsin(x) = \", np.arcsin(x))</code><br />\n",
    "    <code>print(\"arccos(x) = \", np.arccos(x))</code><br />\n",
    "    <code>print(\"arctan(x) = \", np.arctan(x))</code>\n",
    "</p>\n",
    "</details>\n",
    "\n",
    "#### 6. Print the results of e^x, 2^x, and 5^x."
   ]
  },
  {
   "cell_type": "code",
   "execution_count": 13,
   "id": "b8934463",
   "metadata": {
    "colab": {},
    "colab_type": "code",
    "id": "x7r-N9V0i5zt"
   },
   "outputs": [
    {
     "name": "stdout",
     "output_type": "stream",
     "text": [
      "x     = [1, 2, 3]\n",
      "e^x   = [ 2.71828183  7.3890561  20.08553692]\n",
      "2^x   = [2. 4. 8.]\n",
      "5^x   = [  5  25 125]\n"
     ]
    }
   ],
   "source": [
    "x = [1, 2, 3]\n",
    "# INSERT CODE BELOW.\n",
    "print(\"x     =\", x)\n",
    "print(\"e^x   =\", np.exp(x))\n",
    "print(\"2^x   =\", np.exp2(x))\n",
    "print(\"5^x   =\", np.power(5, x))"
   ]
  },
  {
   "cell_type": "markdown",
   "id": "04ae271a",
   "metadata": {
    "colab_type": "text",
    "id": "D62HU9Ebi5zv"
   },
   "source": [
    "<details>    \n",
    "<summary>\n",
    "    <font size=\"3\" color=\"darkgreen\"><b>Solution (click to expand)</b></font>\n",
    "</summary>\n",
    "<p>\n",
    "    <code>print(\"e^x =\", np.exp(x))</code><br />\n",
    "    <code>print(\"2^x =\", np.exp2(x))</code><br />\n",
    "    <code>print(\"5^x =\", np.power(5, x))</code>\n",
    "</p>\n",
    "</details>\n",
    "\n",
    "#### 7. Print the results of ln, log 2, and log 10 on x."
   ]
  },
  {
   "cell_type": "code",
   "execution_count": 14,
   "id": "8903bbff",
   "metadata": {
    "colab": {},
    "colab_type": "code",
    "id": "Hb4Mibdri5zw"
   },
   "outputs": [
    {
     "name": "stdout",
     "output_type": "stream",
     "text": [
      "x        = [1, 2, 4, 10]\n",
      "ln(x)    = [0.         0.69314718 1.38629436 2.30258509]\n",
      "log2(x)  = [0.         1.         2.         3.32192809]\n",
      "log10(x) = [0.         0.30103    0.60205999 1.        ]\n"
     ]
    }
   ],
   "source": [
    "x = [1, 2, 4, 10]\n",
    "# INSERT CODE BELOW.\n",
    "print(\"x        =\", x)\n",
    "print(\"ln(x)    =\", np.log(x))\n",
    "print(\"log2(x)  =\", np.log2(x))\n",
    "print(\"log10(x) =\", np.log10(x))"
   ]
  },
  {
   "cell_type": "markdown",
   "id": "0d52de0f",
   "metadata": {
    "colab_type": "text",
    "id": "80WAcKJMi5zx"
   },
   "source": [
    "<details>    \n",
    "<summary>\n",
    "    <font size=\"3\" color=\"darkgreen\"><b>Solution (click to expand)</b></font>\n",
    "</summary>\n",
    "<p>\n",
    "    <code>print(\"ln(x) =\", np.log(x))</code><br />\n",
    "    <code>print(\"log2(x) =\", np.log2(x))</code><br />\n",
    "    <code>print(\"log10(x) =\", np.log10(x))</code>\n",
    "</p>\n",
    "</details>\n",
    "\n",
    "\n",
    "#### 8. Print the results of exp(z) - 1 and expm1(z) to see that expm1 is more precise."
   ]
  },
  {
   "cell_type": "code",
   "execution_count": 16,
   "id": "d43a330f",
   "metadata": {
    "colab": {},
    "colab_type": "code",
    "id": "mdjipskqi5zz"
   },
   "outputs": [
    {
     "name": "stdout",
     "output_type": "stream",
     "text": [
      "exp(z) - 1 = [0.00000000e+00 1.00000000e-10 1.00000000e-09 1.00000001e-08]\n",
      "expm1(z) = [0.00000000e+00 1.00000000e-10 1.00000000e-09 1.00000001e-08]\n"
     ]
    }
   ],
   "source": [
    "z = [0, 0.0000000001, 0.000000001, 0.00000001]\n",
    "# INSERT CODE BELOW.\n",
    "print(\"exp(z) - 1 =\", np.expm1(z))\n",
    "print(\"expm1(z) =\", np.expm1(z))"
   ]
  },
  {
   "cell_type": "markdown",
   "id": "e3e94ac9",
   "metadata": {},
   "source": [
    "<details>    \n",
    "<summary>\n",
    "    <font size=\"3\" color=\"darkgreen\"><b>Solution (click to expand)</b></font>\n",
    "</summary>\n",
    "<p>\n",
    "    <code>print(\"(e^z)-1 =\", np.exp(z)-1)</code><br />\n",
    "    <code>print(\"(e^z)-1 =\", np.expm1(z))</code><br />\n",
    "</p>\n",
    "</details>"
   ]
  }
 ],
 "metadata": {
  "kernelspec": {
   "display_name": "Python 3 (ipykernel)",
   "language": "python",
   "name": "python3"
  },
  "language_info": {
   "codemirror_mode": {
    "name": "ipython",
    "version": 3
   },
   "file_extension": ".py",
   "mimetype": "text/x-python",
   "name": "python",
   "nbconvert_exporter": "python",
   "pygments_lexer": "ipython3",
   "version": "3.9.12"
  }
 },
 "nbformat": 4,
 "nbformat_minor": 5
}
