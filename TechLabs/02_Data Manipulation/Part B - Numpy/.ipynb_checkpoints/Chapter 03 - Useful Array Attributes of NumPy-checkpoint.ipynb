{
 "cells": [
  {
   "cell_type": "code",
   "execution_count": null,
   "id": "b29c306a",
   "metadata": {},
   "outputs": [],
   "source": [
    "# RUN THIS COMMAND ONLY IF YOU USE GOOGLE COLAB.\n",
    "from google.colab import drive\n",
    "drive.mount('/content/drive')"
   ]
  },
  {
   "cell_type": "code",
   "execution_count": null,
   "id": "d611f4fe",
   "metadata": {},
   "outputs": [],
   "source": [
    "# RUN THIS COMMAND ONLY IF YOU USE GOOGLE COLAB.\n",
    "%cd drive/MyDrive/TechLabs/02_Data\\ Manipulation/Part\\ B\\ -\\ Numpy"
   ]
  },
  {
   "cell_type": "code",
   "execution_count": 1,
   "id": "5a1125b9",
   "metadata": {},
   "outputs": [],
   "source": [
    "# ALWAYS IMPORT NUMPY FIRST.\n",
    "import numpy as np"
   ]
  },
  {
   "cell_type": "markdown",
   "id": "5b0b76d6",
   "metadata": {},
   "source": [
    "# Chapter 03 - Useful Array Attributes of NumPy\n",
    "### Hey Techie,   \n",
    "Welcome to the first notebook of this Numpy tutorial series. We encourage you to take this notebook as a template to code along the instruction video, which you may find at: https://youtu.be/aGPjAOhomY4. Today's video explains how to assess different important attributes from Numpy arrays. In the end, please try to solve the presented tasks. In case you are interested, you find a complete walk through the tasks at: https://youtu.be/Yk3H3VRDfm0 (*relevant part until 6:15 min*). \n",
    "\n",
    "#### Have fun! :-)   \n",
    "*Video length in total*: 11 minutes   \n",
    "*Self-study time*: 11 minutes   \n",
    "*Total*: **22 minutes**   \n",
    "#### Credits\n",
    "Complete Python Numpy Tutorial for Beginners, Nate at StrataScratch, https://www.youtube.com/channel/UCW8Ews7tdKKkBT6GdtQaXvQ.\n",
    "<hr style=\"border:2px solid gray\"> </hr>   "
   ]
  },
  {
   "cell_type": "markdown",
   "id": "0f6ed4cf",
   "metadata": {
    "colab_type": "text",
    "id": "IYAgU4Q5cuJi"
   },
   "source": [
    "# The Basics of NumPy Arrays"
   ]
  },
  {
   "cell_type": "markdown",
   "id": "7cf774ef",
   "metadata": {
    "colab_type": "text",
    "id": "yRklNPBbcuJj"
   },
   "source": [
    "Data manipulation in Python is nearly synonymous with NumPy array manipulation: even newer tools like Pandas are built around the NumPy array.\n",
    "We'll present several examples of using NumPy array manipulation to access data and subarrays, and to split, reshape, and join the arrays.\n",
    "While the types of operations shown here may seem a bit dry and pedantic, they comprise the building blocks of many other examples used in python.\n",
    "\n",
    "We'll cover a few categories of basic array manipulations here:\n",
    "\n",
    "- *Attributes of arrays*: Determining the size, shape, memory consumption, and data types of arrays\n",
    "- *Indexing of arrays*: Getting and setting the value of individual array elements\n",
    "- *Slicing of arrays*: Getting and setting smaller subarrays within a larger array\n",
    "- *Reshaping of arrays*: Changing the shape of a given array\n",
    "- *Joining and splitting of arrays*: Combining multiple arrays into one, and splitting one array into many"
   ]
  },
  {
   "cell_type": "markdown",
   "id": "9edc01f4",
   "metadata": {
    "colab_type": "text",
    "id": "D-eXObNjcuJj"
   },
   "source": [
    "## NumPy Array Attributes"
   ]
  },
  {
   "cell_type": "markdown",
   "id": "9f3750f6",
   "metadata": {
    "colab_type": "text",
    "id": "SL_Ec6kecuJk"
   },
   "source": [
    "First let's discuss some useful array attributes.\n",
    "We'll start by defining three random arrays, a one-dimensional, two-dimensional, and three-dimensional array.\n",
    "We'll use NumPy's random number generator, which we will *seed* with a set value in order to ensure that the same random arrays are generated each time this code is run:"
   ]
  },
  {
   "cell_type": "code",
   "execution_count": 15,
   "id": "23bda6ed",
   "metadata": {
    "colab": {},
    "colab_type": "code",
    "id": "pswjqtaqcuJl"
   },
   "outputs": [],
   "source": [
    "np.random.seed(0)  # seed for reproducibility\n",
    "\n",
    "x1 = np.random.randint(10, size=6)  # One-dimensional array\n",
    "x2 = np.random.randint(10, size=(3, 4))  # Two-dimensional array\n",
    "x3 = np.random.randint(10, size=(3, 4, 5))  # Three-dimensional array"
   ]
  },
  {
   "cell_type": "code",
   "execution_count": 5,
   "id": "76b06cc6",
   "metadata": {},
   "outputs": [
    {
     "data": {
      "text/plain": [
       "array([5, 0, 3, 3, 7, 9])"
      ]
     },
     "execution_count": 5,
     "metadata": {},
     "output_type": "execute_result"
    }
   ],
   "source": [
    "x1"
   ]
  },
  {
   "cell_type": "code",
   "execution_count": 6,
   "id": "7fd6d05f",
   "metadata": {},
   "outputs": [
    {
     "data": {
      "text/plain": [
       "array([[3, 5, 2, 4],\n",
       "       [7, 6, 8, 8],\n",
       "       [1, 6, 7, 7]])"
      ]
     },
     "execution_count": 6,
     "metadata": {},
     "output_type": "execute_result"
    }
   ],
   "source": [
    "x2"
   ]
  },
  {
   "cell_type": "code",
   "execution_count": 7,
   "id": "b4ec8772",
   "metadata": {},
   "outputs": [
    {
     "data": {
      "text/plain": [
       "array([[[8, 1, 5, 9, 8],\n",
       "        [9, 4, 3, 0, 3],\n",
       "        [5, 0, 2, 3, 8],\n",
       "        [1, 3, 3, 3, 7]],\n",
       "\n",
       "       [[0, 1, 9, 9, 0],\n",
       "        [4, 7, 3, 2, 7],\n",
       "        [2, 0, 0, 4, 5],\n",
       "        [5, 6, 8, 4, 1]],\n",
       "\n",
       "       [[4, 9, 8, 1, 1],\n",
       "        [7, 9, 9, 3, 6],\n",
       "        [7, 2, 0, 3, 5],\n",
       "        [9, 4, 4, 6, 4]]])"
      ]
     },
     "execution_count": 7,
     "metadata": {},
     "output_type": "execute_result"
    }
   ],
   "source": [
    "x3"
   ]
  },
  {
   "cell_type": "markdown",
   "id": "5e4cffc7",
   "metadata": {
    "colab_type": "text",
    "id": "unm92bi6cuJn"
   },
   "source": [
    "Each array has attributes ``ndim`` (the number of dimensions), ``shape`` (the size of each dimension), and ``size`` (the total size of the array):"
   ]
  },
  {
   "cell_type": "code",
   "execution_count": 8,
   "id": "129a372f",
   "metadata": {
    "colab": {
     "base_uri": "https://localhost:8080/"
    },
    "colab_type": "code",
    "executionInfo": {
     "elapsed": 1347,
     "status": "ok",
     "timestamp": 1593989684584,
     "user": {
      "displayName": "StrataScratch Team",
      "photoUrl": "https://lh3.googleusercontent.com/a-/AOh14GiGK63dtW9acM3jHkRfj4-UOzVsKLa-kgNxbCK8a4jqcDOb1j9M8lxSiEHAqWgAkHg7ba24OUjUnZd-SZqErlj2EIwbpqiuMApVBC4j-VTn5geFXVLj6pwNrVCYt1er_lVA_47-cqOy7jE5Rk8U_kIEk6C8kmdRru20cUkylWnYkKYBVXplxIBmvvemTvz5YRQxbgxOWLecE41ZTt6gMCo22i_9RBn4Trle7Qe5TGkpvUfu8AoVjWS-c3m2tR4gOYsGI9IrLF7YkN3yTS8_fOPGFkHmCMAV0SqUmv1cYjhWRxBrTMjGiAHV2PUfxvKoFKfketXUNG5yyBuHMKxV0bIc8gWil3Fx9_tl4Vwx-4bsBlEErQxe9JetDn_OJA_BpkDPGbQRYAhvjbll0PQjJUtuvOKfgyYWwq6RPG6ZBrcoGLE-N87otH1q6HoBsWFp64Nb3f0I9iGjk5u_dCnuscJ1B0uNt-Kk6Cqly6sae6rujILmXYg6A9dpf7Ab_GlQ5EjP3FJyYH2Qlyrd4FFCQUFbT-hAn7EcS7IKhsGrc3PKtMUktJmqoA-hWJFAbEFhp3xuM2qjp5dgv-r_FxJHs2t-RVhCBum9Con9_jvjokRxiAgA1XhQdF0SXA7HV-yyjs9Si7uHUNutnHCqFMNSsUpWW4TPz8OwuKVauJwhDYZLjOTtxKVzvNmm0oS9U_KoSHKZMwO0OsC7JfiMzlbAD38fS-tj3_fc8RmX29JxOgop0w30OBG9xUywfb1FGuEb5A=s64",
      "userId": "17044389388162035463"
     },
     "user_tz": 420
    },
    "id": "dppjzRo-cuJo",
    "outputId": "0ac2a4b8-36f9-4921-fdc4-521e783d27cc"
   },
   "outputs": [
    {
     "name": "stdout",
     "output_type": "stream",
     "text": [
      "x3 ndim:  3\n",
      "x3 shape: (3, 4, 5)\n",
      "x3 size:  60\n"
     ]
    }
   ],
   "source": [
    "print(\"x3 ndim: \", x3.ndim)\n",
    "print(\"x3 shape:\", x3.shape)\n",
    "print(\"x3 size: \", x3.size)"
   ]
  },
  {
   "cell_type": "markdown",
   "id": "cf147c82",
   "metadata": {
    "colab_type": "text",
    "id": "RTJ2diaKcuJr"
   },
   "source": [
    "Another useful attribute is the ``dtype``, the data type of the array"
   ]
  },
  {
   "cell_type": "code",
   "execution_count": 9,
   "id": "92ff03d8",
   "metadata": {
    "colab": {
     "base_uri": "https://localhost:8080/"
    },
    "colab_type": "code",
    "executionInfo": {
     "elapsed": 2944,
     "status": "ok",
     "timestamp": 1593989686187,
     "user": {
      "displayName": "StrataScratch Team",
      "photoUrl": "https://lh3.googleusercontent.com/a-/AOh14GiGK63dtW9acM3jHkRfj4-UOzVsKLa-kgNxbCK8a4jqcDOb1j9M8lxSiEHAqWgAkHg7ba24OUjUnZd-SZqErlj2EIwbpqiuMApVBC4j-VTn5geFXVLj6pwNrVCYt1er_lVA_47-cqOy7jE5Rk8U_kIEk6C8kmdRru20cUkylWnYkKYBVXplxIBmvvemTvz5YRQxbgxOWLecE41ZTt6gMCo22i_9RBn4Trle7Qe5TGkpvUfu8AoVjWS-c3m2tR4gOYsGI9IrLF7YkN3yTS8_fOPGFkHmCMAV0SqUmv1cYjhWRxBrTMjGiAHV2PUfxvKoFKfketXUNG5yyBuHMKxV0bIc8gWil3Fx9_tl4Vwx-4bsBlEErQxe9JetDn_OJA_BpkDPGbQRYAhvjbll0PQjJUtuvOKfgyYWwq6RPG6ZBrcoGLE-N87otH1q6HoBsWFp64Nb3f0I9iGjk5u_dCnuscJ1B0uNt-Kk6Cqly6sae6rujILmXYg6A9dpf7Ab_GlQ5EjP3FJyYH2Qlyrd4FFCQUFbT-hAn7EcS7IKhsGrc3PKtMUktJmqoA-hWJFAbEFhp3xuM2qjp5dgv-r_FxJHs2t-RVhCBum9Con9_jvjokRxiAgA1XhQdF0SXA7HV-yyjs9Si7uHUNutnHCqFMNSsUpWW4TPz8OwuKVauJwhDYZLjOTtxKVzvNmm0oS9U_KoSHKZMwO0OsC7JfiMzlbAD38fS-tj3_fc8RmX29JxOgop0w30OBG9xUywfb1FGuEb5A=s64",
      "userId": "17044389388162035463"
     },
     "user_tz": 420
    },
    "id": "zRsvXUsTcuJr",
    "outputId": "5e34307e-6231-4e11-f4bf-a24bf3ae1a1a"
   },
   "outputs": [
    {
     "name": "stdout",
     "output_type": "stream",
     "text": [
      "dtype: int64\n"
     ]
    }
   ],
   "source": [
    "print(\"dtype:\", x3.dtype)"
   ]
  },
  {
   "cell_type": "markdown",
   "id": "54126b4a",
   "metadata": {
    "colab_type": "text",
    "id": "1tF0LnWRcuJu"
   },
   "source": [
    "Other attributes include ``itemsize``, which lists the size (in bytes) of each array element, and ``nbytes``, which lists the total size (in bytes) of the array:"
   ]
  },
  {
   "cell_type": "code",
   "execution_count": 10,
   "id": "d6f00a71",
   "metadata": {
    "colab": {
     "base_uri": "https://localhost:8080/"
    },
    "colab_type": "code",
    "executionInfo": {
     "elapsed": 2939,
     "status": "ok",
     "timestamp": 1593989686188,
     "user": {
      "displayName": "StrataScratch Team",
      "photoUrl": "https://lh3.googleusercontent.com/a-/AOh14GiGK63dtW9acM3jHkRfj4-UOzVsKLa-kgNxbCK8a4jqcDOb1j9M8lxSiEHAqWgAkHg7ba24OUjUnZd-SZqErlj2EIwbpqiuMApVBC4j-VTn5geFXVLj6pwNrVCYt1er_lVA_47-cqOy7jE5Rk8U_kIEk6C8kmdRru20cUkylWnYkKYBVXplxIBmvvemTvz5YRQxbgxOWLecE41ZTt6gMCo22i_9RBn4Trle7Qe5TGkpvUfu8AoVjWS-c3m2tR4gOYsGI9IrLF7YkN3yTS8_fOPGFkHmCMAV0SqUmv1cYjhWRxBrTMjGiAHV2PUfxvKoFKfketXUNG5yyBuHMKxV0bIc8gWil3Fx9_tl4Vwx-4bsBlEErQxe9JetDn_OJA_BpkDPGbQRYAhvjbll0PQjJUtuvOKfgyYWwq6RPG6ZBrcoGLE-N87otH1q6HoBsWFp64Nb3f0I9iGjk5u_dCnuscJ1B0uNt-Kk6Cqly6sae6rujILmXYg6A9dpf7Ab_GlQ5EjP3FJyYH2Qlyrd4FFCQUFbT-hAn7EcS7IKhsGrc3PKtMUktJmqoA-hWJFAbEFhp3xuM2qjp5dgv-r_FxJHs2t-RVhCBum9Con9_jvjokRxiAgA1XhQdF0SXA7HV-yyjs9Si7uHUNutnHCqFMNSsUpWW4TPz8OwuKVauJwhDYZLjOTtxKVzvNmm0oS9U_KoSHKZMwO0OsC7JfiMzlbAD38fS-tj3_fc8RmX29JxOgop0w30OBG9xUywfb1FGuEb5A=s64",
      "userId": "17044389388162035463"
     },
     "user_tz": 420
    },
    "id": "pI6x-X_EcuJv",
    "outputId": "8647db69-5ab9-4751-9732-33a0f3d256e4"
   },
   "outputs": [
    {
     "name": "stdout",
     "output_type": "stream",
     "text": [
      "itemsize: 8 bytes\n",
      "nbytes: 480 bytes\n"
     ]
    }
   ],
   "source": [
    "print(\"itemsize:\", x3.itemsize, \"bytes\")\n",
    "print(\"nbytes:\", x3.nbytes, \"bytes\")"
   ]
  },
  {
   "cell_type": "markdown",
   "id": "634885e0",
   "metadata": {
    "colab_type": "text",
    "id": "_2kHM8XDcuJx"
   },
   "source": [
    "In general, we expect that ``nbytes`` is equal to ``itemsize`` times ``size``."
   ]
  },
  {
   "cell_type": "markdown",
   "id": "fe7db892",
   "metadata": {},
   "source": [
    "<hr style=\"border:2px solid gray\"> </hr>   \n",
    "\n",
    "## Practice Tasks\n",
    "\n",
    "#### For the following tasks 1, 2, and 3, refer to the array created below. Run this code to get started."
   ]
  },
  {
   "cell_type": "code",
   "execution_count": 21,
   "id": "b5063d2b",
   "metadata": {
    "id": "pswjqtaqcuJl"
   },
   "outputs": [],
   "source": [
    "np.random.seed(1)  # seed for reproducibility\n",
    "x = np.random.randint(10, size=(3, 3))  # Two-dimensional array"
   ]
  },
  {
   "cell_type": "code",
   "execution_count": 22,
   "id": "cc502a95",
   "metadata": {},
   "outputs": [
    {
     "data": {
      "text/plain": [
       "array([[5, 8, 9],\n",
       "       [5, 0, 0],\n",
       "       [1, 7, 6]])"
      ]
     },
     "execution_count": 22,
     "metadata": {},
     "output_type": "execute_result"
    }
   ],
   "source": [
    "x"
   ]
  },
  {
   "cell_type": "markdown",
   "id": "dd10ed8f",
   "metadata": {
    "id": "unm92bi6cuJn"
   },
   "source": [
    "#### 1. Print the *ndim*, *shape*, and *size* attributes of *x*. The print code has already been created for you."
   ]
  },
  {
   "cell_type": "code",
   "execution_count": 23,
   "id": "3144c957",
   "metadata": {
    "id": "dppjzRo-cuJo"
   },
   "outputs": [
    {
     "name": "stdout",
     "output_type": "stream",
     "text": [
      "x ndim:  2\n",
      "x shape: (3, 3)\n",
      "x size:  9\n"
     ]
    }
   ],
   "source": [
    "# INSERT YOUR CODE BELOW.\n",
    "print(\"x ndim: \", x.ndim)  # dimention of the n\n",
    "print(\"x shape:\", x.shape)\n",
    "print(\"x size: \", x.size)"
   ]
  },
  {
   "cell_type": "markdown",
   "id": "005ae039",
   "metadata": {
    "id": "RTJ2diaKcuJr"
   },
   "source": [
    "<details>    \n",
    "<summary>\n",
    "    <font size=\"3\" color=\"darkgreen\"><b>Solution (click to expand)</b></font>\n",
    "</summary>\n",
    "<p>\n",
    "    <code>print(\"x2 ndim: \", x.ndim)</code><br />\n",
    "    <code>print(\"x2 shape:\", x.shape)</code><br />\n",
    "    <code>print(\"x2 size: \", x.size)</code><br />\n",
    "</p>\n",
    "</details>\n",
    "\n",
    "\n",
    "#### 2. Print the *dtype* of x."
   ]
  },
  {
   "cell_type": "code",
   "execution_count": 18,
   "id": "5c8d6483",
   "metadata": {
    "id": "zRsvXUsTcuJr"
   },
   "outputs": [
    {
     "name": "stdout",
     "output_type": "stream",
     "text": [
      "dtype: int64\n"
     ]
    }
   ],
   "source": [
    "# INSERT YOUR CODE BELOW.\n",
    "print(\"dtype:\", x.dtype)"
   ]
  },
  {
   "cell_type": "markdown",
   "id": "f05cb89e",
   "metadata": {
    "id": "1tF0LnWRcuJu"
   },
   "source": [
    "<details>    \n",
    "<summary>\n",
    "    <font size=\"3\" color=\"darkgreen\"><b>Solution (click to expand)</b></font>\n",
    "</summary>\n",
    "<p>\n",
    "    <code>print(\"dtype:\", x.dtype)</code>\n",
    "</p>\n",
    "</details>\n",
    "\n",
    "\n",
    "#### 3. Print the *itemsize* and *nbytes* of x."
   ]
  },
  {
   "cell_type": "code",
   "execution_count": 17,
   "id": "9c1566a9",
   "metadata": {
    "id": "pI6x-X_EcuJv"
   },
   "outputs": [
    {
     "name": "stdout",
     "output_type": "stream",
     "text": [
      "itemsize: 8 bytes\n",
      "nbytes: 72 bytes\n"
     ]
    }
   ],
   "source": [
    "# INSERT YOUR CODE BELOW.\n",
    "print(\"itemsize:\", x.itemsize, \"bytes\")\n",
    "print(\"nbytes:\", x.nbytes, \"bytes\")"
   ]
  },
  {
   "cell_type": "markdown",
   "id": "eb4652ba",
   "metadata": {},
   "source": [
    "<details>    \n",
    "<summary>\n",
    "    <font size=\"3\" color=\"darkgreen\"><b>Solution (click to expand)</b></font>\n",
    "</summary>\n",
    "<p>\n",
    "    <code>print(\"itemsize:\", x.itemsize , \"bytes\")</code><br />\n",
    "    <code>print(\"nbytes:\", x.nbytes , \"bytes\")</code>\n",
    "</p>\n",
    "</details>"
   ]
  }
 ],
 "metadata": {
  "kernelspec": {
   "display_name": "Python 3 (ipykernel)",
   "language": "python",
   "name": "python3"
  },
  "language_info": {
   "codemirror_mode": {
    "name": "ipython",
    "version": 3
   },
   "file_extension": ".py",
   "mimetype": "text/x-python",
   "name": "python",
   "nbconvert_exporter": "python",
   "pygments_lexer": "ipython3",
   "version": "3.9.12"
  }
 },
 "nbformat": 4,
 "nbformat_minor": 5
}
