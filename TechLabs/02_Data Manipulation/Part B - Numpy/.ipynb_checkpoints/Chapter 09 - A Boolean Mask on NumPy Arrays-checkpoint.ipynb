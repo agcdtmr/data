{
 "cells": [
  {
   "cell_type": "code",
   "execution_count": null,
   "id": "b29c306a",
   "metadata": {},
   "outputs": [],
   "source": [
    "# RUN THIS COMMAND ONLY IF YOU USE GOOGLE COLAB.\n",
    "from google.colab import drive\n",
    "drive.mount('/content/drive')"
   ]
  },
  {
   "cell_type": "code",
   "execution_count": null,
   "id": "d611f4fe",
   "metadata": {},
   "outputs": [],
   "source": [
    "# RUN THIS COMMAND ONLY IF YOU USE GOOGLE COLAB.\n",
    "%cd drive/MyDrive/TechLabs/02_Data\\ Manipulation/Part\\ B\\ -\\ Numpy"
   ]
  },
  {
   "cell_type": "code",
   "execution_count": null,
   "id": "5a1125b9",
   "metadata": {},
   "outputs": [],
   "source": [
    "# ALWAYS IMPORT NUMPY FIRST.\n",
    "import numpy as np\n",
    "# LIBRARIES NEEDED FOR THE EXAMPLE.\n",
    "import pandas as pd\n",
    "%matplotlib inline\n",
    "import matplotlib.pyplot as plt\n",
    "import seaborn; seaborn.set()"
   ]
  },
  {
   "cell_type": "markdown",
   "id": "5b0b76d6",
   "metadata": {},
   "source": [
    "# Chapter 9 - A Boolean Mask on NumPy Arrays\n",
    "### Hey Techie,   \n",
    "Welcome to the final notebook of this Numpy tutorial series. We encourage you to take this notebook as a template to code along the instruction video, which you may find at: https://youtu.be/LL7dnUymOvo. Today's video explains how to use boolean masks in Numpy arrays. In the end, please try to solve the presented tasks. In case you are interested, you find a complete walk through the tasks at: https://youtu.be/e6C1Z-o1fyQ. \n",
    "\n",
    "#### Have fun! :-)   \n",
    "*Video length in total*: 28 minutes   \n",
    "*Self-study time*: 28 minutes   \n",
    "*Total*: **56 minutes**   \n",
    "#### Credits\n",
    "Complete Python Numpy Tutorial for Beginners, Nate at StrataScratch, https://www.youtube.com/channel/UCW8Ews7tdKKkBT6GdtQaXvQ.\n",
    "<hr style=\"border:2px solid gray\"> </hr>   "
   ]
  },
  {
   "cell_type": "markdown",
   "id": "d0b523df",
   "metadata": {
    "colab_type": "text",
    "id": "-MCet4WNllEv"
   },
   "source": [
    "# Comparisons, Masks, and Boolean Logic"
   ]
  },
  {
   "cell_type": "markdown",
   "id": "b2d43931",
   "metadata": {
    "colab_type": "text",
    "id": "XsjzNN0_llEw"
   },
   "source": [
    "This section covers the use of Boolean masks to examine and manipulate values within NumPy arrays.\n",
    "Masking comes up when you want to extract, modify, count, or otherwise manipulate values in an array based on some criterion: for example, you might wish to count all values greater than a certain value, or perhaps remove all outliers that are above some threshold.\n",
    "In NumPy, Boolean masking is often the most efficient way to accomplish these types of tasks."
   ]
  },
  {
   "cell_type": "markdown",
   "id": "801486be",
   "metadata": {
    "colab_type": "text",
    "id": "jS-3oxKlllEx"
   },
   "source": [
    "## Example: Counting Rainy Days\n",
    "\n",
    "Imagine you have a series of data that represents the amount of precipitation each day for a year in a given city.\n",
    "For example, here we'll load the daily rainfall statistics for the city of Seattle in 2014 using pandas."
   ]
  },
  {
   "cell_type": "markdown",
   "id": "3106100c",
   "metadata": {
    "colab_type": "text",
    "id": "-IkVLPVbg1AS"
   },
   "source": [
    "### Import data from the Strata Scratch platform"
   ]
  },
  {
   "cell_type": "code",
   "execution_count": null,
   "id": "a81705fe",
   "metadata": {
    "colab": {},
    "colab_type": "code",
    "id": "PCX4vvteQH3B"
   },
   "outputs": [],
   "source": [
    "rainfall = pd.read_csv('data/seattle_2014.csv')"
   ]
  },
  {
   "cell_type": "code",
   "execution_count": null,
   "id": "096a5e9c",
   "metadata": {
    "colab": {
     "base_uri": "https://localhost:8080/",
     "height": 34
    },
    "colab_type": "code",
    "executionInfo": {
     "elapsed": 562,
     "status": "ok",
     "timestamp": 1589578527407,
     "user": {
      "displayName": "Strata Scratch",
      "photoUrl": "https://lh3.googleusercontent.com/a-/AOh14GitCYdnVuBbsvpdX32_cZm7A2B1VefuTSZ2i-ewq1lXIHQYIUW4fWPR0gc5Ru69LiC2a8Jw-q5np-OtPbnqlBs6OstixeRA4dKwvZhohUp1ZMk7qVz1YvRx2QzLxy3UACN3yRfKVQNMmf5z3FNESZflLj4i0jz5mkCFywyM9X58Tqm3Wd4BBe7aI8663sJbmjpo_Z0br5HSqKcacIZdPCIRMRHXGfo1Fwk9u8CuetcGgg9we8MEejFj_Bys4rvigyn8B0M4suiK9E3WNeTbh0sapKS59w6_En9eZ_3SUT4TCaWpobIbD7fBDMmv-6OYgjlmKhvEqndUUZqJp5DxR-oHV5IgH4iXVhteliBkUCoLc56KyEYW31U0Vb54bWddgEWhniq4SL3IYbmop4FN3YwRGAd_faWwMG-TQkkgRknzcUQNMOxeCybyxNotIzkOWHGybUxz8ekleMPXQzxSr-PnbS5RX325yMZQW9iLAGafbT7BG9rgFBupBrdchHlobnNWSC_-J96MSJ-TKOOP5TZFrWVO3o3c3HIhB8K60LMrk1gun1SakWEpSyTV4tYcnjIYuARGe0r-VWXEu61g_EskawF5jgNqu2NYfi6F-OHvTAZOCEsB9YiMiCyJt0zxzD7OCWWeFa6jmz-6m65i1o61MSUga1AELh25SNWBe4ZDTef0M22tE8oA8oBZ1OHACvRV6gR1FtSQdpUOeu-okxKN9hFd8HLn2yyGB11Om0-0_bj9OdhaJiWa9RuZdvhLJA=s64",
      "userId": "17044389388162035463"
     },
     "user_tz": 420
    },
    "id": "R8JQqkHng1A6",
    "outputId": "5eaf9e24-d222-49a9-9f4d-9205817630f9"
   },
   "outputs": [],
   "source": [
    "inches = rainfall['prcp'] / 254.0  # 1/10mm -> inches\n",
    "inches.shape"
   ]
  },
  {
   "cell_type": "markdown",
   "id": "cb10644e",
   "metadata": {
    "colab_type": "text",
    "id": "nJzEoRAOllE2"
   },
   "source": [
    "The array contains 365 values, giving daily rainfall in inches from January 1 to December 31, 2014.\n",
    "\n",
    "As a first quick visualization, let's look at the histogram of rainy days, which was generated using Matplotlib."
   ]
  },
  {
   "cell_type": "code",
   "execution_count": null,
   "id": "225f65fb",
   "metadata": {
    "colab": {
     "base_uri": "https://localhost:8080/",
     "height": 268
    },
    "colab_type": "code",
    "executionInfo": {
     "elapsed": 1542,
     "status": "ok",
     "timestamp": 1589578533150,
     "user": {
      "displayName": "Strata Scratch",
      "photoUrl": "https://lh3.googleusercontent.com/a-/AOh14GitCYdnVuBbsvpdX32_cZm7A2B1VefuTSZ2i-ewq1lXIHQYIUW4fWPR0gc5Ru69LiC2a8Jw-q5np-OtPbnqlBs6OstixeRA4dKwvZhohUp1ZMk7qVz1YvRx2QzLxy3UACN3yRfKVQNMmf5z3FNESZflLj4i0jz5mkCFywyM9X58Tqm3Wd4BBe7aI8663sJbmjpo_Z0br5HSqKcacIZdPCIRMRHXGfo1Fwk9u8CuetcGgg9we8MEejFj_Bys4rvigyn8B0M4suiK9E3WNeTbh0sapKS59w6_En9eZ_3SUT4TCaWpobIbD7fBDMmv-6OYgjlmKhvEqndUUZqJp5DxR-oHV5IgH4iXVhteliBkUCoLc56KyEYW31U0Vb54bWddgEWhniq4SL3IYbmop4FN3YwRGAd_faWwMG-TQkkgRknzcUQNMOxeCybyxNotIzkOWHGybUxz8ekleMPXQzxSr-PnbS5RX325yMZQW9iLAGafbT7BG9rgFBupBrdchHlobnNWSC_-J96MSJ-TKOOP5TZFrWVO3o3c3HIhB8K60LMrk1gun1SakWEpSyTV4tYcnjIYuARGe0r-VWXEu61g_EskawF5jgNqu2NYfi6F-OHvTAZOCEsB9YiMiCyJt0zxzD7OCWWeFa6jmz-6m65i1o61MSUga1AELh25SNWBe4ZDTef0M22tE8oA8oBZ1OHACvRV6gR1FtSQdpUOeu-okxKN9hFd8HLn2yyGB11Om0-0_bj9OdhaJiWa9RuZdvhLJA=s64",
      "userId": "17044389388162035463"
     },
     "user_tz": 420
    },
    "id": "jGQyizfYllE4",
    "outputId": "67846de1-e60c-4902-cbdc-dbb4a193ae3e"
   },
   "outputs": [],
   "source": [
    "plt.hist(inches, 40);"
   ]
  },
  {
   "cell_type": "markdown",
   "id": "a150fa71",
   "metadata": {
    "colab_type": "text",
    "id": "3LzmPpCOllE7"
   },
   "source": [
    "This histogram gives us a general idea of what the data looks like: despite its reputation, the vast majority of days in Seattle saw near zero measured rainfall in 2014.\n",
    "But this doesn't do a good job of conveying some information we'd like to see: for example, how many rainy days were there in the year? What is the average precipitation on those rainy days? How many days were there with more than half an inch of rain?"
   ]
  },
  {
   "cell_type": "markdown",
   "id": "4821fe44",
   "metadata": {
    "colab_type": "text",
    "id": "PmTBo6-mllE8"
   },
   "source": [
    "## Comparison Operators as ufuncs\n",
    "\n",
    "We introduced ufuncs, and focused in particular on arithmetic operators. We saw that using ``+``, ``-``, ``*``, ``/``, and others on arrays leads to element-wise operations.\n",
    "NumPy also implements comparison operators such as ``<`` (less than) and ``>`` (greater than) as element-wise ufuncs.\n",
    "The result of these comparison operators is always an array with a Boolean data type.\n",
    "All six of the standard comparison operations are available:"
   ]
  },
  {
   "cell_type": "code",
   "execution_count": null,
   "id": "3f1186e8",
   "metadata": {
    "colab": {},
    "colab_type": "code",
    "id": "wjdX9MPUllE8"
   },
   "outputs": [],
   "source": [
    "x = np.array([1, 2, 3, 4, 5])"
   ]
  },
  {
   "cell_type": "code",
   "execution_count": null,
   "id": "03a1d2a3",
   "metadata": {
    "colab": {},
    "colab_type": "code",
    "id": "iz7LGitdllE-",
    "outputId": "7e5426e0-ea36-4949-e719-6694cb2a5059"
   },
   "outputs": [],
   "source": [
    "x < 3  # less than"
   ]
  },
  {
   "cell_type": "code",
   "execution_count": null,
   "id": "1fc0f149",
   "metadata": {
    "colab": {},
    "colab_type": "code",
    "id": "KC6jM7EallFA",
    "outputId": "a66d46b8-7ebb-46db-e209-137314a9e2a1"
   },
   "outputs": [],
   "source": [
    "x > 3  # greater than"
   ]
  },
  {
   "cell_type": "code",
   "execution_count": null,
   "id": "0618f009",
   "metadata": {
    "colab": {},
    "colab_type": "code",
    "id": "jolf8wiallFC",
    "outputId": "e7dd25fe-b00c-4052-b517-ba075cb8813c"
   },
   "outputs": [],
   "source": [
    "x <= 3  # less than or equal"
   ]
  },
  {
   "cell_type": "code",
   "execution_count": null,
   "id": "79ef4b0f",
   "metadata": {
    "colab": {},
    "colab_type": "code",
    "id": "Kv29eE42llFF",
    "outputId": "abd7a037-3bee-4f06-94ba-f46f2403a941"
   },
   "outputs": [],
   "source": [
    "x >= 3  # greater than or equal"
   ]
  },
  {
   "cell_type": "code",
   "execution_count": null,
   "id": "2b7bd2d1",
   "metadata": {
    "colab": {},
    "colab_type": "code",
    "id": "28LYHt6gllFH",
    "outputId": "0f31c894-7413-45fa-9210-44064a297d2c"
   },
   "outputs": [],
   "source": [
    "x != 3  # not equal"
   ]
  },
  {
   "cell_type": "code",
   "execution_count": null,
   "id": "f28b8b27",
   "metadata": {
    "colab": {},
    "colab_type": "code",
    "id": "0JSUOgXCllFJ",
    "outputId": "b15690fd-3f3f-42d1-dc9b-27f37a85c89a"
   },
   "outputs": [],
   "source": [
    "x == 3  # equal"
   ]
  },
  {
   "cell_type": "markdown",
   "id": "fb0c2f04",
   "metadata": {
    "colab_type": "text",
    "id": "DLOJq4hCllFM"
   },
   "source": [
    "It is also possible to do an element-wise comparison of two arrays, and to include compound expressions:"
   ]
  },
  {
   "cell_type": "code",
   "execution_count": null,
   "id": "36ecff19",
   "metadata": {
    "colab": {},
    "colab_type": "code",
    "id": "G6JlDrCYllFN",
    "outputId": "5117eb6a-ba7a-4d20-9d7c-65391680012f"
   },
   "outputs": [],
   "source": [
    "(2 * x) == (x ** 2)"
   ]
  },
  {
   "cell_type": "markdown",
   "id": "acaa679f",
   "metadata": {
    "colab_type": "text",
    "id": "zA_oBmQBllFQ"
   },
   "source": [
    "As in the case of arithmetic operators, the comparison operators are implemented as ufuncs in NumPy; for example, when you write ``x < 3``, internally NumPy uses ``np.less(x, 3)``.\n",
    "    A summary of the comparison operators and their equivalent ufunc is shown here:\n",
    "\n",
    "| Operator\t    | Equivalent ufunc    || Operator\t   | Equivalent ufunc    |\n",
    "|---------------|---------------------||---------------|---------------------|\n",
    "|``==``         |``np.equal``         ||``!=``         |``np.not_equal``     |\n",
    "|``<``          |``np.less``          ||``<=``         |``np.less_equal``    |\n",
    "|``>``          |``np.greater``       ||``>=``         |``np.greater_equal`` |"
   ]
  },
  {
   "cell_type": "markdown",
   "id": "3bea4976",
   "metadata": {
    "colab_type": "text",
    "id": "KU273Wc0llFR"
   },
   "source": [
    "Just as in the case of arithmetic ufuncs, these will work on arrays of any size and shape.\n",
    "Here is a two-dimensional example:"
   ]
  },
  {
   "cell_type": "code",
   "execution_count": null,
   "id": "35473c6d",
   "metadata": {
    "colab": {},
    "colab_type": "code",
    "id": "RhuKvMsDllFR",
    "outputId": "3860ce65-94b9-4257-9e1c-fcfbb58fe229"
   },
   "outputs": [],
   "source": [
    "rng = np.random.RandomState(0)\n",
    "x = rng.randint(10, size=(3, 4))\n",
    "x"
   ]
  },
  {
   "cell_type": "code",
   "execution_count": null,
   "id": "1c752bfc",
   "metadata": {
    "colab": {},
    "colab_type": "code",
    "id": "FwNfz3ThllFU",
    "outputId": "425b7b3e-ccbb-4209-e49d-f3e1dec7e51c"
   },
   "outputs": [],
   "source": [
    "x < 6"
   ]
  },
  {
   "cell_type": "markdown",
   "id": "1371afef",
   "metadata": {
    "colab_type": "text",
    "id": "aw-VIQEnllFW"
   },
   "source": [
    "In each case, the result is a Boolean array, and NumPy provides a number of straightforward patterns for working with these Boolean results."
   ]
  },
  {
   "cell_type": "markdown",
   "id": "702a048c",
   "metadata": {
    "colab_type": "text",
    "id": "OlT_kgOUllF2"
   },
   "source": [
    "## Boolean Arrays as Masks\n",
    "\n",
    "In the preceding section we looked at aggregates computed directly on Boolean arrays.\n",
    "A more powerful pattern is to use Boolean arrays as masks, to select particular subsets of the data themselves.\n",
    "Returning to our ``x`` array from before, suppose we want an array of all values in the array that are less than, say, 5:"
   ]
  },
  {
   "cell_type": "code",
   "execution_count": null,
   "id": "c9ea47a5",
   "metadata": {
    "colab": {},
    "colab_type": "code",
    "id": "h04ASgBMllF3",
    "outputId": "932c81a8-e88e-49c5-f887-76ddbc624e65"
   },
   "outputs": [],
   "source": [
    "x"
   ]
  },
  {
   "cell_type": "markdown",
   "id": "b5027d30",
   "metadata": {
    "colab_type": "text",
    "id": "MrheDFyRllF4"
   },
   "source": [
    "We can obtain a Boolean array for this condition easily, as we've already seen:"
   ]
  },
  {
   "cell_type": "code",
   "execution_count": null,
   "id": "bade11a6",
   "metadata": {
    "colab": {},
    "colab_type": "code",
    "id": "VyonbFbUllF5",
    "outputId": "7c559209-dc56-42c0-911a-1df46655cd11"
   },
   "outputs": [],
   "source": [
    "x < 5"
   ]
  },
  {
   "cell_type": "markdown",
   "id": "8964b79b",
   "metadata": {
    "colab_type": "text",
    "id": "1qI55Uy7llF7"
   },
   "source": [
    "Now to *select* these values from the array, we can simply index on this Boolean array; this is known as a *masking* operation:"
   ]
  },
  {
   "cell_type": "code",
   "execution_count": null,
   "id": "212c1be3",
   "metadata": {
    "colab": {},
    "colab_type": "code",
    "id": "r0TfQwwqllF7",
    "outputId": "2f8a8ad2-48ee-496e-b361-faa1057382a0"
   },
   "outputs": [],
   "source": [
    "x[x < 5]"
   ]
  },
  {
   "cell_type": "markdown",
   "id": "7d325e69",
   "metadata": {
    "colab_type": "text",
    "id": "DlNF4ENcllF9"
   },
   "source": [
    "What is returned is a one-dimensional array filled with all the values that meet this condition; in other words, all the values in positions at which the mask array is ``True``.\n",
    "\n",
    "We are then free to operate on these values as we wish.\n",
    "For example, we can compute some relevant statistics on our Seattle rain data:"
   ]
  },
  {
   "cell_type": "code",
   "execution_count": null,
   "id": "a42e0e09",
   "metadata": {
    "colab": {},
    "colab_type": "code",
    "id": "NEsuz2lZllF-",
    "outputId": "e8416d21-6a9c-4731-e1a1-ad61b897fb7e"
   },
   "outputs": [],
   "source": [
    "# construct a mask of all rainy days\n",
    "rainy = (inches > 0)\n",
    "\n",
    "# construct a mask of all summer days (June 21st is the 172nd day)\n",
    "days = np.arange(365)\n",
    "summer = (days > 172) & (days < 262)\n",
    "\n",
    "print(\"Median precip on rainy days in 2014 (inches):   \",\n",
    "      np.median(inches[rainy]))\n",
    "print(\"Median precip on summer days in 2014 (inches):  \",\n",
    "      np.median(inches[summer]))\n",
    "print(\"Maximum precip on summer days in 2014 (inches): \",\n",
    "      np.max(inches[summer]))\n",
    "print(\"Median precip on non-summer rainy days (inches):\",\n",
    "      np.median(inches[rainy & ~summer]))"
   ]
  },
  {
   "cell_type": "markdown",
   "id": "35e36235",
   "metadata": {
    "colab_type": "text",
    "id": "yYqnUArjllGB"
   },
   "source": [
    "By combining Boolean operations, masking operations, and aggregates, we can very quickly answer these sorts of questions for our dataset."
   ]
  },
  {
   "cell_type": "markdown",
   "id": "fe7db892",
   "metadata": {},
   "source": [
    "<hr style=\"border:2px solid gray\"> </hr>   \n",
    "\n",
    "## Practice Tasks\n",
    "#### 1. Create a boolean mask of x for values less than or equal to 2."
   ]
  },
  {
   "cell_type": "code",
   "execution_count": null,
   "id": "e1efb95a",
   "metadata": {
    "colab": {},
    "colab_type": "code",
    "id": "wjdX9MPUllE8"
   },
   "outputs": [],
   "source": [
    "x = np.arange(-3, 5)\n",
    "# START YOUR CODE HERE.\n"
   ]
  },
  {
   "cell_type": "markdown",
   "id": "ea5e492b",
   "metadata": {
    "colab_type": "text",
    "id": "Hv2N-sEnhfPq"
   },
   "source": [
    "<details>    \n",
    "<summary>\n",
    "    <font size=\"3\" color=\"darkgreen\"><b>Solution (click to expand)</b></font>\n",
    "</summary>\n",
    "<p>\n",
    "    <code>x <= 2</code><br />\n",
    "</p>\n",
    "</details>\n",
    "\n",
    "#### 2. Create a boolean mask of x for values equal to -1."
   ]
  },
  {
   "cell_type": "code",
   "execution_count": null,
   "id": "816292e1",
   "metadata": {
    "colab": {},
    "colab_type": "code",
    "id": "jolf8wiallFC"
   },
   "outputs": [],
   "source": [
    "# START YOUR CODE HERE.\n"
   ]
  },
  {
   "cell_type": "markdown",
   "id": "be455217",
   "metadata": {
    "colab_type": "text",
    "id": "u-NmfSFmhfPt"
   },
   "source": [
    "<details>    \n",
    "<summary>\n",
    "    <font size=\"3\" color=\"darkgreen\"><b>Solution (click to expand)</b></font>\n",
    "</summary>\n",
    "<p>\n",
    "    <code>x == -1</code><br />\n",
    "</p>\n",
    "</details>\n",
    "\n",
    "#### 3. Create a boolean mask of x for all positive values."
   ]
  },
  {
   "cell_type": "code",
   "execution_count": null,
   "id": "866e6366",
   "metadata": {
    "colab": {},
    "colab_type": "code",
    "id": "KC6jM7EallFA"
   },
   "outputs": [],
   "source": [
    "# START YOUR CODE HERE.\n"
   ]
  },
  {
   "cell_type": "markdown",
   "id": "060722d6",
   "metadata": {
    "colab_type": "text",
    "id": "yJbF_AxKhfPw"
   },
   "source": [
    "<details>    \n",
    "<summary>\n",
    "    <font size=\"3\" color=\"darkgreen\"><b>Solution (click to expand)</b></font>\n",
    "</summary>\n",
    "<p>\n",
    "    <code>x > 0</code><br />\n",
    "</p>\n",
    "</details>\n",
    "\n",
    "#### 4. Create a boolean mask of x for all even values. (Hint:  Modulo)"
   ]
  },
  {
   "cell_type": "code",
   "execution_count": null,
   "id": "e8e5b600",
   "metadata": {
    "colab": {},
    "colab_type": "code",
    "id": "Kv29eE42llFF"
   },
   "outputs": [],
   "source": [
    "# START YOUR CODE HERE.\n"
   ]
  },
  {
   "cell_type": "markdown",
   "id": "1051deb5",
   "metadata": {
    "colab_type": "text",
    "id": "MrheDFyRllF4"
   },
   "source": [
    "<details>    \n",
    "<summary>\n",
    "    <font size=\"3\" color=\"darkgreen\"><b>Solution (click to expand)</b></font>\n",
    "</summary>\n",
    "<p>\n",
    "    <code>x%2 == 0</code><br />\n",
    "</p>\n",
    "</details>\n",
    "\n",
    "#### 5. Create a boolean mask 'greater' of x for values greater than 4. Create an array of x for values greater than four using a masking operation."
   ]
  },
  {
   "cell_type": "code",
   "execution_count": null,
   "id": "6e787573",
   "metadata": {
    "colab": {},
    "colab_type": "code",
    "id": "VyonbFbUllF5"
   },
   "outputs": [],
   "source": [
    "np.random.seed(1)  # seed for reproducibility\n",
    "x = np.random.randint(10, size=(3, 4))\n",
    "# START YOUR CODE HERE.\n"
   ]
  },
  {
   "cell_type": "markdown",
   "id": "d8ae846c",
   "metadata": {
    "colab_type": "text",
    "id": "1qI55Uy7llF7"
   },
   "source": [
    "<details>    \n",
    "<summary>\n",
    "    <font size=\"3\" color=\"darkgreen\"><b>Solution (click to expand)</b></font>\n",
    "</summary>\n",
    "<p>\n",
    "    <code>x[x > 4]</code><br />\n",
    "</p>\n",
    "</details>\n",
    "\n",
    "#### 6. Create a boolean mask 'odd' of x for all odd values. Create an array of x for those odd values using a masking operation."
   ]
  },
  {
   "cell_type": "code",
   "execution_count": null,
   "id": "08dba904",
   "metadata": {
    "colab": {},
    "colab_type": "code",
    "id": "r0TfQwwqllF7"
   },
   "outputs": [],
   "source": [
    "# START YOUR CODE HERE.\n"
   ]
  },
  {
   "cell_type": "markdown",
   "id": "c11bc41f",
   "metadata": {
    "colab_type": "text",
    "id": "SLk7OAyFhfQD"
   },
   "source": [
    "<details>    \n",
    "<summary>\n",
    "    <font size=\"3\" color=\"darkgreen\"><b>Solution (click to expand)</b></font>\n",
    "</summary>\n",
    "<p>\n",
    "    <code>x[x%2!=0]</code><br />\n",
    "</p>\n",
    "</details>\n",
    "\n",
    "#### 7. Create an array of x containing all values that are greater than 4 and are not odd using boolean operators and a masking operation."
   ]
  },
  {
   "cell_type": "code",
   "execution_count": null,
   "id": "a58b35f7",
   "metadata": {
    "colab": {},
    "colab_type": "code",
    "id": "kkpt7OAMhfQD"
   },
   "outputs": [],
   "source": [
    "# START YOUR CODE HERE.\n"
   ]
  },
  {
   "cell_type": "markdown",
   "id": "e3e94ac9",
   "metadata": {},
   "source": [
    "<details>    \n",
    "<summary>\n",
    "    <font size=\"3\" color=\"darkgreen\"><b>Solution (click to expand)</b></font>\n",
    "</summary>\n",
    "<p>\n",
    "    <code>x[(x > 4) & (x%2 != 0)]</code><br />\n",
    "</p>\n",
    "</details>"
   ]
  }
 ],
 "metadata": {
  "kernelspec": {
   "display_name": "Python 3 (ipykernel)",
   "language": "python",
   "name": "python3"
  },
  "language_info": {
   "codemirror_mode": {
    "name": "ipython",
    "version": 3
   },
   "file_extension": ".py",
   "mimetype": "text/x-python",
   "name": "python",
   "nbconvert_exporter": "python",
   "pygments_lexer": "ipython3",
   "version": "3.8.9"
  }
 },
 "nbformat": 4,
 "nbformat_minor": 5
}
