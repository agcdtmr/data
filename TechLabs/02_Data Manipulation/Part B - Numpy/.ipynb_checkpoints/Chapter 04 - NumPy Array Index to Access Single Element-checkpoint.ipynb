{
 "cells": [
  {
   "cell_type": "code",
   "execution_count": null,
   "id": "b29c306a",
   "metadata": {},
   "outputs": [],
   "source": [
    "# RUN THIS COMMAND ONLY IF YOU USE GOOGLE COLAB.\n",
    "from google.colab import drive\n",
    "drive.mount('/content/drive')"
   ]
  },
  {
   "cell_type": "code",
   "execution_count": null,
   "id": "d611f4fe",
   "metadata": {},
   "outputs": [],
   "source": [
    "# RUN THIS COMMAND ONLY IF YOU USE GOOGLE COLAB.\n",
    "%cd drive/MyDrive/TechLabs/02_Data\\ Manipulation/Part\\ B\\ -\\ Numpy"
   ]
  },
  {
   "cell_type": "code",
   "execution_count": 4,
   "id": "5a1125b9",
   "metadata": {},
   "outputs": [],
   "source": [
    "# ALWAYS IMPORT NUMPY FIRST.\n",
    "import numpy as np"
   ]
  },
  {
   "cell_type": "markdown",
   "id": "5b0b76d6",
   "metadata": {},
   "source": [
    "# Chapter 04 - NumPy Array Index to Access Single Element \n",
    "### Hey Techie,   \n",
    "Welcome to the fourth notebook of this Numpy tutorial series. We encourage you to take this notebook as a template to code along the instruction video, which you may find at: https://www.youtube.com/watch?v=sKMuioo7Xf8. Today's video explains the fundamentals of indexing arrays. In the end, please try to solve the presented tasks. In case you are interested, you find a complete walk through the tasks at: https://youtu.be/Yk3H3VRDfm0 (*relevant part starting at 6:15 min*). \n",
    "\n",
    "#### Have fun! :-)   \n",
    "*Video length in total*: 13 minutes   \n",
    "*Self-study time*: 13 minutes   \n",
    "*Total*: **26 minutes**   \n",
    "#### Credits\n",
    "Complete Python Numpy Tutorial for Beginners, Nate at StrataScratch, https://www.youtube.com/channel/UCW8Ews7tdKKkBT6GdtQaXvQ.\n",
    "<hr style=\"border:2px solid gray\"> </hr>   "
   ]
  },
  {
   "cell_type": "markdown",
   "id": "8daf7a67",
   "metadata": {
    "colab_type": "text",
    "id": "g5H3ro4UcuJy"
   },
   "source": [
    "## Array Indexing: Accessing Single Elements"
   ]
  },
  {
   "cell_type": "markdown",
   "id": "a00679c4",
   "metadata": {
    "colab_type": "text",
    "id": "82CeI2WHcuJy"
   },
   "source": [
    "If you are familiar with Python's standard list indexing, indexing in NumPy will feel quite familiar.\n",
    "In a one-dimensional array, the $i^{th}$ value (counting from zero) can be accessed by specifying the desired index in square brackets, just as with Python lists:"
   ]
  },
  {
   "cell_type": "code",
   "execution_count": 6,
   "id": "5d02d6e0",
   "metadata": {},
   "outputs": [],
   "source": [
    "np.random.seed(0)  # seed for reproducibility\n",
    "\n",
    "x1 = np.random.randint(10, size=6)  # One-dimensional array\n",
    "x2 = np.random.randint(10, size=(3, 4))  # Two-dimensional array\n",
    "x3 = np.random.randint(10, size=(3, 4, 5))  # Three-dimensional array"
   ]
  },
  {
   "cell_type": "code",
   "execution_count": 7,
   "id": "f00250e4",
   "metadata": {
    "colab": {
     "base_uri": "https://localhost:8080/"
    },
    "colab_type": "code",
    "executionInfo": {
     "elapsed": 2937,
     "status": "ok",
     "timestamp": 1593989686193,
     "user": {
      "displayName": "StrataScratch Team",
      "photoUrl": "https://lh3.googleusercontent.com/a-/AOh14GiGK63dtW9acM3jHkRfj4-UOzVsKLa-kgNxbCK8a4jqcDOb1j9M8lxSiEHAqWgAkHg7ba24OUjUnZd-SZqErlj2EIwbpqiuMApVBC4j-VTn5geFXVLj6pwNrVCYt1er_lVA_47-cqOy7jE5Rk8U_kIEk6C8kmdRru20cUkylWnYkKYBVXplxIBmvvemTvz5YRQxbgxOWLecE41ZTt6gMCo22i_9RBn4Trle7Qe5TGkpvUfu8AoVjWS-c3m2tR4gOYsGI9IrLF7YkN3yTS8_fOPGFkHmCMAV0SqUmv1cYjhWRxBrTMjGiAHV2PUfxvKoFKfketXUNG5yyBuHMKxV0bIc8gWil3Fx9_tl4Vwx-4bsBlEErQxe9JetDn_OJA_BpkDPGbQRYAhvjbll0PQjJUtuvOKfgyYWwq6RPG6ZBrcoGLE-N87otH1q6HoBsWFp64Nb3f0I9iGjk5u_dCnuscJ1B0uNt-Kk6Cqly6sae6rujILmXYg6A9dpf7Ab_GlQ5EjP3FJyYH2Qlyrd4FFCQUFbT-hAn7EcS7IKhsGrc3PKtMUktJmqoA-hWJFAbEFhp3xuM2qjp5dgv-r_FxJHs2t-RVhCBum9Con9_jvjokRxiAgA1XhQdF0SXA7HV-yyjs9Si7uHUNutnHCqFMNSsUpWW4TPz8OwuKVauJwhDYZLjOTtxKVzvNmm0oS9U_KoSHKZMwO0OsC7JfiMzlbAD38fS-tj3_fc8RmX29JxOgop0w30OBG9xUywfb1FGuEb5A=s64",
      "userId": "17044389388162035463"
     },
     "user_tz": 420
    },
    "id": "F1fh2yG_cuJz",
    "outputId": "9f0f22c5-9d90-400d-cdad-9d641f87f52e"
   },
   "outputs": [
    {
     "data": {
      "text/plain": [
       "array([5, 0, 3, 3, 7, 9])"
      ]
     },
     "execution_count": 7,
     "metadata": {},
     "output_type": "execute_result"
    }
   ],
   "source": [
    "x1 "
   ]
  },
  {
   "cell_type": "code",
   "execution_count": 8,
   "id": "21abef88",
   "metadata": {
    "colab": {
     "base_uri": "https://localhost:8080/"
    },
    "colab_type": "code",
    "executionInfo": {
     "elapsed": 2930,
     "status": "ok",
     "timestamp": 1593989686194,
     "user": {
      "displayName": "StrataScratch Team",
      "photoUrl": "https://lh3.googleusercontent.com/a-/AOh14GiGK63dtW9acM3jHkRfj4-UOzVsKLa-kgNxbCK8a4jqcDOb1j9M8lxSiEHAqWgAkHg7ba24OUjUnZd-SZqErlj2EIwbpqiuMApVBC4j-VTn5geFXVLj6pwNrVCYt1er_lVA_47-cqOy7jE5Rk8U_kIEk6C8kmdRru20cUkylWnYkKYBVXplxIBmvvemTvz5YRQxbgxOWLecE41ZTt6gMCo22i_9RBn4Trle7Qe5TGkpvUfu8AoVjWS-c3m2tR4gOYsGI9IrLF7YkN3yTS8_fOPGFkHmCMAV0SqUmv1cYjhWRxBrTMjGiAHV2PUfxvKoFKfketXUNG5yyBuHMKxV0bIc8gWil3Fx9_tl4Vwx-4bsBlEErQxe9JetDn_OJA_BpkDPGbQRYAhvjbll0PQjJUtuvOKfgyYWwq6RPG6ZBrcoGLE-N87otH1q6HoBsWFp64Nb3f0I9iGjk5u_dCnuscJ1B0uNt-Kk6Cqly6sae6rujILmXYg6A9dpf7Ab_GlQ5EjP3FJyYH2Qlyrd4FFCQUFbT-hAn7EcS7IKhsGrc3PKtMUktJmqoA-hWJFAbEFhp3xuM2qjp5dgv-r_FxJHs2t-RVhCBum9Con9_jvjokRxiAgA1XhQdF0SXA7HV-yyjs9Si7uHUNutnHCqFMNSsUpWW4TPz8OwuKVauJwhDYZLjOTtxKVzvNmm0oS9U_KoSHKZMwO0OsC7JfiMzlbAD38fS-tj3_fc8RmX29JxOgop0w30OBG9xUywfb1FGuEb5A=s64",
      "userId": "17044389388162035463"
     },
     "user_tz": 420
    },
    "id": "js4RYgV2cuJ2",
    "outputId": "59bbdad2-4791-4b49-a3a1-0ed69d23ca98"
   },
   "outputs": [
    {
     "data": {
      "text/plain": [
       "5"
      ]
     },
     "execution_count": 8,
     "metadata": {},
     "output_type": "execute_result"
    }
   ],
   "source": [
    "x1[0]"
   ]
  },
  {
   "cell_type": "markdown",
   "id": "7dd64a83",
   "metadata": {
    "colab_type": "text",
    "id": "FAygYumqcuJ6"
   },
   "source": [
    "To index from the end of the array, you can use negative indices:"
   ]
  },
  {
   "cell_type": "code",
   "execution_count": 9,
   "id": "ef2aaf80",
   "metadata": {
    "colab": {
     "base_uri": "https://localhost:8080/"
    },
    "colab_type": "code",
    "executionInfo": {
     "elapsed": 2930,
     "status": "ok",
     "timestamp": 1593989686198,
     "user": {
      "displayName": "StrataScratch Team",
      "photoUrl": "https://lh3.googleusercontent.com/a-/AOh14GiGK63dtW9acM3jHkRfj4-UOzVsKLa-kgNxbCK8a4jqcDOb1j9M8lxSiEHAqWgAkHg7ba24OUjUnZd-SZqErlj2EIwbpqiuMApVBC4j-VTn5geFXVLj6pwNrVCYt1er_lVA_47-cqOy7jE5Rk8U_kIEk6C8kmdRru20cUkylWnYkKYBVXplxIBmvvemTvz5YRQxbgxOWLecE41ZTt6gMCo22i_9RBn4Trle7Qe5TGkpvUfu8AoVjWS-c3m2tR4gOYsGI9IrLF7YkN3yTS8_fOPGFkHmCMAV0SqUmv1cYjhWRxBrTMjGiAHV2PUfxvKoFKfketXUNG5yyBuHMKxV0bIc8gWil3Fx9_tl4Vwx-4bsBlEErQxe9JetDn_OJA_BpkDPGbQRYAhvjbll0PQjJUtuvOKfgyYWwq6RPG6ZBrcoGLE-N87otH1q6HoBsWFp64Nb3f0I9iGjk5u_dCnuscJ1B0uNt-Kk6Cqly6sae6rujILmXYg6A9dpf7Ab_GlQ5EjP3FJyYH2Qlyrd4FFCQUFbT-hAn7EcS7IKhsGrc3PKtMUktJmqoA-hWJFAbEFhp3xuM2qjp5dgv-r_FxJHs2t-RVhCBum9Con9_jvjokRxiAgA1XhQdF0SXA7HV-yyjs9Si7uHUNutnHCqFMNSsUpWW4TPz8OwuKVauJwhDYZLjOTtxKVzvNmm0oS9U_KoSHKZMwO0OsC7JfiMzlbAD38fS-tj3_fc8RmX29JxOgop0w30OBG9xUywfb1FGuEb5A=s64",
      "userId": "17044389388162035463"
     },
     "user_tz": 420
    },
    "id": "m5W6w6y6Adn5",
    "outputId": "b118e868-7690-4be2-ce15-2ce3c96cec23"
   },
   "outputs": [
    {
     "data": {
      "text/plain": [
       "array([5, 0, 3, 3, 7, 9])"
      ]
     },
     "execution_count": 9,
     "metadata": {},
     "output_type": "execute_result"
    }
   ],
   "source": [
    "x1"
   ]
  },
  {
   "cell_type": "code",
   "execution_count": 10,
   "id": "30549de9",
   "metadata": {
    "colab": {
     "base_uri": "https://localhost:8080/"
    },
    "colab_type": "code",
    "executionInfo": {
     "elapsed": 2926,
     "status": "ok",
     "timestamp": 1593989686199,
     "user": {
      "displayName": "StrataScratch Team",
      "photoUrl": "https://lh3.googleusercontent.com/a-/AOh14GiGK63dtW9acM3jHkRfj4-UOzVsKLa-kgNxbCK8a4jqcDOb1j9M8lxSiEHAqWgAkHg7ba24OUjUnZd-SZqErlj2EIwbpqiuMApVBC4j-VTn5geFXVLj6pwNrVCYt1er_lVA_47-cqOy7jE5Rk8U_kIEk6C8kmdRru20cUkylWnYkKYBVXplxIBmvvemTvz5YRQxbgxOWLecE41ZTt6gMCo22i_9RBn4Trle7Qe5TGkpvUfu8AoVjWS-c3m2tR4gOYsGI9IrLF7YkN3yTS8_fOPGFkHmCMAV0SqUmv1cYjhWRxBrTMjGiAHV2PUfxvKoFKfketXUNG5yyBuHMKxV0bIc8gWil3Fx9_tl4Vwx-4bsBlEErQxe9JetDn_OJA_BpkDPGbQRYAhvjbll0PQjJUtuvOKfgyYWwq6RPG6ZBrcoGLE-N87otH1q6HoBsWFp64Nb3f0I9iGjk5u_dCnuscJ1B0uNt-Kk6Cqly6sae6rujILmXYg6A9dpf7Ab_GlQ5EjP3FJyYH2Qlyrd4FFCQUFbT-hAn7EcS7IKhsGrc3PKtMUktJmqoA-hWJFAbEFhp3xuM2qjp5dgv-r_FxJHs2t-RVhCBum9Con9_jvjokRxiAgA1XhQdF0SXA7HV-yyjs9Si7uHUNutnHCqFMNSsUpWW4TPz8OwuKVauJwhDYZLjOTtxKVzvNmm0oS9U_KoSHKZMwO0OsC7JfiMzlbAD38fS-tj3_fc8RmX29JxOgop0w30OBG9xUywfb1FGuEb5A=s64",
      "userId": "17044389388162035463"
     },
     "user_tz": 420
    },
    "id": "K2Po__2ycuJ7",
    "outputId": "2feb2248-5a61-467a-8474-7a41bfc15c7e"
   },
   "outputs": [
    {
     "data": {
      "text/plain": [
       "9"
      ]
     },
     "execution_count": 10,
     "metadata": {},
     "output_type": "execute_result"
    }
   ],
   "source": [
    "x1[-1]"
   ]
  },
  {
   "cell_type": "markdown",
   "id": "3ba4579c",
   "metadata": {
    "colab_type": "text",
    "id": "pDNrwejJcuKB"
   },
   "source": [
    "In a multi-dimensional array, items can be accessed using a comma-separated tuple of indices:"
   ]
  },
  {
   "cell_type": "code",
   "execution_count": 11,
   "id": "06cb6d61",
   "metadata": {
    "colab": {
     "base_uri": "https://localhost:8080/"
    },
    "colab_type": "code",
    "executionInfo": {
     "elapsed": 2922,
     "status": "ok",
     "timestamp": 1593989686200,
     "user": {
      "displayName": "StrataScratch Team",
      "photoUrl": "https://lh3.googleusercontent.com/a-/AOh14GiGK63dtW9acM3jHkRfj4-UOzVsKLa-kgNxbCK8a4jqcDOb1j9M8lxSiEHAqWgAkHg7ba24OUjUnZd-SZqErlj2EIwbpqiuMApVBC4j-VTn5geFXVLj6pwNrVCYt1er_lVA_47-cqOy7jE5Rk8U_kIEk6C8kmdRru20cUkylWnYkKYBVXplxIBmvvemTvz5YRQxbgxOWLecE41ZTt6gMCo22i_9RBn4Trle7Qe5TGkpvUfu8AoVjWS-c3m2tR4gOYsGI9IrLF7YkN3yTS8_fOPGFkHmCMAV0SqUmv1cYjhWRxBrTMjGiAHV2PUfxvKoFKfketXUNG5yyBuHMKxV0bIc8gWil3Fx9_tl4Vwx-4bsBlEErQxe9JetDn_OJA_BpkDPGbQRYAhvjbll0PQjJUtuvOKfgyYWwq6RPG6ZBrcoGLE-N87otH1q6HoBsWFp64Nb3f0I9iGjk5u_dCnuscJ1B0uNt-Kk6Cqly6sae6rujILmXYg6A9dpf7Ab_GlQ5EjP3FJyYH2Qlyrd4FFCQUFbT-hAn7EcS7IKhsGrc3PKtMUktJmqoA-hWJFAbEFhp3xuM2qjp5dgv-r_FxJHs2t-RVhCBum9Con9_jvjokRxiAgA1XhQdF0SXA7HV-yyjs9Si7uHUNutnHCqFMNSsUpWW4TPz8OwuKVauJwhDYZLjOTtxKVzvNmm0oS9U_KoSHKZMwO0OsC7JfiMzlbAD38fS-tj3_fc8RmX29JxOgop0w30OBG9xUywfb1FGuEb5A=s64",
      "userId": "17044389388162035463"
     },
     "user_tz": 420
    },
    "id": "IPHun6eFcuKC",
    "outputId": "d48732d5-29c1-4bc3-d27f-c66b0560f13d"
   },
   "outputs": [
    {
     "data": {
      "text/plain": [
       "array([[3, 5, 2, 4],\n",
       "       [7, 6, 8, 8],\n",
       "       [1, 6, 7, 7]])"
      ]
     },
     "execution_count": 11,
     "metadata": {},
     "output_type": "execute_result"
    }
   ],
   "source": [
    "x2 #size = (3,4) (rows,columns)"
   ]
  },
  {
   "cell_type": "code",
   "execution_count": 12,
   "id": "15cbeba0",
   "metadata": {
    "colab": {
     "base_uri": "https://localhost:8080/"
    },
    "colab_type": "code",
    "executionInfo": {
     "elapsed": 2921,
     "status": "ok",
     "timestamp": 1593989686204,
     "user": {
      "displayName": "StrataScratch Team",
      "photoUrl": "https://lh3.googleusercontent.com/a-/AOh14GiGK63dtW9acM3jHkRfj4-UOzVsKLa-kgNxbCK8a4jqcDOb1j9M8lxSiEHAqWgAkHg7ba24OUjUnZd-SZqErlj2EIwbpqiuMApVBC4j-VTn5geFXVLj6pwNrVCYt1er_lVA_47-cqOy7jE5Rk8U_kIEk6C8kmdRru20cUkylWnYkKYBVXplxIBmvvemTvz5YRQxbgxOWLecE41ZTt6gMCo22i_9RBn4Trle7Qe5TGkpvUfu8AoVjWS-c3m2tR4gOYsGI9IrLF7YkN3yTS8_fOPGFkHmCMAV0SqUmv1cYjhWRxBrTMjGiAHV2PUfxvKoFKfketXUNG5yyBuHMKxV0bIc8gWil3Fx9_tl4Vwx-4bsBlEErQxe9JetDn_OJA_BpkDPGbQRYAhvjbll0PQjJUtuvOKfgyYWwq6RPG6ZBrcoGLE-N87otH1q6HoBsWFp64Nb3f0I9iGjk5u_dCnuscJ1B0uNt-Kk6Cqly6sae6rujILmXYg6A9dpf7Ab_GlQ5EjP3FJyYH2Qlyrd4FFCQUFbT-hAn7EcS7IKhsGrc3PKtMUktJmqoA-hWJFAbEFhp3xuM2qjp5dgv-r_FxJHs2t-RVhCBum9Con9_jvjokRxiAgA1XhQdF0SXA7HV-yyjs9Si7uHUNutnHCqFMNSsUpWW4TPz8OwuKVauJwhDYZLjOTtxKVzvNmm0oS9U_KoSHKZMwO0OsC7JfiMzlbAD38fS-tj3_fc8RmX29JxOgop0w30OBG9xUywfb1FGuEb5A=s64",
      "userId": "17044389388162035463"
     },
     "user_tz": 420
    },
    "id": "aS8nVs3WcuKE",
    "outputId": "6c26af08-3419-4305-b70d-580fc81f30c0"
   },
   "outputs": [
    {
     "data": {
      "text/plain": [
       "3"
      ]
     },
     "execution_count": 12,
     "metadata": {},
     "output_type": "execute_result"
    }
   ],
   "source": [
    "x2[0, 0]"
   ]
  },
  {
   "cell_type": "code",
   "execution_count": 13,
   "id": "86f6e17c",
   "metadata": {
    "colab": {
     "base_uri": "https://localhost:8080/"
    },
    "colab_type": "code",
    "executionInfo": {
     "elapsed": 2915,
     "status": "ok",
     "timestamp": 1593989686205,
     "user": {
      "displayName": "StrataScratch Team",
      "photoUrl": "https://lh3.googleusercontent.com/a-/AOh14GiGK63dtW9acM3jHkRfj4-UOzVsKLa-kgNxbCK8a4jqcDOb1j9M8lxSiEHAqWgAkHg7ba24OUjUnZd-SZqErlj2EIwbpqiuMApVBC4j-VTn5geFXVLj6pwNrVCYt1er_lVA_47-cqOy7jE5Rk8U_kIEk6C8kmdRru20cUkylWnYkKYBVXplxIBmvvemTvz5YRQxbgxOWLecE41ZTt6gMCo22i_9RBn4Trle7Qe5TGkpvUfu8AoVjWS-c3m2tR4gOYsGI9IrLF7YkN3yTS8_fOPGFkHmCMAV0SqUmv1cYjhWRxBrTMjGiAHV2PUfxvKoFKfketXUNG5yyBuHMKxV0bIc8gWil3Fx9_tl4Vwx-4bsBlEErQxe9JetDn_OJA_BpkDPGbQRYAhvjbll0PQjJUtuvOKfgyYWwq6RPG6ZBrcoGLE-N87otH1q6HoBsWFp64Nb3f0I9iGjk5u_dCnuscJ1B0uNt-Kk6Cqly6sae6rujILmXYg6A9dpf7Ab_GlQ5EjP3FJyYH2Qlyrd4FFCQUFbT-hAn7EcS7IKhsGrc3PKtMUktJmqoA-hWJFAbEFhp3xuM2qjp5dgv-r_FxJHs2t-RVhCBum9Con9_jvjokRxiAgA1XhQdF0SXA7HV-yyjs9Si7uHUNutnHCqFMNSsUpWW4TPz8OwuKVauJwhDYZLjOTtxKVzvNmm0oS9U_KoSHKZMwO0OsC7JfiMzlbAD38fS-tj3_fc8RmX29JxOgop0w30OBG9xUywfb1FGuEb5A=s64",
      "userId": "17044389388162035463"
     },
     "user_tz": 420
    },
    "id": "EcxwyJUlcuKG",
    "outputId": "aa682963-0aec-4df1-f1f1-16728bc72538"
   },
   "outputs": [
    {
     "data": {
      "text/plain": [
       "1"
      ]
     },
     "execution_count": 13,
     "metadata": {},
     "output_type": "execute_result"
    }
   ],
   "source": [
    "x2[2, 0]"
   ]
  },
  {
   "cell_type": "code",
   "execution_count": 16,
   "id": "ed90bc1d",
   "metadata": {
    "colab": {
     "base_uri": "https://localhost:8080/"
    },
    "colab_type": "code",
    "executionInfo": {
     "elapsed": 2925,
     "status": "ok",
     "timestamp": 1593989686223,
     "user": {
      "displayName": "StrataScratch Team",
      "photoUrl": "https://lh3.googleusercontent.com/a-/AOh14GiGK63dtW9acM3jHkRfj4-UOzVsKLa-kgNxbCK8a4jqcDOb1j9M8lxSiEHAqWgAkHg7ba24OUjUnZd-SZqErlj2EIwbpqiuMApVBC4j-VTn5geFXVLj6pwNrVCYt1er_lVA_47-cqOy7jE5Rk8U_kIEk6C8kmdRru20cUkylWnYkKYBVXplxIBmvvemTvz5YRQxbgxOWLecE41ZTt6gMCo22i_9RBn4Trle7Qe5TGkpvUfu8AoVjWS-c3m2tR4gOYsGI9IrLF7YkN3yTS8_fOPGFkHmCMAV0SqUmv1cYjhWRxBrTMjGiAHV2PUfxvKoFKfketXUNG5yyBuHMKxV0bIc8gWil3Fx9_tl4Vwx-4bsBlEErQxe9JetDn_OJA_BpkDPGbQRYAhvjbll0PQjJUtuvOKfgyYWwq6RPG6ZBrcoGLE-N87otH1q6HoBsWFp64Nb3f0I9iGjk5u_dCnuscJ1B0uNt-Kk6Cqly6sae6rujILmXYg6A9dpf7Ab_GlQ5EjP3FJyYH2Qlyrd4FFCQUFbT-hAn7EcS7IKhsGrc3PKtMUktJmqoA-hWJFAbEFhp3xuM2qjp5dgv-r_FxJHs2t-RVhCBum9Con9_jvjokRxiAgA1XhQdF0SXA7HV-yyjs9Si7uHUNutnHCqFMNSsUpWW4TPz8OwuKVauJwhDYZLjOTtxKVzvNmm0oS9U_KoSHKZMwO0OsC7JfiMzlbAD38fS-tj3_fc8RmX29JxOgop0w30OBG9xUywfb1FGuEb5A=s64",
      "userId": "17044389388162035463"
     },
     "user_tz": 420
    },
    "id": "ObUOpgoccuKK",
    "outputId": "1e0df5ca-0d7d-45e3-c3ec-55e7ee223156"
   },
   "outputs": [
    {
     "data": {
      "text/plain": [
       "7"
      ]
     },
     "execution_count": 16,
     "metadata": {},
     "output_type": "execute_result"
    }
   ],
   "source": [
    "x2[2, -1]"
   ]
  },
  {
   "cell_type": "markdown",
   "id": "1eb2da8d",
   "metadata": {
    "colab_type": "text",
    "id": "h8P6jrKGcuKN"
   },
   "source": [
    "Values can also be modified using any of the above index notation:"
   ]
  },
  {
   "cell_type": "code",
   "execution_count": null,
   "id": "ec3ec70a",
   "metadata": {
    "colab": {
     "base_uri": "https://localhost:8080/"
    },
    "colab_type": "code",
    "executionInfo": {
     "elapsed": 2920,
     "status": "ok",
     "timestamp": 1593989686224,
     "user": {
      "displayName": "StrataScratch Team",
      "photoUrl": "https://lh3.googleusercontent.com/a-/AOh14GiGK63dtW9acM3jHkRfj4-UOzVsKLa-kgNxbCK8a4jqcDOb1j9M8lxSiEHAqWgAkHg7ba24OUjUnZd-SZqErlj2EIwbpqiuMApVBC4j-VTn5geFXVLj6pwNrVCYt1er_lVA_47-cqOy7jE5Rk8U_kIEk6C8kmdRru20cUkylWnYkKYBVXplxIBmvvemTvz5YRQxbgxOWLecE41ZTt6gMCo22i_9RBn4Trle7Qe5TGkpvUfu8AoVjWS-c3m2tR4gOYsGI9IrLF7YkN3yTS8_fOPGFkHmCMAV0SqUmv1cYjhWRxBrTMjGiAHV2PUfxvKoFKfketXUNG5yyBuHMKxV0bIc8gWil3Fx9_tl4Vwx-4bsBlEErQxe9JetDn_OJA_BpkDPGbQRYAhvjbll0PQjJUtuvOKfgyYWwq6RPG6ZBrcoGLE-N87otH1q6HoBsWFp64Nb3f0I9iGjk5u_dCnuscJ1B0uNt-Kk6Cqly6sae6rujILmXYg6A9dpf7Ab_GlQ5EjP3FJyYH2Qlyrd4FFCQUFbT-hAn7EcS7IKhsGrc3PKtMUktJmqoA-hWJFAbEFhp3xuM2qjp5dgv-r_FxJHs2t-RVhCBum9Con9_jvjokRxiAgA1XhQdF0SXA7HV-yyjs9Si7uHUNutnHCqFMNSsUpWW4TPz8OwuKVauJwhDYZLjOTtxKVzvNmm0oS9U_KoSHKZMwO0OsC7JfiMzlbAD38fS-tj3_fc8RmX29JxOgop0w30OBG9xUywfb1FGuEb5A=s64",
      "userId": "17044389388162035463"
     },
     "user_tz": 420
    },
    "id": "4vVeZG9QBkVP",
    "outputId": "d6628b8e-5448-493c-a4ce-90dcf1359ac3"
   },
   "outputs": [],
   "source": [
    "x2"
   ]
  },
  {
   "cell_type": "code",
   "execution_count": null,
   "id": "6dc13a1f",
   "metadata": {
    "colab": {},
    "colab_type": "code",
    "id": "ma2mbxgvcuKO"
   },
   "outputs": [],
   "source": [
    "x2[0, 0] = 12"
   ]
  },
  {
   "cell_type": "code",
   "execution_count": 17,
   "id": "51ae327d",
   "metadata": {
    "colab": {
     "base_uri": "https://localhost:8080/"
    },
    "colab_type": "code",
    "executionInfo": {
     "elapsed": 2911,
     "status": "ok",
     "timestamp": 1593989686229,
     "user": {
      "displayName": "StrataScratch Team",
      "photoUrl": "https://lh3.googleusercontent.com/a-/AOh14GiGK63dtW9acM3jHkRfj4-UOzVsKLa-kgNxbCK8a4jqcDOb1j9M8lxSiEHAqWgAkHg7ba24OUjUnZd-SZqErlj2EIwbpqiuMApVBC4j-VTn5geFXVLj6pwNrVCYt1er_lVA_47-cqOy7jE5Rk8U_kIEk6C8kmdRru20cUkylWnYkKYBVXplxIBmvvemTvz5YRQxbgxOWLecE41ZTt6gMCo22i_9RBn4Trle7Qe5TGkpvUfu8AoVjWS-c3m2tR4gOYsGI9IrLF7YkN3yTS8_fOPGFkHmCMAV0SqUmv1cYjhWRxBrTMjGiAHV2PUfxvKoFKfketXUNG5yyBuHMKxV0bIc8gWil3Fx9_tl4Vwx-4bsBlEErQxe9JetDn_OJA_BpkDPGbQRYAhvjbll0PQjJUtuvOKfgyYWwq6RPG6ZBrcoGLE-N87otH1q6HoBsWFp64Nb3f0I9iGjk5u_dCnuscJ1B0uNt-Kk6Cqly6sae6rujILmXYg6A9dpf7Ab_GlQ5EjP3FJyYH2Qlyrd4FFCQUFbT-hAn7EcS7IKhsGrc3PKtMUktJmqoA-hWJFAbEFhp3xuM2qjp5dgv-r_FxJHs2t-RVhCBum9Con9_jvjokRxiAgA1XhQdF0SXA7HV-yyjs9Si7uHUNutnHCqFMNSsUpWW4TPz8OwuKVauJwhDYZLjOTtxKVzvNmm0oS9U_KoSHKZMwO0OsC7JfiMzlbAD38fS-tj3_fc8RmX29JxOgop0w30OBG9xUywfb1FGuEb5A=s64",
      "userId": "17044389388162035463"
     },
     "user_tz": 420
    },
    "id": "aSpBTyEoBxTm",
    "outputId": "09cd8dd3-d7d8-41d0-fb40-c5bc1825b647"
   },
   "outputs": [
    {
     "data": {
      "text/plain": [
       "array([[3, 5, 2, 4],\n",
       "       [7, 6, 8, 8],\n",
       "       [1, 6, 7, 0]])"
      ]
     },
     "execution_count": 17,
     "metadata": {},
     "output_type": "execute_result"
    }
   ],
   "source": [
    "x2[2,-1] = 0\n",
    "x2"
   ]
  },
  {
   "cell_type": "markdown",
   "id": "63ce1b22",
   "metadata": {
    "colab_type": "text",
    "id": "4TF8zm8RcuKR"
   },
   "source": [
    "Keep in mind that, unlike Python lists, NumPy arrays have a fixed type.\n",
    "This means, for example, that if you attempt to insert a floating-point value to an integer array, the value will be silently truncated. Don't be caught unaware by this behavior!"
   ]
  },
  {
   "cell_type": "code",
   "execution_count": 18,
   "id": "6ba2b784",
   "metadata": {
    "colab": {
     "base_uri": "https://localhost:8080/"
    },
    "colab_type": "code",
    "executionInfo": {
     "elapsed": 2907,
     "status": "ok",
     "timestamp": 1593989686230,
     "user": {
      "displayName": "StrataScratch Team",
      "photoUrl": "https://lh3.googleusercontent.com/a-/AOh14GiGK63dtW9acM3jHkRfj4-UOzVsKLa-kgNxbCK8a4jqcDOb1j9M8lxSiEHAqWgAkHg7ba24OUjUnZd-SZqErlj2EIwbpqiuMApVBC4j-VTn5geFXVLj6pwNrVCYt1er_lVA_47-cqOy7jE5Rk8U_kIEk6C8kmdRru20cUkylWnYkKYBVXplxIBmvvemTvz5YRQxbgxOWLecE41ZTt6gMCo22i_9RBn4Trle7Qe5TGkpvUfu8AoVjWS-c3m2tR4gOYsGI9IrLF7YkN3yTS8_fOPGFkHmCMAV0SqUmv1cYjhWRxBrTMjGiAHV2PUfxvKoFKfketXUNG5yyBuHMKxV0bIc8gWil3Fx9_tl4Vwx-4bsBlEErQxe9JetDn_OJA_BpkDPGbQRYAhvjbll0PQjJUtuvOKfgyYWwq6RPG6ZBrcoGLE-N87otH1q6HoBsWFp64Nb3f0I9iGjk5u_dCnuscJ1B0uNt-Kk6Cqly6sae6rujILmXYg6A9dpf7Ab_GlQ5EjP3FJyYH2Qlyrd4FFCQUFbT-hAn7EcS7IKhsGrc3PKtMUktJmqoA-hWJFAbEFhp3xuM2qjp5dgv-r_FxJHs2t-RVhCBum9Con9_jvjokRxiAgA1XhQdF0SXA7HV-yyjs9Si7uHUNutnHCqFMNSsUpWW4TPz8OwuKVauJwhDYZLjOTtxKVzvNmm0oS9U_KoSHKZMwO0OsC7JfiMzlbAD38fS-tj3_fc8RmX29JxOgop0w30OBG9xUywfb1FGuEb5A=s64",
      "userId": "17044389388162035463"
     },
     "user_tz": 420
    },
    "id": "5LxetVOUcuKS",
    "outputId": "6b7c2951-c3b7-4048-f825-a6524bdb51e0"
   },
   "outputs": [
    {
     "data": {
      "text/plain": [
       "array([3, 0, 3, 3, 7, 9])"
      ]
     },
     "execution_count": 18,
     "metadata": {},
     "output_type": "execute_result"
    }
   ],
   "source": [
    "x1[0] = 3.14159  # this will be truncated!\n",
    "x1"
   ]
  },
  {
   "cell_type": "code",
   "execution_count": 19,
   "id": "4fd626cd",
   "metadata": {
    "colab": {
     "base_uri": "https://localhost:8080/"
    },
    "colab_type": "code",
    "executionInfo": {
     "elapsed": 2911,
     "status": "ok",
     "timestamp": 1593989686242,
     "user": {
      "displayName": "StrataScratch Team",
      "photoUrl": "https://lh3.googleusercontent.com/a-/AOh14GiGK63dtW9acM3jHkRfj4-UOzVsKLa-kgNxbCK8a4jqcDOb1j9M8lxSiEHAqWgAkHg7ba24OUjUnZd-SZqErlj2EIwbpqiuMApVBC4j-VTn5geFXVLj6pwNrVCYt1er_lVA_47-cqOy7jE5Rk8U_kIEk6C8kmdRru20cUkylWnYkKYBVXplxIBmvvemTvz5YRQxbgxOWLecE41ZTt6gMCo22i_9RBn4Trle7Qe5TGkpvUfu8AoVjWS-c3m2tR4gOYsGI9IrLF7YkN3yTS8_fOPGFkHmCMAV0SqUmv1cYjhWRxBrTMjGiAHV2PUfxvKoFKfketXUNG5yyBuHMKxV0bIc8gWil3Fx9_tl4Vwx-4bsBlEErQxe9JetDn_OJA_BpkDPGbQRYAhvjbll0PQjJUtuvOKfgyYWwq6RPG6ZBrcoGLE-N87otH1q6HoBsWFp64Nb3f0I9iGjk5u_dCnuscJ1B0uNt-Kk6Cqly6sae6rujILmXYg6A9dpf7Ab_GlQ5EjP3FJyYH2Qlyrd4FFCQUFbT-hAn7EcS7IKhsGrc3PKtMUktJmqoA-hWJFAbEFhp3xuM2qjp5dgv-r_FxJHs2t-RVhCBum9Con9_jvjokRxiAgA1XhQdF0SXA7HV-yyjs9Si7uHUNutnHCqFMNSsUpWW4TPz8OwuKVauJwhDYZLjOTtxKVzvNmm0oS9U_KoSHKZMwO0OsC7JfiMzlbAD38fS-tj3_fc8RmX29JxOgop0w30OBG9xUywfb1FGuEb5A=s64",
      "userId": "17044389388162035463"
     },
     "user_tz": 420
    },
    "id": "gtSCrfHQB9Ux",
    "outputId": "1c5d4941-33b7-4157-817d-2e2418b4a158"
   },
   "outputs": [
    {
     "data": {
      "text/plain": [
       "dtype('int64')"
      ]
     },
     "execution_count": 19,
     "metadata": {},
     "output_type": "execute_result"
    }
   ],
   "source": [
    "x1.dtype"
   ]
  },
  {
   "cell_type": "markdown",
   "id": "fe7db892",
   "metadata": {},
   "source": [
    "<hr style=\"border:2px solid gray\"> </hr>   \n",
    "\n",
    "## Practice Tasks   \n",
    "\n",
    "#### For the following six tasks, refer to the arrays created below. Run this code to get started."
   ]
  },
  {
   "cell_type": "code",
   "execution_count": 20,
   "id": "9b99e85f",
   "metadata": {},
   "outputs": [],
   "source": [
    "np.random.seed(1)  # seed for reproducibility\n",
    "x1 = np.random.randint(10, size=9)  # One-dimensional array\n",
    "x2 = np.random.randint(10, size=(3, 3))  # Two-dimensional array"
   ]
  },
  {
   "cell_type": "markdown",
   "id": "58c0a729",
   "metadata": {
    "id": "1vNKASdfkYrl"
   },
   "source": [
    "#### 1. Print the first element of x1."
   ]
  },
  {
   "cell_type": "code",
   "execution_count": 21,
   "id": "ca864cd2",
   "metadata": {
    "id": "F1fh2yG_cuJz"
   },
   "outputs": [
    {
     "data": {
      "text/plain": [
       "5"
      ]
     },
     "execution_count": 21,
     "metadata": {},
     "output_type": "execute_result"
    }
   ],
   "source": [
    "# START YOUR CODE HERE.\n",
    "x1[0]"
   ]
  },
  {
   "cell_type": "markdown",
   "id": "83b3c6d0",
   "metadata": {
    "id": "1PsqjJN6kYro"
   },
   "source": [
    "<details>    \n",
    "<summary>\n",
    "    <font size=\"3\" color=\"darkgreen\"><b>Solution (click to expand)</b></font>\n",
    "</summary>\n",
    "<p>\n",
    "    <code>print(x1[0])</code>\n",
    "</p>\n",
    "</details>\n",
    "\n",
    "#### 2. Print the fifth element of x1."
   ]
  },
  {
   "cell_type": "code",
   "execution_count": 22,
   "id": "16f75624",
   "metadata": {
    "id": "js4RYgV2cuJ2"
   },
   "outputs": [
    {
     "data": {
      "text/plain": [
       "0"
      ]
     },
     "execution_count": 22,
     "metadata": {},
     "output_type": "execute_result"
    }
   ],
   "source": [
    "# START YOUR CODE HERE.\n",
    "x1[4]"
   ]
  },
  {
   "cell_type": "markdown",
   "id": "cbf99308",
   "metadata": {
    "id": "FAygYumqcuJ6"
   },
   "source": [
    "<details>    \n",
    "<summary>\n",
    "    <font size=\"3\" color=\"darkgreen\"><b>Solution (click to expand)</b></font>\n",
    "</summary>\n",
    "<p>\n",
    "    <code>print(x1[4])</code>\n",
    "</p>\n",
    "</details>\n",
    "\n",
    "#### 3. Print the second to last element of x1 using negative indicies."
   ]
  },
  {
   "cell_type": "code",
   "execution_count": 23,
   "id": "5bc86459",
   "metadata": {
    "id": "K2Po__2ycuJ7"
   },
   "outputs": [
    {
     "data": {
      "text/plain": [
       "6"
      ]
     },
     "execution_count": 23,
     "metadata": {},
     "output_type": "execute_result"
    }
   ],
   "source": [
    "# START YOUR CODE HERE.\n",
    "x1[-1]"
   ]
  },
  {
   "cell_type": "markdown",
   "id": "5003ce22",
   "metadata": {
    "id": "w0rE7ibxkYru"
   },
   "source": [
    "<details>    \n",
    "<summary>\n",
    "    <font size=\"3\" color=\"darkgreen\"><b>Solution (click to expand)</b></font>\n",
    "</summary>\n",
    "<p>\n",
    "    <code>print(x1[-2])</code>\n",
    "</p>\n",
    "</details>\n",
    "\n",
    "#### 4. Print the element at position (0,2) of x2."
   ]
  },
  {
   "cell_type": "code",
   "execution_count": 24,
   "id": "27405896",
   "metadata": {
    "id": "aS8nVs3WcuKE"
   },
   "outputs": [
    {
     "data": {
      "text/plain": [
       "4"
      ]
     },
     "execution_count": 24,
     "metadata": {},
     "output_type": "execute_result"
    }
   ],
   "source": [
    "# START YOUR CODE HERE.\n",
    "x2[0, 2]"
   ]
  },
  {
   "cell_type": "markdown",
   "id": "90d7f6fb",
   "metadata": {
    "id": "2K44PjbvkYry"
   },
   "source": [
    "<details>    \n",
    "<summary>\n",
    "    <font size=\"3\" color=\"darkgreen\"><b>Solution (click to expand)</b></font>\n",
    "</summary>\n",
    "<p>\n",
    "    <code>print(x2[0, 2])</code>\n",
    "</p>\n",
    "</details>\n",
    "\n",
    "#### 5. Print the second element of the last row of x2 using positive and negative indicies."
   ]
  },
  {
   "cell_type": "code",
   "execution_count": 25,
   "id": "8c44da75",
   "metadata": {
    "id": "EcxwyJUlcuKG"
   },
   "outputs": [
    {
     "data": {
      "text/plain": [
       "4"
      ]
     },
     "execution_count": 25,
     "metadata": {},
     "output_type": "execute_result"
    }
   ],
   "source": [
    "# START YOUR CODE HERE.\n",
    "x2[-1, 1]"
   ]
  },
  {
   "cell_type": "markdown",
   "id": "2364c302",
   "metadata": {
    "id": "h8P6jrKGcuKN"
   },
   "source": [
    "<details>    \n",
    "<summary>\n",
    "    <font size=\"3\" color=\"darkgreen\"><b>Solution (click to expand)</b></font>\n",
    "</summary>\n",
    "<p>\n",
    "    <code>print(x2[-1, 1])</code>\n",
    "</p>\n",
    "</details>\n",
    "\n",
    "#### 6. Assign a value of 25 to the first element of the last row of x2."
   ]
  },
  {
   "cell_type": "code",
   "execution_count": 28,
   "id": "d14afec0",
   "metadata": {
    "id": "-b58yYgcbcZq"
   },
   "outputs": [
    {
     "data": {
      "text/plain": [
       "array([[ 9,  2,  4],\n",
       "       [ 5,  2,  4],\n",
       "       [25,  4,  7]])"
      ]
     },
     "execution_count": 28,
     "metadata": {},
     "output_type": "execute_result"
    }
   ],
   "source": [
    "# START YOUR CODE HERE.\n",
    "x2[-1, 0] = 25\n",
    "x2"
   ]
  },
  {
   "cell_type": "markdown",
   "id": "e3e94ac9",
   "metadata": {},
   "source": [
    "<details>    \n",
    "<summary>\n",
    "    <font size=\"3\" color=\"darkgreen\"><b>Solution (click to expand)</b></font>\n",
    "</summary>\n",
    "<p>\n",
    "    <code>x2[-1, 0] = 25</code>\n",
    "</p>\n",
    "</details>"
   ]
  }
 ],
 "metadata": {
  "kernelspec": {
   "display_name": "Python 3 (ipykernel)",
   "language": "python",
   "name": "python3"
  },
  "language_info": {
   "codemirror_mode": {
    "name": "ipython",
    "version": 3
   },
   "file_extension": ".py",
   "mimetype": "text/x-python",
   "name": "python",
   "nbconvert_exporter": "python",
   "pygments_lexer": "ipython3",
   "version": "3.9.12"
  }
 },
 "nbformat": 4,
 "nbformat_minor": 5
}
