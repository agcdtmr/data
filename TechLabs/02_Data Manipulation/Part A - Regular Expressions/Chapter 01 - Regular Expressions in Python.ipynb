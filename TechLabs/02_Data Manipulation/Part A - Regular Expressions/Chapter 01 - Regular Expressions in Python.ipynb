{
 "cells": [
  {
   "cell_type": "code",
   "execution_count": null,
   "id": "b29c306a",
   "metadata": {},
   "outputs": [],
   "source": [
    "# RUN THIS COMMAND ONLY IF YOU USE GOOGLE COLAB.\n",
    "from google.colab import drive\n",
    "drive.mount('/content/drive')"
   ]
  },
  {
   "cell_type": "code",
   "execution_count": null,
   "id": "d611f4fe",
   "metadata": {},
   "outputs": [],
   "source": [
    "# RUN THIS COMMAND ONLY IF YOU USE GOOGLE COLAB.\n",
    "%cd drive/MyDrive/TechLabs/02_Data\\ Manipulation/Part\\ A\\ -\\ Regular\\ Expressions"
   ]
  },
  {
   "cell_type": "code",
   "execution_count": 44,
   "id": "8b769796",
   "metadata": {},
   "outputs": [],
   "source": [
    "# IMPORT THE REGULAR EXPRESSIONS MODULE FIRST.\n",
    "import re"
   ]
  },
  {
   "cell_type": "markdown",
   "id": "83fde2fd",
   "metadata": {},
   "source": [
    "# Chapter 1 - Regular Expressions\n",
    "### Hey Techie,   \n",
    "Welcome to this lecture in which you will learn how to use and write regular expressions to filter text data efficiently. We encourage you to take this notebook as a template to code along the instruction video, which you may find at: https://www.youtube.com/watch?v=K8L6KVGG-7o. Below you find every text-snippet which is used throughout the video. Also, the data.txt can be found in data/data.txt directory.   \n",
    "\n",
    "#### Cheat Sheet for Regexes: https://www.debuggex.com/cheatsheet/regex/python.\n",
    "\n",
    "#### Have fun! :-)   \n",
    "*Video length in total*: 54 minutes   \n",
    "*Self-study time*: 54 minutes   \n",
    "*Total*: **108 minutes**   \n",
    "#### Credits\n",
    "Python Tutorial: re Module - How to Write and Match Regular Expressions (Regex), Corey Schafer, https://www.youtube.com/channel/UCCezIgC97PvUuR4_gbFUs5g.\n",
    "<hr style=\"border:2px solid gray\"> </hr>   \n",
    "   \n",
    "## Text-Snippets"
   ]
  },
  {
   "cell_type": "code",
   "execution_count": 1,
   "id": "4ded8029",
   "metadata": {},
   "outputs": [
    {
     "ename": "NameError",
     "evalue": "name 're' is not defined",
     "output_type": "error",
     "traceback": [
      "\u001b[0;31m---------------------------------------------------------------------------\u001b[0m",
      "\u001b[0;31mNameError\u001b[0m                                 Traceback (most recent call last)",
      "Input \u001b[0;32mIn [1]\u001b[0m, in \u001b[0;36m<cell line: 49>\u001b[0;34m()\u001b[0m\n\u001b[1;32m     29\u001b[0m urls \u001b[38;5;241m=\u001b[39m \u001b[38;5;124m'''\u001b[39m\n\u001b[1;32m     30\u001b[0m \u001b[38;5;124mhttps://www.google.com\u001b[39m\n\u001b[1;32m     31\u001b[0m \u001b[38;5;124mhttp://coreyms.com\u001b[39m\n\u001b[1;32m     32\u001b[0m \u001b[38;5;124mhttps://youtube.com\u001b[39m\n\u001b[1;32m     33\u001b[0m \u001b[38;5;124mhttps://www.nasa.gov\u001b[39m\n\u001b[1;32m     34\u001b[0m \u001b[38;5;124m'''\u001b[39m\n\u001b[1;32m     36\u001b[0m \u001b[38;5;66;03m# pattern = re.compile(r'https?://(www\\.)?\\w+\\.\\w+')\u001b[39;00m\n\u001b[1;32m     37\u001b[0m \u001b[38;5;66;03m# pattern = re.compile(r'https?://(www\\.)?(\\w+)(\\.\\w+)')\u001b[39;00m\n\u001b[1;32m     38\u001b[0m \u001b[38;5;66;03m# matches = pattern.finditer(urls)\u001b[39;00m\n\u001b[0;32m   (...)\u001b[0m\n\u001b[1;32m     45\u001b[0m \u001b[38;5;66;03m# for match in matches:\u001b[39;00m\n\u001b[1;32m     46\u001b[0m \u001b[38;5;66;03m#     print(match.group(3))  \u001b[39;00m\n\u001b[0;32m---> 49\u001b[0m pattern \u001b[38;5;241m=\u001b[39m \u001b[43mre\u001b[49m\u001b[38;5;241m.\u001b[39mcompile(\u001b[38;5;124mr\u001b[39m\u001b[38;5;124m'\u001b[39m\u001b[38;5;124mhttps?://(www\u001b[39m\u001b[38;5;124m\\\u001b[39m\u001b[38;5;124m.)?(\u001b[39m\u001b[38;5;124m\\\u001b[39m\u001b[38;5;124mw+)(\u001b[39m\u001b[38;5;124m\\\u001b[39m\u001b[38;5;124m.\u001b[39m\u001b[38;5;124m\\\u001b[39m\u001b[38;5;124mw+)\u001b[39m\u001b[38;5;124m'\u001b[39m)\n\u001b[1;32m     50\u001b[0m subbed_url \u001b[38;5;241m=\u001b[39m pattern\u001b[38;5;241m.\u001b[39msub(\u001b[38;5;124mr\u001b[39m\u001b[38;5;124m'\u001b[39m\u001b[38;5;124m\\\u001b[39m\u001b[38;5;124m2\u001b[39m\u001b[38;5;124m\\\u001b[39m\u001b[38;5;124m3\u001b[39m\u001b[38;5;124m'\u001b[39m, urls)\n\u001b[1;32m     51\u001b[0m \u001b[38;5;28mprint\u001b[39m(subbed_url)\n",
      "\u001b[0;31mNameError\u001b[0m: name 're' is not defined"
     ]
    }
   ],
   "source": [
    "text_to_search = '''\n",
    "abcdefghijklmnopqurtuvwxyz\n",
    "ABCDEFGHIJKLMNOPQRSTUVWXYZ\n",
    "1234567890\n",
    "Ha HaHa\n",
    "MetaCharacters (Need to be escaped):\n",
    ". ^ $ * + ? { } [ ] \\ | ( )\n",
    "coreyms.com\n",
    "321-555-4321\n",
    "123.555.1234\n",
    "123*555*1234\n",
    "800-555-1234\n",
    "900-555-1234\n",
    "Mr. Schafer\n",
    "Mr Smith\n",
    "Ms Davis\n",
    "Mrs. Robinson\n",
    "Mr. T\n",
    "\n",
    "cat\n",
    "mat\n",
    "pat\n",
    "bat\n",
    "\n",
    "'''\n",
    "\n",
    "sentence = 'Start a sentence and then bring it to an end'\n",
    "\n",
    "urls = '''\n",
    "https://www.google.com\n",
    "http://coreyms.com\n",
    "https://youtube.com\n",
    "https://www.nasa.gov\n",
    "'''\n",
    "\n",
    "# pattern = re.compile(r'https?://(www\\.)?\\w+\\.\\w+')\n",
    "# pattern = re.compile(r'https?://(www\\.)?(\\w+)(\\.\\w+)')\n",
    "# matches = pattern.finditer(urls)\n",
    "# for match in matches:\n",
    "#     print(match)\n",
    "\n",
    "\n",
    "# pattern = re.compile(r'https?://(www\\.)?(\\w+)(\\.\\w+)')\n",
    "# matches = pattern.finditer(urls)\n",
    "# for match in matches:\n",
    "#     print(match.group(3))  \n",
    "   \n",
    "\n",
    "pattern = re.compile(r'https?://(www\\.)?(\\w+)(\\.\\w+)')\n",
    "subbed_url = pattern.sub(r'\\2\\3', urls)\n",
    "print(subbed_url)\n",
    "\n",
    "\n",
    "\n",
    "\n",
    "emails = '''\n",
    "CoreyMSchafer@gmail.com\n",
    "corey.schafer@university.edu\n",
    "corey-321-schafer@my-work.net\n",
    "'''\n",
    "\n",
    "# pattern = re.compile(r'[a-zA-Z0-9.-]+@[a-zA-Z-]+\\.(com|edu|net)')\n",
    "# # pattern = re.compile(r'[a-zA-Z0-9_.+-]+@[a-zA-Z0-9-]+\\.(a-zA-Z0-9-.)+')\n",
    "\n",
    "\n",
    "# matches = pattern.finditer(emails)\n",
    "\n",
    "# for match in matches:\n",
    "#     print(match)\n",
    "    \n",
    "\n",
    "\n",
    "with open(\"data/data.txt\", \"r\", encoding=\"utf-8\") as file:\n",
    "    contents = file.read()\n",
    "    \n",
    "\n"
   ]
  },
  {
   "cell_type": "code",
   "execution_count": 100,
   "id": "1c2b2eb7",
   "metadata": {},
   "outputs": [
    {
     "name": "stdout",
     "output_type": "stream",
     "text": [
      "\tTab\n",
      "\\tTab\n"
     ]
    }
   ],
   "source": [
    "import re\n",
    "\n",
    "print('\\tTab')\n",
    "print(r'\\tTab')"
   ]
  },
  {
   "cell_type": "code",
   "execution_count": 101,
   "id": "5a3c69a0",
   "metadata": {},
   "outputs": [],
   "source": [
    "import re\n",
    "\n",
    "# pattern = re.compile(r'abc')\n",
    "# pattern = re.compile(r'cda')\n",
    "# pattern = re.compile(r'.')\n",
    "# pattern = re.compile(r'\\.')\n",
    "# pattern = re.compile(r'coreyms\\.com')\n",
    "# pattern = re.compile(r'\\d')\n",
    "# pattern = re.compile(r'\\D')\n",
    "# pattern = re.compile(r'\\w')\n",
    "# pattern = re.compile(r'\\W')\n",
    "# pattern = re.compile(r'\\bHa')\n",
    "# pattern = re.compile(r'\\BHa')\n",
    "# pattern = re.compile(r'\\d\\d\\d')\n",
    "# pattern = re.compile(r'\\d\\d\\d.\\d\\d\\d.\\d\\d\\d\\d')\n",
    "# pattern = re.compile(r'\\d\\d\\d[-.]\\d\\d\\d[-.]\\d\\d\\d\\d')\n",
    "# pattern = re.compile(r'[89]00[-.]\\d\\d\\d[-.]\\d\\d\\d\\d')\n",
    "# pattern = re.compile(r'[1-5]')\n",
    "# pattern = re.compile(r'[a-z]')\n",
    "# pattern = re.compile(r'[A-Z]')\n",
    "# pattern = re.compile(r'[a-zA-Z]')\n",
    "# pattern = re.compile(r'[^a-zA-Z]')\n",
    "# pattern = re.compile(r'[^b]at')\n",
    "\n",
    "\n",
    "# quatifier\n",
    "\n",
    "# pattern = re.compile(r'\\d\\d\\d.\\d\\d\\d.\\d\\d\\d\\d')\n",
    "# pattern = re.compile(r'\\d{3}.\\d{3}.\\d{4}')\n",
    "\n",
    "# pattern = re.compile(r'Mr\\.')\n",
    "# pattern = re.compile(r'Mr\\.?')\n",
    "# pattern = re.compile(r'Mr\\.?\\s')\n",
    "# pattern = re.compile(r'Mr\\.?\\s[A-Z]')\n",
    "# pattern = re.compile(r'Mr\\.?\\s[A-Z]\\w+')\n",
    "# pattern = re.compile(r'Mr\\.?\\s[A-Z]\\w*')\n",
    "\n",
    "\n",
    "# group\n",
    "\n",
    "# pattern = re.compile(r'M(r|s|rs)\\.?\\s[A-Z]\\w*')\n",
    "# pattern = re.compile(r'(Mr|Ms|Mrs)\\.?\\s[A-Z]\\w*')\n",
    "\n",
    "\n",
    "# pattern = re.compile(r'[a-zA-Z]+@[a-zA-Z]+\\.com')\n",
    "\n",
    "\n",
    "# matches = pattern.finditer(text_to_search)\n",
    "# for match in matches:\n",
    "#     print(match)\n",
    "    \n",
    "    \n",
    "    \n",
    "    \n",
    "\n",
    "# pattern = re.compile(r'^Start')\n",
    "# # pattern = re.compile(r'end$')\n",
    "\n",
    "\n",
    "# matches = pattern.finditer(sentence)\n",
    "# for match in matches:\n",
    "#     print(match)"
   ]
  },
  {
   "cell_type": "code",
   "execution_count": 49,
   "id": "c016d858",
   "metadata": {},
   "outputs": [],
   "source": [
    "# with open('data/data.txt', 'r', encoding='utf-8') as f:\n",
    "#     contents = f.read()\n",
    "    \n",
    "#     matches = pattern.finditer(contents)\n",
    "    \n",
    "#     for match in matches:\n",
    "#         print(match)"
   ]
  },
  {
   "cell_type": "markdown",
   "id": "7f4df52d",
   "metadata": {},
   "source": [
    "<hr style=\"border:2px solid gray\"> </hr>   \n",
    "   \n",
    "## Python Tutorial: re Module - How to Write and Match Regular Expressions (Regex)"
   ]
  },
  {
   "cell_type": "code",
   "execution_count": null,
   "id": "12c641d4",
   "metadata": {},
   "outputs": [],
   "source": [
    "# START YOUR CODE HERE.\n"
   ]
  },
  {
   "cell_type": "markdown",
   "id": "29c53b30",
   "metadata": {},
   "source": [
    "<hr style=\"border:2px solid gray\"> </hr>   \n",
    "   \n",
    "## Practice Task   \n",
    "#### For this example, we will work with the Data Science Wikipedia article. First, please inspect the text below."
   ]
  },
  {
   "cell_type": "code",
   "execution_count": 1,
   "id": "a2b0b2ee",
   "metadata": {},
   "outputs": [
    {
     "name": "stdout",
     "output_type": "stream",
     "text": [
      "Data science is an interdisciplinary field that uses scientific methods, processes, algorithms and systems to extract knowledge and insights from structured and unstructured data, and apply knowledge and actionable insights from data across a broad range of application domains. Data science is related to data mining, machine learning and big data.\n",
      "Data science is a \"concept to unify statistics, data analysis, informatics, and their related methods\" in order to \"understand and analyze actual phenomena\" with data. It uses techniques and theories drawn from many fields within the context of mathematics, statistics, computer science, information science, and domain knowledge. However, data science is different from computer science and information science. Turing Award winner Jim Gray imagined data science as a \"fourth paradigm\" of science (empirical, theoretical, computational, and now data-driven) and asserted that \"everything about science is changing because of the impact of information technology\" and the data deluge.\n",
      "\n",
      "\n",
      "== Foundations ==\n",
      "Data science is an interdisciplinary field focused on extracting knowledge from data sets, which are typically large (see big data), and applying the knowledge and actionable insights from data to solve problems in a wide range of application domains. The field encompasses preparing data for analysis, formulating data science problems, analyzing data, developing data-driven solutions, and presenting findings to inform high-level decisions in a broad range of application domains. As such, it incorporates skills from computer science, statistics, information science, mathematics, information visualization, data integration, graphic design, complex systems, communication and business. Statistician Nathan Yau, drawing on Ben Fry, also links data science to human-computer interaction: users should be able to intuitively control and explore data. In 2015, the American Statistical Association identified database management, statistics and machine learning, and distributed and parallel systems as the three emerging foundational professional communities.\n",
      "\n",
      "\n",
      "=== Relationship to statistics ===\n",
      "Many statisticians, including Nate Silver, have argued that data science is not a new field, but rather another name for statistics. Others argue that data science is distinct from statistics because it focuses on problems and techniques unique to digital data. Vasant Dhar writes that statistics emphasizes quantitative data and description. In contrast, data science deals with quantitative and qualitative data (e.g. images) and emphasizes prediction and action. Andrew Gelman of Columbia University has described statistics as a nonessential part of data science.\n",
      "Stanford professor David Donoho writes that data science is not distinguished from statistics by the size of datasets or use of computing and that many graduate programs misleadingly advertise their analytics and statistics training as the essence of a data science program. He describes data science as an applied field growing out of traditional statistics. \n",
      "In summary, data science can be therefore described as an applied branch of statistics.\n",
      "\n",
      "\n",
      "== Etymology ==\n",
      "\n",
      "\n",
      "=== Early usage ===\n",
      "In 1962, John Tukey described a field he called “data analysis,” which resembles modern data science. In 1985, in a lecture given to the Chinese Academy of Sciences in Beijing, C.F. Jeff Wu used the term Data Science for the first time as an alternative name for statistics. Later, attendees at a 1992 statistics symposium at the University of Montpellier II acknowledged the emergence of a new discipline focused on data of various origins and forms, combining established concepts and principles of statistics and data analysis with computing.The term “data science” has been traced back to 1974, when Peter Naur proposed it as an alternative name for computer science. In 1996, the International Federation of Classification Societies became the first conference to specifically feature data science as a topic. However, the definition was still in flux. After the 1985 lecture in the Chinese Academy of Sciences in Beijing, in 1997 C.F. Jeff Wu again suggested that statistics should be renamed data science. He reasoned that a new name would help statistics shed inaccurate stereotypes, such as being synonymous with accounting, or limited to describing data. In 1998, Hayashi Chikio argued for data science as a new, interdisciplinary concept, with three aspects: data design, collection, and analysis.During the 1990s, popular terms for the process of finding patterns in datasets (which were increasingly large) included “knowledge discovery” and “data mining”.\n",
      "\n",
      "\n",
      "=== Modern usage ===\n",
      "The modern conception of data science as an independent discipline is sometimes attributed to William S. Cleveland. In a 2001 paper, he advocated an expansion of statistics beyond theory into technical areas; because this would significantly change the field, it warranted a new name. \"Data science\" became more widely used in the next few years: in 2002, the Committee on Data for Science and Technology launched Data Science Journal. In 2003, Columbia University launched The Journal of Data Science. In 2014, the American Statistical Association's Section on Statistical Learning and Data Mining changed its name to the Section on Statistical Learning and Data Science, reflecting the ascendant popularity of data science.The professional title of “data scientist” has been attributed to DJ Patil and Jeff Hammerbacher in 2008. Though it was used by the National Science Board in their 2005 report, \"Long-Lived Digital Data Collections: Enabling Research and Education in the 21st Century,\" it referred broadly to any key role in managing a digital data collection.There is still no consensus on the definition of data science and it is considered by some to be a buzzword.\n",
      "\n",
      "\n",
      "== Impact ==\n",
      "Big data is very quickly becoming a vital tool for businesses and companies of all sizes. The availability and interpretation of big data has altered the business models of old industries and enabled the creation of new ones. Data-driven businesses are worth $1.2 trillion collectively in 2020, an increase from $333 billion in the year 2015.Data scientists are responsible for breaking down big data into usable information and creating software and algorithms that help companies and organizations determine optimal operations. As big data continues to have a major impact on the world, data science does as well due to the close relationship between the two.\n",
      "\n",
      "\n",
      "== Technologies and techniques ==\n",
      "There are a variety of different technologies and techniques that are used for data science which depend on the application. More recently, full-featured, end-to-end platforms have been developed and heavily used for data science and machine learning.\n",
      "\n",
      "\n",
      "=== Techniques ===\n",
      "\n",
      "Linear Regression\n",
      "Logistic Regression\n",
      "Decision tree is used as prediction models for classification and data fitting. The decision tree structure can be used to generate rules able to classify or predict target/class/label variable based on the observation attributes.\n",
      "Support Vector Machine (SVM)\n",
      "Clustering is a technique used to group data together.\n",
      "Dimensionality reduction is used to reduce the complexity of data computation so that it can be performed more quickly.\n",
      "Machine learning is a technique used to perform tasks by inferencing patterns from data\n",
      "\n",
      "\n",
      "== See also ==\n",
      "International Journal of Population Data Science\n",
      "\n",
      "\n",
      "== References ==\n"
     ]
    }
   ],
   "source": [
    "with open(\"data/practice.txt\", \"r\") as file:\n",
    "    wikipedia_article = file.read()\n",
    "# INSPECT TEXT HERE.\n",
    "print(wikipedia_article)"
   ]
  },
  {
   "cell_type": "markdown",
   "id": "2e50df5a",
   "metadata": {},
   "source": [
    "#### Your task is to filter out every heading (i.e., Foundations, Relationship to statistics etc.) using a regular expression. To do so, please complement the below function, which should return a list of strings that contains the different headings as elements.   \n",
    "<br />\n",
    "<details>    \n",
    "<summary>\n",
    "    <font size=\"3\" color=\"red\"><b>Hints (click to expand)</b></font>\n",
    "</summary>\n",
    "<p>\n",
    "    <ul>\n",
    "        <li>You can identify the headings by using the leading and ending '==.'</li>\n",
    "        <li>Design a regex-pattern with three groups, where groups one and three capture the '==' and group 2 captures the heading itself.</li>\n",
    "    </ul>\n",
    "</p>\n",
    "</details>  "
   ]
  },
  {
   "cell_type": "code",
   "execution_count": 2,
   "id": "80b761a0",
   "metadata": {},
   "outputs": [
    {
     "ename": "NameError",
     "evalue": "name 're' is not defined",
     "output_type": "error",
     "traceback": [
      "\u001b[0;31m---------------------------------------------------------------------------\u001b[0m",
      "\u001b[0;31mNameError\u001b[0m                                 Traceback (most recent call last)",
      "Input \u001b[0;32mIn [2]\u001b[0m, in \u001b[0;36m<cell line: 8>\u001b[0;34m()\u001b[0m\n\u001b[1;32m      5\u001b[0m     \u001b[38;5;28;01mfor\u001b[39;00m match \u001b[38;5;129;01min\u001b[39;00m matches:\n\u001b[1;32m      6\u001b[0m         \u001b[38;5;28mprint\u001b[39m(match) \u001b[38;5;66;03m# RETURN YOUR ANSWER HERE.\u001b[39;00m\n\u001b[0;32m----> 8\u001b[0m \u001b[43manswer\u001b[49m\u001b[43m(\u001b[49m\u001b[43m)\u001b[49m\n",
      "Input \u001b[0;32mIn [2]\u001b[0m, in \u001b[0;36manswer\u001b[0;34m()\u001b[0m\n\u001b[1;32m      1\u001b[0m \u001b[38;5;28;01mdef\u001b[39;00m \u001b[38;5;21manswer\u001b[39m():\n\u001b[1;32m      2\u001b[0m     \u001b[38;5;66;03m# START YOUR CODE HERE.\u001b[39;00m\n\u001b[0;32m----> 3\u001b[0m     pattern \u001b[38;5;241m=\u001b[39m \u001b[43mre\u001b[49m\u001b[38;5;241m.\u001b[39mcompile(\u001b[38;5;124mr\u001b[39m\u001b[38;5;124m\"\u001b[39m\u001b[38;5;124m(== )([\u001b[39m\u001b[38;5;124m\\\u001b[39m\u001b[38;5;124mw ]+)( ==)\u001b[39m\u001b[38;5;124m\"\u001b[39m)\n\u001b[1;32m      4\u001b[0m     matches \u001b[38;5;241m=\u001b[39m pattern\u001b[38;5;241m.\u001b[39mfinditer(wikipedia_article)\n\u001b[1;32m      5\u001b[0m     \u001b[38;5;28;01mfor\u001b[39;00m match \u001b[38;5;129;01min\u001b[39;00m matches:\n",
      "\u001b[0;31mNameError\u001b[0m: name 're' is not defined"
     ]
    }
   ],
   "source": [
    "import re\n",
    "\n",
    "\n",
    "def answer():\n",
    "    # START YOUR CODE HERE.\n",
    "    pattern = re.compile(r\"(== )([\\w ]+)( ==)\")\n",
    "    matches = pattern.finditer(wikipedia_article)\n",
    "    for match in matches:\n",
    "        print(match) # RETURN YOUR ANSWER HERE.\n",
    "\n",
    "answer()"
   ]
  },
  {
   "cell_type": "code",
   "execution_count": 3,
   "id": "f42ad02e",
   "metadata": {},
   "outputs": [
    {
     "ename": "NameError",
     "evalue": "name 're' is not defined",
     "output_type": "error",
     "traceback": [
      "\u001b[0;31m---------------------------------------------------------------------------\u001b[0m",
      "\u001b[0;31mNameError\u001b[0m                                 Traceback (most recent call last)",
      "Input \u001b[0;32mIn [3]\u001b[0m, in \u001b[0;36m<cell line: 2>\u001b[0;34m()\u001b[0m\n\u001b[1;32m      1\u001b[0m \u001b[38;5;66;03m# THIS CELL TESTS YOUR RESULTS.\u001b[39;00m\n\u001b[0;32m----> 2\u001b[0m \u001b[38;5;28;01massert\u001b[39;00m \u001b[38;5;28mtype\u001b[39m(\u001b[43manswer\u001b[49m\u001b[43m(\u001b[49m\u001b[43m)\u001b[49m) \u001b[38;5;241m==\u001b[39m \u001b[38;5;28mtype\u001b[39m([]), \u001b[38;5;124m\"\u001b[39m\u001b[38;5;124mPlease return a list!\u001b[39m\u001b[38;5;124m\"\u001b[39m\n\u001b[1;32m      3\u001b[0m \u001b[38;5;28;01massert\u001b[39;00m \u001b[38;5;28mtype\u001b[39m(answer()[\u001b[38;5;241m0\u001b[39m]) \u001b[38;5;241m==\u001b[39m \u001b[38;5;28mtype\u001b[39m(\u001b[38;5;28mstr\u001b[39m()), \u001b[38;5;124m\"\u001b[39m\u001b[38;5;124mThe returned list should contain strings as elements!\u001b[39m\u001b[38;5;124m\"\u001b[39m\n\u001b[1;32m      4\u001b[0m \u001b[38;5;28;01massert\u001b[39;00m \u001b[38;5;28mlen\u001b[39m(answer()) \u001b[38;5;241m==\u001b[39m \u001b[38;5;241m10\u001b[39m, \u001b[38;5;124m\"\u001b[39m\u001b[38;5;124mYour results seem to be incomplete!\u001b[39m\u001b[38;5;124m\"\u001b[39m\n",
      "Input \u001b[0;32mIn [2]\u001b[0m, in \u001b[0;36manswer\u001b[0;34m()\u001b[0m\n\u001b[1;32m      1\u001b[0m \u001b[38;5;28;01mdef\u001b[39;00m \u001b[38;5;21manswer\u001b[39m():\n\u001b[1;32m      2\u001b[0m     \u001b[38;5;66;03m# START YOUR CODE HERE.\u001b[39;00m\n\u001b[0;32m----> 3\u001b[0m     pattern \u001b[38;5;241m=\u001b[39m \u001b[43mre\u001b[49m\u001b[38;5;241m.\u001b[39mcompile(\u001b[38;5;124mr\u001b[39m\u001b[38;5;124m\"\u001b[39m\u001b[38;5;124m(== )([\u001b[39m\u001b[38;5;124m\\\u001b[39m\u001b[38;5;124mw ]+)( ==)\u001b[39m\u001b[38;5;124m\"\u001b[39m)\n\u001b[1;32m      4\u001b[0m     matches \u001b[38;5;241m=\u001b[39m pattern\u001b[38;5;241m.\u001b[39mfinditer(wikipedia_article)\n\u001b[1;32m      5\u001b[0m     \u001b[38;5;28;01mfor\u001b[39;00m match \u001b[38;5;129;01min\u001b[39;00m matches:\n",
      "\u001b[0;31mNameError\u001b[0m: name 're' is not defined"
     ]
    }
   ],
   "source": [
    "# THIS CELL TESTS YOUR RESULTS.\n",
    "assert type(answer()) == type([]), \"Please return a list!\"\n",
    "assert type(answer()[0]) == type(str()), \"The returned list should contain strings as elements!\"\n",
    "assert len(answer()) == 10, \"Your results seem to be incomplete!\"\n",
    "assert \"Foundations\" in answer(), \"Your results seem to be incomplete!\"\n",
    "assert \"Modern usage\" in answer(), \"Your results seem to be incomplete!\""
   ]
  },
  {
   "cell_type": "markdown",
   "id": "0efcb75e",
   "metadata": {},
   "source": [
    "<details>    \n",
    "<summary>\n",
    "    <font size=\"3\" color=\"darkgreen\"><b>Solution (click to expand)</b></font>\n",
    "</summary>\n",
    "<p>\n",
    "    Solution 1: <br />\n",
    "    <code>def answer():</code><br />\n",
    "    <code>&nbsp;&nbsp;&nbsp;&nbsp;pattern = re.compile(r\"(== )([\\w ]+)( ==)\")</code><br />\n",
    "    <code>&nbsp;&nbsp;&nbsp;&nbsp;headings = [match.group(2) for match in pattern.finditer(wikipedia_article)]</code><br />\n",
    "    <code>&nbsp;&nbsp;&nbsp;&nbsp;return headings</code><br />\n",
    "    Solution 2: <br />\n",
    "    <code>def answer():</code><br />\n",
    "    <code>&nbsp;&nbsp;&nbsp;&nbsp;return re.findall(r\"(?<=== )[\\w ]+(?= ==)\", wikipedia_article)</code><br />\n",
    "</p>\n",
    "</details>  "
   ]
  }
 ],
 "metadata": {
  "kernelspec": {
   "display_name": "Python 3 (ipykernel)",
   "language": "python",
   "name": "python3"
  },
  "language_info": {
   "codemirror_mode": {
    "name": "ipython",
    "version": 3
   },
   "file_extension": ".py",
   "mimetype": "text/x-python",
   "name": "python",
   "nbconvert_exporter": "python",
   "pygments_lexer": "ipython3",
   "version": "3.9.12"
  }
 },
 "nbformat": 4,
 "nbformat_minor": 5
}
