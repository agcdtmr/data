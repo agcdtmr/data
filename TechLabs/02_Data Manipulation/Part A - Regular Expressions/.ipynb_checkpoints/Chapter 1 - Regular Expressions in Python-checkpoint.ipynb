{
 "cells": [
  {
   "cell_type": "code",
   "execution_count": 1,
   "id": "8b769796",
   "metadata": {},
   "outputs": [],
   "source": [
    "# IMPORT THE REGULAR EXPRESSIONS MODULE FIRST.\n",
    "import re"
   ]
  },
  {
   "cell_type": "markdown",
   "id": "83fde2fd",
   "metadata": {},
   "source": [
    "# Chapter 1 - Regular Expressions\n",
    "### Hey Techie,   \n",
    "Welcome to this lecture in which you will learn how to use and write regular expressions to filter text data efficiently. We encourage you to take this notebook as a template to code along the instruction video, which you may find at: https://www.youtube.com/watch?v=K8L6KVGG-7o. Below you find every string-snippet which is used thruout the video. Also, the data.txt can be found in data/data.txt directory.   \n",
    "\n",
    "#### Cheat Sheet for Regexes: https://www.debuggex.com/cheatsheet/regex/python.\n",
    "\n",
    "#### Have fun! :-)   \n",
    "*Video length in total*: 54 minutes   \n",
    "*Self-study time*: 54 minutes   \n",
    "*Total*: **108 minutes**   \n",
    "#### Credits\n",
    "Python Tutorial: re Module - How to Write and Match Regular Expressions (Regex), Corey Schafer, https://www.youtube.com/channel/UCCezIgC97PvUuR4_gbFUs5g.\n",
    "<hr style=\"border:2px solid gray\"> </hr>   "
   ]
  },
  {
   "cell_type": "code",
   "execution_count": 3,
   "id": "4ded8029",
   "metadata": {},
   "outputs": [],
   "source": [
    "text_to_search = '''\n",
    "abcdefghijklmnopqurtuvwxyz\n",
    "ABCDEFGHIJKLMNOPQRSTUVWXYZ\n",
    "1234567890\n",
    "Ha HaHa\n",
    "MetaCharacters (Need to be escaped):\n",
    ". ^ $ * + ? { } [ ] \\ | ( )\n",
    "coreyms.com\n",
    "321-555-4321\n",
    "123.555.1234\n",
    "123*555*1234\n",
    "800-555-1234\n",
    "900-555-1234\n",
    "Mr. Schafer\n",
    "Mr Smith\n",
    "Ms Davis\n",
    "Mrs. Robinson\n",
    "Mr. T\n",
    "'''\n",
    "\n",
    "sentence = 'Start a sentence and then bring it to an end'\n",
    "\n",
    "urls = '''\n",
    "https://www.google.com\n",
    "http://coreyms.com\n",
    "https://youtube.com\n",
    "https://www.nasa.gov\n",
    "'''\n",
    "\n",
    "emails = '''\n",
    "CoreyMSchafer@gmail.com\n",
    "corey.schafer@university.edu\n",
    "corey-321-schafer@my-work.net\n",
    "'''"
   ]
  }
 ],
 "metadata": {
  "kernelspec": {
   "display_name": "Python 3 (ipykernel)",
   "language": "python",
   "name": "python3"
  },
  "language_info": {
   "codemirror_mode": {
    "name": "ipython",
    "version": 3
   },
   "file_extension": ".py",
   "mimetype": "text/x-python",
   "name": "python",
   "nbconvert_exporter": "python",
   "pygments_lexer": "ipython3",
   "version": "3.8.9"
  }
 },
 "nbformat": 4,
 "nbformat_minor": 5
}
