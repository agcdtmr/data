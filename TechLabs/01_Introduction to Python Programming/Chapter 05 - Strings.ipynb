{
 "cells": [
  {
   "cell_type": "code",
   "execution_count": null,
   "id": "4610d1d9",
   "metadata": {},
   "outputs": [],
   "source": [
    "# RUN THIS COMMAND ONLY IF YOU USE GOOGLE COLAB.\n",
    "from google.colab import drive\n",
    "drive.mount('/content/drive')"
   ]
  },
  {
   "cell_type": "code",
   "execution_count": null,
   "id": "137d424d",
   "metadata": {},
   "outputs": [],
   "source": [
    "# RUN THIS COMMAND ONLY IF YOU USE GOOGLE COLAB.\n",
    "%cd drive/MyDrive/TechLabs/01_Introduction\\ to\\ Python\\ Programming"
   ]
  },
  {
   "cell_type": "markdown",
   "id": "1b87b34e",
   "metadata": {},
   "source": [
    "# Chapter 5 - Strings\n",
    "### Hey Techie,   \n",
    "Welcome to the fifth notebook of this Python tutorial series. We encourage you to take this notebook as a template to code along the instruction videos, which you may find at: https://www.py4e.com/lessons/strings. Today's two videos deal with variables and how to store and manipulate text data using variables and functions in Python. There is no need to watch the worked exercise. In the end, please try to solve the presented task. If you want to double-check your results, you may also upload them to PY4E. For that, a Google Account is required. On the website, you find the auto-graded code tasks at the very end of each lesson.\n",
    "\n",
    "#### Have fun! :-)   \n",
    "*Video length in total*: 30 minutes   \n",
    "*Self-study time*: 30 minutes   \n",
    "*Total*: **60 minutes**   \n",
    "#### Credits\n",
    "Python for Everybody, Dr. Chuck Severance, https://www.py4e.com/, CC.\n",
    "<hr style=\"border:2px solid gray\"> </hr>   \n",
    "   \n",
    "## Strings - Part 1"
   ]
  },
  {
   "cell_type": "code",
   "execution_count": 6,
   "id": "a6ebc364",
   "metadata": {},
   "outputs": [
    {
     "name": "stdout",
     "output_type": "stream",
     "text": [
      "0 b\n",
      "1 a\n",
      "2 n\n",
      "3 a\n",
      "4 n\n",
      "5 a\n",
      "b\n",
      "a\n",
      "n\n",
      "a\n",
      "n\n",
      "a\n",
      "0\n",
      "1\n",
      "1\n",
      "2\n",
      "2\n",
      "3\n",
      "b\n",
      "a\n",
      "n\n",
      "a\n",
      "n\n",
      "a\n"
     ]
    }
   ],
   "source": [
    "# START YOUR CODE HERE.\n",
    "# less code less mistakes\n",
    "\n",
    "fruit = \"banana\"\n",
    "\n",
    "index = 0\n",
    "\n",
    "while index < len(fruit):\n",
    "    letter = fruit[index]\n",
    "    print(index, letter)\n",
    "    index = index + 1\n",
    "    \n",
    "\n",
    "for letter in fruit:\n",
    "    print(letter)\n",
    "    \n",
    "    \n",
    "\n",
    "# LOOPING AND COUNTING\n",
    "    \n",
    "word = \"banana\"\n",
    "count = 0\n",
    "\n",
    "for letter in word:\n",
    "    if letter == \"a\":\n",
    "        count = count + 1\n",
    "    print(count)\n",
    "\n",
    "    \n",
    "\n",
    "for letter in 'banana':\n",
    "    print(letter)"
   ]
  },
  {
   "cell_type": "markdown",
   "id": "caf3dc55",
   "metadata": {},
   "source": [
    "<hr style=\"border:2px solid gray\"> </hr>   \n",
    "   \n",
    "## Strings - Part 2"
   ]
  },
  {
   "cell_type": "code",
   "execution_count": 47,
   "id": "b47889df",
   "metadata": {},
   "outputs": [
    {
     "name": "stdout",
     "output_type": "stream",
     "text": [
      "Mont\n",
      "P\n",
      "Python\n",
      "Mo\n",
      "thon\n",
      "Monty Python\n",
      "Found it!\n",
      "hello\n",
      "HELLO\n",
      "1\n",
      "-1\n",
      "21\n",
      "34\n",
      "uct.ac.ac.za\n"
     ]
    }
   ],
   "source": [
    "# START YOUR CODE HERE.\n",
    "\n",
    "# SLICING STRING\n",
    "\n",
    "s = \"Monty Python\"\n",
    "\n",
    "print(s[0:4]) # s sub 0 through 4\n",
    "\n",
    "# start at 0 and  go up to but not include or print 4\n",
    "\n",
    "print(s[6:7])\n",
    "\n",
    "print(s[6:20])\n",
    "\n",
    "\n",
    "# eliminate string\n",
    "\n",
    "print(s[:2])\n",
    "\n",
    "print(s[8:])\n",
    "\n",
    "print(s[:])\n",
    "\n",
    "\n",
    "#  using n as a logical operator >= == <=\n",
    "\n",
    "fruit = 'peach'\n",
    "\n",
    "'n' in fruit\n",
    "\n",
    "'h' in fruit\n",
    "\n",
    "'each' in fruit\n",
    "\n",
    "if 'a' in fruit:\n",
    "    print('Found it!')\n",
    "    \n",
    "    \n",
    "if 'b' in fruit:\n",
    "    print('Found it!')\n",
    "    \n",
    "    \n",
    "\n",
    "# string library\n",
    "\n",
    "greet = \"Hello\"\n",
    "\n",
    "str1 = greet.lower()\n",
    "print(str1)\n",
    "str = greet.upper()\n",
    "print(str)\n",
    "\n",
    "type(str)\n",
    "\n",
    "dir(str)\n",
    "\n",
    "\n",
    "fruit = 'peeeeeeach'\n",
    "\n",
    "find_str = fruit.find('e')\n",
    "print(find_str)\n",
    "\n",
    "find_strg = fruit.find('z')\n",
    "print(find_strg)\n",
    "\n",
    "\n",
    "# PREFIXES\n",
    "\n",
    "line = \"Please have a not nice day ;)\"\n",
    "\n",
    "line.startswith(\"Please\")\n",
    "line.startswith(\"s\")\n",
    "\n",
    "\n",
    "\n",
    "data = \"From stephen.marquard@uct.ac.ac.za Sat Jan 5 09:14:16 2009\"\n",
    "find_sumtin = data.find(\"@\")\n",
    "print(find_sumtin)\n",
    "\n",
    "sppos = data.find(' ', find_sumtin)\n",
    "print(sppos)\n",
    "\n",
    "host = data[find_sumtin + 1 : sppos]\n",
    "print(host)"
   ]
  },
  {
   "cell_type": "markdown",
   "id": "55f785a3",
   "metadata": {},
   "source": [
    "<hr style=\"border:2px solid gray\"> </hr>  \n",
    "\n",
    "## Practice Task   \n",
    "#### 1. Write code using find() and string slicing to extract the number at the end of the line below. Convert the extracted value to a floating point number and print it out.\n",
    "<br /> \n",
    "<details>    \n",
    "<summary>\n",
    "    <font size=\"3\" color=\"red\"><b>Hints (click to expand)</b></font>\n",
    "</summary>\n",
    "<p>\n",
    "    <ul>\n",
    "        <li>The find method returns the index of the character you have been searching for.</li>\n",
    "        <li>String slicing starts at zero and ends at n-1 if n refers to the number of characters.</li>\n",
    "        <li>String slicing is applied from including up to excluding.</li>\n",
    "    </ul>\n",
    "</p>\n",
    "</details>"
   ]
  },
  {
   "cell_type": "code",
   "execution_count": 42,
   "id": "71212838",
   "metadata": {},
   "outputs": [
    {
     "name": "stdout",
     "output_type": "stream",
     "text": [
      "23\n",
      "0.8475\n",
      "0.8475\n"
     ]
    },
    {
     "data": {
      "text/plain": [
       "float"
      ]
     },
     "execution_count": 42,
     "metadata": {},
     "output_type": "execute_result"
    }
   ],
   "source": [
    "text = \"X-DSPAM-Confidence:    0.8475\"\n",
    "# START YOUR CODE HERE.\n",
    "\n",
    "find_str = text.find(\"0\")\n",
    "print(find_str)\n",
    "\n",
    "extracedt_str = text[23:]\n",
    "print(extracedt_str)\n",
    "# type(extracedt_str)\n",
    "\n",
    "\n",
    "floated = float(extracedt_str)\n",
    "\n",
    "print(floated)\n",
    "\n",
    "type(floated)"
   ]
  },
  {
   "cell_type": "markdown",
   "id": "fa62b820",
   "metadata": {},
   "source": [
    "<details>    \n",
    "<summary>\n",
    "    <font size=\"3\" color=\"darkgreen\"><b>Solution (click to expand)</b></font>\n",
    "</summary>\n",
    "<p>\n",
    "    <code>text = \"X-DSPAM-Confidence:    0.8475\"</code><br />\n",
    "    <code>pos = text.find(\"0\")</code><br />\n",
    "    <code>num = float(text[pos:])</code><br />\n",
    "    <code>print(num)</code><br />\n",
    "</p>\n",
    "</details> "
   ]
  }
 ],
 "metadata": {
  "kernelspec": {
   "display_name": "Python 3 (ipykernel)",
   "language": "python",
   "name": "python3"
  },
  "language_info": {
   "codemirror_mode": {
    "name": "ipython",
    "version": 3
   },
   "file_extension": ".py",
   "mimetype": "text/x-python",
   "name": "python",
   "nbconvert_exporter": "python",
   "pygments_lexer": "ipython3",
   "version": "3.9.12"
  }
 },
 "nbformat": 4,
 "nbformat_minor": 5
}
