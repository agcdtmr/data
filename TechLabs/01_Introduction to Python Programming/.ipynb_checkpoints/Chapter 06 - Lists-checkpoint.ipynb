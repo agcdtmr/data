{
 "cells": [
  {
   "cell_type": "code",
   "execution_count": null,
   "id": "aeaa1d1f",
   "metadata": {},
   "outputs": [],
   "source": [
    "# RUN THIS COMMAND ONLY IF YOU USE GOOGLE COLAB.\n",
    "from google.colab import drive\n",
    "drive.mount('/content/drive')"
   ]
  },
  {
   "cell_type": "code",
   "execution_count": null,
   "id": "6cead111",
   "metadata": {},
   "outputs": [],
   "source": [
    "# RUN THIS COMMAND ONLY IF YOU USE GOOGLE COLAB.\n",
    "%cd drive/MyDrive/TechLabs/01_Introduction\\ to\\ Python\\ Programming"
   ]
  },
  {
   "cell_type": "markdown",
   "id": "5a8c4d82",
   "metadata": {},
   "source": [
    "# Chapter 6 - Lists\n",
    "### Hey Techie,   \n",
    "Welcome to the sixth notebook of this Python tutorial series. We encourage you to take this notebook as a template to code along the instruction videos, which you may find at: https://www.py4e.com/lessons/lists. Today's three videos deal with how Python simplest data structure works - the list. There is no need to watch the video *Lists, Files, and the Guardian Pattern*. In the end, please try to solve the presented tasks. To do so, you need to understand how to open text files (.txt) in Python. Therefore, please read the following article: https://www.pythontutorial.net/python-basics/python-read-text-file/. If you want to double-check your results, you may also upload them to PY4E. For that, a Google Account is required. On the website, you find the auto-graded code tasks at the very end of each lesson.\n",
    "\n",
    "#### Have fun! :-)   \n",
    "*Video length in total*: 30 minutes   \n",
    "*Self-study time*: 50 minutes   \n",
    "*Total*: **80 minutes**   \n",
    "#### Credits\n",
    "Python for Everybody, Dr. Chuck Severance, https://www.py4e.com/, CC.\n",
    "<hr style=\"border:2px solid gray\"> </hr>   \n",
    "   \n",
    "## Lists - Part 1"
   ]
  },
  {
   "cell_type": "code",
   "execution_count": null,
   "id": "38a95db1",
   "metadata": {},
   "outputs": [],
   "source": [
    "# START YOUR CODE HERE.\n",
    "# Data structure - clever ways to lay out a data, clever way to instruct\n",
    "# the data according to what you need it to do.\n",
    "\n",
    "\n",
    "#str are immutable\n",
    "\n",
    "fruit = \"BANANA\"\n",
    "fruits[0] = \"b\" #will cause an error\n",
    "\n",
    "x = fruits.lower()\n",
    "print(x) # that's why when we use lower() modules/lib we need to create a new variable, but fruit is still \"BANANA\"\n"
   ]
  },
  {
   "cell_type": "code",
   "execution_count": null,
   "id": "ddc28c2b",
   "metadata": {},
   "outputs": [],
   "source": [
    "\n",
    "#list are mutable\n",
    "lotto = [1, 145, 34, 8]\n",
    "print(lotto)\n",
    "lotto[2] = 45\n",
    "print(lotto)"
   ]
  },
  {
   "cell_type": "code",
   "execution_count": null,
   "id": "59cb3b61",
   "metadata": {},
   "outputs": [],
   "source": [
    "print(range(4))\n",
    "\n",
    "friends = [\"a\", \"b\", \"c\"]\n",
    "print(len(friends))\n",
    "\n",
    "print(range(len(friends)))"
   ]
  },
  {
   "cell_type": "markdown",
   "id": "3bc6be1f",
   "metadata": {},
   "source": [
    "<hr style=\"border:2px solid gray\"> </hr>   \n",
    "   \n",
    "## Lists - Part 2"
   ]
  },
  {
   "cell_type": "code",
   "execution_count": null,
   "id": "1ed373a7",
   "metadata": {},
   "outputs": [],
   "source": [
    "# START YOUR CODE HERE.\n",
    "\n",
    "# list concat\n",
    "a = [1, 2, 3, 4]\n",
    "b = [5, 6, 7, 8]\n",
    "c = a + b\n",
    "print(c)\n",
    "\n",
    "print(a)\n",
    "print(b)\n",
    "\n",
    "\n",
    "#list slicing\n",
    "\n",
    "t = [1, 2, 3, 4, 5, 6, 7, 8]\n",
    "t[1:3] # from 1 up to but not including 3\n",
    "t[:4]\n",
    "t[3:]\n",
    "t[:]\n",
    "\n",
    "x = list()\n",
    "type(x)\n",
    "dir(x)\n",
    "\n",
    "\n",
    "# create a list\n",
    "stuff = list() #start creating an empty list\n",
    "stuff.append(\"book\")\n",
    "stuff.append(\"pen\")\n",
    "\n",
    "print(stuff)\n",
    "\n",
    "\n",
    "#is something in a list?\n",
    "\n",
    "t = [1, 2, 3, 4, 5, 6, 7, 8]\n",
    "9 in t\n",
    "5 in t\n",
    "9 not in t"
   ]
  },
  {
   "cell_type": "code",
   "execution_count": null,
   "id": "cc1479bf",
   "metadata": {},
   "outputs": [],
   "source": [
    "# sample of not using methods or function of list\n",
    "\n",
    "total = 0\n",
    "count = 0\n",
    "while True:\n",
    "    inp = input(\"Enter a number: \")\n",
    "    if inp == 'done' : break\n",
    "    value = float(inp)\n",
    "    total = total + value\n",
    "    count = count + 1\n",
    "\n",
    "average = total / count\n",
    "print(f\"Average: {average}\")\n",
    "\n",
    "\n",
    "# sample with doing it with\n",
    "\n",
    "numlist = list()\n",
    "while True:\n",
    "    inp = input(\"Enter a number: \")\n",
    "    if inp == 'done' : break\n",
    "    value = float(inp)\n",
    "    numlist.append(value)\n",
    "\n",
    "average = sum(numlist) / len(numlist)\n",
    "print(f\"Average: {average}\")"
   ]
  },
  {
   "cell_type": "markdown",
   "id": "e14bf9d0",
   "metadata": {},
   "source": [
    "<hr style=\"border:2px solid gray\"> </hr>   \n",
    "   \n",
    "## Lists - Part 3"
   ]
  },
  {
   "cell_type": "code",
   "execution_count": null,
   "id": "c4a891c0",
   "metadata": {},
   "outputs": [],
   "source": [
    "# START YOUR CODE HERE.\n",
    "# Bestfriends: strings and lists"
   ]
  },
  {
   "cell_type": "markdown",
   "id": "11e677ad",
   "metadata": {},
   "source": [
    "<hr style=\"border:2px solid gray\"> </hr>  \n",
    "\n",
    "## Practice Tasks   \n",
    "#### 1. Open the file data/romeo.txt and read it line by line. \n",
    "\n",
    "#### For each line, split the line into a list of words using the split() method. \n",
    "\n",
    "#### The program should build a list of words. \n",
    "\n",
    "#### For each word on each line check to see if the word is already in the list \n",
    "\n",
    "#### and if not append it to the list. \n",
    "\n",
    "#### When the program completes, sort and print the resulting words in alphabetical order.\n",
    "<br /> \n",
    "<details>    \n",
    "<summary>\n",
    "    <font size=\"3\" color=\"red\"><b>Hints (click to expand)</b></font>\n",
    "</summary>\n",
    "<p>\n",
    "    <ul>\n",
    "        <li>Open the file using \"with open(path, \"r\") as file\".</li>\n",
    "        <li>The readlines-method returns a list containing the different lines as elements.</li>\n",
    "        <li>One line can be split into a list of words using the split-method.</li>\n",
    "        <li>Remind yourself of the not in operator.</li>\n",
    "    </ul>\n",
    "</p>\n",
    "</details>"
   ]
  },
  {
   "cell_type": "code",
   "execution_count": null,
   "id": "1f5fb1ba",
   "metadata": {
    "scrolled": true
   },
   "outputs": [],
   "source": []
  },
  {
   "cell_type": "code",
   "execution_count": 2,
   "id": "a8cc6faa",
   "metadata": {},
   "outputs": [
    {
     "name": "stdout",
     "output_type": "stream",
     "text": [
      "['Arise', 'But', 'It', 'Juliet', 'Who', 'already', 'and', 'breaks', 'east', 'envious', 'fair', 'grief', 'is', 'kill', 'light', 'moon', 'pale', 'sick', 'soft', 'sun', 'the', 'through', 'what', 'window', 'with', 'yonder']\n"
     ]
    }
   ],
   "source": [
    "# START YOUR CODE HERE.\n",
    "\n",
    "x = list()\n",
    "with open(\"data/romeo.txt\") as f:\n",
    "    file = f.readlines()\n",
    "for eachline in file:\n",
    "    w = eachline.split()\n",
    "    for eachword in w:\n",
    "        if eachword not in x:\n",
    "            x.append(eachword)\n",
    "print(sorted(x))"
   ]
  },
  {
   "cell_type": "markdown",
   "id": "0e137107",
   "metadata": {},
   "source": [
    "<details>    \n",
    "<summary>\n",
    "    <font size=\"3\" color=\"darkgreen\"><b>Solution (click to expand)</b></font>\n",
    "</summary>\n",
    "<p>\n",
    "    <code>words = []</code><br />\n",
    "    <code>with open(\"data/romeo.txt\", \"r\") as file:</code><br />\n",
    "    <code>&nbsp;&nbsp;&nbsp;&nbsp;file = file.readlines()</code><br />\n",
    "    <code>for line in file:</code><br />\n",
    "    <code>&nbsp;&nbsp;&nbsp;&nbsp;text = line.split()</code><br />\n",
    "    <code>&nbsp;&nbsp;&nbsp;&nbsp;for word in text:</code><br />\n",
    "    <code>&nbsp;&nbsp;&nbsp;&nbsp;&nbsp;&nbsp;&nbsp;&nbsp;if word not in words:</code><br />\n",
    "    <code>&nbsp;&nbsp;&nbsp;&nbsp;&nbsp;&nbsp;&nbsp;&nbsp;&nbsp;&nbsp;&nbsp;&nbsp;words.append(word)</code><br />\n",
    "    <code>print(sorted(words))</code>\n",
    "</p>\n",
    "</details>   \n",
    "  \n",
    "#### 2. Open the file data/mbox-short.txt and read it line by line. \n",
    "#### When you find a line that starts with \"From \" like the following line:\n",
    "```From stephen.marquard@uct.ac.za Sat Jan  5 09:14:16 2008```\n",
    "\n",
    "#### You will parse the From line using split() and print out the second word in the line (i.e. the entire address of the person who sent the message). \n",
    "\n",
    "#### Then print out a count at the end. Hint: make sure not to include the lines that start with \"From:\".\n",
    "<br /> \n",
    "<details>    \n",
    "<summary>\n",
    "    <font size=\"3\" color=\"red\"><b>Hints (click to expand)</b></font>\n",
    "</summary>\n",
    "<p>\n",
    "    <ul>\n",
    "        <li>The startswith-method checks whether a string starts with the specified characters and returns True or  False.</li> \n",
    "        <li>What is the continue operator good for?</li>\n",
    "        <li>List indexing starts at 0 and goes up to n-1 if n represents the number of elements.</li>\n",
    "    </ul>\n",
    "</p>\n",
    "</details>"
   ]
  },
  {
   "cell_type": "code",
   "execution_count": 6,
   "id": "99584dda",
   "metadata": {},
   "outputs": [
    {
     "name": "stdout",
     "output_type": "stream",
     "text": [
      "stephen.marquard@uct.ac.za\n",
      "stephen.marquard@uct.ac.za\n",
      "louis@media.berkeley.edu\n",
      "louis@media.berkeley.edu\n",
      "zqian@umich.edu\n",
      "zqian@umich.edu\n",
      "rjlowe@iupui.edu\n",
      "rjlowe@iupui.edu\n",
      "zqian@umich.edu\n",
      "zqian@umich.edu\n",
      "rjlowe@iupui.edu\n",
      "rjlowe@iupui.edu\n",
      "cwen@iupui.edu\n",
      "cwen@iupui.edu\n",
      "cwen@iupui.edu\n",
      "cwen@iupui.edu\n",
      "gsilver@umich.edu\n",
      "gsilver@umich.edu\n",
      "gsilver@umich.edu\n",
      "gsilver@umich.edu\n",
      "zqian@umich.edu\n",
      "zqian@umich.edu\n",
      "gsilver@umich.edu\n",
      "gsilver@umich.edu\n",
      "wagnermr@iupui.edu\n",
      "wagnermr@iupui.edu\n",
      "zqian@umich.edu\n",
      "zqian@umich.edu\n",
      "antranig@caret.cam.ac.uk\n",
      "antranig@caret.cam.ac.uk\n",
      "gopal.ramasammycook@gmail.com\n",
      "gopal.ramasammycook@gmail.com\n",
      "david.horwitz@uct.ac.za\n",
      "david.horwitz@uct.ac.za\n",
      "david.horwitz@uct.ac.za\n",
      "david.horwitz@uct.ac.za\n",
      "david.horwitz@uct.ac.za\n",
      "david.horwitz@uct.ac.za\n",
      "david.horwitz@uct.ac.za\n",
      "david.horwitz@uct.ac.za\n",
      "stephen.marquard@uct.ac.za\n",
      "stephen.marquard@uct.ac.za\n",
      "louis@media.berkeley.edu\n",
      "louis@media.berkeley.edu\n",
      "louis@media.berkeley.edu\n",
      "louis@media.berkeley.edu\n",
      "ray@media.berkeley.edu\n",
      "ray@media.berkeley.edu\n",
      "cwen@iupui.edu\n",
      "cwen@iupui.edu\n",
      "cwen@iupui.edu\n",
      "cwen@iupui.edu\n",
      "cwen@iupui.edu\n",
      "cwen@iupui.edu\n",
      "There were 54 lines in the file that starts with From.\n"
     ]
    }
   ],
   "source": [
    "# START YOUR CODE HERE.\n",
    "\n",
    "count = 0\n",
    "with open(\"data/mbox-short.txt\", \"r\") as f:\n",
    "    contents = f.readlines()\n",
    "for line in contents:\n",
    "    if not line.startswith(\"From\"):\n",
    "        continue\n",
    "    else:\n",
    "        count += 1\n",
    "        print(line.split()[1])\n",
    "f.close()\n",
    "print(f\"There were {count} lines in the file that starts with From.\")\n",
    "\n",
    "    \n"
   ]
  },
  {
   "cell_type": "markdown",
   "id": "23b59568",
   "metadata": {},
   "source": [
    "<details>    \n",
    "<summary>\n",
    "    <font size=\"3\" color=\"darkgreen\"><b>Solution (click to expand)</b></font>\n",
    "</summary>\n",
    "<p>\n",
    "    <code>count = 0</code><br />\n",
    "    <code>with open(\"data/mbox-short.txt\", \"r\") as file:</code><br />\n",
    "    <code>&nbsp;&nbsp;&nbsp;&nbsp;file = file.readlines()</code><br />\n",
    "    <code>for line in file:</code><br />\n",
    "    <code>&nbsp;&nbsp;&nbsp;&nbsp;if not line.startswith(\"From \"):</code><br />\n",
    "    <code>&nbsp;&nbsp;&nbsp;&nbsp;&nbsp;&nbsp;&nbsp;&nbsp;continue</code><br />\n",
    "    <code>&nbsp;&nbsp;&nbsp;&nbsp;else:</code><br />\n",
    "    <code>&nbsp;&nbsp;&nbsp;&nbsp;&nbsp;&nbsp;&nbsp;&nbsp;count += 1</code><br />\n",
    "    <code>&nbsp;&nbsp;&nbsp;&nbsp;&nbsp;&nbsp;&nbsp;&nbsp;print(line.split()[1])</code><br />\n",
    "    <code>print(\"There were\", count, \"lines in the file with From as the first word.\")</code><br />\n",
    "</p>\n",
    "</details>   "
   ]
  }
 ],
 "metadata": {
  "kernelspec": {
   "display_name": "Python 3 (ipykernel)",
   "language": "python",
   "name": "python3"
  },
  "language_info": {
   "codemirror_mode": {
    "name": "ipython",
    "version": 3
   },
   "file_extension": ".py",
   "mimetype": "text/x-python",
   "name": "python",
   "nbconvert_exporter": "python",
   "pygments_lexer": "ipython3",
   "version": "3.9.12"
  }
 },
 "nbformat": 4,
 "nbformat_minor": 5
}
