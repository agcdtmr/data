{
 "cells": [
  {
   "cell_type": "code",
   "execution_count": null,
   "id": "8e1367ab",
   "metadata": {},
   "outputs": [],
   "source": [
    "# RUN THIS COMMAND ONLY IF YOU USE GOOGLE COLAB.\n",
    "from google.colab import drive\n",
    "drive.mount('/content/drive')"
   ]
  },
  {
   "cell_type": "code",
   "execution_count": null,
   "id": "a5914bc9",
   "metadata": {},
   "outputs": [],
   "source": [
    "# RUN THIS COMMAND ONLY IF YOU USE GOOGLE COLAB.\n",
    "%cd drive/MyDrive/TechLabs/01_Introduction\\ to\\ Python\\ Programming"
   ]
  },
  {
   "cell_type": "markdown",
   "id": "1b87b34e",
   "metadata": {},
   "source": [
    "# Chapter 11 - Object-oriented Programming\n",
    "### Hey Techie,   \n",
    "Welcome to the final notebook of this Python tutorial series. We encourage you to take this notebook as a template to code along the instruction videos, which you may find at: https://www.py4e.com/lessons/Objects. Today's four videos deal with concept of object-oriented programming. In the end, please try to solve the presented task. As PY4E does not offer an auto-graded assigment for this lecture, you can only double-check your results using the provided test cases.\n",
    "\n",
    "#### Have fun! :-)   \n",
    "*Video length in total*: 30 minutes   \n",
    "*Self-study time*: 30 minutes   \n",
    "*Total*: **60 minutes**   \n",
    "#### Credits\n",
    "Python for Everybody, Dr. Chuck Severance, https://www.py4e.com/, CC.\n",
    "<hr style=\"border:2px solid gray\"> </hr>   \n",
    "   \n",
    "## Object-oriented Programming - Part 1"
   ]
  },
  {
   "cell_type": "code",
   "execution_count": null,
   "id": "a6ebc364",
   "metadata": {},
   "outputs": [],
   "source": [
    "# START YOUR CODE HERE.\n",
    "\n",
    "# method is just really a function but it lives inside a class\n",
    "\n",
    "# class is the template, object is the instance\n"
   ]
  },
  {
   "cell_type": "markdown",
   "id": "caf3dc55",
   "metadata": {},
   "source": [
    "<hr style=\"border:2px solid gray\"> </hr>   \n",
    "   \n",
    "## Object-oriented Programming - Part 2"
   ]
  },
  {
   "cell_type": "code",
   "execution_count": 5,
   "id": "b47889df",
   "metadata": {},
   "outputs": [
    {
     "name": "stdout",
     "output_type": "stream",
     "text": [
      "type <class '__main__.PartyAnimal'>\n",
      "dir ['__class__', '__delattr__', '__dict__', '__dir__', '__doc__', '__eq__', '__format__', '__ge__', '__getattribute__', '__gt__', '__hash__', '__init__', '__init_subclass__', '__le__', '__lt__', '__module__', '__ne__', '__new__', '__reduce__', '__reduce_ex__', '__repr__', '__setattr__', '__sizeof__', '__str__', '__subclasshook__', '__weakref__', 'party', 'x']\n",
      "So far 1\n",
      "So far 2\n",
      "So far 3\n",
      "So far 4\n",
      "So far 5\n"
     ]
    },
    {
     "data": {
      "text/plain": [
       "['__add__',\n",
       " '__class__',\n",
       " '__class_getitem__',\n",
       " '__contains__',\n",
       " '__delattr__',\n",
       " '__delitem__',\n",
       " '__dir__',\n",
       " '__doc__',\n",
       " '__eq__',\n",
       " '__format__',\n",
       " '__ge__',\n",
       " '__getattribute__',\n",
       " '__getitem__',\n",
       " '__gt__',\n",
       " '__hash__',\n",
       " '__iadd__',\n",
       " '__imul__',\n",
       " '__init__',\n",
       " '__init_subclass__',\n",
       " '__iter__',\n",
       " '__le__',\n",
       " '__len__',\n",
       " '__lt__',\n",
       " '__mul__',\n",
       " '__ne__',\n",
       " '__new__',\n",
       " '__reduce__',\n",
       " '__reduce_ex__',\n",
       " '__repr__',\n",
       " '__reversed__',\n",
       " '__rmul__',\n",
       " '__setattr__',\n",
       " '__setitem__',\n",
       " '__sizeof__',\n",
       " '__str__',\n",
       " '__subclasshook__',\n",
       " 'append',\n",
       " 'clear',\n",
       " 'copy',\n",
       " 'count',\n",
       " 'extend',\n",
       " 'index',\n",
       " 'insert',\n",
       " 'pop',\n",
       " 'remove',\n",
       " 'reverse',\n",
       " 'sort']"
      ]
     },
     "execution_count": 5,
     "metadata": {},
     "output_type": "execute_result"
    }
   ],
   "source": [
    "# START YOUR CODE HERE.\n",
    "\n",
    "class PartyAnimal:\n",
    "    x = 0\n",
    "    \n",
    "    def party(self):\n",
    "        self.x = self.x + 1\n",
    "        print(\"So far\", self.x)\n",
    "        \n",
    "an = PartyAnimal()\n",
    "\n",
    "print(\"type\", type(an))\n",
    "print(\"dir\", dir(an))\n",
    "      \n",
    "an.party()\n",
    "an.party()\n",
    "an.party()\n",
    "an.party()\n",
    "an.party()\n",
    "\n",
    "\n",
    "# creating an empty list and try dir() eith str\n",
    "\n",
    "x = list()\n",
    "type(x)\n",
    "dir(x)\n",
    "\n"
   ]
  },
  {
   "cell_type": "markdown",
   "id": "b652a2ab",
   "metadata": {},
   "source": [
    "<hr style=\"border:2px solid gray\"> </hr>   \n",
    "   \n",
    "## Object-oriented Programming - Part 3"
   ]
  },
  {
   "cell_type": "code",
   "execution_count": 24,
   "id": "63048d41",
   "metadata": {},
   "outputs": [
    {
     "name": "stdout",
     "output_type": "stream",
     "text": [
      "I am constructed\n",
      "So far 1\n",
      "So far 2\n",
      "So far 3\n",
      "I am destructed 3\n",
      "Destructed because an is reassigned to 42\n",
      "Sally constructed\n",
      "Sally party count 1\n",
      "Sally party count 2\n",
      "Sally party count 3\n",
      "Ben constructed\n",
      "Ben party count 1\n"
     ]
    }
   ],
   "source": [
    "# START YOUR CODE HERE.\n",
    "\n",
    "# Actively creating and discarding object or LIFECYCLE\n",
    "\n",
    "\n",
    "class PartyAnimal:\n",
    "    x = 0\n",
    "    \n",
    "    def __init__(self):\n",
    "        print(\"I am constructed\")\n",
    "    \n",
    "    def party(self):\n",
    "        self.x = self.x + 1\n",
    "        print(\"So far\", self.x)\n",
    "        \n",
    "    def __del__(self):\n",
    "        print(\"I am destructed\", self.x)\n",
    "        \n",
    "an = PartyAnimal()\n",
    "      \n",
    "an.party()\n",
    "an.party()\n",
    "an.party()\n",
    "\n",
    "an = 42\n",
    "print(f\"Destructed because an is reassigned to {an}\")\n",
    "\n",
    "\n",
    "# CONSTRUCTOR\n",
    "\n",
    "\n",
    "class PartyAnimal:\n",
    "    x = 0\n",
    "    name = \"\"\n",
    "    \n",
    "    def __init__(self, z):\n",
    "        self.name = z\n",
    "        print(z, \"constructed\")\n",
    "        \n",
    "    def party(self):\n",
    "        self.x = self.x + 1\n",
    "        print(self.name, f\"party count {self.x}\")\n",
    "        \n",
    "\n",
    "s = PartyAnimal(\"Sally\")\n",
    "s.party()\n",
    "s.party()\n",
    "s.party()\n",
    "\n",
    "j = PartyAnimal(\"Ben\")\n",
    "j.party()"
   ]
  },
  {
   "cell_type": "markdown",
   "id": "a3a40c48",
   "metadata": {},
   "source": [
    "<hr style=\"border:2px solid gray\"> </hr>   \n",
    "   \n",
    "## Object-oriented Programming - Part 4"
   ]
  },
  {
   "cell_type": "code",
   "execution_count": 29,
   "id": "c9394815",
   "metadata": {},
   "outputs": [
    {
     "name": "stdout",
     "output_type": "stream",
     "text": [
      "Sally constructed\n",
      "Sally party count 1\n",
      "Sally party count 2\n",
      "Sally party count 3\n",
      "Ben constructed\n",
      "Ben party count 1\n",
      "Ben party count 2\n",
      "Ben points 7\n"
     ]
    }
   ],
   "source": [
    "# START YOUR CODE HERE.\n",
    "\n",
    "\n",
    "# Inheritance - code reuse , extending our class, the ability to\n",
    "# extend a class to make a new class\n",
    "# class is a template, it's not a thing, it's the shape of a thing\n",
    "# attribute a variable within a class\n",
    "# method a function living inside of a class\n",
    "# object particular instance of a class\n",
    "# constructor - code that runs when an object is created\n",
    "\n",
    "\n",
    "class PartyAnimal:\n",
    "    x = 0\n",
    "    name = \"\"\n",
    "    \n",
    "    def __init__(self, z):\n",
    "        self.name = z\n",
    "        print(z, \"constructed\")\n",
    "        \n",
    "    def party(self):\n",
    "        self.x = self.x + 1\n",
    "        print(self.name, f\"party count {self.x}\")\n",
    "        \n",
    "\n",
    "class FootballFan(PartyAnimal):\n",
    "    points = 0\n",
    "    \n",
    "    def touchdown(self):\n",
    "        self.points = self.points + 7\n",
    "        self.party()\n",
    "        print(self.name, f\"points {self.points}\")\n",
    "        \n",
    "        \n",
    "s = PartyAnimal(\"Sally\")\n",
    "s.party()\n",
    "s.party()\n",
    "s.party()\n",
    "\n",
    "\n",
    "j = FootballFan(\"Ben\")\n",
    "j.party()\n",
    "j.touchdown()\n"
   ]
  },
  {
   "cell_type": "markdown",
   "id": "55f785a3",
   "metadata": {},
   "source": [
    "<hr style=\"border:2px solid gray\"> </hr>  \n",
    "\n",
    "## Practice Task   \n",
    "#### 1. Write a class Techie that has four global attributes (part of self) name (str), age (int), profession (str), and location (str). Additionally, write four methods that print one of the global attributes respectively named *get_name*, *get_age*, *get_profession*, and *get_location*.\n",
    "<br /> \n",
    "<details>    \n",
    "<summary>\n",
    "    <font size=\"3\" color=\"red\"><b>Hints (click to expand)</b></font>\n",
    "</summary>\n",
    "<p>\n",
    "    <ul>\n",
    "        <li>Use the built-in input method to read hours and rate per hour separately.</li>\n",
    "        <li>Typecast both inputs to floats.</li>\n",
    "        <li>Print the result by multiplying the hours with their rate per hour using the *-operator.</li>\n",
    "    </ul>\n",
    "</p>\n",
    "</details>"
   ]
  },
  {
   "cell_type": "code",
   "execution_count": 35,
   "id": "71212838",
   "metadata": {},
   "outputs": [],
   "source": [
    "class Techie:\n",
    "\n",
    "    def __init__(self, name, age, profession, location):\n",
    "        self.name = name\n",
    "        self.age = age\n",
    "        self.profession = profession\n",
    "        self.location = location\n",
    "\n",
    "\n",
    "    def get_name(self):\n",
    "        return f\"You can call me {self.name}\"\n",
    "\n",
    "\n",
    "    def get_age(self):\n",
    "        return f\"I am {self.age} years old\"\n",
    "\n",
    "\n",
    "    def get_profession(self):\n",
    "        return f\"I am a/an {self.profession}\"\n",
    "\n",
    "\n",
    "    def get_location(self):\n",
    "        return f\"I joined Techlabs {self.location}\"\n"
   ]
  },
  {
   "cell_type": "code",
   "execution_count": 36,
   "id": "6c3a3a98",
   "metadata": {},
   "outputs": [
    {
     "name": "stdout",
     "output_type": "stream",
     "text": [
      "<__main__.Techie object at 0x7f917020bd60>\n",
      "You can call me Diwata\n",
      "I am 29 years old\n",
      "I am a/an Engineer\n",
      "I joined Techlabs Rotterdam\n"
     ]
    }
   ],
   "source": [
    "# ENTER YOUR ATTRIBUTES HERE.\n",
    "# techie = Techie(name = \"YourName\", age = 99, profession = \"YourProfession\", location = \"YourLocation\")\n",
    "# IF ALL FOUR ATTRIBUTES ARE PRINTED, EVERYTHING WORKS FINE!\n",
    "\n",
    "techy = Techie(\"Diwata\", 29, \"Engineer\", \"Rotterdam\")\n",
    "print(techy)\n",
    "\n",
    "\n",
    "print(techy.get_name())\n",
    "print(techy.get_age())\n",
    "print(techy.get_profession())\n",
    "print(techy.get_location())\n"
   ]
  },
  {
   "cell_type": "markdown",
   "id": "fa62b820",
   "metadata": {},
   "source": [
    "<details>    \n",
    "<summary>\n",
    "    <font size=\"3\" color=\"darkgreen\"><b>Sample Solution (click to expand)</b></font>\n",
    "</summary>\n",
    "<p>\n",
    "    <code>class Techie:</code><br />\n",
    "    <code></code><br />\n",
    "    <code>def __init__(self, name: str, age: int, profession: str, location: str):</code><br />\n",
    "    <code>&nbsp;&nbsp;&nbsp;&nbsp;self.name = name</code><br />\n",
    "    <code>&nbsp;&nbsp;&nbsp;&nbsp;self.age = age</code><br />\n",
    "    <code>&nbsp;&nbsp;&nbsp;&nbsp;self.profession = profession</code><br />\n",
    "    <code>&nbsp;&nbsp;&nbsp;&nbsp;self.location = location</code><br />\n",
    "    <code></code><br />\n",
    "    <code>def get_name(self):</code><br />\n",
    "    <code>&nbsp;&nbsp;&nbsp;&nbsp;print(\"My name is\", self.name, \".\")</code><br />\n",
    "    <code></code><br />\n",
    "    <code>def get_age(self):</code><br />\n",
    "    <code>&nbsp;&nbsp;&nbsp;&nbsp;print(\"I am\", self.age, \"years old!\")</code><br />\n",
    "    <code></code><br />\n",
    "    <code>def get_profession(self):</code><br />\n",
    "    <code>&nbsp;&nbsp;&nbsp;&nbsp;print(\"I am a/an\", self.profession, \".\")</code><br />\n",
    "    <code></code><br />    \n",
    "    <code>def get_location(self):</code><br />\n",
    "    <code>&nbsp;&nbsp;&nbsp;&nbsp;print(\"I participate at TechLabs\", self.location, \".\")</code>\n",
    "</p>\n",
    "</details> "
   ]
  }
 ],
 "metadata": {
  "kernelspec": {
   "display_name": "Python 3 (ipykernel)",
   "language": "python",
   "name": "python3"
  },
  "language_info": {
   "codemirror_mode": {
    "name": "ipython",
    "version": 3
   },
   "file_extension": ".py",
   "mimetype": "text/x-python",
   "name": "python",
   "nbconvert_exporter": "python",
   "pygments_lexer": "ipython3",
   "version": "3.9.12"
  }
 },
 "nbformat": 4,
 "nbformat_minor": 5
}
