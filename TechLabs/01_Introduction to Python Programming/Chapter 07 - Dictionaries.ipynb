{
 "cells": [
  {
   "cell_type": "code",
   "execution_count": null,
   "id": "f02fa81d",
   "metadata": {},
   "outputs": [],
   "source": [
    "# RUN THIS COMMAND ONLY IF YOU USE GOOGLE COLAB.\n",
    "from google.colab import drive\n",
    "drive.mount('/content/drive')"
   ]
  },
  {
   "cell_type": "code",
   "execution_count": null,
   "id": "23a5e17a",
   "metadata": {},
   "outputs": [],
   "source": [
    "# RUN THIS COMMAND ONLY IF YOU USE GOOGLE COLAB.\n",
    "%cd drive/MyDrive/TechLabs/01_Introduction\\ to\\ Python\\ Programming"
   ]
  },
  {
   "cell_type": "markdown",
   "id": "1b87b34e",
   "metadata": {},
   "source": [
    "# Chapter 7 - Dictionaries\n",
    "### Hey Techie,   \n",
    "Welcome to the seventh notebook of this Python tutorial series. We encourage you to take this notebook as a template to code along the instruction videos, which you may find at: https://www.py4e.com/lessons/dictionary. Today's three videos deal with dictionaries and how to use them to store key-value associations. There is no need to watch the video *Counting Word Frequency using a Dictionary*. In the end, please try to solve the presented task. If you want to double-check your results, you may also upload them to PY4E. For that, a Google Account is required. On the website, you find the auto-graded code tasks at the very end of each lesson.\n",
    "\n",
    "#### Have fun! :-)   \n",
    "*Video length in total*: 30 minutes   \n",
    "*Self-study time*: 30 minutes   \n",
    "*Total*: **60 minutes**   \n",
    "#### Credits\n",
    "Python for Everybody, Dr. Chuck Severance, https://www.py4e.com/, CC.\n",
    "<hr style=\"border:2px solid gray\"> </hr>   \n",
    "   \n",
    "## Dictionaries - Part 1"
   ]
  },
  {
   "cell_type": "code",
   "execution_count": 2,
   "id": "a6ebc364",
   "metadata": {},
   "outputs": [
    {
     "name": "stdout",
     "output_type": "stream",
     "text": [
      "{'money': 12, 'candy': 3, 'tissue': 74}\n",
      "{'money': 12, 'candy': 5, 'tissue': 74}\n"
     ]
    }
   ],
   "source": [
    "# START YOUR CODE HERE.\n",
    "\n",
    "purse = dict()\n",
    "purse['money'] = 12\n",
    "purse['candy'] = 3\n",
    "purse['tissue'] = 74\n",
    "print(purse)\n",
    "\n",
    "purse['candy'] = purse['candy'] + 2\n",
    "print(purse)"
   ]
  },
  {
   "cell_type": "markdown",
   "id": "caf3dc55",
   "metadata": {},
   "source": [
    "<hr style=\"border:2px solid gray\"> </hr>   \n",
    "   \n",
    "## Dictionaries - Part 2"
   ]
  },
  {
   "cell_type": "code",
   "execution_count": 5,
   "id": "b47889df",
   "metadata": {},
   "outputs": [
    {
     "name": "stdout",
     "output_type": "stream",
     "text": [
      "{'cs': 2, 'cw': 2, 'zq': 1}\n",
      "{'cs': 2, 'cw': 2, 'zq': 1}\n"
     ]
    }
   ],
   "source": [
    "# START YOUR CODE HERE.\n",
    "# histogram and dictionaries\n",
    "\n",
    "\n",
    "# mmm\n",
    "# zzzzz\n",
    "# cccc\n",
    "\n",
    "\n",
    "counts = dict()\n",
    "names = [\"cs\", \"cw\", \"cs\", \"zq\", \"cw\"]\n",
    "for name in names:\n",
    "    if name not in counts:\n",
    "        counts[name] = 1\n",
    "    else:\n",
    "        counts[name] = counts[name] + 1\n",
    "print(counts)\n",
    "\n",
    "\n",
    "# better way to code\n",
    "\n",
    "counts = dict()\n",
    "names = [\"cs\", \"cw\", \"cs\", \"zq\", \"cw\"]\n",
    "for name in names:\n",
    "    counts[name] = counts.get(name, 0) + 1\n",
    "print(counts)"
   ]
  },
  {
   "cell_type": "markdown",
   "id": "d9a173a0",
   "metadata": {},
   "source": [
    "<hr style=\"border:2px solid gray\"> </hr>   \n",
    "   \n",
    "## Dictionaries - Part 3"
   ]
  },
  {
   "cell_type": "code",
   "execution_count": null,
   "id": "336c58b5",
   "metadata": {
    "scrolled": true
   },
   "outputs": [],
   "source": [
    "# START YOUR CODE HERE.\n",
    "\n",
    "counts = dict()\n",
    "line = input(\"Enter a line of text: \")\n",
    "words = line.split()\n",
    "\n",
    "print(f\"Words: {words}\")\n",
    "print(\"Counting...\")\n",
    "\n",
    "for word in words:\n",
    "    counts[word] = counts.get(word, 0) + 1\n",
    "print(f\"Counts: {counts}\")\n",
    "\n",
    "\n",
    "# two iteration variable\n",
    "\n",
    "some_dict = {'cs': 2, 'cw': 2, 'zq': 1}\n",
    "\n",
    "for aaa,bbb in some_dict.items():\n",
    "    print(aaa, bbb)"
   ]
  },
  {
   "cell_type": "code",
   "execution_count": null,
   "id": "c5b78c87",
   "metadata": {},
   "outputs": [],
   "source": [
    "\"\"\"She didn't understand how changed worked. When she looked at today compared to yesterday, there was nothing that she could see that was different. Yet, when she looked at today compared to last year, she couldn't see how anything was ever the same.\n",
    "One can cook on and with an open fire. These are some of the ways to cook with fire outside. Cooking meat using a spit is a great way to evenly cook meat. In order to keep meat from burning, it's best to slowly rotate it. Hot stones can be used to toast bread. Coals are hot and can bring things to a boil quickly. If one is very adventurous, one can make a hole in the ground, fill it with coals and place foil-covered meat, veggies, and potatoes into the coals, and cover all of it with dirt. In a short period of time, the food will be baked. Campfire cooking can be done in many ways.\n",
    "He walked down the steps from the train station in a bit of a hurry knowing the secrets in the briefcase must be secured as quickly as possible. Bounding down the steps, he heard something behind him and quickly turned in a panic. There was nobody there but a pair of old worn-out shoes were placed neatly on the steps he had just come down. Had he past them without seeing them? It didn't seem possible. He was about to turn and be on his way when a deep chill filled his body.\"\"\""
   ]
  },
  {
   "cell_type": "code",
   "execution_count": null,
   "id": "ba623224",
   "metadata": {},
   "outputs": [],
   "source": [
    "file = input(\"Enter a file address: \")\n",
    "handle = open(file)\n",
    "\n",
    "counts = dict()\n",
    "for line in handle:\n",
    "    words = line.split()\n",
    "    for word in words:\n",
    "        counts[word] = counts.get(word, 0) + 1\n",
    "\n",
    "bigcount = None\n",
    "bigword = None\n",
    "for word, count in counts.items():\n",
    "    if bigcount is None or count > bigcount:\n",
    "        bigword = word\n",
    "        bigcount = count\n",
    "\n",
    "print(bigword, bigcount)"
   ]
  },
  {
   "cell_type": "markdown",
   "id": "55f785a3",
   "metadata": {},
   "source": [
    "<hr style=\"border:2px solid gray\"> </hr>  \n",
    "\n",
    "## Practice Task   \n",
    "#### 1. Write a program to read through the data/mbox-short.txt \n",
    "\n",
    "#### and figure out who has sent the greatest number of mail messages. \n",
    "\n",
    "#### The program looks for 'From ' lines \n",
    "\n",
    "#### and takes the second word of those lines as the person who sent the mail. \n",
    "\n",
    "#### The program creates a Python dictionary that maps the sender's mail address \n",
    "\n",
    "#### to a count of the number of times they appear in the file.\n",
    "\n",
    "#### After the dictionary is produced, the program reads through the dictionary using a maximum loop to find the most prolific committer.\n",
    "<br /> \n",
    "<details>    \n",
    "<summary>\n",
    "    <font size=\"3\" color=\"red\"><b>Hints (click to expand)</b></font>\n",
    "</summary>\n",
    "<p>\n",
    "    <ul>\n",
    "        <li>Can you reuse code you have already written?</li>\n",
    "        <li>Remind yourself of the get-method to access values in dictionaries.</li>\n",
    "        <li>What does the items-method return if it is called on a dictionary?</li>\n",
    "    </ul>\n",
    "</p>\n",
    "</details>"
   ]
  },
  {
   "cell_type": "code",
   "execution_count": 7,
   "id": "71212838",
   "metadata": {},
   "outputs": [
    {
     "name": "stdout",
     "output_type": "stream",
     "text": [
      "david.horwitz@uct.ac.za 1\n"
     ]
    }
   ],
   "source": [
    "# START YOUR CODE HERE.\n",
    "\n",
    "# count = dict()\n",
    "# with open(\"data/mbox-short.txt\", \"r\") as file:\n",
    "# f = file.readlines()\n",
    "# for line in f:\n",
    "#     if not line.startswith(\"From\"):\n",
    "#         continue\n",
    "\n",
    "#     else:\n",
    "#         count[line] = count.get[line, 0] + 1\n",
    "# print(f\"Count: {count}\")\n",
    "\n",
    "\n",
    "email_counts = {}\n",
    "\n",
    "with open(\"data/mbox-short.txt\", \"r\") as file:\n",
    "    file = file.readlines()\n",
    "    \n",
    "for line in file:\n",
    "    if not line.startswith(\"From \"):\n",
    "        continue\n",
    "        \n",
    "    address = line.split()[1]  # because we know that from is at 0 index\n",
    "    email_counts[address] = email_counts.get(address, 0) + 1\n",
    "    \n",
    "biggest_key = None\n",
    "biggest_value = None\n",
    "\n",
    "for key, value in email_counts.items():\n",
    "    if biggest_value is None or value > biggest_value:\n",
    "        biggest_key = key\n",
    "    biggest_value = value\n",
    "    \n",
    "print(biggest_key, biggest_value)"
   ]
  },
  {
   "cell_type": "markdown",
   "id": "fa62b820",
   "metadata": {},
   "source": [
    "<details>    \n",
    "<summary>\n",
    "    <font size=\"3\" color=\"darkgreen\"><b>Solution (click to expand)</b></font>\n",
    "</summary>\n",
    "<p>\n",
    "    <code>email_counts = {}</code><br />\n",
    "    <code>with open(\"data/mbox-short.txt\", \"r\") as file:</code><br />\n",
    "    <code>&nbsp;&nbsp;&nbsp;&nbsp;file = file.readlines()</code><br />\n",
    "    <code>for line in file:</code><br />\n",
    "    <code>&nbsp;&nbsp;&nbsp;&nbsp;if not line.startswith(\"From \"):</code><br />\n",
    "    <code>&nbsp;&nbsp;&nbsp;&nbsp;&nbsp;&nbsp;&nbsp;&nbsp;continue</code><br />\n",
    "    <code>&nbsp;&nbsp;&nbsp;&nbsp;adress = line.split()[1]</code><br />\n",
    "    <code>&nbsp;&nbsp;&nbsp;&nbsp;email_counts[adress] = email_counts.get(adress, 0) + 1</code><br />\n",
    "    <code>biggest_key = None</code><br />\n",
    "    <code>biggest_value = None</code><br />\n",
    "    <code>for key, value in email_counts.items():</code><br />\n",
    "    <code>&nbsp;&nbsp;&nbsp;&nbsp;if biggest_value is None or value > biggest_value:</code><br />\n",
    "    <code>&nbsp;&nbsp;&nbsp;&nbsp;&nbsp;&nbsp;&nbsp;&nbsp;biggest_key = key</code><br />\n",
    "    <code>&nbsp;&nbsp;&nbsp;&nbsp;biggest_value = value</code><br />\n",
    "    <code>print(biggest_key, biggest_value)</code><br />\n",
    "    <code></code><br />\n",
    "    <code># SHORT FORM TO FILTER OUT THE MAXIMUM:</code><br />\n",
    "    <code>biggest_key, biggest_value = sorted(email_counts.items(), key = lambda x: -x[1])[0]</code><br />\n",
    "    <code>print(biggest_key, biggest_value)</code><br />\n",
    "</p>\n",
    "</details> "
   ]
  }
 ],
 "metadata": {
  "kernelspec": {
   "display_name": "Python 3 (ipykernel)",
   "language": "python",
   "name": "python3"
  },
  "language_info": {
   "codemirror_mode": {
    "name": "ipython",
    "version": 3
   },
   "file_extension": ".py",
   "mimetype": "text/x-python",
   "name": "python",
   "nbconvert_exporter": "python",
   "pygments_lexer": "ipython3",
   "version": "3.9.12"
  }
 },
 "nbformat": 4,
 "nbformat_minor": 5
}
