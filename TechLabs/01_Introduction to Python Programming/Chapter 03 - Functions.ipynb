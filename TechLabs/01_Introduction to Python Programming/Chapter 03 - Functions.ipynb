{
 "cells": [
  {
   "cell_type": "code",
   "execution_count": null,
   "id": "a013d32d",
   "metadata": {},
   "outputs": [],
   "source": [
    "# RUN THIS COMMAND ONLY IF YOU USE GOOGLE COLAB.\n",
    "from google.colab import drive\n",
    "drive.mount('/content/drive')"
   ]
  },
  {
   "cell_type": "code",
   "execution_count": null,
   "id": "f30dc0bf",
   "metadata": {},
   "outputs": [],
   "source": [
    "# RUN THIS COMMAND ONLY IF YOU USE GOOGLE COLAB.\n",
    "%cd drive/MyDrive/TechLabs/01_Introduction\\ to\\ Python\\ Programming"
   ]
  },
  {
   "cell_type": "markdown",
   "id": "1b87b34e",
   "metadata": {},
   "source": [
    "# Chapter 3 - Functions\n",
    "### Hey Techie,   \n",
    "Welcome to the third notebook of this Python tutorial series. We encourage you to take this notebook as a template to code along the instruction videos, which you may find at: https://www.py4e.com/lessons/functions. Today's first two videos deal with functions and how we can make code reusable. A third video explains how anonymous functions, also called lambda functions, work which can be found at: https://www.youtube.com/watch?v=dX6lWSp7pP4&list=PLkdX4MYXSiDubmajVt7ge9LDclDf7AfKK&index=3. There is no need to watch the worked exercise on PY4E. In the end, please try to solve the presented task. If you want to double-check your results, you may also upload them to PY4E. For that, a Google Account is required. On the website, you find the auto-graded code tasks at the very end of each lesson.\n",
    "\n",
    "#### Have fun! :-)   \n",
    "*Video length in total*: 28 minutes   \n",
    "*Self-study time*: 28 minutes   \n",
    "*Total*: **56 minutes**   \n",
    "#### Credits\n",
    "Python for Everybody, Dr. Chuck Severance, https://www.py4e.com/, CC.\n",
    "<hr style=\"border:2px solid gray\"> </hr>   \n",
    "   \n",
    "## Functions - Part 1"
   ]
  },
  {
   "cell_type": "code",
   "execution_count": 11,
   "id": "a6ebc364",
   "metadata": {},
   "outputs": [
    {
     "name": "stdout",
     "output_type": "stream",
     "text": [
      "w\n"
     ]
    }
   ],
   "source": [
    "# START YOUR CODE HERE.\n",
    "\n",
    "big = max('Hello world')\n",
    "print(big)\n"
   ]
  },
  {
   "cell_type": "code",
   "execution_count": 12,
   "id": "320a7e3d",
   "metadata": {},
   "outputs": [
    {
     "name": "stdout",
     "output_type": "stream",
     "text": [
      " \n"
     ]
    }
   ],
   "source": [
    "small = min('Hello world')\n",
    "print(small)"
   ]
  },
  {
   "cell_type": "markdown",
   "id": "caf3dc55",
   "metadata": {},
   "source": [
    "<hr style=\"border:2px solid gray\"> </hr>   \n",
    "   \n",
    "## Functions - Part 2"
   ]
  },
  {
   "cell_type": "code",
   "execution_count": 18,
   "id": "b47889df",
   "metadata": {},
   "outputs": [
    {
     "name": "stdout",
     "output_type": "stream",
     "text": [
      "Hello\n",
      "Yo\n",
      "7\n",
      "Hello\n",
      "Hola\n",
      "Bonjour\n",
      "Hello Anj\n",
      "Hello Ben\n",
      "Hello shake\n",
      "Hola jaiden\n",
      "Bonjour lottie\n"
     ]
    }
   ],
   "source": [
    "# START YOUR CODE HERE.\n",
    "\n",
    "x = 5\n",
    "print(\"Hello\")\n",
    "\n",
    "def print_lyrics():\n",
    "    print(\"Some lyrics\")\n",
    "    print(\"Some other lyrics\")\n",
    "    \n",
    "print(\"Yo\")\n",
    "# print_lyrics()\n",
    "x = x + 2\n",
    "print(x)\n",
    "\n",
    "\n",
    "def greet(lang):\n",
    "    if lang == \"es\":\n",
    "        print(\"Hola\")\n",
    "    elif lang == \"fr\":\n",
    "        print(\"Bonjour\")\n",
    "    else:\n",
    "        print(\"Hello\")\n",
    "\n",
    "greet(\"en\")\n",
    "greet(\"es\")\n",
    "greet(\"fr\")\n",
    "\n",
    "\n",
    "def hey():\n",
    "    return \"Hello\"\n",
    "\n",
    "print(hey(), \"Anj\")\n",
    "print(hey(), \"Ben\")\n",
    "\n",
    "\n",
    "def greet(lang):\n",
    "    if lang == \"es\":\n",
    "        return \"Hola\"\n",
    "    elif lang == \"fr\":\n",
    "        return \"Bonjour\"\n",
    "    else:\n",
    "        return \"Hello\"\n",
    "\n",
    "print(greet(\"en\"), \"shake\")\n",
    "print(greet(\"es\"), \"jaiden\")\n",
    "print(greet(\"fr\"), \"lottie\")\n"
   ]
  },
  {
   "cell_type": "markdown",
   "id": "439589d1",
   "metadata": {},
   "source": [
    "<hr style=\"border:2px solid gray\"> </hr>   \n",
    "   \n",
    "## Python lambda (anonymous) Functions | Python Best Practices"
   ]
  },
  {
   "cell_type": "code",
   "execution_count": 23,
   "id": "9224ad62",
   "metadata": {},
   "outputs": [
    {
     "name": "stdout",
     "output_type": "stream",
     "text": [
      "47\n",
      "20\n",
      "['alan', 'augustine', 'gregory', 'jonas', 'tom', 'zlatan']\n",
      "['tom', 'alan', 'jonas', 'zlatan', 'gregory', 'augustine']\n"
     ]
    }
   ],
   "source": [
    "# START YOUR CODE HERE.\n",
    "\n",
    "# def double(n):\n",
    "#     return n * 2\n",
    "\n",
    "\n",
    "# double = lambda n: n*2\n",
    "# print(double(10))\n",
    "\n",
    "\n",
    "#it can take any number of argument but only one expressions\n",
    "\n",
    "larger = lambda a, b: a if a>b else b\n",
    "\n",
    "print(larger(10,47))\n",
    "print(larger(20, 10))\n",
    "\n",
    "\n",
    "\n",
    "names = [\"alan\", \"gregory\", \"zlatan\", \"jonas\", \"tom\", \"augustine\"]\n",
    "\n",
    "names.sort()\n",
    "print(names)\n",
    "\n",
    "names.sort(key = lambda x: len(x))\n",
    "print(names)\n"
   ]
  },
  {
   "cell_type": "markdown",
   "id": "55f785a3",
   "metadata": {},
   "source": [
    "<hr style=\"border:2px solid gray\"> </hr>  \n",
    "\n",
    "## Practice Task   \n",
    "#### 1. Write a program to prompt the user for hours and rate per hour using input to compute gross pay. \n",
    "\n",
    "#### Pay should be the normal rate for hours up to 40 and 1.5 for the hourly rate for all hours worked above 40 hours. \n",
    "\n",
    "#### Put the logic to do the computation of pay in a function called computepay() and use the function to do the computation. \n",
    "\n",
    "#### The function should return a value. Use 45 hours and a rate of 10.50 per hour to test the program (the pay should be 498.75). \n",
    "\n",
    "#### You should use input to read a string and float() to convert the string to a number. \n",
    "\n",
    "#### Do not worry about error checking the user input unless you want to - you can assume the user types numbers properly. \n",
    "\n",
    "#### Do not name your variable sum or use the sum() function. Print your computed pay.\n",
    "<br /> \n",
    "<details>    \n",
    "<summary>\n",
    "    <font size=\"3\" color=\"red\"><b>Hints (click to expand)</b></font>\n",
    "</summary>\n",
    "<p>\n",
    "    <ul>\n",
    "        <li>Your function needs two arguments: hours and rate.</li>\n",
    "        <li>Can you reuse code you have already written?</li>\n",
    "    </ul>\n",
    "</p>\n",
    "</details>"
   ]
  },
  {
   "cell_type": "code",
   "execution_count": 28,
   "id": "71212838",
   "metadata": {},
   "outputs": [
    {
     "name": "stdout",
     "output_type": "stream",
     "text": [
      "Enter Hours: 40\n",
      "Enter rate per hour: 10\n",
      "Total Gross Pay:  400.0\n"
     ]
    }
   ],
   "source": [
    "# START YOUR CODE HERE.\n",
    "\n",
    "\n",
    "hrs = int(input(\"Enter Hours: \"))\n",
    "rate_per_hour = float(input(\"Enter rate per hour: \"))\n",
    "\n",
    "def computepay(h , r):\n",
    "    if hrs <= 40:\n",
    "        return h * r\n",
    "#         pay = \n",
    "#         print(f\"Total Gross Pay: {pay}\")\n",
    "    \n",
    "    else:\n",
    "        return (r * 40 + (h - 40) * r * 1.5)\n",
    "#         pay = (rate_per_hour * 40 + (hrs - 40) * rate_per_hour * 1.5)\n",
    "#         print(f\"Total Gross Pay: {pay}\")\n",
    "\n",
    "\n",
    "print(f\"Total Gross Pay: \", computepay(hrs, rate_per_hour))\n"
   ]
  },
  {
   "cell_type": "markdown",
   "id": "fa62b820",
   "metadata": {},
   "source": [
    "<details>    \n",
    "<summary>\n",
    "    <font size=\"3\" color=\"darkgreen\"><b>Solution (click to expand)</b></font>\n",
    "</summary>\n",
    "<p>\n",
    "    <code>def computepay(h, r):</code><br />\n",
    "    <code>&nbsp;&nbsp;&nbsp;&nbsp;if h <= 40:</code><br />\n",
    "    <code>&nbsp;&nbsp;&nbsp;&nbsp;&nbsp;&nbsp;&nbsp;&nbsp;return (h*r)</code><br />\n",
    "    <code>&nbsp;&nbsp;&nbsp;&nbsp;else:</code><br />\n",
    "    <code>&nbsp;&nbsp;&nbsp;&nbsp;&nbsp;&nbsp;&nbsp;&nbsp;return (40*r+(h-40)*r*1.5)</code><br />\n",
    "    <code>hrs = input(\"Enter hours: \")</code><br />\n",
    "    <code>hrs = float(hrs)</code><br />\n",
    "    <code>rate = input(\"Enter rate: \")</code><br />\n",
    "    <code>rate = float(rate)</code><br />\n",
    "    <code>print(\"Pay: \", computepay(hrs, rate))</code><br />\n",
    "</p>\n",
    "</details> "
   ]
  }
 ],
 "metadata": {
  "kernelspec": {
   "display_name": "Python 3 (ipykernel)",
   "language": "python",
   "name": "python3"
  },
  "language_info": {
   "codemirror_mode": {
    "name": "ipython",
    "version": 3
   },
   "file_extension": ".py",
   "mimetype": "text/x-python",
   "name": "python",
   "nbconvert_exporter": "python",
   "pygments_lexer": "ipython3",
   "version": "3.9.12"
  }
 },
 "nbformat": 4,
 "nbformat_minor": 5
}
